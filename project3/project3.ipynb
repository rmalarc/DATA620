{
 "cells": [
  {
   "cell_type": "markdown",
   "metadata": {},
   "source": [
    "# DATA 620, Project 3\n",
    "\n",
    "### Groups and Members\n",
    "\n",
    "####Team 1: *Mauricio Alarcon, Sekhar Mekala, Aadi Kalloo, Srinivasa Illapani, Param Singh*\n",
    "####Team 2: *Christophe Hunt, Joel Park, Ilya Kats, Pavan Akula, Nathan (Seoungyoon) Lim*\n",
    "####Team 3: *Blandon Casenave, Kelly Shaffer, Michael Muller, Xiomeng (Vivian) Kong, Raphael Nash *\n",
    "####Team 4: *John Grando, Nick Capofari, Ken Markus, Armenoush Aslanian-Persico, Andrew Goldberg*\n",
    "####Team 5: *Georgia Galanopoulos, Arindam Barman, Christopher Fenton, Sanjive Kumar *\n",
    "\n",
    "### Project Requirements\n",
    "\n",
    "**This is a Team Project!  For this project, please work with the entire class as one collaborative group!  Your project should be submitted (as an IPython Notebook via GitHub) by end of day on Monday, July 10th.  The group should present their code and findings in our meet-up on Tuesday July 11th.**\n",
    "\n",
    "\n",
    "Using any of the three classifiers described in chapter 6 of Natural Language Processing with Python, and any features you can think of, build the best name gender classifier you can. Begin by splitting the Names Corpus into three subsets: 500 words for the test set, 500 words for the dev-test set, and the remaining 6900 words for the training set. Then, starting with the example name gender classifier, make incremental improvements. Use the dev-test set to check your progress. Once you are satisfied with your classifier, check its final performance on the test set. How does the performance on the test set compare to the performance on the dev-test set? Is this what you'd expect? "
   ]
  },
  {
   "cell_type": "code",
   "execution_count": 98,
   "metadata": {
    "collapsed": false
   },
   "outputs": [
    {
     "name": "stdout",
     "output_type": "stream",
     "text": [
      "[nltk_data] Downloading package names to\n",
      "[nltk_data]     C:\\Users\\Georgia\\AppData\\Roaming\\nltk_data...\n",
      "[nltk_data]   Package names is already up-to-date!\n"
     ]
    },
    {
     "data": {
      "text/plain": [
       "True"
      ]
     },
     "execution_count": 98,
     "metadata": {},
     "output_type": "execute_result"
    }
   ],
   "source": [
    "from nltk.corpus import names as names_ntlk\n",
    "import nltk\n",
    "import pandas as pd\n",
    "import matplotlib\n",
    "import statistics\n",
    "import scipy\n",
    "from IPython.display import display\n",
    "%matplotlib inline\n",
    "matplotlib.style.use('ggplot')\n",
    "\n",
    "nltk.download(\"names\")"
   ]
  },
  {
   "cell_type": "markdown",
   "metadata": {},
   "source": [
    "## Data Loading"
   ]
  },
  {
   "cell_type": "code",
   "execution_count": 4,
   "metadata": {
    "collapsed": false,
    "scrolled": true
   },
   "outputs": [
    {
     "data": {
      "text/html": [
       "<div>\n",
       "<table border=\"1\" class=\"dataframe\">\n",
       "  <thead>\n",
       "    <tr style=\"text-align: right;\">\n",
       "      <th></th>\n",
       "      <th>name</th>\n",
       "      <th>tag</th>\n",
       "    </tr>\n",
       "  </thead>\n",
       "  <tbody>\n",
       "    <tr>\n",
       "      <th>0</th>\n",
       "      <td>Garwin</td>\n",
       "      <td>male</td>\n",
       "    </tr>\n",
       "    <tr>\n",
       "      <th>1</th>\n",
       "      <td>Cindie</td>\n",
       "      <td>female</td>\n",
       "    </tr>\n",
       "    <tr>\n",
       "      <th>2</th>\n",
       "      <td>Juanita</td>\n",
       "      <td>male</td>\n",
       "    </tr>\n",
       "    <tr>\n",
       "      <th>3</th>\n",
       "      <td>Dael</td>\n",
       "      <td>female</td>\n",
       "    </tr>\n",
       "    <tr>\n",
       "      <th>4</th>\n",
       "      <td>Jillayne</td>\n",
       "      <td>female</td>\n",
       "    </tr>\n",
       "    <tr>\n",
       "      <th>5</th>\n",
       "      <td>Sean</td>\n",
       "      <td>male</td>\n",
       "    </tr>\n",
       "    <tr>\n",
       "      <th>6</th>\n",
       "      <td>Nell</td>\n",
       "      <td>female</td>\n",
       "    </tr>\n",
       "    <tr>\n",
       "      <th>7</th>\n",
       "      <td>Christie</td>\n",
       "      <td>male</td>\n",
       "    </tr>\n",
       "    <tr>\n",
       "      <th>8</th>\n",
       "      <td>Shannen</td>\n",
       "      <td>female</td>\n",
       "    </tr>\n",
       "    <tr>\n",
       "      <th>9</th>\n",
       "      <td>Jessamine</td>\n",
       "      <td>female</td>\n",
       "    </tr>\n",
       "  </tbody>\n",
       "</table>\n",
       "</div>"
      ],
      "text/plain": [
       "        name     tag\n",
       "0     Garwin    male\n",
       "1     Cindie  female\n",
       "2    Juanita    male\n",
       "3       Dael  female\n",
       "4   Jillayne  female\n",
       "5       Sean    male\n",
       "6       Nell  female\n",
       "7   Christie    male\n",
       "8    Shannen  female\n",
       "9  Jessamine  female"
      ]
     },
     "metadata": {},
     "output_type": "display_data"
    },
    {
     "name": "stdout",
     "output_type": "stream",
     "text": [
      "None\n"
     ]
    }
   ],
   "source": [
    "import random\n",
    "names = ([( name, 'male') for name in names_ntlk.words('male.txt')] + [( name, 'female') for name in names_ntlk.words('female.txt')]) \n",
    "random.seed(1234)\n",
    "random.shuffle(names)\n",
    "print display(pd.DataFrame({\"name\":[i[0] for i in names[:10]], \"tag\":[i[1] for i in names[:10]]}))\n"
   ]
  },
  {
   "cell_type": "code",
   "execution_count": 99,
   "metadata": {
    "collapsed": false
   },
   "outputs": [
    {
     "data": {
      "text/plain": [
       "7944"
      ]
     },
     "execution_count": 99,
     "metadata": {},
     "output_type": "execute_result"
    }
   ],
   "source": [
    "# Length of names\n",
    "len(names)"
   ]
  },
  {
   "cell_type": "code",
   "execution_count": 6,
   "metadata": {
    "collapsed": false,
    "scrolled": true
   },
   "outputs": [
    {
     "name": "stdout",
     "output_type": "stream",
     "text": [
      "test_dataset:  500\n",
      "devtest_dataset:  500\n",
      "train_dataset:  6944\n"
     ]
    }
   ],
   "source": [
    "# Test set\n",
    "test_dataset = names[:500]\n",
    "print \"test_dataset: \", len(test_dataset)\n",
    "\n",
    "# Error-analysis set\n",
    "devtest_dataset = names[500:1000]\n",
    "print \"devtest_dataset: \", len(devtest_dataset)\n",
    "\n",
    "# Training set\n",
    "train_dataset = names[1000:]\n",
    "print \"train_dataset: \", len(train_dataset)"
   ]
  },
  {
   "cell_type": "markdown",
   "metadata": {},
   "source": [
    "## Model Building: Naive Bayes\n",
    "\n",
    "### Baseline Model"
   ]
  },
  {
   "cell_type": "markdown",
   "metadata": {},
   "source": [
    "Calculate the accuracy for the initial model which takes into consideration the last letter of each name."
   ]
  },
  {
   "cell_type": "code",
   "execution_count": 185,
   "metadata": {
    "collapsed": false,
    "scrolled": true
   },
   "outputs": [
    {
     "name": "stdout",
     "output_type": "stream",
     "text": [
      "Accuracy: 0.75\n"
     ]
    }
   ],
   "source": [
    "# Book's classifier - baseline\n",
    "def gender_features( word):\n",
    "    w = word.lower()\n",
    "    return {'last_letter': w[-1]} \n",
    "\n",
    "test_featureset = [(gender_features(n),g) for (n,g) in test_dataset]\n",
    "devtest_featureset = [(gender_features(n),g) for (n,g) in devtest_dataset]\n",
    "train_featureset = [(gender_features(n),g) for (n,g) in train_dataset]\n",
    "\n",
    "classifier = nltk.NaiveBayesClassifier.train( train_featureset)\n",
    "\n",
    "print ('Accuracy: %4.2f' %nltk.classify.accuracy( classifier, devtest_featureset))\n"
   ]
  },
  {
   "cell_type": "markdown",
   "metadata": {},
   "source": [
    "Add some features to it one at a time, such as:\n",
    "\n",
    "* Last Trigram - Last three letters\n",
    "* First Trigram - First three letters\n",
    "* First Four-gram - First four letters\n",
    "* Entropy - Measure of how \"disorganized\" labels are\n",
    "\n",
    "and see if accuracy increases/decreases.\n",
    "\n",
    "### Baseline + Last Trigram\n",
    "Last letter and last three letters"
   ]
  },
  {
   "cell_type": "code",
   "execution_count": 7,
   "metadata": {
    "collapsed": false
   },
   "outputs": [
    {
     "name": "stdout",
     "output_type": "stream",
     "text": [
      "({'last_letter': u'e', 'last_trigram': u'die'}, 'female')\n",
      "Accuracy: 0.77\n"
     ]
    }
   ],
   "source": [
    "#from nltk.classify import apply_features\n",
    "def gender_features( word):\n",
    "    w = word.lower()\n",
    "    return {'last_letter': w[-1],'last_trigram': w[-3:]} #,'last_bigram': word[-2:]\n",
    "\n",
    "test_featureset = [(gender_features(n),g) for (n,g) in test_dataset]\n",
    "devtest_featureset = [(gender_features(n),g) for (n,g) in devtest_dataset]\n",
    "train_featureset = [(gender_features(n),g) for (n,g) in train_dataset]\n",
    "print test_featureset[1]\n",
    "classifier = nltk.NaiveBayesClassifier.train( train_featureset)\n",
    "\n",
    "print 'Accuracy: %4.2f' %nltk.classify.accuracy( classifier, devtest_featureset)\n"
   ]
  },
  {
   "cell_type": "markdown",
   "metadata": {},
   "source": [
    "### Baseline + Last Trigram + First Trigram + First Four-gram\n",
    "Last letter, last three letters, first three letters and first four letters"
   ]
  },
  {
   "cell_type": "code",
   "execution_count": 62,
   "metadata": {
    "collapsed": false
   },
   "outputs": [
    {
     "name": "stdout",
     "output_type": "stream",
     "text": [
      "({'first_trigram': u'cin', 'last_letter': u'e', 'first_fourgram': u'cind', 'last_trigram': u'die'}, 'female')\n",
      "Accuracy: 0.85\n"
     ]
    }
   ],
   "source": [
    "#from nltk.classify import apply_features\n",
    "def gender_features( word):\n",
    "    w = word.lower()\n",
    "    return {'last_letter': w[-1],'last_trigram': w[-3:],'first_trigram': w[:3], 'first_fourgram': w[:4]} #,'last_bigram': word[-2:]\n",
    "\n",
    "test_featureset = [(gender_features(n),g) for (n,g) in test_dataset]\n",
    "devtest_featureset = [(gender_features(n),g) for (n,g) in devtest_dataset]\n",
    "train_featureset = [(gender_features(n),g) for (n,g) in train_dataset]\n",
    "print test_featureset[1]\n",
    "classifier = nltk.NaiveBayesClassifier.train( train_featureset)\n",
    "\n",
    "print 'Accuracy: %4.2f' %nltk.classify.accuracy( classifier, devtest_featureset)"
   ]
  },
  {
   "cell_type": "markdown",
   "metadata": {},
   "source": [
    "### Baseline + Last Trigram + First Trigram + First Four-gram + Entropy"
   ]
  },
  {
   "cell_type": "markdown",
   "metadata": {},
   "source": [
    "Per the text and section on the NLTK site, entropy measures how disorganized the input variables are. This can however be used as an alternative method for identifying the most informative features by creating stumps for each branch of the decision tree and comparing the organization levels before and after via the entropy method. For this project, likely not needed as we will utilize the show_most_informative_features() NLTK method."
   ]
  },
  {
   "cell_type": "code",
   "execution_count": 95,
   "metadata": {
    "collapsed": false
   },
   "outputs": [
    {
     "name": "stdout",
     "output_type": "stream",
     "text": [
      "({'first_trigram': u'cin', 'entropy': 2.2516291673878226, 'last_letter': u'e', 'first_fourgram': u'cind', 'last_trigram': u'die'}, 'female')\n",
      "Accuracy: 0.84\n"
     ]
    }
   ],
   "source": [
    "#from nltk.classify import apply_features\n",
    "#textbook method\n",
    "import math \n",
    "def entropy( labels): \n",
    "    freqdist = nltk.FreqDist( labels) \n",
    "    probs = [freqdist.freq( l) for l in nltk.FreqDist( labels)] \n",
    "    return -sum([ p * math.log( p, 2) for p in probs])\n",
    "\n",
    "    \n",
    "def gender_features( word):\n",
    "    w = word.lower()\n",
    "    return {'last_letter': w[-1],'last_trigram': w[-3:],'first_trigram': w[:3], 'first_fourgram': w[:4], 'entropy': entropy(list(w))} #,'last_bigram': word[-2:]\n",
    "\n",
    "test_featureset = [(gender_features(n),g) for (n,g) in test_dataset]\n",
    "devtest_featureset = [(gender_features(n),g) for (n,g) in devtest_dataset]\n",
    "train_featureset = [(gender_features(n),g) for (n,g) in train_dataset]\n",
    "print test_featureset[1]\n",
    "classifier = nltk.NaiveBayesClassifier.train( train_featureset)\n",
    "\n",
    "print 'Accuracy: %4.2f' %nltk.classify.accuracy( classifier, devtest_featureset)\n"
   ]
  },
  {
   "cell_type": "markdown",
   "metadata": {},
   "source": [
    "### Looking at Entropy and Model Performance"
   ]
  },
  {
   "cell_type": "code",
   "execution_count": 96,
   "metadata": {
    "collapsed": true
   },
   "outputs": [],
   "source": [
    "# Seeing individual cases of where the model guessed incorrectly\n",
    "errors = []\n",
    "for (name, tag) in devtest_dataset:\n",
    "    guess = classifier.classify(gender_features(name))\n",
    "    if guess != tag:\n",
    "        errors.append( (tag, guess, name) )"
   ]
  },
  {
   "cell_type": "code",
   "execution_count": 97,
   "metadata": {
    "collapsed": false
   },
   "outputs": [
    {
     "name": "stdout",
     "output_type": "stream",
     "text": [
      "correct=female   guess=male     name=Aimil                         \n",
      "correct=female   guess=male     name=Ambur                         \n",
      "correct=female   guess=male     name=Beitris                       \n",
      "correct=female   guess=male     name=Beulah                        \n",
      "correct=female   guess=male     name=Blair                         \n",
      "correct=female   guess=male     name=Brooke                        \n",
      "correct=female   guess=male     name=Cody                          \n",
      "correct=female   guess=male     name=Emmy                          \n",
      "correct=female   guess=male     name=Ethelind                      \n",
      "correct=female   guess=male     name=Ethyl                         \n",
      "correct=female   guess=male     name=Francis                       \n",
      "correct=female   guess=male     name=Franny                        \n",
      "correct=female   guess=male     name=Glynis                        \n",
      "correct=female   guess=male     name=Hayley                        \n",
      "correct=female   guess=male     name=Hester                        \n",
      "correct=female   guess=male     name=Hesther                       \n",
      "correct=female   guess=male     name=Jaleh                         \n",
      "correct=female   guess=male     name=Jan                           \n",
      "correct=female   guess=male     name=Jere                          \n",
      "correct=female   guess=male     name=Jordain                       \n",
      "correct=female   guess=male     name=Kaster                        \n",
      "correct=female   guess=male     name=Kendre                        \n",
      "correct=female   guess=male     name=Kiah                          \n",
      "correct=female   guess=male     name=Luce                          \n",
      "correct=female   guess=male     name=Max                           \n",
      "correct=female   guess=male     name=Murial                        \n",
      "correct=female   guess=male     name=Neely                         \n",
      "correct=female   guess=male     name=Paige                         \n",
      "correct=female   guess=male     name=Pen                           \n",
      "correct=female   guess=male     name=Ragnhild                      \n",
      "correct=female   guess=male     name=Regan                         \n",
      "correct=female   guess=male     name=Shel                          \n",
      "correct=female   guess=male     name=Siobhan                       \n",
      "correct=female   guess=male     name=Sydel                         \n",
      "correct=female   guess=male     name=Ted                           \n",
      "correct=female   guess=male     name=Timmy                         \n",
      "correct=female   guess=male     name=Van                           \n",
      "correct=female   guess=male     name=Vin                           \n",
      "correct=female   guess=male     name=Waly                          \n",
      "correct=female   guess=male     name=Zoe                           \n",
      "correct=male     guess=female   name=Addie                         \n",
      "correct=male     guess=female   name=Alex                          \n",
      "correct=male     guess=female   name=Antoine                       \n",
      "correct=male     guess=female   name=Antony                        \n",
      "correct=male     guess=female   name=Averil                        \n",
      "correct=male     guess=female   name=Briggs                        \n",
      "correct=male     guess=female   name=Bubba                         \n",
      "correct=male     guess=female   name=Constantine                   \n",
      "correct=male     guess=female   name=Danie                         \n",
      "correct=male     guess=female   name=Daniel                        \n",
      "correct=male     guess=female   name=Etienne                       \n",
      "correct=male     guess=female   name=Felix                         \n",
      "correct=male     guess=female   name=Flynn                         \n",
      "correct=male     guess=female   name=Guillaume                     \n",
      "correct=male     guess=female   name=Hannibal                      \n",
      "correct=male     guess=female   name=Jackie                        \n",
      "correct=male     guess=female   name=Jaime                         \n",
      "correct=male     guess=female   name=Jerry                         \n",
      "correct=male     guess=female   name=Judith                        \n",
      "correct=male     guess=female   name=Krishna                       \n",
      "correct=male     guess=female   name=Kyle                          \n",
      "correct=male     guess=female   name=Lincoln                       \n",
      "correct=male     guess=female   name=Luigi                         \n",
      "correct=male     guess=female   name=Martyn                        \n",
      "correct=male     guess=female   name=Merill                        \n",
      "correct=male     guess=female   name=Merry                         \n",
      "correct=male     guess=female   name=Meryl                         \n",
      "correct=male     guess=female   name=Mustafa                       \n",
      "correct=male     guess=female   name=Page                          \n",
      "correct=male     guess=female   name=Pattie                        \n",
      "correct=male     guess=female   name=Reece                         \n",
      "correct=male     guess=female   name=Reilly                        \n",
      "correct=male     guess=female   name=Robbie                        \n",
      "correct=male     guess=female   name=Ryan                          \n",
      "correct=male     guess=female   name=Shayne                        \n",
      "correct=male     guess=female   name=Siffre                        \n",
      "correct=male     guess=female   name=Timothee                      \n",
      "correct=male     guess=female   name=Vinny                         \n",
      "correct=male     guess=female   name=Yehudi                        \n"
     ]
    }
   ],
   "source": [
    "for (tag, guess, name) in sorted(errors):\n",
    "    print 'correct=%-8s guess=%-8s name=%-30s' % (tag, guess, name)"
   ]
  },
  {
   "cell_type": "markdown",
   "metadata": {},
   "source": [
    "Going through the list, it appeared that one of the potential difficulties the model faced was determining the classification of names that contained the letter \"y\". "
   ]
  },
  {
   "cell_type": "code",
   "execution_count": 11,
   "metadata": {
    "collapsed": false
   },
   "outputs": [
    {
     "name": "stdout",
     "output_type": "stream",
     "text": [
      "-0.0\n",
      "0.811278124459\n",
      "1.0\n",
      "0.811278124459\n",
      "-0.0\n"
     ]
    }
   ],
   "source": [
    "#sample entropy from text\n",
    "print entropy(['male','male','male','male'])\n",
    "print entropy(['male','female','male','male'])\n",
    "print entropy(['female','male','female','male'])\n",
    "print entropy(['female','female','male','female'])\n",
    "print entropy(['female','female','female','female'])"
   ]
  },
  {
   "cell_type": "markdown",
   "metadata": {},
   "source": [
    "Entropy for input labels"
   ]
  },
  {
   "cell_type": "code",
   "execution_count": 12,
   "metadata": {
    "collapsed": false
   },
   "outputs": [
    {
     "name": "stdout",
     "output_type": "stream",
     "text": [
      "0.951030970455\n"
     ]
    }
   ],
   "source": [
    "entropy_input = [item[1] for item in names]\n",
    "#entropy_input[:10] -- sanity check for input\n",
    "\n",
    "print entropy(entropy_input)"
   ]
  },
  {
   "cell_type": "markdown",
   "metadata": {},
   "source": [
    "Entropy is close to to 1 and is considered high. This means that there is a wide variety of labels and they are at a \"medium\" frequency - P(l) and log2P(l) are not small. Attempting to run entropy against a single decision stump (only one level) based on the first classifier with the text's gender features"
   ]
  },
  {
   "cell_type": "code",
   "execution_count": 13,
   "metadata": {
    "collapsed": false
   },
   "outputs": [
    {
     "data": {
      "text/plain": [
       "'male'"
      ]
     },
     "execution_count": 13,
     "metadata": {},
     "output_type": "execute_result"
    }
   ],
   "source": [
    "classifier.classify( gender_features('Mauricio'))\n"
   ]
  },
  {
   "cell_type": "code",
   "execution_count": 14,
   "metadata": {
    "collapsed": false
   },
   "outputs": [
    {
     "data": {
      "text/html": [
       "<div>\n",
       "<table border=\"1\" class=\"dataframe\">\n",
       "  <thead>\n",
       "    <tr style=\"text-align: right;\">\n",
       "      <th>predicted</th>\n",
       "      <th>female</th>\n",
       "      <th>male</th>\n",
       "    </tr>\n",
       "    <tr>\n",
       "      <th>observed</th>\n",
       "      <th></th>\n",
       "      <th></th>\n",
       "    </tr>\n",
       "  </thead>\n",
       "  <tbody>\n",
       "    <tr>\n",
       "      <th>female</th>\n",
       "      <td>283</td>\n",
       "      <td>40</td>\n",
       "    </tr>\n",
       "    <tr>\n",
       "      <th>male</th>\n",
       "      <td>39</td>\n",
       "      <td>138</td>\n",
       "    </tr>\n",
       "  </tbody>\n",
       "</table>\n",
       "</div>"
      ],
      "text/plain": [
       "predicted  female  male\n",
       "observed               \n",
       "female        283    40\n",
       "male           39   138"
      ]
     },
     "execution_count": 14,
     "metadata": {},
     "output_type": "execute_result"
    }
   ],
   "source": [
    "# Confusion Matrix of devtest\n",
    "preds = pd.DataFrame({'observed':[gender for (f,gender) in devtest_dataset],'predicted': [classifier.classify(gender_features(n)) for (n,g) in devtest_dataset]})\n",
    "pd.crosstab(preds.observed,preds.predicted)"
   ]
  },
  {
   "cell_type": "code",
   "execution_count": 18,
   "metadata": {
    "collapsed": true
   },
   "outputs": [],
   "source": [
    "#print 'Precision: %4.2f' %nltk.classify.precision( classifier, devtest_featureset)\n",
    "cm = nltk.ConfusionMatrix([gender for (f,gender) in devtest_featureset], [classifier.classify(gender_features(n)) for (n,g) in devtest_dataset])\n",
    "#[(gender_features(n),g) for (n,g) in devtest_dataset]"
   ]
  },
  {
   "cell_type": "code",
   "execution_count": 16,
   "metadata": {
    "collapsed": false
   },
   "outputs": [
    {
     "name": "stdout",
     "output_type": "stream",
     "text": [
      "       |   f     |\n",
      "       |   e     |\n",
      "       |   m   m |\n",
      "       |   a   a |\n",
      "       |   l   l |\n",
      "       |   e   e |\n",
      "-------+---------+\n",
      "female |<283> 40 |\n",
      "  male |  39<138>|\n",
      "-------+---------+\n",
      "(row = reference; col = test)\n",
      "\n"
     ]
    }
   ],
   "source": [
    "print cm"
   ]
  },
  {
   "cell_type": "code",
   "execution_count": 43,
   "metadata": {
    "collapsed": false
   },
   "outputs": [
    {
     "name": "stdout",
     "output_type": "stream",
     "text": [
      "Most Informative Features\n",
      "             last_letter = u'a'           female : male   =     42.4 : 1.0\n",
      "            last_trigram = u'nne'         female : male   =     31.1 : 1.0\n",
      "             last_letter = u'k'             male : female =     29.8 : 1.0\n",
      "            last_trigram = u'ita'         female : male   =     24.2 : 1.0\n",
      "            last_trigram = u'ana'         female : male   =     23.4 : 1.0\n",
      "            last_trigram = u'tta'         female : male   =     22.5 : 1.0\n",
      "            last_trigram = u'ard'           male : female =     20.2 : 1.0\n",
      "            last_trigram = u'vin'           male : female =     18.2 : 1.0\n",
      "            last_trigram = u'old'           male : female =     15.0 : 1.0\n",
      "             last_letter = u'f'             male : female =     14.6 : 1.0\n"
     ]
    }
   ],
   "source": [
    "# Which features are most effective for distinguishing the names’ gender:\n",
    "classifier.show_most_informative_features()\n"
   ]
  },
  {
   "cell_type": "code",
   "execution_count": 20,
   "metadata": {
    "collapsed": false
   },
   "outputs": [
    {
     "data": {
      "text/plain": [
       "[('last_letter', u'a'),\n",
       " ('last_trigram', u'nne'),\n",
       " ('last_letter', u'k'),\n",
       " ('last_trigram', u'ita'),\n",
       " ('last_trigram', u'ana'),\n",
       " ('last_trigram', u'tta'),\n",
       " ('last_trigram', u'ard'),\n",
       " ('last_trigram', u'vin'),\n",
       " ('last_trigram', u'old'),\n",
       " ('last_letter', u'f'),\n",
       " ('first_trigram', u'gar'),\n",
       " ('first_trigram', u'tha'),\n",
       " ('last_trigram', u'ria'),\n",
       " ('last_trigram', u'dra'),\n",
       " ('first_trigram', u'cat'),\n",
       " ('last_trigram', u'ter'),\n",
       " ('last_trigram', u'ert'),\n",
       " ('last_trigram', u'son'),\n",
       " ('last_letter', u'v'),\n",
       " ('last_letter', u'm'),\n",
       " ('last_letter', u'p'),\n",
       " ('last_trigram', u'nni'),\n",
       " ('last_letter', u'd'),\n",
       " ('first_trigram', u'dor'),\n",
       " ('first_trigram', u'wal'),\n",
       " ('first_trigram', u'ros'),\n",
       " ('last_trigram', u'cia'),\n",
       " ('first_trigram', u'par'),\n",
       " ('last_trigram', u'ler'),\n",
       " ('last_trigram', u'van'),\n",
       " ('last_trigram', u'ias'),\n",
       " ('last_trigram', u'dor'),\n",
       " ('last_trigram', u'den'),\n",
       " ('first_fourgram', u'flor'),\n",
       " ('entropy', 1.8423709931771088),\n",
       " ('last_letter', u'o'),\n",
       " ('last_trigram', u'lli'),\n",
       " ('last_trigram', u'isa'),\n",
       " ('first_trigram', u'cli'),\n",
       " ('last_trigram', u'ene'),\n",
       " ('last_trigram', u'und'),\n",
       " ('last_trigram', u'ven'),\n",
       " ('last_trigram', u'bel'),\n",
       " ('last_trigram', u'ssy'),\n",
       " ('first_trigram', u'arl'),\n",
       " ('first_fourgram', u'torr'),\n",
       " ('last_letter', u'r'),\n",
       " ('last_trigram', u'lle'),\n",
       " ('last_trigram', u'iah'),\n",
       " ('last_trigram', u'ine'),\n",
       " ('last_trigram', u'and'),\n",
       " ('first_trigram', u'god'),\n",
       " ('first_trigram', u'bur'),\n",
       " ('first_trigram', u'mik'),\n",
       " ('first_trigram', u'nev'),\n",
       " ('first_trigram', u'dom'),\n",
       " ('last_trigram', u'nan'),\n",
       " ('last_trigram', u'uel'),\n",
       " ('first_trigram', u'mal'),\n",
       " ('first_trigram', u'ama'),\n",
       " ('first_trigram', u'mel'),\n",
       " ('first_fourgram', u'dani'),\n",
       " ('last_trigram', u'ree'),\n",
       " ('first_trigram', u'lor'),\n",
       " ('first_trigram', u'flo'),\n",
       " ('first_trigram', u'lyn'),\n",
       " ('first_trigram', u'bro'),\n",
       " ('last_letter', u'g'),\n",
       " ('last_trigram', u'cie'),\n",
       " ('last_trigram', u'sie'),\n",
       " ('first_trigram', u'hel'),\n",
       " ('first_trigram', u'rod'),\n",
       " ('first_trigram', u'nea'),\n",
       " ('first_trigram', u'ser'),\n",
       " ('first_trigram', u'gio'),\n",
       " ('first_trigram', u'say'),\n",
       " ('last_trigram', u'per'),\n",
       " ('last_trigram', u'nus'),\n",
       " ('last_trigram', u'las'),\n",
       " ('last_trigram', u'lee'),\n",
       " ('last_trigram', u'her'),\n",
       " ('last_trigram', u'lyn'),\n",
       " ('last_trigram', u'tha'),\n",
       " ('first_trigram', u'jan'),\n",
       " ('last_trigram', u'sta'),\n",
       " ('last_trigram', u'ryn'),\n",
       " ('entropy', 2.7219280948873625),\n",
       " ('first_fourgram', u'barb'),\n",
       " ('first_fourgram', u'carm'),\n",
       " ('first_trigram', u'alf'),\n",
       " ('first_fourgram', u'chad'),\n",
       " ('first_fourgram', u'saun'),\n",
       " ('first_fourgram', u'darr'),\n",
       " ('first_fourgram', u'neal'),\n",
       " ('first_fourgram', u'ambr'),\n",
       " ('last_trigram', u'ott'),\n",
       " ('last_trigram', u'lan'),\n",
       " ('last_trigram', u'han'),\n",
       " ('last_trigram', u'ise'),\n",
       " ('first_trigram', u'jen')]"
      ]
     },
     "execution_count": 20,
     "metadata": {},
     "output_type": "execute_result"
    }
   ],
   "source": [
    "classifier.most_informative_features()"
   ]
  },
  {
   "cell_type": "code",
   "execution_count": 45,
   "metadata": {
    "collapsed": false
   },
   "outputs": [
    {
     "name": "stdout",
     "output_type": "stream",
     "text": [
      "Male Mean: 2.32\n",
      "Male SD: 0.35\n"
     ]
    },
    {
     "data": {
      "text/plain": [
       "<matplotlib.axes._subplots.AxesSubplot at 0xce36358>"
      ]
     },
     "execution_count": 45,
     "metadata": {},
     "output_type": "execute_result"
    },
    {
     "data": {
      "image/png": "[encoded data removed]",
      "text/plain": [
       "<matplotlib.figure.Figure at 0xcda3d68>"
      ]
     },
     "metadata": {},
     "output_type": "display_data"
    }
   ],
   "source": [
    "# Histogram of Entropy in Male names\n",
    "e_male = filter(None,[gender_features(n)['entropy'] if (g=='male') else None for (n,g) in devtest_dataset])\n",
    "print (\"Male Mean: %4.2f\" %statistics.mean(e_male))\n",
    "print (\"Male SD: %4.2f\" %statistics.stdev(e_male))\n",
    "pd.DataFrame(e_male).plot.hist()"
   ]
  },
  {
   "cell_type": "code",
   "execution_count": 46,
   "metadata": {
    "collapsed": false
   },
   "outputs": [
    {
     "name": "stdout",
     "output_type": "stream",
     "text": [
      "Female Mean: 2.27\n",
      "Female SD: 0.37\n"
     ]
    },
    {
     "data": {
      "text/plain": [
       "<matplotlib.axes._subplots.AxesSubplot at 0x31e64908>"
      ]
     },
     "execution_count": 46,
     "metadata": {},
     "output_type": "execute_result"
    },
    {
     "data": {
      "image/png": "[encoded data removed]",
      "text/plain": [
       "<matplotlib.figure.Figure at 0x31e8b0f0>"
      ]
     },
     "metadata": {},
     "output_type": "display_data"
    }
   ],
   "source": [
    "# Histogram of Entropy in Female names\n",
    "e_female = filter(None,[gender_features(n)['entropy'] if (g=='female') else None for (n,g) in devtest_dataset])\n",
    "print 'Female Mean: %4.2f' %statistics.mean(e_female)\n",
    "print 'Female SD: %4.2f' %statistics.stdev(e_female)\n",
    "pd.DataFrame(e_female).plot.hist()"
   ]
  },
  {
   "cell_type": "code",
   "execution_count": 23,
   "metadata": {
    "collapsed": false
   },
   "outputs": [
    {
     "data": {
      "image/png": "[encoded data removed]",
      "text/plain": [
       "<matplotlib.figure.Figure at 0xb4ab978>"
      ]
     },
     "metadata": {},
     "output_type": "display_data"
    }
   ],
   "source": [
    "from matplotlib import pyplot\n",
    "import numpy as np\n",
    "\n",
    "#Alternative histogram plots using density and overlaying the two groups in one chart.\n",
    "binwidth = 0.2\n",
    "pyplot.hist(e_male, np.arange(min(min(e_male),min(e_female)), max(max(e_male),max(e_female)) \\\n",
    "                              + binwidth, binwidth), alpha=0.5, label=\"male\", normed=True)\n",
    "pyplot.hist(e_female, np.arange(min(min(e_male),min(e_female)), max(max(e_male),max(e_female)) \\\n",
    "                              + binwidth, binwidth), alpha=0.5, label=\"female\", normed=True)\n",
    "pyplot.legend(loc='upper right')\n",
    "pyplot.xlabel('Entropy')\n",
    "pyplot.ylabel('Density')\n",
    "pyplot.show()"
   ]
  },
  {
   "cell_type": "code",
   "execution_count": 47,
   "metadata": {
    "collapsed": false
   },
   "outputs": [
    {
     "data": {
      "text/plain": [
       "Ttest_indResult(statistic=1.4909191968274809, pvalue=0.13661582489681476)"
      ]
     },
     "execution_count": 47,
     "metadata": {},
     "output_type": "execute_result"
    }
   ],
   "source": [
    "scipy.stats.ttest_ind(e_male,e_female)"
   ]
  },
  {
   "cell_type": "markdown",
   "metadata": {},
   "source": [
    "H0: There is no difference between the distribution means of entropy values according to gender.\n",
    "\n",
    "Ha: There is a difference between the distribution means of entropy values according to gender.\n",
    "\n",
    "With a p-value of 0.137, we fail to reject the null hypothesis and conclude that there is no statistical difference in the distribution of entropy values. However, the histograms appear to have a different configuration in regards to gender."
   ]
  },
  {
   "cell_type": "markdown",
   "metadata": {},
   "source": [
    "### Predictions\n",
    "\n",
    "Let's run some predictions now:"
   ]
  },
  {
   "cell_type": "code",
   "execution_count": 25,
   "metadata": {
    "collapsed": true
   },
   "outputs": [],
   "source": [
    "preds = pd.DataFrame({'name':[f for (f,gender) in test_dataset],'observed':[gender for (f,gender) in test_dataset],'predicted': [classifier.classify(gender_features(n)) for (n,g) in test_dataset]})"
   ]
  },
  {
   "cell_type": "code",
   "execution_count": 26,
   "metadata": {
    "collapsed": false
   },
   "outputs": [
    {
     "data": {
      "text/html": [
       "<div>\n",
       "<table border=\"1\" class=\"dataframe\">\n",
       "  <thead>\n",
       "    <tr style=\"text-align: right;\">\n",
       "      <th>predicted</th>\n",
       "      <th>female</th>\n",
       "      <th>male</th>\n",
       "    </tr>\n",
       "    <tr>\n",
       "      <th>observed</th>\n",
       "      <th></th>\n",
       "      <th></th>\n",
       "    </tr>\n",
       "  </thead>\n",
       "  <tbody>\n",
       "    <tr>\n",
       "      <th>female</th>\n",
       "      <td>270</td>\n",
       "      <td>36</td>\n",
       "    </tr>\n",
       "    <tr>\n",
       "      <th>male</th>\n",
       "      <td>36</td>\n",
       "      <td>158</td>\n",
       "    </tr>\n",
       "  </tbody>\n",
       "</table>\n",
       "</div>"
      ],
      "text/plain": [
       "predicted  female  male\n",
       "observed               \n",
       "female        270    36\n",
       "male           36   158"
      ]
     },
     "execution_count": 26,
     "metadata": {},
     "output_type": "execute_result"
    }
   ],
   "source": [
    "pd.crosstab(preds.observed,preds.predicted)"
   ]
  },
  {
   "cell_type": "code",
   "execution_count": 28,
   "metadata": {
    "collapsed": false
   },
   "outputs": [
    {
     "data": {
      "text/plain": [
       "<matplotlib.text.Text at 0xca1e860>"
      ]
     },
     "execution_count": 28,
     "metadata": {},
     "output_type": "execute_result"
    },
    {
     "data": {
      "image/png": "[encoded data removed]",
      "text/plain": [
       "<matplotlib.figure.Figure at 0xc2dc5f8>"
      ]
     },
     "metadata": {},
     "output_type": "display_data"
    }
   ],
   "source": [
    "import seaborn as sn\n",
    "import matplotlib.pyplot as plt\n",
    "import numpy as np\n",
    "genderDf = pd.crosstab(preds.observed,preds.predicted)\n",
    "\n",
    "genderDf = pd.DataFrame(genderDf)\n",
    "genderArray = np.array([[genderDf.at['female','female'], genderDf.at['female','male']],\n",
    "                   [genderDf.at['male','female'], genderDf.at['male','male']]])\n",
    "\n",
    "genderCM = pd.DataFrame(genderArray, index = ['female','male'],\n",
    "                  columns = ['female','male'])\n",
    "plt.figure(figsize = (5,4))\n",
    "ax = plt.axes()\n",
    "sn.heatmap(genderCM, annot=True,cmap='YlGnBu', fmt='g', ax = ax)\n",
    "\n",
    "ax.set_title('Actual Vs. Predicted')"
   ]
  },
  {
   "cell_type": "markdown",
   "metadata": {},
   "source": [
    "# Testing With Real Data\n",
    "\n",
    "Testing how well the algorithm predicted Male Vs Female with the top 1000 baby names from the US Social Security Administration for each year since 1880."
   ]
  },
  {
   "cell_type": "code",
   "execution_count": 29,
   "metadata": {
    "collapsed": false
   },
   "outputs": [
    {
     "data": {
      "text/plain": [
       "<matplotlib.text.Text at 0xcfda240>"
      ]
     },
     "execution_count": 29,
     "metadata": {},
     "output_type": "execute_result"
    },
    {
     "data": {
      "image/png": "[encoded data removed]",
      "text/plain": [
       "<matplotlib.figure.Figure at 0xcba1160>"
      ]
     },
     "metadata": {},
     "output_type": "display_data"
    }
   ],
   "source": [
    "years = [] \n",
    "percents = [] \n",
    "from __future__ import division\n",
    "\n",
    "\n",
    "for year in range(1880, 2017):\n",
    "    url_base = \"https://raw.githubusercontent.com/RaphaelNash/CUNY-DATA-620-WebAnalytics/master/Project3/names/yob\"\n",
    "    url = url_base + str(year) + \".txt\"\n",
    "    yob_df = pd.read_csv(url, header=None)\n",
    "    yob_df[\"predicted_gender\"] = yob_df[0].apply(lambda x:  classifier.classify(gender_features(x )))\n",
    "    yob_df[\"predicted_gender\"] = ['F' if x == 'female' else 'M' for x in yob_df['predicted_gender']]\n",
    "    years.append(year)\n",
    "    percents.append(len( yob_df [  yob_df['predicted_gender'] == yob_df[1]])/len(yob_df))\n",
    "    \n",
    "year_accuracy_df = pd.Series(percents, index = years)\n",
    "\n",
    "ax = year_accuracy_df.plot(figsize=(20,10))\n",
    "\n",
    "vals = ax.get_yticks()\n",
    "ax.set_yticklabels(['{:3.0f}%'.format(x*100) for x in vals])\n",
    "ax.get_xaxis().get_major_formatter().set_useOffset(False)\n",
    "\n",
    "ax.set_title(\"Prediction Acuracy with SSA Data over time\")\n",
    "ax.set_xlabel('Year')\n",
    "ax.set_ylabel('% Accurately Predicted')\n",
    "\n"
   ]
  },
  {
   "cell_type": "markdown",
   "metadata": {
    "collapsed": true
   },
   "source": [
    "## Model Building: N-Gram Tagging with Decision Trees\n",
    "Tagging the name or parts of the name to determine the correct gender"
   ]
  },
  {
   "cell_type": "code",
   "execution_count": 30,
   "metadata": {
    "collapsed": true
   },
   "outputs": [],
   "source": [
    "just_names = ([(name) for name in names_ntlk.words('male.txt')] + [(name) for name in names_ntlk.words('female.txt')]) \n",
    "random.shuffle(just_names)\n",
    "\n",
    "end_ngram_fdist = nltk.FreqDist()\n",
    "for ngram in just_names:\n",
    "    ngram = ngram.lower()\n",
    "    end_ngram_fdist[ngram[-1:]] +=1\n",
    "    end_ngram_fdist[ngram[-2:]] +=1\n",
    "    end_ngram_fdist[ngram[-3:]] +=1\n",
    "    end_ngram_fdist[ngram[-4:]] +=1\n",
    "\n",
    "common_endings = [ending for (ending, count) in end_ngram_fdist.most_common(200)]\n",
    "\n",
    "begin_ngram_fdist = nltk.FreqDist()\n",
    "for ngram in just_names:\n",
    "    ngram = ngram.lower()\n",
    "    begin_ngram_fdist[ngram[:1]] +=1\n",
    "    begin_ngram_fdist[ngram[:2]] +=1\n",
    "    begin_ngram_fdist[ngram[:3]] +=1\n",
    "    begin_ngram_fdist[ngram[:4]] +=1\n",
    "\n",
    "common_beginnings = [begin for (begin, count) in begin_ngram_fdist.most_common(200)]"
   ]
  },
  {
   "cell_type": "code",
   "execution_count": 31,
   "metadata": {
    "collapsed": true
   },
   "outputs": [],
   "source": [
    "#Define feature extractor\n",
    "def pos_features_both(word):\n",
    "    features = {}\n",
    "    for suffix in common_beginnings:\n",
    "        features['startswith({})'.format(suffix)] = word.lower().startswith(suffix)\n",
    "    for suffix in common_endings:\n",
    "        features['endswith({})'.format(suffix)] = word.lower().endswith(suffix)\n",
    "    return features"
   ]
  },
  {
   "cell_type": "code",
   "execution_count": 32,
   "metadata": {
    "collapsed": true
   },
   "outputs": [],
   "source": [
    "featuresets = [(pos_features_both(n), g) for (n,g) in names]"
   ]
  },
  {
   "cell_type": "code",
   "execution_count": 33,
   "metadata": {
    "collapsed": true
   },
   "outputs": [],
   "source": [
    "size = int(len(featuresets) * 0.1)\n",
    "train_set, test_set = featuresets[size:], featuresets[:size]"
   ]
  },
  {
   "cell_type": "code",
   "execution_count": 34,
   "metadata": {
    "collapsed": false
   },
   "outputs": [
    {
     "data": {
      "text/plain": [
       "0.7884130982367759"
      ]
     },
     "execution_count": 34,
     "metadata": {},
     "output_type": "execute_result"
    }
   ],
   "source": [
    "DTclassifier = nltk.DecisionTreeClassifier.train(train_set)\n",
    "nltk.classify.accuracy(DTclassifier, test_set)"
   ]
  },
  {
   "cell_type": "code",
   "execution_count": 37,
   "metadata": {
    "collapsed": false
   },
   "outputs": [
    {
     "data": {
      "text/plain": [
       "'male'"
      ]
     },
     "execution_count": 37,
     "metadata": {},
     "output_type": "execute_result"
    }
   ],
   "source": [
    "DTclassifier.classify(pos_features_both('Mauricio'))"
   ]
  },
  {
   "cell_type": "markdown",
   "metadata": {},
   "source": [
    "### Model Performance"
   ]
  },
  {
   "cell_type": "code",
   "execution_count": 38,
   "metadata": {
    "collapsed": false
   },
   "outputs": [
    {
     "data": {
      "text/plain": [
       "<ConfusionMatrix: 406/500 correct>"
      ]
     },
     "execution_count": 38,
     "metadata": {},
     "output_type": "execute_result"
    }
   ],
   "source": [
    "nltk.ConfusionMatrix([gender for (f,gender) in devtest_featureset], [DTclassifier.classify(pos_features_both(n)) for (n,g) in devtest_dataset])"
   ]
  },
  {
   "cell_type": "code",
   "execution_count": 39,
   "metadata": {
    "collapsed": false
   },
   "outputs": [
    {
     "data": {
      "text/html": [
       "<div>\n",
       "<table border=\"1\" class=\"dataframe\">\n",
       "  <thead>\n",
       "    <tr style=\"text-align: right;\">\n",
       "      <th>predicted</th>\n",
       "      <th>female</th>\n",
       "      <th>male</th>\n",
       "    </tr>\n",
       "    <tr>\n",
       "      <th>observed</th>\n",
       "      <th></th>\n",
       "      <th></th>\n",
       "    </tr>\n",
       "  </thead>\n",
       "  <tbody>\n",
       "    <tr>\n",
       "      <th>female</th>\n",
       "      <td>282</td>\n",
       "      <td>24</td>\n",
       "    </tr>\n",
       "    <tr>\n",
       "      <th>male</th>\n",
       "      <td>82</td>\n",
       "      <td>112</td>\n",
       "    </tr>\n",
       "  </tbody>\n",
       "</table>\n",
       "</div>"
      ],
      "text/plain": [
       "predicted  female  male\n",
       "observed               \n",
       "female        282    24\n",
       "male           82   112"
      ]
     },
     "execution_count": 39,
     "metadata": {},
     "output_type": "execute_result"
    }
   ],
   "source": [
    "DTpreds = pd.DataFrame({'name':[f for (f,gender) in test_dataset],'observed':[gender for (f,gender) in test_dataset],'predicted': [DTclassifier.classify(pos_features_both(n)) for (n,g) in test_dataset]})\n",
    "pd.crosstab(DTpreds.observed,DTpreds.predicted)"
   ]
  },
  {
   "cell_type": "code",
   "execution_count": 40,
   "metadata": {
    "collapsed": false
   },
   "outputs": [
    {
     "data": {
      "text/plain": [
       "<matplotlib.text.Text at 0x312cd438>"
      ]
     },
     "execution_count": 40,
     "metadata": {},
     "output_type": "execute_result"
    },
    {
     "data": {
      "image/png": "[encoded data removed]",
      "text/plain": [
       "<matplotlib.figure.Figure at 0x31fd6e80>"
      ]
     },
     "metadata": {},
     "output_type": "display_data"
    }
   ],
   "source": [
    "import seaborn as sn\n",
    "import matplotlib.pyplot as plt\n",
    "import numpy as np\n",
    "genderDf = pd.crosstab(DTpreds.observed,DTpreds.predicted)\n",
    "\n",
    "genderDf = pd.DataFrame(genderDf)\n",
    "genderArray = np.array([[genderDf.at['female','female'], genderDf.at['female','male']],\n",
    "                   [genderDf.at['male','female'], genderDf.at['male','male']]])\n",
    "\n",
    "genderCM = pd.DataFrame(genderArray, index = ['female','male'],\n",
    "                  columns = ['female','male'])\n",
    "plt.figure(figsize = (5,4))\n",
    "ax = plt.axes()\n",
    "sn.heatmap(genderCM, annot=True,cmap='YlGnBu', fmt='g', ax = ax)\n",
    "\n",
    "ax.set_title('Actual Vs. Predicted')"
   ]
  },
  {
   "cell_type": "code",
   "execution_count": 48,
   "metadata": {
    "collapsed": false
   },
   "outputs": [
    {
     "data": {
      "text/plain": [
       "<matplotlib.text.Text at 0xcff7668>"
      ]
     },
     "execution_count": 48,
     "metadata": {},
     "output_type": "execute_result"
    },
    {
     "data": {
      "image/png": "[encoded data removed]",
      "text/plain": [
       "<matplotlib.figure.Figure at 0xd077940>"
      ]
     },
     "metadata": {},
     "output_type": "display_data"
    }
   ],
   "source": [
    "#  Prediction Accuracy over the Years\n",
    "\n",
    "years = [] \n",
    "percents = [] \n",
    "from __future__ import division\n",
    "\n",
    "\n",
    "for year in range(1880, 2017):\n",
    "    url_base = \"https://raw.githubusercontent.com/RaphaelNash/CUNY-DATA-620-WebAnalytics/master/Project3/names/yob\"\n",
    "    url = url_base + str(year) + \".txt\"\n",
    "    yob_df = pd.read_csv(url, header=None)\n",
    "    yob_df[\"predicted_gender\"] = yob_df[0].apply(lambda x:  DTclassifier.classify(gender_features(x )))\n",
    "    yob_df[\"predicted_gender\"] = ['F' if x == 'female' else 'M' for x in yob_df['predicted_gender']]\n",
    "    years.append(year)\n",
    "    percents.append(len( yob_df [  yob_df['predicted_gender'] == yob_df[1]])/len(yob_df))\n",
    "    \n",
    "year_accuracy_df = pd.Series(percents, index = years)\n",
    "\n",
    "ax = year_accuracy_df.plot(figsize=(20,10))\n",
    "\n",
    "vals = ax.get_yticks()\n",
    "ax.set_yticklabels(['{:3.0f}%'.format(x*100) for x in vals])\n",
    "ax.get_xaxis().get_major_formatter().set_useOffset(False)\n",
    "\n",
    "ax.set_title(\"Prediction Acuracy with SSA Data over time\")\n",
    "ax.set_xlabel('Year')\n",
    "ax.set_ylabel('% Accurately Predicted')"
   ]
  },
  {
   "cell_type": "markdown",
   "metadata": {},
   "source": [
    "The model has a better chance correctly identifying female names than male ones. From the Prediction Accuracy plot above, we can see that around the 1980s, the ability to accurately predict names steadily declined, which may indicate that \"neutral\" names increased (ex. \"Sam\" being short for either \"Samuel\" or \"Samantha\"), or certain names previously considered as male newly classified as male (ex. \"Max\") or even that completely new names were created that did not follow any previous the classification rules (ex. \"Indigo\")."
   ]
  }
 ],
 "metadata": {
  "kernelspec": {
   "display_name": "Python 2",
   "language": "python",
   "name": "python2"
  },
  "language_info": {
   "codemirror_mode": {
    "name": "ipython",
    "version": 2
   },
   "file_extension": ".py",
   "mimetype": "text/x-python",
   "name": "python",
   "nbconvert_exporter": "python",
   "pygments_lexer": "ipython2",
   "version": "2.7.11"
  }
 },
 "nbformat": 4,
 "nbformat_minor": 1
}
