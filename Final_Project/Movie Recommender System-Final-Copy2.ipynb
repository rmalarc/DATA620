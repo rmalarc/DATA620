{
 "cells": [
  {
   "cell_type": "markdown",
   "metadata": {},
   "source": [
    "# Web Analytics - Final Project\n",
    "## Movie recommendations based on text from Wikipedia\n",
    "_July 10, 2017_\n",
    "\n",
    "### Group 1 Members:\n",
    "* Mauricio Alarcon\n",
    "* Sekhar Mekala\n",
    "* Aadi Kalloo\n",
    "* Srinivasa Illapani\n",
    "* Param Singh\n",
    "\n",
    "#### Background\n",
    "Movies recommendation is one of the classic application of recommendation systems, and there are several ways to achieve this. In this project, our goal is to apply Natural Language Processing (NLP) techniques to the movie plot obtained from Wikipedia and determine relevant movies for a given movie. We scraped text related to 4037 movies from Wikipedia. These movies are American movies released since the year 2000. The key deliverables of this project are:\n",
    "\n",
    "* Text corpus of 4037 movies\n",
    "* Movie posters of 3749 movies\n",
    "* Movie recommender based on movie's plot\n",
    "\n",
    "#### Technologies used:\n",
    "We used the following software/packages to develop the core logic of this project:\n",
    "* Python 3\n",
    "* Pandas\n",
    "* Numpy\n",
    "* Sklearn\n",
    "* BeautifulSoup\n",
    "* urllib\n",
    "\n",
    "**NOTE:** We scraped movie release posters to render the recommendations in a more aesthetic fashion. However, we could not get all the movies posters, since some of them are not available, and some of them were not easily downloadable (by our crawler) since the webpage's HTML IDs are not consistent."
   ]
  },
  {
   "cell_type": "markdown",
   "metadata": {},
   "source": [
    "## Importing the required packages for the project"
   ]
  },
  {
   "cell_type": "code",
   "execution_count": 1,
   "metadata": {
    "collapsed": true
   },
   "outputs": [],
   "source": [
    "##Import all the required packages\n",
    "import pandas as pd\n",
    "import numpy as np\n",
    "from IPython.display import display # Allows the use of display() for DataFrames\n",
    "import time\n",
    "import pickle #To save the objects that were created using webscraping\n",
    "import pprint\n",
    "from IPython.display import HTML\n",
    "from lxml import html\n",
    "import requests\n",
    "from sklearn.model_selection import train_test_split\n",
    "import warnings\n",
    "warnings.filterwarnings('ignore')\n",
    "from urllib.request import urlopen\n",
    "from bs4 import BeautifulSoup\n",
    "\n",
    "import urllib\n",
    "import os\n",
    "\n",
    "import os\n",
    "import re\n",
    "import nltk\n",
    "import string\n",
    "from collections import Counter\n"
   ]
  },
  {
   "cell_type": "markdown",
   "metadata": {},
   "source": [
    "# Data collection\n",
    "\n",
    "We scraped the text related to movies from Wikipedia using a Python based web robot. The design of this web robot, along with the source code is present in *Appendix-A*.\n",
    "\n",
    "The data collection is divided into 2 phases:\n",
    "\n",
    "### Phase 1:\n",
    "In the first phase, the web robot has successfully scraped the list of target movie URLs, by iteratively visiting the website  https://en.wikipedia.org/wiki/List_of_American_films_of_xxxx (where xxxx represent the year. For example, to obtain the list of American movies released in 2000, we have to visit the website https://en.wikipedia.org/wiki/List_of_American_films_of_2000). From each URL the web robot has obtained the list of movie names, movie's Wiki page, cast, director and genre details. We scraped the list of movies for the years 2000-2016. A total of 4045 movies list was obtained. \n",
    "\n",
    "The output of phase-1 is a comma separated file (*Movie_Details.csv*), with the following details: \n",
    "\n",
    "**Movie** - Movie Name\n",
    "\n",
    "**URL** - Wikipedia web page for the movie\n",
    "\n",
    "**Year** - Year of release\n",
    "\n",
    "**Director** - Director of the movie\n",
    "\n",
    "**Cast** - Cast of the movie\n",
    "\n",
    "**Genre** - Movie's genre\n",
    "\n",
    "**Movie_ID** - Unique key to distinguish each movie\n",
    "\n",
    "### Phase 2:\n",
    "In the second phase, the web robot has visited all the 4045 URLs and has successfully downloaded the movie plots from Wikipedia. The web robot has run for approximately 7 hours to download 4037 movies text (we purposefully used a delay of 3 seconds between every hit, so that Wikipedia is not bombarded with continuous hits). Out of 4045 movies, we obtained text for 4037 movies, since 8 movies do not have any text in Wikipedia. Along with text, the web robot has also downloaded the relevant release posters for the movies. However, we were able to download 3749 posters, since the remaining posters were not found or not found by the web robot. \n",
    "\n",
    "The outputs of phase-2 are given below:\n",
    "\n",
    "1. A set of 3037 text files containing movie plots\n",
    "\n",
    "2. A set of 3749 movie posters\n",
    "\n",
    "3. A comma separated file (*processed_data.csv*), with the following details:\n",
    "\n",
    "      **Movie_ID** - Unique identifier of the movie\n",
    "\n",
    "      **Plot** - Plot of the movie, with stop words and punctuation removed, and all characters converted to lower case\n",
    "\n",
    "See **Appendix-A** for the design of web robot logic and source code\n",
    "\n",
    "See **Appendix-B** for the detailed steps of data cleansing"
   ]
  },
  {
   "cell_type": "markdown",
   "metadata": {},
   "source": [
    "## Movie details\n",
    "In phase-1, we produced Movie_Details.csv file. This file is read into a pandas data frame called URL, and the initial contents of this data frame are shown below:"
   ]
  },
  {
   "cell_type": "code",
   "execution_count": 3,
   "metadata": {},
   "outputs": [
    {
     "data": {
      "text/html": [
       "<div>\n",
       "<style>\n",
       "    .dataframe thead tr:only-child th {\n",
       "        text-align: right;\n",
       "    }\n",
       "\n",
       "    .dataframe thead th {\n",
       "        text-align: left;\n",
       "    }\n",
       "\n",
       "    .dataframe tbody tr th {\n",
       "        vertical-align: top;\n",
       "    }\n",
       "</style>\n",
       "<table border=\"1\" class=\"dataframe\">\n",
       "  <thead>\n",
       "    <tr style=\"text-align: right;\">\n",
       "      <th></th>\n",
       "      <th>Movie</th>\n",
       "      <th>URL</th>\n",
       "      <th>Year</th>\n",
       "      <th>Director</th>\n",
       "      <th>Cast</th>\n",
       "      <th>Genre</th>\n",
       "      <th>Movie_ID</th>\n",
       "    </tr>\n",
       "  </thead>\n",
       "  <tbody>\n",
       "    <tr>\n",
       "      <th>0</th>\n",
       "      <td>102 Dalmatians</td>\n",
       "      <td>https://en.wikipedia.org/wiki/102_Dalmatians</td>\n",
       "      <td>2000</td>\n",
       "      <td>Kevin Lima</td>\n",
       "      <td>Glenn Close, Gérard Depardieu, Alice Evans</td>\n",
       "      <td>Comedy, family</td>\n",
       "      <td>1</td>\n",
       "    </tr>\n",
       "    <tr>\n",
       "      <th>1</th>\n",
       "      <td>28 Days</td>\n",
       "      <td>https://en.wikipedia.org/wiki/28_Days_(film)</td>\n",
       "      <td>2000</td>\n",
       "      <td>Betty Thomas</td>\n",
       "      <td>Sandra Bullock, Viggo Mortensen</td>\n",
       "      <td>Drama</td>\n",
       "      <td>2</td>\n",
       "    </tr>\n",
       "    <tr>\n",
       "      <th>2</th>\n",
       "      <td>3 Strikes</td>\n",
       "      <td>https://en.wikipedia.org/wiki/3_Strikes_(film)</td>\n",
       "      <td>2000</td>\n",
       "      <td>DJ Pooh</td>\n",
       "      <td>Brian Hooks, N'Bushe Wright</td>\n",
       "      <td>Comedy</td>\n",
       "      <td>3</td>\n",
       "    </tr>\n",
       "    <tr>\n",
       "      <th>3</th>\n",
       "      <td>The 6th Day</td>\n",
       "      <td>https://en.wikipedia.org/wiki/The_6th_Day</td>\n",
       "      <td>2000</td>\n",
       "      <td>Roger Spottiswoode</td>\n",
       "      <td>Arnold Schwarzenegger, Robert Duvall</td>\n",
       "      <td>Science fiction</td>\n",
       "      <td>4</td>\n",
       "    </tr>\n",
       "    <tr>\n",
       "      <th>4</th>\n",
       "      <td>Across the Line</td>\n",
       "      <td>https://en.wikipedia.org/wiki/Across_the_Line_...</td>\n",
       "      <td>2000</td>\n",
       "      <td>Martin Spottl</td>\n",
       "      <td>Brad Johnson, Adrienne Barbeau, Brian Bloom</td>\n",
       "      <td>Thriller</td>\n",
       "      <td>5</td>\n",
       "    </tr>\n",
       "  </tbody>\n",
       "</table>\n",
       "</div>"
      ],
      "text/plain": [
       "              Movie                                                URL  Year  \\\n",
       "0    102 Dalmatians       https://en.wikipedia.org/wiki/102_Dalmatians  2000   \n",
       "1           28 Days       https://en.wikipedia.org/wiki/28_Days_(film)  2000   \n",
       "2         3 Strikes     https://en.wikipedia.org/wiki/3_Strikes_(film)  2000   \n",
       "3       The 6th Day          https://en.wikipedia.org/wiki/The_6th_Day  2000   \n",
       "4   Across the Line  https://en.wikipedia.org/wiki/Across_the_Line_...  2000   \n",
       "\n",
       "             Director                                         Cast  \\\n",
       "0          Kevin Lima   Glenn Close, Gérard Depardieu, Alice Evans   \n",
       "1        Betty Thomas              Sandra Bullock, Viggo Mortensen   \n",
       "2             DJ Pooh                  Brian Hooks, N'Bushe Wright   \n",
       "3  Roger Spottiswoode         Arnold Schwarzenegger, Robert Duvall   \n",
       "4       Martin Spottl  Brad Johnson, Adrienne Barbeau, Brian Bloom   \n",
       "\n",
       "             Genre  Movie_ID  \n",
       "0   Comedy, family         1  \n",
       "1            Drama         2  \n",
       "2           Comedy         3  \n",
       "3  Science fiction         4  \n",
       "4         Thriller         5  "
      ]
     },
     "metadata": {},
     "output_type": "display_data"
    },
    {
     "name": "stdout",
     "output_type": "stream",
     "text": [
      "(4045, 7)\n"
     ]
    }
   ],
   "source": [
    "URL = pd.read_csv(\"Movie_Details.csv\")\n",
    "display(URL.head())\n",
    "print(URL.shape)\n"
   ]
  },
  {
   "cell_type": "markdown",
   "metadata": {},
   "source": [
    "The output of phase-2 is 4037 text files and 3749 image files. The text files were further processed (cleaned by removing unnecessary characters, stop words etc) to create a CSV file (*processed_data.csv*), with the following format.\n",
    "\n",
    "**Movie_ID** - Unique ID of the movie\n",
    "\n",
    "**Plot** - Plot of the movie\n",
    "\n",
    "The initial rows of this file is displayed below:"
   ]
  },
  {
   "cell_type": "code",
   "execution_count": 5,
   "metadata": {},
   "outputs": [
    {
     "data": {
      "text/html": [
       "<div>\n",
       "<style>\n",
       "    .dataframe thead tr:only-child th {\n",
       "        text-align: right;\n",
       "    }\n",
       "\n",
       "    .dataframe thead th {\n",
       "        text-align: left;\n",
       "    }\n",
       "\n",
       "    .dataframe tbody tr th {\n",
       "        vertical-align: top;\n",
       "    }\n",
       "</style>\n",
       "<table border=\"1\" class=\"dataframe\">\n",
       "  <thead>\n",
       "    <tr style=\"text-align: right;\">\n",
       "      <th></th>\n",
       "      <th>Movie_ID</th>\n",
       "      <th>Plot</th>\n",
       "    </tr>\n",
       "  </thead>\n",
       "  <tbody>\n",
       "    <tr>\n",
       "      <th>0</th>\n",
       "      <td>1</td>\n",
       "      <td>102 dalmatians 2000 american family comedy fil...</td>\n",
       "    </tr>\n",
       "    <tr>\n",
       "      <th>1</th>\n",
       "      <td>10</td>\n",
       "      <td>american psycho 2000 american black comedy hor...</td>\n",
       "    </tr>\n",
       "    <tr>\n",
       "      <th>2</th>\n",
       "      <td>100</td>\n",
       "      <td>legacy 2000 american documentary film directed...</td>\n",
       "    </tr>\n",
       "    <tr>\n",
       "      <th>3</th>\n",
       "      <td>1000</td>\n",
       "      <td>lemony snicket series unfortunate events 2004 ...</td>\n",
       "    </tr>\n",
       "    <tr>\n",
       "      <th>4</th>\n",
       "      <td>1001</td>\n",
       "      <td>life death peter sellers 2004 british-american...</td>\n",
       "    </tr>\n",
       "  </tbody>\n",
       "</table>\n",
       "</div>"
      ],
      "text/plain": [
       "   Movie_ID                                               Plot\n",
       "0         1  102 dalmatians 2000 american family comedy fil...\n",
       "1        10  american psycho 2000 american black comedy hor...\n",
       "2       100  legacy 2000 american documentary film directed...\n",
       "3      1000  lemony snicket series unfortunate events 2004 ...\n",
       "4      1001  life death peter sellers 2004 british-american..."
      ]
     },
     "execution_count": 5,
     "metadata": {},
     "output_type": "execute_result"
    }
   ],
   "source": [
    "df = pd.read_csv(\"processed_data.csv\")\n",
    "df.head()"
   ]
  },
  {
   "cell_type": "markdown",
   "metadata": {},
   "source": [
    "# Building the recommender\n",
    "\n",
    "Our recommender system is based on text analytics of the movies plot. We will use TF-IDF (Term Frequency - Inverse Document Frequency) score for each unique word in each document. All the unique words in the combined text of all the documents will form the features. \n",
    "\n",
    "Once the TFIDF is computed, we will obtain the cosine similarity between each pair of movies.\n",
    "\n",
    "### TF-IDF Algorithm:\n",
    "\n",
    "TFIDF (Term Frequency - Inverse Document Frequency) is one of the most popular text processing algorithms that helps us to accurately assign importance scores to each word in a document. \n",
    "\n",
    "At a very high level, the algorithm follows the following logic:\n",
    "\n",
    "Let $D = {d_1, d_2 ... d_n}$ be a set of documents.\n",
    "\n",
    "For each document $d$ in $D$ perform the following:\n",
    "\n",
    "a. Get the frequencies of all the words in $d$. Call this as TF (Term Frequency) vector for document $d$\n",
    "\n",
    "b. Get the list of all unique words in all the documents, and for each unique word, get the number of documents containing the word. Let DF (Document Frequency) be the vector containing these counts.\n",
    "\n",
    "For each word $w$ in DF, get the following:\n",
    "\n",
    "$$IDF_w=log(n/(1+\\mbox{number of documents containing the word }w))$$ \n",
    "\n",
    "The log can have any valid base. \n",
    "IDF stands for Inverse Document Frequency. \"n\" represents the total number of documents\n",
    "\n",
    "For each document $d$, multiply the elements of $TF_d$ with the corresponding elements of IDF, to obtain TFIDF vector for document $d$.\n",
    "\n",
    "\n",
    "In sklearn package, we have TfidfVectorizer class, which implements the TF-IDF algorithm. Using this class, we are able to obtain the TF-IDF scores of all the unique words in all the movies plot.\n",
    "\n",
    "## Get the TFIDF scores\n",
    "\n",
    "Using the data frame, we have to get the TFIDF scores for all the words in each of the document."
   ]
  },
  {
   "cell_type": "code",
   "execution_count": 6,
   "metadata": {},
   "outputs": [
    {
     "name": "stdout",
     "output_type": "stream",
     "text": [
      "(4037, 54075)\n"
     ]
    }
   ],
   "source": [
    "from sklearn.feature_extraction.text import TfidfVectorizer\n",
    "tfidf_vectorizer = TfidfVectorizer()\n",
    "tfidf_matrix = tfidf_vectorizer.fit_transform(df[\"Plot\"])\n",
    "print(tfidf_matrix.shape)"
   ]
  },
  {
   "cell_type": "markdown",
   "metadata": {},
   "source": [
    "The TF-IDF matrix for the movies text has 4037 rows (representing the number of movies) and 54075 columns (representing the unique words in all the movies text). Internally python represents this matrix as a sparse matrix, since most of the elements of this matrix have a value of 0."
   ]
  },
  {
   "cell_type": "markdown",
   "metadata": {},
   "source": [
    "## Get the cosine similarity measure between each pair of movie\n",
    "To obtain the cosine similarity between each pair of movies, we will use cosine_similarity class of sklearn package. The below code block will compute the cosine similarity between each pair of movies."
   ]
  },
  {
   "cell_type": "code",
   "execution_count": 10,
   "metadata": {
    "collapsed": true
   },
   "outputs": [],
   "source": [
    "from sklearn.metrics.pairwise import cosine_similarity\n",
    "cos_sim = cosine_similarity(tfidf_matrix, tfidf_matrix)\n",
    "\n",
    "\n",
    "#Convert cos_sim (a numpy array) to a data frame with rows and columns as movie IDs\n",
    "cos_sim_df = pd.DataFrame(cos_sim,columns=df[\"Movie_ID\"].tolist(),index=df[\"Movie_ID\"].tolist())"
   ]
  },
  {
   "cell_type": "code",
   "execution_count": 16,
   "metadata": {},
   "outputs": [
    {
     "data": {
      "text/html": [
       "<div>\n",
       "<style>\n",
       "    .dataframe thead tr:only-child th {\n",
       "        text-align: right;\n",
       "    }\n",
       "\n",
       "    .dataframe thead th {\n",
       "        text-align: left;\n",
       "    }\n",
       "\n",
       "    .dataframe tbody tr th {\n",
       "        vertical-align: top;\n",
       "    }\n",
       "</style>\n",
       "<table border=\"1\" class=\"dataframe\">\n",
       "  <thead>\n",
       "    <tr style=\"text-align: right;\">\n",
       "      <th></th>\n",
       "      <th>1</th>\n",
       "      <th>10</th>\n",
       "      <th>100</th>\n",
       "      <th>1000</th>\n",
       "      <th>1001</th>\n",
       "      <th>1002</th>\n",
       "      <th>1003</th>\n",
       "      <th>1004</th>\n",
       "      <th>1005</th>\n",
       "      <th>1006</th>\n",
       "      <th>...</th>\n",
       "      <th>990</th>\n",
       "      <th>991</th>\n",
       "      <th>992</th>\n",
       "      <th>993</th>\n",
       "      <th>994</th>\n",
       "      <th>995</th>\n",
       "      <th>996</th>\n",
       "      <th>997</th>\n",
       "      <th>998</th>\n",
       "      <th>999</th>\n",
       "    </tr>\n",
       "  </thead>\n",
       "  <tbody>\n",
       "    <tr>\n",
       "      <th>1</th>\n",
       "      <td>1.000000</td>\n",
       "      <td>0.013110</td>\n",
       "      <td>0.025153</td>\n",
       "      <td>0.016308</td>\n",
       "      <td>0.011577</td>\n",
       "      <td>0.007299</td>\n",
       "      <td>0.010271</td>\n",
       "      <td>0.010509</td>\n",
       "      <td>0.006320</td>\n",
       "      <td>0.009129</td>\n",
       "      <td>...</td>\n",
       "      <td>0.011846</td>\n",
       "      <td>0.008216</td>\n",
       "      <td>0.011399</td>\n",
       "      <td>0.005237</td>\n",
       "      <td>0.007315</td>\n",
       "      <td>0.006427</td>\n",
       "      <td>0.008360</td>\n",
       "      <td>0.006734</td>\n",
       "      <td>0.002983</td>\n",
       "      <td>0.006313</td>\n",
       "    </tr>\n",
       "    <tr>\n",
       "      <th>10</th>\n",
       "      <td>0.013110</td>\n",
       "      <td>1.000000</td>\n",
       "      <td>0.009444</td>\n",
       "      <td>0.012178</td>\n",
       "      <td>0.004680</td>\n",
       "      <td>0.005145</td>\n",
       "      <td>0.009484</td>\n",
       "      <td>0.008657</td>\n",
       "      <td>0.011202</td>\n",
       "      <td>0.007491</td>\n",
       "      <td>...</td>\n",
       "      <td>0.013249</td>\n",
       "      <td>0.017382</td>\n",
       "      <td>0.007149</td>\n",
       "      <td>0.007385</td>\n",
       "      <td>0.011362</td>\n",
       "      <td>0.004854</td>\n",
       "      <td>0.019540</td>\n",
       "      <td>0.013429</td>\n",
       "      <td>0.000961</td>\n",
       "      <td>0.004964</td>\n",
       "    </tr>\n",
       "    <tr>\n",
       "      <th>100</th>\n",
       "      <td>0.025153</td>\n",
       "      <td>0.009444</td>\n",
       "      <td>1.000000</td>\n",
       "      <td>0.016322</td>\n",
       "      <td>0.059142</td>\n",
       "      <td>0.027863</td>\n",
       "      <td>0.014048</td>\n",
       "      <td>0.036151</td>\n",
       "      <td>0.007757</td>\n",
       "      <td>0.006688</td>\n",
       "      <td>...</td>\n",
       "      <td>0.042228</td>\n",
       "      <td>0.001339</td>\n",
       "      <td>0.009732</td>\n",
       "      <td>0.007993</td>\n",
       "      <td>0.013280</td>\n",
       "      <td>0.009319</td>\n",
       "      <td>0.021211</td>\n",
       "      <td>0.006464</td>\n",
       "      <td>0.023891</td>\n",
       "      <td>0.016957</td>\n",
       "    </tr>\n",
       "    <tr>\n",
       "      <th>1000</th>\n",
       "      <td>0.016308</td>\n",
       "      <td>0.012178</td>\n",
       "      <td>0.016322</td>\n",
       "      <td>1.000000</td>\n",
       "      <td>0.004812</td>\n",
       "      <td>0.024725</td>\n",
       "      <td>0.011021</td>\n",
       "      <td>0.018253</td>\n",
       "      <td>0.011957</td>\n",
       "      <td>0.012848</td>\n",
       "      <td>...</td>\n",
       "      <td>0.034581</td>\n",
       "      <td>0.014664</td>\n",
       "      <td>0.008955</td>\n",
       "      <td>0.009943</td>\n",
       "      <td>0.010786</td>\n",
       "      <td>0.008122</td>\n",
       "      <td>0.021269</td>\n",
       "      <td>0.020851</td>\n",
       "      <td>0.005010</td>\n",
       "      <td>0.009184</td>\n",
       "    </tr>\n",
       "    <tr>\n",
       "      <th>1001</th>\n",
       "      <td>0.011577</td>\n",
       "      <td>0.004680</td>\n",
       "      <td>0.059142</td>\n",
       "      <td>0.004812</td>\n",
       "      <td>1.000000</td>\n",
       "      <td>0.006460</td>\n",
       "      <td>0.007578</td>\n",
       "      <td>0.032768</td>\n",
       "      <td>0.004027</td>\n",
       "      <td>0.009007</td>\n",
       "      <td>...</td>\n",
       "      <td>0.009151</td>\n",
       "      <td>0.002705</td>\n",
       "      <td>0.014901</td>\n",
       "      <td>0.004565</td>\n",
       "      <td>0.016529</td>\n",
       "      <td>0.044348</td>\n",
       "      <td>0.009097</td>\n",
       "      <td>0.007988</td>\n",
       "      <td>0.014264</td>\n",
       "      <td>0.025655</td>\n",
       "    </tr>\n",
       "    <tr>\n",
       "      <th>1002</th>\n",
       "      <td>0.007299</td>\n",
       "      <td>0.005145</td>\n",
       "      <td>0.027863</td>\n",
       "      <td>0.024725</td>\n",
       "      <td>0.006460</td>\n",
       "      <td>1.000000</td>\n",
       "      <td>0.006180</td>\n",
       "      <td>0.015325</td>\n",
       "      <td>0.006960</td>\n",
       "      <td>0.030447</td>\n",
       "      <td>...</td>\n",
       "      <td>0.015545</td>\n",
       "      <td>0.013500</td>\n",
       "      <td>0.031731</td>\n",
       "      <td>0.008173</td>\n",
       "      <td>0.010223</td>\n",
       "      <td>0.007692</td>\n",
       "      <td>0.015265</td>\n",
       "      <td>0.008178</td>\n",
       "      <td>0.010762</td>\n",
       "      <td>0.013937</td>\n",
       "    </tr>\n",
       "    <tr>\n",
       "      <th>1003</th>\n",
       "      <td>0.010271</td>\n",
       "      <td>0.009484</td>\n",
       "      <td>0.014048</td>\n",
       "      <td>0.011021</td>\n",
       "      <td>0.007578</td>\n",
       "      <td>0.006180</td>\n",
       "      <td>1.000000</td>\n",
       "      <td>0.009379</td>\n",
       "      <td>0.007544</td>\n",
       "      <td>0.010232</td>\n",
       "      <td>...</td>\n",
       "      <td>0.027237</td>\n",
       "      <td>0.018090</td>\n",
       "      <td>0.007262</td>\n",
       "      <td>0.006958</td>\n",
       "      <td>0.008695</td>\n",
       "      <td>0.009016</td>\n",
       "      <td>0.010088</td>\n",
       "      <td>0.012814</td>\n",
       "      <td>0.011469</td>\n",
       "      <td>0.015597</td>\n",
       "    </tr>\n",
       "    <tr>\n",
       "      <th>1004</th>\n",
       "      <td>0.010509</td>\n",
       "      <td>0.008657</td>\n",
       "      <td>0.036151</td>\n",
       "      <td>0.018253</td>\n",
       "      <td>0.032768</td>\n",
       "      <td>0.015325</td>\n",
       "      <td>0.009379</td>\n",
       "      <td>1.000000</td>\n",
       "      <td>0.013861</td>\n",
       "      <td>0.013198</td>\n",
       "      <td>...</td>\n",
       "      <td>0.013786</td>\n",
       "      <td>0.027088</td>\n",
       "      <td>0.012796</td>\n",
       "      <td>0.010316</td>\n",
       "      <td>0.018577</td>\n",
       "      <td>0.009816</td>\n",
       "      <td>0.023062</td>\n",
       "      <td>0.009664</td>\n",
       "      <td>0.007165</td>\n",
       "      <td>0.012340</td>\n",
       "    </tr>\n",
       "    <tr>\n",
       "      <th>1005</th>\n",
       "      <td>0.006320</td>\n",
       "      <td>0.011202</td>\n",
       "      <td>0.007757</td>\n",
       "      <td>0.011957</td>\n",
       "      <td>0.004027</td>\n",
       "      <td>0.006960</td>\n",
       "      <td>0.007544</td>\n",
       "      <td>0.013861</td>\n",
       "      <td>1.000000</td>\n",
       "      <td>0.018479</td>\n",
       "      <td>...</td>\n",
       "      <td>0.011095</td>\n",
       "      <td>0.013903</td>\n",
       "      <td>0.015171</td>\n",
       "      <td>0.006398</td>\n",
       "      <td>0.006556</td>\n",
       "      <td>0.006096</td>\n",
       "      <td>0.010419</td>\n",
       "      <td>0.014563</td>\n",
       "      <td>0.004381</td>\n",
       "      <td>0.005944</td>\n",
       "    </tr>\n",
       "    <tr>\n",
       "      <th>1006</th>\n",
       "      <td>0.009129</td>\n",
       "      <td>0.007491</td>\n",
       "      <td>0.006688</td>\n",
       "      <td>0.012848</td>\n",
       "      <td>0.009007</td>\n",
       "      <td>0.030447</td>\n",
       "      <td>0.010232</td>\n",
       "      <td>0.013198</td>\n",
       "      <td>0.018479</td>\n",
       "      <td>1.000000</td>\n",
       "      <td>...</td>\n",
       "      <td>0.006813</td>\n",
       "      <td>0.011289</td>\n",
       "      <td>0.014773</td>\n",
       "      <td>0.010392</td>\n",
       "      <td>0.007992</td>\n",
       "      <td>0.007115</td>\n",
       "      <td>0.015426</td>\n",
       "      <td>0.007499</td>\n",
       "      <td>0.003727</td>\n",
       "      <td>0.018923</td>\n",
       "    </tr>\n",
       "    <tr>\n",
       "      <th>1007</th>\n",
       "      <td>0.012161</td>\n",
       "      <td>0.006834</td>\n",
       "      <td>0.031098</td>\n",
       "      <td>0.019809</td>\n",
       "      <td>0.016764</td>\n",
       "      <td>0.008200</td>\n",
       "      <td>0.005869</td>\n",
       "      <td>0.028042</td>\n",
       "      <td>0.008751</td>\n",
       "      <td>0.008400</td>\n",
       "      <td>...</td>\n",
       "      <td>0.011436</td>\n",
       "      <td>0.028734</td>\n",
       "      <td>0.010079</td>\n",
       "      <td>0.010203</td>\n",
       "      <td>0.015886</td>\n",
       "      <td>0.009649</td>\n",
       "      <td>0.015464</td>\n",
       "      <td>0.016156</td>\n",
       "      <td>0.005658</td>\n",
       "      <td>0.009214</td>\n",
       "    </tr>\n",
       "    <tr>\n",
       "      <th>1008</th>\n",
       "      <td>0.005168</td>\n",
       "      <td>0.017228</td>\n",
       "      <td>0.004783</td>\n",
       "      <td>0.014488</td>\n",
       "      <td>0.003851</td>\n",
       "      <td>0.007814</td>\n",
       "      <td>0.025487</td>\n",
       "      <td>0.013173</td>\n",
       "      <td>0.012126</td>\n",
       "      <td>0.008498</td>\n",
       "      <td>...</td>\n",
       "      <td>0.015284</td>\n",
       "      <td>0.016052</td>\n",
       "      <td>0.006531</td>\n",
       "      <td>0.011101</td>\n",
       "      <td>0.012965</td>\n",
       "      <td>0.012294</td>\n",
       "      <td>0.010587</td>\n",
       "      <td>0.025293</td>\n",
       "      <td>0.005867</td>\n",
       "      <td>0.008411</td>\n",
       "    </tr>\n",
       "    <tr>\n",
       "      <th>1009</th>\n",
       "      <td>0.006860</td>\n",
       "      <td>0.006283</td>\n",
       "      <td>0.002877</td>\n",
       "      <td>0.010189</td>\n",
       "      <td>0.008098</td>\n",
       "      <td>0.005978</td>\n",
       "      <td>0.008856</td>\n",
       "      <td>0.014339</td>\n",
       "      <td>0.005008</td>\n",
       "      <td>0.005503</td>\n",
       "      <td>...</td>\n",
       "      <td>0.007776</td>\n",
       "      <td>0.011979</td>\n",
       "      <td>0.006603</td>\n",
       "      <td>0.004717</td>\n",
       "      <td>0.011319</td>\n",
       "      <td>0.003092</td>\n",
       "      <td>0.008724</td>\n",
       "      <td>0.007147</td>\n",
       "      <td>0.003291</td>\n",
       "      <td>0.007802</td>\n",
       "    </tr>\n",
       "    <tr>\n",
       "      <th>101</th>\n",
       "      <td>0.007217</td>\n",
       "      <td>0.006228</td>\n",
       "      <td>0.016035</td>\n",
       "      <td>0.013586</td>\n",
       "      <td>0.006717</td>\n",
       "      <td>0.004289</td>\n",
       "      <td>0.014910</td>\n",
       "      <td>0.016476</td>\n",
       "      <td>0.007636</td>\n",
       "      <td>0.007138</td>\n",
       "      <td>...</td>\n",
       "      <td>0.014681</td>\n",
       "      <td>0.011602</td>\n",
       "      <td>0.012217</td>\n",
       "      <td>0.006177</td>\n",
       "      <td>0.007519</td>\n",
       "      <td>0.005455</td>\n",
       "      <td>0.030210</td>\n",
       "      <td>0.017575</td>\n",
       "      <td>0.004849</td>\n",
       "      <td>0.006820</td>\n",
       "    </tr>\n",
       "    <tr>\n",
       "      <th>1010</th>\n",
       "      <td>0.012828</td>\n",
       "      <td>0.011837</td>\n",
       "      <td>0.005898</td>\n",
       "      <td>0.011563</td>\n",
       "      <td>0.002839</td>\n",
       "      <td>0.007153</td>\n",
       "      <td>0.011027</td>\n",
       "      <td>0.013573</td>\n",
       "      <td>0.008332</td>\n",
       "      <td>0.008729</td>\n",
       "      <td>...</td>\n",
       "      <td>0.009084</td>\n",
       "      <td>0.016495</td>\n",
       "      <td>0.007124</td>\n",
       "      <td>0.008898</td>\n",
       "      <td>0.013040</td>\n",
       "      <td>0.068299</td>\n",
       "      <td>0.227024</td>\n",
       "      <td>0.019285</td>\n",
       "      <td>0.003313</td>\n",
       "      <td>0.010485</td>\n",
       "    </tr>\n",
       "    <tr>\n",
       "      <th>1011</th>\n",
       "      <td>0.002369</td>\n",
       "      <td>0.007200</td>\n",
       "      <td>0.004407</td>\n",
       "      <td>0.014103</td>\n",
       "      <td>0.060245</td>\n",
       "      <td>0.012932</td>\n",
       "      <td>0.013007</td>\n",
       "      <td>0.011664</td>\n",
       "      <td>0.008578</td>\n",
       "      <td>0.006249</td>\n",
       "      <td>...</td>\n",
       "      <td>0.018062</td>\n",
       "      <td>0.004450</td>\n",
       "      <td>0.015288</td>\n",
       "      <td>0.003126</td>\n",
       "      <td>0.007379</td>\n",
       "      <td>0.033813</td>\n",
       "      <td>0.064706</td>\n",
       "      <td>0.008954</td>\n",
       "      <td>0.021246</td>\n",
       "      <td>0.038163</td>\n",
       "    </tr>\n",
       "    <tr>\n",
       "      <th>1012</th>\n",
       "      <td>0.002352</td>\n",
       "      <td>0.005225</td>\n",
       "      <td>0.004948</td>\n",
       "      <td>0.003813</td>\n",
       "      <td>0.019987</td>\n",
       "      <td>0.005936</td>\n",
       "      <td>0.005744</td>\n",
       "      <td>0.010136</td>\n",
       "      <td>0.011901</td>\n",
       "      <td>0.005184</td>\n",
       "      <td>...</td>\n",
       "      <td>0.010874</td>\n",
       "      <td>0.007182</td>\n",
       "      <td>0.019121</td>\n",
       "      <td>0.002146</td>\n",
       "      <td>0.003189</td>\n",
       "      <td>0.018820</td>\n",
       "      <td>0.006491</td>\n",
       "      <td>0.007848</td>\n",
       "      <td>0.017821</td>\n",
       "      <td>0.007116</td>\n",
       "    </tr>\n",
       "    <tr>\n",
       "      <th>1013</th>\n",
       "      <td>0.009021</td>\n",
       "      <td>0.008068</td>\n",
       "      <td>0.009987</td>\n",
       "      <td>0.013779</td>\n",
       "      <td>0.005803</td>\n",
       "      <td>0.008468</td>\n",
       "      <td>0.014385</td>\n",
       "      <td>0.013991</td>\n",
       "      <td>0.012237</td>\n",
       "      <td>0.006871</td>\n",
       "      <td>...</td>\n",
       "      <td>0.033674</td>\n",
       "      <td>0.019053</td>\n",
       "      <td>0.005138</td>\n",
       "      <td>0.007971</td>\n",
       "      <td>0.011728</td>\n",
       "      <td>0.005330</td>\n",
       "      <td>0.012311</td>\n",
       "      <td>0.009149</td>\n",
       "      <td>0.009674</td>\n",
       "      <td>0.011986</td>\n",
       "    </tr>\n",
       "    <tr>\n",
       "      <th>1014</th>\n",
       "      <td>0.006049</td>\n",
       "      <td>0.003348</td>\n",
       "      <td>0.042446</td>\n",
       "      <td>0.008618</td>\n",
       "      <td>0.028980</td>\n",
       "      <td>0.018278</td>\n",
       "      <td>0.010611</td>\n",
       "      <td>0.016392</td>\n",
       "      <td>0.016902</td>\n",
       "      <td>0.017354</td>\n",
       "      <td>...</td>\n",
       "      <td>0.036515</td>\n",
       "      <td>0.008566</td>\n",
       "      <td>0.037426</td>\n",
       "      <td>0.006288</td>\n",
       "      <td>0.008666</td>\n",
       "      <td>0.042064</td>\n",
       "      <td>0.008627</td>\n",
       "      <td>0.010843</td>\n",
       "      <td>0.074431</td>\n",
       "      <td>0.024254</td>\n",
       "    </tr>\n",
       "    <tr>\n",
       "      <th>1015</th>\n",
       "      <td>0.011783</td>\n",
       "      <td>0.028707</td>\n",
       "      <td>0.004563</td>\n",
       "      <td>0.024459</td>\n",
       "      <td>0.007988</td>\n",
       "      <td>0.012881</td>\n",
       "      <td>0.014013</td>\n",
       "      <td>0.018540</td>\n",
       "      <td>0.013141</td>\n",
       "      <td>0.022323</td>\n",
       "      <td>...</td>\n",
       "      <td>0.005712</td>\n",
       "      <td>0.020606</td>\n",
       "      <td>0.023503</td>\n",
       "      <td>0.012402</td>\n",
       "      <td>0.013998</td>\n",
       "      <td>0.008953</td>\n",
       "      <td>0.024374</td>\n",
       "      <td>0.024874</td>\n",
       "      <td>0.006722</td>\n",
       "      <td>0.037532</td>\n",
       "    </tr>\n",
       "    <tr>\n",
       "      <th>1016</th>\n",
       "      <td>0.006527</td>\n",
       "      <td>0.011595</td>\n",
       "      <td>0.007311</td>\n",
       "      <td>0.012065</td>\n",
       "      <td>0.009269</td>\n",
       "      <td>0.017188</td>\n",
       "      <td>0.013721</td>\n",
       "      <td>0.016822</td>\n",
       "      <td>0.009899</td>\n",
       "      <td>0.023049</td>\n",
       "      <td>...</td>\n",
       "      <td>0.021691</td>\n",
       "      <td>0.022327</td>\n",
       "      <td>0.018246</td>\n",
       "      <td>0.010195</td>\n",
       "      <td>0.014925</td>\n",
       "      <td>0.006491</td>\n",
       "      <td>0.044771</td>\n",
       "      <td>0.018244</td>\n",
       "      <td>0.007313</td>\n",
       "      <td>0.010776</td>\n",
       "    </tr>\n",
       "    <tr>\n",
       "      <th>1017</th>\n",
       "      <td>0.013588</td>\n",
       "      <td>0.004501</td>\n",
       "      <td>0.004908</td>\n",
       "      <td>0.012455</td>\n",
       "      <td>0.005210</td>\n",
       "      <td>0.014692</td>\n",
       "      <td>0.012983</td>\n",
       "      <td>0.008832</td>\n",
       "      <td>0.012551</td>\n",
       "      <td>0.005058</td>\n",
       "      <td>...</td>\n",
       "      <td>0.008093</td>\n",
       "      <td>0.017537</td>\n",
       "      <td>0.013004</td>\n",
       "      <td>0.007723</td>\n",
       "      <td>0.010609</td>\n",
       "      <td>0.009309</td>\n",
       "      <td>0.014489</td>\n",
       "      <td>0.016842</td>\n",
       "      <td>0.007471</td>\n",
       "      <td>0.006688</td>\n",
       "    </tr>\n",
       "    <tr>\n",
       "      <th>1018</th>\n",
       "      <td>0.004493</td>\n",
       "      <td>0.005355</td>\n",
       "      <td>0.075642</td>\n",
       "      <td>0.008378</td>\n",
       "      <td>0.028305</td>\n",
       "      <td>0.027055</td>\n",
       "      <td>0.011851</td>\n",
       "      <td>0.022230</td>\n",
       "      <td>0.008660</td>\n",
       "      <td>0.006233</td>\n",
       "      <td>...</td>\n",
       "      <td>0.044089</td>\n",
       "      <td>0.012935</td>\n",
       "      <td>0.072491</td>\n",
       "      <td>0.010983</td>\n",
       "      <td>0.004716</td>\n",
       "      <td>0.041748</td>\n",
       "      <td>0.029477</td>\n",
       "      <td>0.008897</td>\n",
       "      <td>0.042779</td>\n",
       "      <td>0.028337</td>\n",
       "    </tr>\n",
       "    <tr>\n",
       "      <th>1019</th>\n",
       "      <td>0.008922</td>\n",
       "      <td>0.001772</td>\n",
       "      <td>0.088560</td>\n",
       "      <td>0.008358</td>\n",
       "      <td>0.029135</td>\n",
       "      <td>0.023489</td>\n",
       "      <td>0.017657</td>\n",
       "      <td>0.021178</td>\n",
       "      <td>0.004580</td>\n",
       "      <td>0.012630</td>\n",
       "      <td>...</td>\n",
       "      <td>0.023838</td>\n",
       "      <td>0.008846</td>\n",
       "      <td>0.039326</td>\n",
       "      <td>0.005078</td>\n",
       "      <td>0.008329</td>\n",
       "      <td>0.052986</td>\n",
       "      <td>0.009593</td>\n",
       "      <td>0.008595</td>\n",
       "      <td>0.043998</td>\n",
       "      <td>0.015136</td>\n",
       "    </tr>\n",
       "    <tr>\n",
       "      <th>102</th>\n",
       "      <td>0.010463</td>\n",
       "      <td>0.016268</td>\n",
       "      <td>0.008494</td>\n",
       "      <td>0.012740</td>\n",
       "      <td>0.017658</td>\n",
       "      <td>0.005935</td>\n",
       "      <td>0.008634</td>\n",
       "      <td>0.013455</td>\n",
       "      <td>0.005932</td>\n",
       "      <td>0.009994</td>\n",
       "      <td>...</td>\n",
       "      <td>0.009232</td>\n",
       "      <td>0.016796</td>\n",
       "      <td>0.007441</td>\n",
       "      <td>0.010053</td>\n",
       "      <td>0.012698</td>\n",
       "      <td>0.008732</td>\n",
       "      <td>0.011629</td>\n",
       "      <td>0.012894</td>\n",
       "      <td>0.002869</td>\n",
       "      <td>0.005706</td>\n",
       "    </tr>\n",
       "    <tr>\n",
       "      <th>1020</th>\n",
       "      <td>0.004388</td>\n",
       "      <td>0.010141</td>\n",
       "      <td>0.007081</td>\n",
       "      <td>0.011539</td>\n",
       "      <td>0.010282</td>\n",
       "      <td>0.004343</td>\n",
       "      <td>0.007069</td>\n",
       "      <td>0.009985</td>\n",
       "      <td>0.007576</td>\n",
       "      <td>0.009854</td>\n",
       "      <td>...</td>\n",
       "      <td>0.019900</td>\n",
       "      <td>0.006346</td>\n",
       "      <td>0.008514</td>\n",
       "      <td>0.006933</td>\n",
       "      <td>0.007544</td>\n",
       "      <td>0.008791</td>\n",
       "      <td>0.020743</td>\n",
       "      <td>0.008000</td>\n",
       "      <td>0.007817</td>\n",
       "      <td>0.013425</td>\n",
       "    </tr>\n",
       "    <tr>\n",
       "      <th>1021</th>\n",
       "      <td>0.005920</td>\n",
       "      <td>0.019551</td>\n",
       "      <td>0.007954</td>\n",
       "      <td>0.017934</td>\n",
       "      <td>0.021514</td>\n",
       "      <td>0.009532</td>\n",
       "      <td>0.013417</td>\n",
       "      <td>0.012348</td>\n",
       "      <td>0.007245</td>\n",
       "      <td>0.010113</td>\n",
       "      <td>...</td>\n",
       "      <td>0.017899</td>\n",
       "      <td>0.012090</td>\n",
       "      <td>0.024922</td>\n",
       "      <td>0.005618</td>\n",
       "      <td>0.011920</td>\n",
       "      <td>0.017158</td>\n",
       "      <td>0.017860</td>\n",
       "      <td>0.013307</td>\n",
       "      <td>0.007110</td>\n",
       "      <td>0.011921</td>\n",
       "    </tr>\n",
       "    <tr>\n",
       "      <th>1022</th>\n",
       "      <td>0.008803</td>\n",
       "      <td>0.008500</td>\n",
       "      <td>0.015811</td>\n",
       "      <td>0.025692</td>\n",
       "      <td>0.010491</td>\n",
       "      <td>0.011157</td>\n",
       "      <td>0.027993</td>\n",
       "      <td>0.026839</td>\n",
       "      <td>0.012209</td>\n",
       "      <td>0.008641</td>\n",
       "      <td>...</td>\n",
       "      <td>0.035492</td>\n",
       "      <td>0.026227</td>\n",
       "      <td>0.020864</td>\n",
       "      <td>0.009336</td>\n",
       "      <td>0.016479</td>\n",
       "      <td>0.012327</td>\n",
       "      <td>0.014059</td>\n",
       "      <td>0.011805</td>\n",
       "      <td>0.008456</td>\n",
       "      <td>0.019621</td>\n",
       "    </tr>\n",
       "    <tr>\n",
       "      <th>1023</th>\n",
       "      <td>0.009560</td>\n",
       "      <td>0.015559</td>\n",
       "      <td>0.029976</td>\n",
       "      <td>0.014922</td>\n",
       "      <td>0.013450</td>\n",
       "      <td>0.011879</td>\n",
       "      <td>0.014758</td>\n",
       "      <td>0.034183</td>\n",
       "      <td>0.016698</td>\n",
       "      <td>0.015088</td>\n",
       "      <td>...</td>\n",
       "      <td>0.013746</td>\n",
       "      <td>0.034001</td>\n",
       "      <td>0.020833</td>\n",
       "      <td>0.014689</td>\n",
       "      <td>0.016682</td>\n",
       "      <td>0.094306</td>\n",
       "      <td>0.017457</td>\n",
       "      <td>0.017915</td>\n",
       "      <td>0.010469</td>\n",
       "      <td>0.013110</td>\n",
       "    </tr>\n",
       "    <tr>\n",
       "      <th>1024</th>\n",
       "      <td>0.006224</td>\n",
       "      <td>0.011056</td>\n",
       "      <td>0.013350</td>\n",
       "      <td>0.014525</td>\n",
       "      <td>0.006918</td>\n",
       "      <td>0.013057</td>\n",
       "      <td>0.007531</td>\n",
       "      <td>0.017613</td>\n",
       "      <td>0.010216</td>\n",
       "      <td>0.016489</td>\n",
       "      <td>...</td>\n",
       "      <td>0.015705</td>\n",
       "      <td>0.018229</td>\n",
       "      <td>0.023846</td>\n",
       "      <td>0.005708</td>\n",
       "      <td>0.014373</td>\n",
       "      <td>0.014641</td>\n",
       "      <td>0.011403</td>\n",
       "      <td>0.012598</td>\n",
       "      <td>0.013830</td>\n",
       "      <td>0.017007</td>\n",
       "    </tr>\n",
       "    <tr>\n",
       "      <th>...</th>\n",
       "      <td>...</td>\n",
       "      <td>...</td>\n",
       "      <td>...</td>\n",
       "      <td>...</td>\n",
       "      <td>...</td>\n",
       "      <td>...</td>\n",
       "      <td>...</td>\n",
       "      <td>...</td>\n",
       "      <td>...</td>\n",
       "      <td>...</td>\n",
       "      <td>...</td>\n",
       "      <td>...</td>\n",
       "      <td>...</td>\n",
       "      <td>...</td>\n",
       "      <td>...</td>\n",
       "      <td>...</td>\n",
       "      <td>...</td>\n",
       "      <td>...</td>\n",
       "      <td>...</td>\n",
       "      <td>...</td>\n",
       "      <td>...</td>\n",
       "    </tr>\n",
       "    <tr>\n",
       "      <th>972</th>\n",
       "      <td>0.009681</td>\n",
       "      <td>0.007004</td>\n",
       "      <td>0.004076</td>\n",
       "      <td>0.013946</td>\n",
       "      <td>0.009610</td>\n",
       "      <td>0.006150</td>\n",
       "      <td>0.016548</td>\n",
       "      <td>0.011914</td>\n",
       "      <td>0.005906</td>\n",
       "      <td>0.004668</td>\n",
       "      <td>...</td>\n",
       "      <td>0.008714</td>\n",
       "      <td>0.012380</td>\n",
       "      <td>0.019007</td>\n",
       "      <td>0.006320</td>\n",
       "      <td>0.008868</td>\n",
       "      <td>0.005235</td>\n",
       "      <td>0.009105</td>\n",
       "      <td>0.009410</td>\n",
       "      <td>0.003878</td>\n",
       "      <td>0.002750</td>\n",
       "    </tr>\n",
       "    <tr>\n",
       "      <th>973</th>\n",
       "      <td>0.010037</td>\n",
       "      <td>0.010688</td>\n",
       "      <td>0.030123</td>\n",
       "      <td>0.005557</td>\n",
       "      <td>0.045752</td>\n",
       "      <td>0.000975</td>\n",
       "      <td>0.001440</td>\n",
       "      <td>0.017814</td>\n",
       "      <td>0.005781</td>\n",
       "      <td>0.004993</td>\n",
       "      <td>...</td>\n",
       "      <td>0.020029</td>\n",
       "      <td>0.012042</td>\n",
       "      <td>0.028064</td>\n",
       "      <td>0.006425</td>\n",
       "      <td>0.005003</td>\n",
       "      <td>0.018431</td>\n",
       "      <td>0.008652</td>\n",
       "      <td>0.001164</td>\n",
       "      <td>0.002068</td>\n",
       "      <td>0.018205</td>\n",
       "    </tr>\n",
       "    <tr>\n",
       "      <th>974</th>\n",
       "      <td>0.003963</td>\n",
       "      <td>0.004449</td>\n",
       "      <td>0.005801</td>\n",
       "      <td>0.007455</td>\n",
       "      <td>0.001955</td>\n",
       "      <td>0.006100</td>\n",
       "      <td>0.006789</td>\n",
       "      <td>0.006730</td>\n",
       "      <td>0.004720</td>\n",
       "      <td>0.007324</td>\n",
       "      <td>...</td>\n",
       "      <td>0.009394</td>\n",
       "      <td>0.006527</td>\n",
       "      <td>0.006378</td>\n",
       "      <td>0.005327</td>\n",
       "      <td>0.007554</td>\n",
       "      <td>0.003799</td>\n",
       "      <td>0.010164</td>\n",
       "      <td>0.006539</td>\n",
       "      <td>0.002262</td>\n",
       "      <td>0.013221</td>\n",
       "    </tr>\n",
       "    <tr>\n",
       "      <th>975</th>\n",
       "      <td>0.001507</td>\n",
       "      <td>0.005981</td>\n",
       "      <td>0.005906</td>\n",
       "      <td>0.001234</td>\n",
       "      <td>0.003822</td>\n",
       "      <td>0.010084</td>\n",
       "      <td>0.003405</td>\n",
       "      <td>0.002593</td>\n",
       "      <td>0.002076</td>\n",
       "      <td>0.005428</td>\n",
       "      <td>...</td>\n",
       "      <td>0.010683</td>\n",
       "      <td>0.001684</td>\n",
       "      <td>0.017859</td>\n",
       "      <td>0.000995</td>\n",
       "      <td>0.001915</td>\n",
       "      <td>0.019017</td>\n",
       "      <td>0.007463</td>\n",
       "      <td>0.009032</td>\n",
       "      <td>0.007086</td>\n",
       "      <td>0.019333</td>\n",
       "    </tr>\n",
       "    <tr>\n",
       "      <th>976</th>\n",
       "      <td>0.005268</td>\n",
       "      <td>0.007586</td>\n",
       "      <td>0.005233</td>\n",
       "      <td>0.013073</td>\n",
       "      <td>0.018016</td>\n",
       "      <td>0.005943</td>\n",
       "      <td>0.009229</td>\n",
       "      <td>0.014910</td>\n",
       "      <td>0.012079</td>\n",
       "      <td>0.009841</td>\n",
       "      <td>...</td>\n",
       "      <td>0.005081</td>\n",
       "      <td>0.012100</td>\n",
       "      <td>0.019569</td>\n",
       "      <td>0.014382</td>\n",
       "      <td>0.007257</td>\n",
       "      <td>0.008127</td>\n",
       "      <td>0.012450</td>\n",
       "      <td>0.006839</td>\n",
       "      <td>0.006722</td>\n",
       "      <td>0.010612</td>\n",
       "    </tr>\n",
       "    <tr>\n",
       "      <th>977</th>\n",
       "      <td>0.002228</td>\n",
       "      <td>0.020208</td>\n",
       "      <td>0.003584</td>\n",
       "      <td>0.011665</td>\n",
       "      <td>0.007240</td>\n",
       "      <td>0.007243</td>\n",
       "      <td>0.009560</td>\n",
       "      <td>0.004291</td>\n",
       "      <td>0.008988</td>\n",
       "      <td>0.008407</td>\n",
       "      <td>...</td>\n",
       "      <td>0.013713</td>\n",
       "      <td>0.011757</td>\n",
       "      <td>0.038156</td>\n",
       "      <td>0.003220</td>\n",
       "      <td>0.005177</td>\n",
       "      <td>0.023172</td>\n",
       "      <td>0.010399</td>\n",
       "      <td>0.014328</td>\n",
       "      <td>0.010987</td>\n",
       "      <td>0.006924</td>\n",
       "    </tr>\n",
       "    <tr>\n",
       "      <th>978</th>\n",
       "      <td>0.014239</td>\n",
       "      <td>0.013449</td>\n",
       "      <td>0.055582</td>\n",
       "      <td>0.017650</td>\n",
       "      <td>0.055002</td>\n",
       "      <td>0.063739</td>\n",
       "      <td>0.010727</td>\n",
       "      <td>0.113403</td>\n",
       "      <td>0.010396</td>\n",
       "      <td>0.022355</td>\n",
       "      <td>...</td>\n",
       "      <td>0.020644</td>\n",
       "      <td>0.030905</td>\n",
       "      <td>0.018480</td>\n",
       "      <td>0.010765</td>\n",
       "      <td>0.068439</td>\n",
       "      <td>0.034871</td>\n",
       "      <td>0.022447</td>\n",
       "      <td>0.009205</td>\n",
       "      <td>0.010526</td>\n",
       "      <td>0.012282</td>\n",
       "    </tr>\n",
       "    <tr>\n",
       "      <th>979</th>\n",
       "      <td>0.011750</td>\n",
       "      <td>0.008395</td>\n",
       "      <td>0.009136</td>\n",
       "      <td>0.013261</td>\n",
       "      <td>0.002887</td>\n",
       "      <td>0.006216</td>\n",
       "      <td>0.010433</td>\n",
       "      <td>0.012739</td>\n",
       "      <td>0.006609</td>\n",
       "      <td>0.004368</td>\n",
       "      <td>...</td>\n",
       "      <td>0.010544</td>\n",
       "      <td>0.006378</td>\n",
       "      <td>0.006639</td>\n",
       "      <td>0.007573</td>\n",
       "      <td>0.004963</td>\n",
       "      <td>0.003374</td>\n",
       "      <td>0.039228</td>\n",
       "      <td>0.046103</td>\n",
       "      <td>0.010677</td>\n",
       "      <td>0.017898</td>\n",
       "    </tr>\n",
       "    <tr>\n",
       "      <th>98</th>\n",
       "      <td>0.002561</td>\n",
       "      <td>0.009913</td>\n",
       "      <td>0.004767</td>\n",
       "      <td>0.010953</td>\n",
       "      <td>0.025717</td>\n",
       "      <td>0.005133</td>\n",
       "      <td>0.017264</td>\n",
       "      <td>0.003866</td>\n",
       "      <td>0.002850</td>\n",
       "      <td>0.003310</td>\n",
       "      <td>...</td>\n",
       "      <td>0.010271</td>\n",
       "      <td>0.008750</td>\n",
       "      <td>0.014393</td>\n",
       "      <td>0.002136</td>\n",
       "      <td>0.006481</td>\n",
       "      <td>0.013842</td>\n",
       "      <td>0.006647</td>\n",
       "      <td>0.006819</td>\n",
       "      <td>0.003165</td>\n",
       "      <td>0.003714</td>\n",
       "    </tr>\n",
       "    <tr>\n",
       "      <th>980</th>\n",
       "      <td>0.006966</td>\n",
       "      <td>0.080107</td>\n",
       "      <td>0.021908</td>\n",
       "      <td>0.013319</td>\n",
       "      <td>0.006779</td>\n",
       "      <td>0.006613</td>\n",
       "      <td>0.004489</td>\n",
       "      <td>0.012278</td>\n",
       "      <td>0.014525</td>\n",
       "      <td>0.017829</td>\n",
       "      <td>...</td>\n",
       "      <td>0.015832</td>\n",
       "      <td>0.015677</td>\n",
       "      <td>0.007189</td>\n",
       "      <td>0.017788</td>\n",
       "      <td>0.009527</td>\n",
       "      <td>0.007595</td>\n",
       "      <td>0.010954</td>\n",
       "      <td>0.016469</td>\n",
       "      <td>0.004527</td>\n",
       "      <td>0.005296</td>\n",
       "    </tr>\n",
       "    <tr>\n",
       "      <th>981</th>\n",
       "      <td>0.003511</td>\n",
       "      <td>0.008100</td>\n",
       "      <td>0.025254</td>\n",
       "      <td>0.009503</td>\n",
       "      <td>0.037620</td>\n",
       "      <td>0.013184</td>\n",
       "      <td>0.012637</td>\n",
       "      <td>0.009581</td>\n",
       "      <td>0.007887</td>\n",
       "      <td>0.017866</td>\n",
       "      <td>...</td>\n",
       "      <td>0.015634</td>\n",
       "      <td>0.004471</td>\n",
       "      <td>0.070141</td>\n",
       "      <td>0.002560</td>\n",
       "      <td>0.010547</td>\n",
       "      <td>0.032202</td>\n",
       "      <td>0.007768</td>\n",
       "      <td>0.013911</td>\n",
       "      <td>0.019985</td>\n",
       "      <td>0.023368</td>\n",
       "    </tr>\n",
       "    <tr>\n",
       "      <th>982</th>\n",
       "      <td>0.000000</td>\n",
       "      <td>0.000000</td>\n",
       "      <td>0.000000</td>\n",
       "      <td>0.000000</td>\n",
       "      <td>0.000000</td>\n",
       "      <td>0.000000</td>\n",
       "      <td>0.000000</td>\n",
       "      <td>0.006439</td>\n",
       "      <td>0.000000</td>\n",
       "      <td>0.002168</td>\n",
       "      <td>...</td>\n",
       "      <td>0.000000</td>\n",
       "      <td>0.000000</td>\n",
       "      <td>0.000000</td>\n",
       "      <td>0.001834</td>\n",
       "      <td>0.004297</td>\n",
       "      <td>0.000000</td>\n",
       "      <td>0.000000</td>\n",
       "      <td>0.003692</td>\n",
       "      <td>0.000000</td>\n",
       "      <td>0.000000</td>\n",
       "    </tr>\n",
       "    <tr>\n",
       "      <th>983</th>\n",
       "      <td>0.008722</td>\n",
       "      <td>0.015061</td>\n",
       "      <td>0.013522</td>\n",
       "      <td>0.010571</td>\n",
       "      <td>0.006744</td>\n",
       "      <td>0.006470</td>\n",
       "      <td>0.008954</td>\n",
       "      <td>0.013496</td>\n",
       "      <td>0.007023</td>\n",
       "      <td>0.008841</td>\n",
       "      <td>...</td>\n",
       "      <td>0.009325</td>\n",
       "      <td>0.005477</td>\n",
       "      <td>0.003050</td>\n",
       "      <td>0.007521</td>\n",
       "      <td>0.010046</td>\n",
       "      <td>0.005260</td>\n",
       "      <td>0.005739</td>\n",
       "      <td>0.010184</td>\n",
       "      <td>0.002609</td>\n",
       "      <td>0.006604</td>\n",
       "    </tr>\n",
       "    <tr>\n",
       "      <th>984</th>\n",
       "      <td>0.014441</td>\n",
       "      <td>0.014108</td>\n",
       "      <td>0.043739</td>\n",
       "      <td>0.021406</td>\n",
       "      <td>0.015499</td>\n",
       "      <td>0.010308</td>\n",
       "      <td>0.007174</td>\n",
       "      <td>0.045110</td>\n",
       "      <td>0.017182</td>\n",
       "      <td>0.010931</td>\n",
       "      <td>...</td>\n",
       "      <td>0.030611</td>\n",
       "      <td>0.029189</td>\n",
       "      <td>0.010037</td>\n",
       "      <td>0.014158</td>\n",
       "      <td>0.020462</td>\n",
       "      <td>0.012004</td>\n",
       "      <td>0.020651</td>\n",
       "      <td>0.025006</td>\n",
       "      <td>0.010707</td>\n",
       "      <td>0.015237</td>\n",
       "    </tr>\n",
       "    <tr>\n",
       "      <th>985</th>\n",
       "      <td>0.011299</td>\n",
       "      <td>0.013814</td>\n",
       "      <td>0.028086</td>\n",
       "      <td>0.046124</td>\n",
       "      <td>0.007003</td>\n",
       "      <td>0.010765</td>\n",
       "      <td>0.010802</td>\n",
       "      <td>0.010696</td>\n",
       "      <td>0.010400</td>\n",
       "      <td>0.009144</td>\n",
       "      <td>...</td>\n",
       "      <td>0.018938</td>\n",
       "      <td>0.012429</td>\n",
       "      <td>0.014927</td>\n",
       "      <td>0.011728</td>\n",
       "      <td>0.008712</td>\n",
       "      <td>0.005369</td>\n",
       "      <td>0.100032</td>\n",
       "      <td>0.034756</td>\n",
       "      <td>0.003715</td>\n",
       "      <td>0.007194</td>\n",
       "    </tr>\n",
       "    <tr>\n",
       "      <th>986</th>\n",
       "      <td>0.007509</td>\n",
       "      <td>0.018454</td>\n",
       "      <td>0.013864</td>\n",
       "      <td>0.015821</td>\n",
       "      <td>0.005327</td>\n",
       "      <td>0.008527</td>\n",
       "      <td>0.014062</td>\n",
       "      <td>0.037035</td>\n",
       "      <td>0.011097</td>\n",
       "      <td>0.007404</td>\n",
       "      <td>...</td>\n",
       "      <td>0.017779</td>\n",
       "      <td>0.026774</td>\n",
       "      <td>0.013204</td>\n",
       "      <td>0.007362</td>\n",
       "      <td>0.014242</td>\n",
       "      <td>0.012760</td>\n",
       "      <td>0.027104</td>\n",
       "      <td>0.009781</td>\n",
       "      <td>0.004729</td>\n",
       "      <td>0.008701</td>\n",
       "    </tr>\n",
       "    <tr>\n",
       "      <th>987</th>\n",
       "      <td>0.009902</td>\n",
       "      <td>0.014218</td>\n",
       "      <td>0.005377</td>\n",
       "      <td>0.011105</td>\n",
       "      <td>0.004166</td>\n",
       "      <td>0.006638</td>\n",
       "      <td>0.010225</td>\n",
       "      <td>0.017329</td>\n",
       "      <td>0.008726</td>\n",
       "      <td>0.009962</td>\n",
       "      <td>...</td>\n",
       "      <td>0.007410</td>\n",
       "      <td>0.022665</td>\n",
       "      <td>0.019857</td>\n",
       "      <td>0.008678</td>\n",
       "      <td>0.025791</td>\n",
       "      <td>0.017002</td>\n",
       "      <td>0.016181</td>\n",
       "      <td>0.010019</td>\n",
       "      <td>0.014006</td>\n",
       "      <td>0.008005</td>\n",
       "    </tr>\n",
       "    <tr>\n",
       "      <th>988</th>\n",
       "      <td>0.002860</td>\n",
       "      <td>0.011601</td>\n",
       "      <td>0.027264</td>\n",
       "      <td>0.004472</td>\n",
       "      <td>0.010228</td>\n",
       "      <td>0.009590</td>\n",
       "      <td>0.009133</td>\n",
       "      <td>0.016486</td>\n",
       "      <td>0.004346</td>\n",
       "      <td>0.004346</td>\n",
       "      <td>...</td>\n",
       "      <td>0.010503</td>\n",
       "      <td>0.008476</td>\n",
       "      <td>0.013526</td>\n",
       "      <td>0.004431</td>\n",
       "      <td>0.011355</td>\n",
       "      <td>0.013226</td>\n",
       "      <td>0.007761</td>\n",
       "      <td>0.005696</td>\n",
       "      <td>0.017549</td>\n",
       "      <td>0.013802</td>\n",
       "    </tr>\n",
       "    <tr>\n",
       "      <th>989</th>\n",
       "      <td>0.022378</td>\n",
       "      <td>0.011796</td>\n",
       "      <td>0.039465</td>\n",
       "      <td>0.016096</td>\n",
       "      <td>0.010164</td>\n",
       "      <td>0.012404</td>\n",
       "      <td>0.024392</td>\n",
       "      <td>0.025727</td>\n",
       "      <td>0.010568</td>\n",
       "      <td>0.012238</td>\n",
       "      <td>...</td>\n",
       "      <td>0.024324</td>\n",
       "      <td>0.037063</td>\n",
       "      <td>0.015724</td>\n",
       "      <td>0.030620</td>\n",
       "      <td>0.018306</td>\n",
       "      <td>0.010708</td>\n",
       "      <td>0.025229</td>\n",
       "      <td>0.010973</td>\n",
       "      <td>0.009599</td>\n",
       "      <td>0.013676</td>\n",
       "    </tr>\n",
       "    <tr>\n",
       "      <th>99</th>\n",
       "      <td>0.007429</td>\n",
       "      <td>0.005828</td>\n",
       "      <td>0.024114</td>\n",
       "      <td>0.006961</td>\n",
       "      <td>0.014845</td>\n",
       "      <td>0.014686</td>\n",
       "      <td>0.027022</td>\n",
       "      <td>0.012402</td>\n",
       "      <td>0.007944</td>\n",
       "      <td>0.010018</td>\n",
       "      <td>...</td>\n",
       "      <td>0.012748</td>\n",
       "      <td>0.007495</td>\n",
       "      <td>0.012009</td>\n",
       "      <td>0.008529</td>\n",
       "      <td>0.009341</td>\n",
       "      <td>0.004945</td>\n",
       "      <td>0.008562</td>\n",
       "      <td>0.014239</td>\n",
       "      <td>0.001918</td>\n",
       "      <td>0.032597</td>\n",
       "    </tr>\n",
       "    <tr>\n",
       "      <th>990</th>\n",
       "      <td>0.011846</td>\n",
       "      <td>0.013249</td>\n",
       "      <td>0.042228</td>\n",
       "      <td>0.034581</td>\n",
       "      <td>0.009151</td>\n",
       "      <td>0.015545</td>\n",
       "      <td>0.027237</td>\n",
       "      <td>0.013786</td>\n",
       "      <td>0.011095</td>\n",
       "      <td>0.006813</td>\n",
       "      <td>...</td>\n",
       "      <td>1.000000</td>\n",
       "      <td>0.011686</td>\n",
       "      <td>0.020587</td>\n",
       "      <td>0.007312</td>\n",
       "      <td>0.008677</td>\n",
       "      <td>0.022572</td>\n",
       "      <td>0.012851</td>\n",
       "      <td>0.007790</td>\n",
       "      <td>0.022799</td>\n",
       "      <td>0.019821</td>\n",
       "    </tr>\n",
       "    <tr>\n",
       "      <th>991</th>\n",
       "      <td>0.008216</td>\n",
       "      <td>0.017382</td>\n",
       "      <td>0.001339</td>\n",
       "      <td>0.014664</td>\n",
       "      <td>0.002705</td>\n",
       "      <td>0.013500</td>\n",
       "      <td>0.018090</td>\n",
       "      <td>0.027088</td>\n",
       "      <td>0.013903</td>\n",
       "      <td>0.011289</td>\n",
       "      <td>...</td>\n",
       "      <td>0.011686</td>\n",
       "      <td>1.000000</td>\n",
       "      <td>0.009799</td>\n",
       "      <td>0.011033</td>\n",
       "      <td>0.011231</td>\n",
       "      <td>0.010901</td>\n",
       "      <td>0.014255</td>\n",
       "      <td>0.011695</td>\n",
       "      <td>0.009130</td>\n",
       "      <td>0.006606</td>\n",
       "    </tr>\n",
       "    <tr>\n",
       "      <th>992</th>\n",
       "      <td>0.011399</td>\n",
       "      <td>0.007149</td>\n",
       "      <td>0.009732</td>\n",
       "      <td>0.008955</td>\n",
       "      <td>0.014901</td>\n",
       "      <td>0.031731</td>\n",
       "      <td>0.007262</td>\n",
       "      <td>0.012796</td>\n",
       "      <td>0.015171</td>\n",
       "      <td>0.014773</td>\n",
       "      <td>...</td>\n",
       "      <td>0.020587</td>\n",
       "      <td>0.009799</td>\n",
       "      <td>1.000000</td>\n",
       "      <td>0.006303</td>\n",
       "      <td>0.029171</td>\n",
       "      <td>0.049719</td>\n",
       "      <td>0.012454</td>\n",
       "      <td>0.016395</td>\n",
       "      <td>0.021066</td>\n",
       "      <td>0.012125</td>\n",
       "    </tr>\n",
       "    <tr>\n",
       "      <th>993</th>\n",
       "      <td>0.005237</td>\n",
       "      <td>0.007385</td>\n",
       "      <td>0.007993</td>\n",
       "      <td>0.009943</td>\n",
       "      <td>0.004565</td>\n",
       "      <td>0.008173</td>\n",
       "      <td>0.006958</td>\n",
       "      <td>0.010316</td>\n",
       "      <td>0.006398</td>\n",
       "      <td>0.010392</td>\n",
       "      <td>...</td>\n",
       "      <td>0.007312</td>\n",
       "      <td>0.011033</td>\n",
       "      <td>0.006303</td>\n",
       "      <td>1.000000</td>\n",
       "      <td>0.007187</td>\n",
       "      <td>0.003555</td>\n",
       "      <td>0.015352</td>\n",
       "      <td>0.020159</td>\n",
       "      <td>0.003244</td>\n",
       "      <td>0.004920</td>\n",
       "    </tr>\n",
       "    <tr>\n",
       "      <th>994</th>\n",
       "      <td>0.007315</td>\n",
       "      <td>0.011362</td>\n",
       "      <td>0.013280</td>\n",
       "      <td>0.010786</td>\n",
       "      <td>0.016529</td>\n",
       "      <td>0.010223</td>\n",
       "      <td>0.008695</td>\n",
       "      <td>0.018577</td>\n",
       "      <td>0.006556</td>\n",
       "      <td>0.007992</td>\n",
       "      <td>...</td>\n",
       "      <td>0.008677</td>\n",
       "      <td>0.011231</td>\n",
       "      <td>0.029171</td>\n",
       "      <td>0.007187</td>\n",
       "      <td>1.000000</td>\n",
       "      <td>0.005816</td>\n",
       "      <td>0.013668</td>\n",
       "      <td>0.010266</td>\n",
       "      <td>0.008074</td>\n",
       "      <td>0.005890</td>\n",
       "    </tr>\n",
       "    <tr>\n",
       "      <th>995</th>\n",
       "      <td>0.006427</td>\n",
       "      <td>0.004854</td>\n",
       "      <td>0.009319</td>\n",
       "      <td>0.008122</td>\n",
       "      <td>0.044348</td>\n",
       "      <td>0.007692</td>\n",
       "      <td>0.009016</td>\n",
       "      <td>0.009816</td>\n",
       "      <td>0.006096</td>\n",
       "      <td>0.007115</td>\n",
       "      <td>...</td>\n",
       "      <td>0.022572</td>\n",
       "      <td>0.010901</td>\n",
       "      <td>0.049719</td>\n",
       "      <td>0.003555</td>\n",
       "      <td>0.005816</td>\n",
       "      <td>1.000000</td>\n",
       "      <td>0.013595</td>\n",
       "      <td>0.009792</td>\n",
       "      <td>0.023676</td>\n",
       "      <td>0.012702</td>\n",
       "    </tr>\n",
       "    <tr>\n",
       "      <th>996</th>\n",
       "      <td>0.008360</td>\n",
       "      <td>0.019540</td>\n",
       "      <td>0.021211</td>\n",
       "      <td>0.021269</td>\n",
       "      <td>0.009097</td>\n",
       "      <td>0.015265</td>\n",
       "      <td>0.010088</td>\n",
       "      <td>0.023062</td>\n",
       "      <td>0.010419</td>\n",
       "      <td>0.015426</td>\n",
       "      <td>...</td>\n",
       "      <td>0.012851</td>\n",
       "      <td>0.014255</td>\n",
       "      <td>0.012454</td>\n",
       "      <td>0.015352</td>\n",
       "      <td>0.013668</td>\n",
       "      <td>0.013595</td>\n",
       "      <td>1.000000</td>\n",
       "      <td>0.023769</td>\n",
       "      <td>0.009953</td>\n",
       "      <td>0.010390</td>\n",
       "    </tr>\n",
       "    <tr>\n",
       "      <th>997</th>\n",
       "      <td>0.006734</td>\n",
       "      <td>0.013429</td>\n",
       "      <td>0.006464</td>\n",
       "      <td>0.020851</td>\n",
       "      <td>0.007988</td>\n",
       "      <td>0.008178</td>\n",
       "      <td>0.012814</td>\n",
       "      <td>0.009664</td>\n",
       "      <td>0.014563</td>\n",
       "      <td>0.007499</td>\n",
       "      <td>...</td>\n",
       "      <td>0.007790</td>\n",
       "      <td>0.011695</td>\n",
       "      <td>0.016395</td>\n",
       "      <td>0.020159</td>\n",
       "      <td>0.010266</td>\n",
       "      <td>0.009792</td>\n",
       "      <td>0.023769</td>\n",
       "      <td>1.000000</td>\n",
       "      <td>0.004300</td>\n",
       "      <td>0.014436</td>\n",
       "    </tr>\n",
       "    <tr>\n",
       "      <th>998</th>\n",
       "      <td>0.002983</td>\n",
       "      <td>0.000961</td>\n",
       "      <td>0.023891</td>\n",
       "      <td>0.005010</td>\n",
       "      <td>0.014264</td>\n",
       "      <td>0.010762</td>\n",
       "      <td>0.011469</td>\n",
       "      <td>0.007165</td>\n",
       "      <td>0.004381</td>\n",
       "      <td>0.003727</td>\n",
       "      <td>...</td>\n",
       "      <td>0.022799</td>\n",
       "      <td>0.009130</td>\n",
       "      <td>0.021066</td>\n",
       "      <td>0.003244</td>\n",
       "      <td>0.008074</td>\n",
       "      <td>0.023676</td>\n",
       "      <td>0.009953</td>\n",
       "      <td>0.004300</td>\n",
       "      <td>1.000000</td>\n",
       "      <td>0.012729</td>\n",
       "    </tr>\n",
       "    <tr>\n",
       "      <th>999</th>\n",
       "      <td>0.006313</td>\n",
       "      <td>0.004964</td>\n",
       "      <td>0.016957</td>\n",
       "      <td>0.009184</td>\n",
       "      <td>0.025655</td>\n",
       "      <td>0.013937</td>\n",
       "      <td>0.015597</td>\n",
       "      <td>0.012340</td>\n",
       "      <td>0.005944</td>\n",
       "      <td>0.018923</td>\n",
       "      <td>...</td>\n",
       "      <td>0.019821</td>\n",
       "      <td>0.006606</td>\n",
       "      <td>0.012125</td>\n",
       "      <td>0.004920</td>\n",
       "      <td>0.005890</td>\n",
       "      <td>0.012702</td>\n",
       "      <td>0.010390</td>\n",
       "      <td>0.014436</td>\n",
       "      <td>0.012729</td>\n",
       "      <td>1.000000</td>\n",
       "    </tr>\n",
       "  </tbody>\n",
       "</table>\n",
       "<p>4037 rows × 4037 columns</p>\n",
       "</div>"
      ],
      "text/plain": [
       "          1         10        100       1000      1001      1002      1003  \\\n",
       "1     1.000000  0.013110  0.025153  0.016308  0.011577  0.007299  0.010271   \n",
       "10    0.013110  1.000000  0.009444  0.012178  0.004680  0.005145  0.009484   \n",
       "100   0.025153  0.009444  1.000000  0.016322  0.059142  0.027863  0.014048   \n",
       "1000  0.016308  0.012178  0.016322  1.000000  0.004812  0.024725  0.011021   \n",
       "1001  0.011577  0.004680  0.059142  0.004812  1.000000  0.006460  0.007578   \n",
       "1002  0.007299  0.005145  0.027863  0.024725  0.006460  1.000000  0.006180   \n",
       "1003  0.010271  0.009484  0.014048  0.011021  0.007578  0.006180  1.000000   \n",
       "1004  0.010509  0.008657  0.036151  0.018253  0.032768  0.015325  0.009379   \n",
       "1005  0.006320  0.011202  0.007757  0.011957  0.004027  0.006960  0.007544   \n",
       "1006  0.009129  0.007491  0.006688  0.012848  0.009007  0.030447  0.010232   \n",
       "1007  0.012161  0.006834  0.031098  0.019809  0.016764  0.008200  0.005869   \n",
       "1008  0.005168  0.017228  0.004783  0.014488  0.003851  0.007814  0.025487   \n",
       "1009  0.006860  0.006283  0.002877  0.010189  0.008098  0.005978  0.008856   \n",
       "101   0.007217  0.006228  0.016035  0.013586  0.006717  0.004289  0.014910   \n",
       "1010  0.012828  0.011837  0.005898  0.011563  0.002839  0.007153  0.011027   \n",
       "1011  0.002369  0.007200  0.004407  0.014103  0.060245  0.012932  0.013007   \n",
       "1012  0.002352  0.005225  0.004948  0.003813  0.019987  0.005936  0.005744   \n",
       "1013  0.009021  0.008068  0.009987  0.013779  0.005803  0.008468  0.014385   \n",
       "1014  0.006049  0.003348  0.042446  0.008618  0.028980  0.018278  0.010611   \n",
       "1015  0.011783  0.028707  0.004563  0.024459  0.007988  0.012881  0.014013   \n",
       "1016  0.006527  0.011595  0.007311  0.012065  0.009269  0.017188  0.013721   \n",
       "1017  0.013588  0.004501  0.004908  0.012455  0.005210  0.014692  0.012983   \n",
       "1018  0.004493  0.005355  0.075642  0.008378  0.028305  0.027055  0.011851   \n",
       "1019  0.008922  0.001772  0.088560  0.008358  0.029135  0.023489  0.017657   \n",
       "102   0.010463  0.016268  0.008494  0.012740  0.017658  0.005935  0.008634   \n",
       "1020  0.004388  0.010141  0.007081  0.011539  0.010282  0.004343  0.007069   \n",
       "1021  0.005920  0.019551  0.007954  0.017934  0.021514  0.009532  0.013417   \n",
       "1022  0.008803  0.008500  0.015811  0.025692  0.010491  0.011157  0.027993   \n",
       "1023  0.009560  0.015559  0.029976  0.014922  0.013450  0.011879  0.014758   \n",
       "1024  0.006224  0.011056  0.013350  0.014525  0.006918  0.013057  0.007531   \n",
       "...        ...       ...       ...       ...       ...       ...       ...   \n",
       "972   0.009681  0.007004  0.004076  0.013946  0.009610  0.006150  0.016548   \n",
       "973   0.010037  0.010688  0.030123  0.005557  0.045752  0.000975  0.001440   \n",
       "974   0.003963  0.004449  0.005801  0.007455  0.001955  0.006100  0.006789   \n",
       "975   0.001507  0.005981  0.005906  0.001234  0.003822  0.010084  0.003405   \n",
       "976   0.005268  0.007586  0.005233  0.013073  0.018016  0.005943  0.009229   \n",
       "977   0.002228  0.020208  0.003584  0.011665  0.007240  0.007243  0.009560   \n",
       "978   0.014239  0.013449  0.055582  0.017650  0.055002  0.063739  0.010727   \n",
       "979   0.011750  0.008395  0.009136  0.013261  0.002887  0.006216  0.010433   \n",
       "98    0.002561  0.009913  0.004767  0.010953  0.025717  0.005133  0.017264   \n",
       "980   0.006966  0.080107  0.021908  0.013319  0.006779  0.006613  0.004489   \n",
       "981   0.003511  0.008100  0.025254  0.009503  0.037620  0.013184  0.012637   \n",
       "982   0.000000  0.000000  0.000000  0.000000  0.000000  0.000000  0.000000   \n",
       "983   0.008722  0.015061  0.013522  0.010571  0.006744  0.006470  0.008954   \n",
       "984   0.014441  0.014108  0.043739  0.021406  0.015499  0.010308  0.007174   \n",
       "985   0.011299  0.013814  0.028086  0.046124  0.007003  0.010765  0.010802   \n",
       "986   0.007509  0.018454  0.013864  0.015821  0.005327  0.008527  0.014062   \n",
       "987   0.009902  0.014218  0.005377  0.011105  0.004166  0.006638  0.010225   \n",
       "988   0.002860  0.011601  0.027264  0.004472  0.010228  0.009590  0.009133   \n",
       "989   0.022378  0.011796  0.039465  0.016096  0.010164  0.012404  0.024392   \n",
       "99    0.007429  0.005828  0.024114  0.006961  0.014845  0.014686  0.027022   \n",
       "990   0.011846  0.013249  0.042228  0.034581  0.009151  0.015545  0.027237   \n",
       "991   0.008216  0.017382  0.001339  0.014664  0.002705  0.013500  0.018090   \n",
       "992   0.011399  0.007149  0.009732  0.008955  0.014901  0.031731  0.007262   \n",
       "993   0.005237  0.007385  0.007993  0.009943  0.004565  0.008173  0.006958   \n",
       "994   0.007315  0.011362  0.013280  0.010786  0.016529  0.010223  0.008695   \n",
       "995   0.006427  0.004854  0.009319  0.008122  0.044348  0.007692  0.009016   \n",
       "996   0.008360  0.019540  0.021211  0.021269  0.009097  0.015265  0.010088   \n",
       "997   0.006734  0.013429  0.006464  0.020851  0.007988  0.008178  0.012814   \n",
       "998   0.002983  0.000961  0.023891  0.005010  0.014264  0.010762  0.011469   \n",
       "999   0.006313  0.004964  0.016957  0.009184  0.025655  0.013937  0.015597   \n",
       "\n",
       "          1004      1005      1006    ...         990       991       992   \\\n",
       "1     0.010509  0.006320  0.009129    ...     0.011846  0.008216  0.011399   \n",
       "10    0.008657  0.011202  0.007491    ...     0.013249  0.017382  0.007149   \n",
       "100   0.036151  0.007757  0.006688    ...     0.042228  0.001339  0.009732   \n",
       "1000  0.018253  0.011957  0.012848    ...     0.034581  0.014664  0.008955   \n",
       "1001  0.032768  0.004027  0.009007    ...     0.009151  0.002705  0.014901   \n",
       "1002  0.015325  0.006960  0.030447    ...     0.015545  0.013500  0.031731   \n",
       "1003  0.009379  0.007544  0.010232    ...     0.027237  0.018090  0.007262   \n",
       "1004  1.000000  0.013861  0.013198    ...     0.013786  0.027088  0.012796   \n",
       "1005  0.013861  1.000000  0.018479    ...     0.011095  0.013903  0.015171   \n",
       "1006  0.013198  0.018479  1.000000    ...     0.006813  0.011289  0.014773   \n",
       "1007  0.028042  0.008751  0.008400    ...     0.011436  0.028734  0.010079   \n",
       "1008  0.013173  0.012126  0.008498    ...     0.015284  0.016052  0.006531   \n",
       "1009  0.014339  0.005008  0.005503    ...     0.007776  0.011979  0.006603   \n",
       "101   0.016476  0.007636  0.007138    ...     0.014681  0.011602  0.012217   \n",
       "1010  0.013573  0.008332  0.008729    ...     0.009084  0.016495  0.007124   \n",
       "1011  0.011664  0.008578  0.006249    ...     0.018062  0.004450  0.015288   \n",
       "1012  0.010136  0.011901  0.005184    ...     0.010874  0.007182  0.019121   \n",
       "1013  0.013991  0.012237  0.006871    ...     0.033674  0.019053  0.005138   \n",
       "1014  0.016392  0.016902  0.017354    ...     0.036515  0.008566  0.037426   \n",
       "1015  0.018540  0.013141  0.022323    ...     0.005712  0.020606  0.023503   \n",
       "1016  0.016822  0.009899  0.023049    ...     0.021691  0.022327  0.018246   \n",
       "1017  0.008832  0.012551  0.005058    ...     0.008093  0.017537  0.013004   \n",
       "1018  0.022230  0.008660  0.006233    ...     0.044089  0.012935  0.072491   \n",
       "1019  0.021178  0.004580  0.012630    ...     0.023838  0.008846  0.039326   \n",
       "102   0.013455  0.005932  0.009994    ...     0.009232  0.016796  0.007441   \n",
       "1020  0.009985  0.007576  0.009854    ...     0.019900  0.006346  0.008514   \n",
       "1021  0.012348  0.007245  0.010113    ...     0.017899  0.012090  0.024922   \n",
       "1022  0.026839  0.012209  0.008641    ...     0.035492  0.026227  0.020864   \n",
       "1023  0.034183  0.016698  0.015088    ...     0.013746  0.034001  0.020833   \n",
       "1024  0.017613  0.010216  0.016489    ...     0.015705  0.018229  0.023846   \n",
       "...        ...       ...       ...    ...          ...       ...       ...   \n",
       "972   0.011914  0.005906  0.004668    ...     0.008714  0.012380  0.019007   \n",
       "973   0.017814  0.005781  0.004993    ...     0.020029  0.012042  0.028064   \n",
       "974   0.006730  0.004720  0.007324    ...     0.009394  0.006527  0.006378   \n",
       "975   0.002593  0.002076  0.005428    ...     0.010683  0.001684  0.017859   \n",
       "976   0.014910  0.012079  0.009841    ...     0.005081  0.012100  0.019569   \n",
       "977   0.004291  0.008988  0.008407    ...     0.013713  0.011757  0.038156   \n",
       "978   0.113403  0.010396  0.022355    ...     0.020644  0.030905  0.018480   \n",
       "979   0.012739  0.006609  0.004368    ...     0.010544  0.006378  0.006639   \n",
       "98    0.003866  0.002850  0.003310    ...     0.010271  0.008750  0.014393   \n",
       "980   0.012278  0.014525  0.017829    ...     0.015832  0.015677  0.007189   \n",
       "981   0.009581  0.007887  0.017866    ...     0.015634  0.004471  0.070141   \n",
       "982   0.006439  0.000000  0.002168    ...     0.000000  0.000000  0.000000   \n",
       "983   0.013496  0.007023  0.008841    ...     0.009325  0.005477  0.003050   \n",
       "984   0.045110  0.017182  0.010931    ...     0.030611  0.029189  0.010037   \n",
       "985   0.010696  0.010400  0.009144    ...     0.018938  0.012429  0.014927   \n",
       "986   0.037035  0.011097  0.007404    ...     0.017779  0.026774  0.013204   \n",
       "987   0.017329  0.008726  0.009962    ...     0.007410  0.022665  0.019857   \n",
       "988   0.016486  0.004346  0.004346    ...     0.010503  0.008476  0.013526   \n",
       "989   0.025727  0.010568  0.012238    ...     0.024324  0.037063  0.015724   \n",
       "99    0.012402  0.007944  0.010018    ...     0.012748  0.007495  0.012009   \n",
       "990   0.013786  0.011095  0.006813    ...     1.000000  0.011686  0.020587   \n",
       "991   0.027088  0.013903  0.011289    ...     0.011686  1.000000  0.009799   \n",
       "992   0.012796  0.015171  0.014773    ...     0.020587  0.009799  1.000000   \n",
       "993   0.010316  0.006398  0.010392    ...     0.007312  0.011033  0.006303   \n",
       "994   0.018577  0.006556  0.007992    ...     0.008677  0.011231  0.029171   \n",
       "995   0.009816  0.006096  0.007115    ...     0.022572  0.010901  0.049719   \n",
       "996   0.023062  0.010419  0.015426    ...     0.012851  0.014255  0.012454   \n",
       "997   0.009664  0.014563  0.007499    ...     0.007790  0.011695  0.016395   \n",
       "998   0.007165  0.004381  0.003727    ...     0.022799  0.009130  0.021066   \n",
       "999   0.012340  0.005944  0.018923    ...     0.019821  0.006606  0.012125   \n",
       "\n",
       "          993       994       995       996       997       998       999   \n",
       "1     0.005237  0.007315  0.006427  0.008360  0.006734  0.002983  0.006313  \n",
       "10    0.007385  0.011362  0.004854  0.019540  0.013429  0.000961  0.004964  \n",
       "100   0.007993  0.013280  0.009319  0.021211  0.006464  0.023891  0.016957  \n",
       "1000  0.009943  0.010786  0.008122  0.021269  0.020851  0.005010  0.009184  \n",
       "1001  0.004565  0.016529  0.044348  0.009097  0.007988  0.014264  0.025655  \n",
       "1002  0.008173  0.010223  0.007692  0.015265  0.008178  0.010762  0.013937  \n",
       "1003  0.006958  0.008695  0.009016  0.010088  0.012814  0.011469  0.015597  \n",
       "1004  0.010316  0.018577  0.009816  0.023062  0.009664  0.007165  0.012340  \n",
       "1005  0.006398  0.006556  0.006096  0.010419  0.014563  0.004381  0.005944  \n",
       "1006  0.010392  0.007992  0.007115  0.015426  0.007499  0.003727  0.018923  \n",
       "1007  0.010203  0.015886  0.009649  0.015464  0.016156  0.005658  0.009214  \n",
       "1008  0.011101  0.012965  0.012294  0.010587  0.025293  0.005867  0.008411  \n",
       "1009  0.004717  0.011319  0.003092  0.008724  0.007147  0.003291  0.007802  \n",
       "101   0.006177  0.007519  0.005455  0.030210  0.017575  0.004849  0.006820  \n",
       "1010  0.008898  0.013040  0.068299  0.227024  0.019285  0.003313  0.010485  \n",
       "1011  0.003126  0.007379  0.033813  0.064706  0.008954  0.021246  0.038163  \n",
       "1012  0.002146  0.003189  0.018820  0.006491  0.007848  0.017821  0.007116  \n",
       "1013  0.007971  0.011728  0.005330  0.012311  0.009149  0.009674  0.011986  \n",
       "1014  0.006288  0.008666  0.042064  0.008627  0.010843  0.074431  0.024254  \n",
       "1015  0.012402  0.013998  0.008953  0.024374  0.024874  0.006722  0.037532  \n",
       "1016  0.010195  0.014925  0.006491  0.044771  0.018244  0.007313  0.010776  \n",
       "1017  0.007723  0.010609  0.009309  0.014489  0.016842  0.007471  0.006688  \n",
       "1018  0.010983  0.004716  0.041748  0.029477  0.008897  0.042779  0.028337  \n",
       "1019  0.005078  0.008329  0.052986  0.009593  0.008595  0.043998  0.015136  \n",
       "102   0.010053  0.012698  0.008732  0.011629  0.012894  0.002869  0.005706  \n",
       "1020  0.006933  0.007544  0.008791  0.020743  0.008000  0.007817  0.013425  \n",
       "1021  0.005618  0.011920  0.017158  0.017860  0.013307  0.007110  0.011921  \n",
       "1022  0.009336  0.016479  0.012327  0.014059  0.011805  0.008456  0.019621  \n",
       "1023  0.014689  0.016682  0.094306  0.017457  0.017915  0.010469  0.013110  \n",
       "1024  0.005708  0.014373  0.014641  0.011403  0.012598  0.013830  0.017007  \n",
       "...        ...       ...       ...       ...       ...       ...       ...  \n",
       "972   0.006320  0.008868  0.005235  0.009105  0.009410  0.003878  0.002750  \n",
       "973   0.006425  0.005003  0.018431  0.008652  0.001164  0.002068  0.018205  \n",
       "974   0.005327  0.007554  0.003799  0.010164  0.006539  0.002262  0.013221  \n",
       "975   0.000995  0.001915  0.019017  0.007463  0.009032  0.007086  0.019333  \n",
       "976   0.014382  0.007257  0.008127  0.012450  0.006839  0.006722  0.010612  \n",
       "977   0.003220  0.005177  0.023172  0.010399  0.014328  0.010987  0.006924  \n",
       "978   0.010765  0.068439  0.034871  0.022447  0.009205  0.010526  0.012282  \n",
       "979   0.007573  0.004963  0.003374  0.039228  0.046103  0.010677  0.017898  \n",
       "98    0.002136  0.006481  0.013842  0.006647  0.006819  0.003165  0.003714  \n",
       "980   0.017788  0.009527  0.007595  0.010954  0.016469  0.004527  0.005296  \n",
       "981   0.002560  0.010547  0.032202  0.007768  0.013911  0.019985  0.023368  \n",
       "982   0.001834  0.004297  0.000000  0.000000  0.003692  0.000000  0.000000  \n",
       "983   0.007521  0.010046  0.005260  0.005739  0.010184  0.002609  0.006604  \n",
       "984   0.014158  0.020462  0.012004  0.020651  0.025006  0.010707  0.015237  \n",
       "985   0.011728  0.008712  0.005369  0.100032  0.034756  0.003715  0.007194  \n",
       "986   0.007362  0.014242  0.012760  0.027104  0.009781  0.004729  0.008701  \n",
       "987   0.008678  0.025791  0.017002  0.016181  0.010019  0.014006  0.008005  \n",
       "988   0.004431  0.011355  0.013226  0.007761  0.005696  0.017549  0.013802  \n",
       "989   0.030620  0.018306  0.010708  0.025229  0.010973  0.009599  0.013676  \n",
       "99    0.008529  0.009341  0.004945  0.008562  0.014239  0.001918  0.032597  \n",
       "990   0.007312  0.008677  0.022572  0.012851  0.007790  0.022799  0.019821  \n",
       "991   0.011033  0.011231  0.010901  0.014255  0.011695  0.009130  0.006606  \n",
       "992   0.006303  0.029171  0.049719  0.012454  0.016395  0.021066  0.012125  \n",
       "993   1.000000  0.007187  0.003555  0.015352  0.020159  0.003244  0.004920  \n",
       "994   0.007187  1.000000  0.005816  0.013668  0.010266  0.008074  0.005890  \n",
       "995   0.003555  0.005816  1.000000  0.013595  0.009792  0.023676  0.012702  \n",
       "996   0.015352  0.013668  0.013595  1.000000  0.023769  0.009953  0.010390  \n",
       "997   0.020159  0.010266  0.009792  0.023769  1.000000  0.004300  0.014436  \n",
       "998   0.003244  0.008074  0.023676  0.009953  0.004300  1.000000  0.012729  \n",
       "999   0.004920  0.005890  0.012702  0.010390  0.014436  0.012729  1.000000  \n",
       "\n",
       "[4037 rows x 4037 columns]"
      ]
     },
     "metadata": {},
     "output_type": "display_data"
    }
   ],
   "source": [
    "display(cos_sim_df)"
   ]
  },
  {
   "cell_type": "markdown",
   "metadata": {},
   "source": [
    "We can see that the cosine similarity matrix has 4037 rows and 4037 columns, and the elements represent the cosine similarity between each pair of movies. The diagonal elements of this matrix will be 1 since similarity score between the same move is always 1."
   ]
  },
  {
   "cell_type": "markdown",
   "metadata": {},
   "source": [
    "## Getting recommendations\n",
    "\n",
    "Let us build the required functions to make movie recommendations, given that the user has liked a movie."
   ]
  },
  {
   "cell_type": "code",
   "execution_count": 19,
   "metadata": {},
   "outputs": [
    {
     "data": {
      "text/html": [
       "<div>\n",
       "<style>\n",
       "    .dataframe thead tr:only-child th {\n",
       "        text-align: right;\n",
       "    }\n",
       "\n",
       "    .dataframe thead th {\n",
       "        text-align: left;\n",
       "    }\n",
       "\n",
       "    .dataframe tbody tr th {\n",
       "        vertical-align: top;\n",
       "    }\n",
       "</style>\n",
       "<table border=\"1\" class=\"dataframe\">\n",
       "  <thead>\n",
       "    <tr style=\"text-align: right;\">\n",
       "      <th></th>\n",
       "      <th>Movie_ID</th>\n",
       "      <th>Plot</th>\n",
       "    </tr>\n",
       "  </thead>\n",
       "  <tbody>\n",
       "    <tr>\n",
       "      <th>0</th>\n",
       "      <td>1</td>\n",
       "      <td>102 dalmatians 2000 american family comedy fil...</td>\n",
       "    </tr>\n",
       "    <tr>\n",
       "      <th>1</th>\n",
       "      <td>10</td>\n",
       "      <td>american psycho 2000 american black comedy hor...</td>\n",
       "    </tr>\n",
       "    <tr>\n",
       "      <th>2</th>\n",
       "      <td>100</td>\n",
       "      <td>legacy 2000 american documentary film directed...</td>\n",
       "    </tr>\n",
       "    <tr>\n",
       "      <th>3</th>\n",
       "      <td>1000</td>\n",
       "      <td>lemony snicket series unfortunate events 2004 ...</td>\n",
       "    </tr>\n",
       "    <tr>\n",
       "      <th>4</th>\n",
       "      <td>1001</td>\n",
       "      <td>life death peter sellers 2004 british-american...</td>\n",
       "    </tr>\n",
       "  </tbody>\n",
       "</table>\n",
       "</div>"
      ],
      "text/plain": [
       "   Movie_ID                                               Plot\n",
       "0         1  102 dalmatians 2000 american family comedy fil...\n",
       "1        10  american psycho 2000 american black comedy hor...\n",
       "2       100  legacy 2000 american documentary film directed...\n",
       "3      1000  lemony snicket series unfortunate events 2004 ...\n",
       "4      1001  life death peter sellers 2004 british-american..."
      ]
     },
     "execution_count": 19,
     "metadata": {},
     "output_type": "execute_result"
    }
   ],
   "source": [
    "df.head()"
   ]
  },
  {
   "cell_type": "code",
   "execution_count": 33,
   "metadata": {},
   "outputs": [],
   "source": [
    "#Get the mapping between available Movie plots and movie IDs\n",
    "Movie_Map=pd.merge(URL[[\"Movie\",\"Movie_ID\"]],df,how='inner',on=[\"Movie_ID\"])[[\"Movie\",\"Movie_ID\",\"Plot\"]]\n",
    "#display(Movie_Map.head())\n",
    "def Get_Recommendations(Movie_ID,cos_sim_df):\n",
    "    recommended_idx=np.argpartition(np.array(cos_sim_df[Movie_ID].tolist()), -6)[-6:]\n",
    "    #print(np.array(cos_sim_df[Movie_ID].tolist())[recommended_idx])\n",
    "    Recommended_Movie_IDs = cos_sim_df.columns[recommended_idx].tolist()\n",
    "    #return Recommended_Movie_IDs\n",
    "    return dict(zip(Recommended_Movie_IDs,np.array(cos_sim_df[Movie_ID].tolist())[recommended_idx]))\n",
    "\n",
    "def Get_Available_Images():\n",
    "    \n",
    "    image_files = os.listdir(\"./images\")\n",
    "    #Make sure that we are dealing with movie data files only\n",
    "    image_files = [i for i in image_files if re.search('[1-9]*\\.jpg',i)]\n",
    "    y = list()\n",
    "    for i in image_files:\n",
    "        y.append(int(i.split(\".\")[0]))\n",
    "    return y\n",
    "\n",
    "def Display_Recommendations(Recommended_Movies_Dict,Movie_Map,Source_Movie_ID):\n",
    "    #The following statement will make sure that we sort the movies in the descending order of similarity\n",
    "    Recommended_Movies = pd.DataFrame(sorted(Recommended_Movies_Dict.items(), key=lambda x: -x[1]))[0].tolist()\n",
    "    \n",
    "    #Delete the liked movie from the list\n",
    "    Recommended_Movies = Recommended_Movies[1:]\n",
    "    \n",
    "    Recommended_Movies_Plot = dict()\n",
    "    for i in Recommended_Movies:\n",
    "        Recommended_Movies_Plot[i] = Movie_Map[Movie_Map[\"Movie_ID\"] == i][\"Plot\"].tolist()[0]\n",
    "    \n",
    "    #Recommended_Movies=list(Recommended_Movies_Dict.keys())\n",
    "    #Movie_Map[Movie_Map[\"Movie_ID\"].isin(Recommended_Movies)][\"Movie_ID\"].tolist()\n",
    "    Available_Images_List = Get_Available_Images()\n",
    "    Source_Movie_Name = Movie_Map[Movie_Map[\"Movie_ID\"] == Source_Movie_ID][\"Movie\"].tolist()[0]\n",
    "    Source_Plot = Movie_Map[Movie_Map[\"Movie_ID\"] == Source_Movie_ID][\"Plot\"].tolist()[0]\n",
    "    print(\"Assuming that the user liked {}:\".format(Source_Movie_Name))\n",
    "    \n",
    "    #Recommended_Movies = list(set(Recommended_Movies) - set([Source_Movie_ID]))\n",
    "    \n",
    "    if Source_Movie_ID in Available_Images_List:\n",
    "        #print(\"The user has liked {}\".format(Source_Movie_Name))\n",
    "        display(HTML(\"<table><tr><td><img src='./images/\"+str(Source_Movie_ID)+\".jpg' title='\"+str(Source_Plot)+\"'></td></tr></table>\" \\\n",
    "            ))        \n",
    "        \n",
    "    display_html = \"\"\n",
    "    display_values = \"\"\n",
    "    for i in Recommended_Movies:\n",
    "        if i in Available_Images_List:\n",
    "            display_html = display_html + \"<td><img src='./images/\"+str(i)+\".jpg' title='\"+str(Recommended_Movies_Plot[i])+\"'></td>\"\n",
    "            display_values = display_values + \"<td> Similarity:\"+str(Recommended_Movies_Dict[i])+\"</td>\"\n",
    "    print(\"The following movies are recommended:\")        \n",
    "    display(HTML(\"<table><tr>\"+display_html+\"</tr><tr>\"+display_values+\"</tr></table>\" \\\n",
    "            ))        \n",
    "    #return display_html            \n",
    "    #Get available images for movies:"
   ]
  },
  {
   "cell_type": "markdown",
   "metadata": {},
   "source": [
    "### Demonstration of the system\n",
    "We will get recommended movies given that the user has liked some movies. The cosine similarity measure is also displayed, along with the movie recommendations. The recommended movies are sorted in the descending order of similarity score. Also the top 5 movies are displayed. At some places you may find less than 5 movies, since we avoided the display of the movie, if an associated image is not available (as the web robot did not download the picture due to unavailability or some other reason):"
   ]
  },
  {
   "cell_type": "code",
   "execution_count": 34,
   "metadata": {},
   "outputs": [
    {
     "name": "stdout",
     "output_type": "stream",
     "text": [
      "Assuming that the user liked X-Men: Apocalypse:\n"
     ]
    },
    {
     "data": {
      "text/html": [
       "<table><tr><td><img src='./images/3974.jpg' title='x-men apocalypse 2016 american superhero film based fictional x-men characters appear marvel comics ninth installment x-men film series sequel x-men days future past directed bryan singer screenplay simon kinberg story conceived singer kinberg michael dougherty dan harris film stars james mcavoy michael fassbender jennifer lawrence oscar isaac nicholas hoult rose byrne tye sheridan sophie turner olivia munn lucas till ancient mutant en sabah nur awakens 1983 plans wipe modern civilization take world leading x-men try stop defeat team renegade mutants en sabah nur powerful mutant believed first kind rules ancient egypt betrayed worshippers entomb alive four lieutenants die preserving awakening 1983 believes humanity lost way without presence aiming destroy remake world recruits cairo pickpocket ororo munroe control weather upgrades power in east berlin shape-shifting mutant raven investigates underground fight club discovers mutant champion angel possesses large feathered wings back kurt wagner teleport raven rescues kurt requests black marketeer caliban transport america en sabah nur recruits caliban enforcer psylocke leads angel en sabah nur enhances powers transforming angel wings metal alex summers discovers younger brother scott manifesting mutation shooting optic beams alex takes scott professor charles xavier educational institute westchester county new york hoping xavier hank mccoy teach control abilities scott meets telepathic telekinetic jean grey two develop attraction raven brings kurt institute en sabah nur powers cause disturbances around world leading xavier alex consult cia agent moira mactaggert researching legend nur in communist poland metal-controlling mutant erik lehnsherr lives wife young daughter nina en sabah nur resurrection causes worldwide earthquake uses powers save coworker prompting militia capture accidentally kill erik family retaliates executing en sabah nur later approaches devastated erik takes auschwitz erik power first manifested persuaded en sabah philosophy erik powers enhanced destroys camp joining en sabah nur en sabah nur remotely accesses cerebro brainwave-amplifying device xavier uses locate mutants forces telepathic xavier make global superpowers launch entire nuclear arsenals space prevent interference en sabah nur plan new four horsemen arrive mansion kidnap xavier attempting stop alex accidentally causes explosion destroys mansion peter maximoff realized erik biological son hoping xavier help find arrives time uses super-speed evacuate students teachers explosion destroys building alex apparently killed process colonel william stryker forces subsequently capture hank raven peter moira take military facility interrogation scott jean kurt follow covertly liberate comrades using stryker mind-controlled brainwashed experiment weapon whose memories jean partially restores at en sabah nur behest erik uses powers control earth magnetic poles causing destruction across planet sabah nur plans transfer consciousness xavier body use xavier power enslave every person earth xavier secretly sends telepathic distress call jean others travel cairo battle sabah nur horsemen rescue xavier loses hair process nears completion angel defeated erik ororo persuaded turn en sabah nur help scott keep occupied physically xavier fights telepathically astral plane finally xavier encourages jean unleash full extent powers incinerating en sabah nur killing good psylocke escapes xavier moira rekindle relationship erik jean help reconstruct school erik refuses xavier offer stay help teach peter decides tell erik yet erik son using confiscated sentinels hank raven train new x-men recruits scott jean ororo kurt peter in post-credits scene men black suits visit weapon facility retrieve data stryker mutant research including x-ray blood sample marked weapon behalf essex corporation'></td></tr></table>"
      ],
      "text/plain": [
       "<IPython.core.display.HTML object>"
      ]
     },
     "metadata": {},
     "output_type": "display_data"
    },
    {
     "name": "stdout",
     "output_type": "stream",
     "text": [
      "The following movies are recommended:\n"
     ]
    },
    {
     "data": {
      "text/html": [
       "<table><tr><td><img src='./images/875.jpg' title='x2 often promoted x2 x-men united 2003 american superhero film based x-men superhero team appearing marvel comics sequel 2000 x-men second installment x-men film series film directed bryan singer written michael dougherty dan harris david hayter features ensemble cast including hugh jackman patrick stewart ian mckellen halle berry famke janssen james marsden rebecca romijn-stamos brian cox alan cumming bruce davison anna paquin plot inspired graphic novel god loves man kills pits x-men enemies brotherhood genocidal colonel william stryker brian cox leads assault professor xavier school build version xavier mutant-tracking computer cerebro order destroy every mutant earth save human race them at white house brainwashed teleporting mutant nightcrawler attempts assassinate president united states fails escapes meanwhile wolverine explores abandoned military installation alkali lake alberta clues past finds nothing returns professor xavier school mutants xavier tracks nightcrawler using cerebro xavier cyclops go question imprisoned magneto attack x-men storm jean grey retrieve nightcrawler meanwhile military scientist colonel william stryker approaches president receives approval investigate xavier mansion ties mutants stryker forces invade school abduct students colossus leads remaining students safety wolverine rogue iceman pyro escape stryker assistant yuriko oyama captures cyclops xavier attack wolverine confronts stryker knows name the shape-shifting mystique gains information magneto prison helps escape also discovering schematics second cerebro wolverine rogue iceman pyro visit iceman parents boston meet storm jean nightcrawler x-jet attacked fighter jets en route back mansion shot magneto saves crashing magneto explains group stryker built second cerebro use xavier telepathically kill every mutant planet stryker son jason mutant mind-controlling powers stryker use force xavier stryker also previously used jason powers orchestrate nightcrawler attack pretense gain approval invade xavier mansion magneto also tells wolverine stryker man grafted adamantium skeleton onto bones jean reads nightcrawler mind determines stryker base underground dam alkali lake the mutants infiltrate stryker base magneto mystique go disable cerebro brainwashed xavier activate storm nightcrawler rescue captured students jean fights mind-controlled cyclops battle frees cyclops damages dam begins rupture wolverine finds stryker adamantium smelting lab remembers received adamantium skeleton wolverine fights kills yuriko chases stryker helicopter pad chains helicopter wheel magneto stops cerebro using mystique impersonating stryker command jason xavier redirect powers normal humans two subsequently use stryker helicopter escape accompanied pyro swayed magneto views nightcrawler teleports storm inside cerebro creates snowstorm break jason concentration free xavier control the x-men flee dam water engulfs damaged x-jet struggles take flight stryker killed deluge jean sacrifices hold back flood water getting jet air consumed flood presumed dead x-men give president stryker files xavier warns humans mutants must work together build peace back school xavier cyclops wolverine remember jean xavier begins hold class the film ends voice-over narration jean accompanied flooded alkali lake fiery phoenix-like shape rising water'></td><td><img src='./images/2898.jpg' title='x-men first class stylized onscreen first class 2011 american superhero film based x-men characters appearing marvel comics fifth installment x-men film series prequel franchise film directed matthew vaughn produced bryan singer story set primarily 1962 cuban missile crisis focuses relationship professor charles xavier james mcavoy erik lensherr magneto michael fassbender origin groups—the x-men brotherhood mutants respectively deal hellfire club led sebastian shaw kevin bacon bent world domination film co-stars rose byrne january jones oliver platt film also introduces new actors series including nicholas hoult jennifer lawrence like mcavoy fassbender reimagine popular characters franchise beast mystique already established previous films namely original trilogy in 1944 nazi death camp nazi scientist klaus schmidt witnesses young erik lehnsherr bend metal gate mind separated mother office schmidt orders lehnsherr move coin desk kills boy mother lehnsherr grief anger lehnsherr magnetic power manifests killing two guards destroying room meanwhile mansion westchester county new york child telepath charles xavier meets young shapeshifter raven whose natural form blue-skinned scaly overjoyed meet someone different like invites live family foster sister in 1962 lehnsherr tracking schmidt xavier graduates university oxford las vegas cia officer moira mactaggert follows s army colonel hendry hellfire club sees schmidt known sebastian shaw mutant telepath emma frost cyclone-producing riptide teleporter azazel threatened shaw teleported azazel joint war room hendry advocates deployment nuclear missiles turkey shaw energy-absorbing mutant whose powers de-aged later kills hendry mactaggert seeking xavier advice mutation takes raven cia convince director mccone mutants exist shaw threat another cia officer sponsors mutants invites secret division facility mactaggert xavier find shaw lehnsherr attacking rescue lehnsherr drowning shaw escapes xavier brings lehnsherr division meet young scientist hank mccoy mutant prehensile feet believes raven dna may provide cure appearance xavier uses mccoy mutant-locating device cerebro seek recruits shaw xavier lehnsherr recruit stripper angel salvadore cabbie armando muñoz army prisoner alex summers runaway sean cassidy create nicknames raven dubs mystique when frost meets soviet general ussr uses telepathic powers pretend sex xavier lehnsherr capture frost discover shaw intends start world war iii trigger mutant ascendency azazel riptide shaw attack division killing everyone mutants shaw invites join salvadore accepts summers muñoz retaliate shaw kills muñoz moscow shaw compels general ussr install missiles cuba wearing helmet blocks telepathy shaw follows soviet fleet submarine ensure missiles break us blockade raven thinking mccoy attracted natural form tells use cure later attempts seduce lehnsherr taking forms various women lehnsherr tells beautiful natural mutant form mccoy uses cure backfires giving blue fur leonine aspects mccoy piloting mutants mactaggert take jet blockade line xavier uses telepathy influence soviet sailor destroy ship carrying missiles lehnsherr uses magnetic power lift shaw submarine water deposit land ensuing battle lehnsherr seizes shaw helmet allowing xavier immobilize shaw lehnsherr tells shaw shares shaw exclusivist view mutants avenge mother kills shaw—over xavier objections—by forcing nazi coin childhood shaw brain fearing mutants fleets fire missiles lehnsherr turns back mid-flight mactaggert tries stop lehnsherr shooting deflects bullets one hits xavier spine lehnsherr rushes help xavier distracted allows missiles fall harmlessly ocean parting xavier differing views relationship mutants humans lehnsherr leaves salvadore azazel riptide mystique later wheelchair-bound xavier mutants mansion intends open school mactaggert promises never reveal location kiss later cia debriefing says memory recent events elsewhere lehnsherr calling magneto frees frost confinement'></td><td><img src='./images/211.jpg' title='x-men 2000 american superhero film based marvel comics superhero team name distributed 20th century fox first installment x-men film series followed x2 2003 x-men last stand 2006 film directed bryan singer written david hayter features ensemble cast includes hugh jackman patrick stewart ian mckellen halle berry famke janssen james marsden bruce davison rebecca romijn-stamos ray park tyler mane anna paquin depicts world small proportion people mutants whose possession superhuman powers makes distrusted normal humans film focuses mutants wolverine rogue brought conflict two groups radically different approaches bringing acceptance mutant-kind professor xavier x-men brotherhood mutants led magneto in 1944 nazi-occupied auschwitz poland 14-year-old erik lehnsherr separated parents upon entering auschwitz concentration camp trying reach causes set metal gates bend towards knocked guards fifty-six years later u senator robert kelly attempts pass mutant registration act congress would force mutants publicly reveal identities abilities present middle-aged lehnsherr going name magneto old friend telepathic professor charles xavier seeing lehnsherr attendance xavier becomes concerned respond registration act meanwhile meridian mississippi 17-year-old marie ancanto accidentally puts boyfriend coma upon kissing mutant ability absorb powers life force others manifesting runs away home adopts name rogue alberta meets mutant named logan also known wolverine possesses superhuman healing abilities metal claws protrude knuckles road together attacked minion magneto sabretooth two xavier students cyclops storm arrive successfully save wolverine rogue brought xavier mansion school mutants westchester county new york xavier tells logan magneto appears taken interest wolverine asks stay xavier mutants x-men investigate rogue meanwhile enrolls school senator kelly abducted two magneto minions toad mystique brought hideout uncharted island genosha magneto uses kelly test subject machine powered magnetic abilities generates field radiation inducing mutation normal humans kelly later escapes taking advantage newfound mutation rogue uses power wolverine view classmates convinced mystique disguised classmate bobby drake xavier angry leave school xavier uses mutant-locating machine cerebro find rogue train station x-men go retrieve meanwhile mystique enters cerebro sabotages it having left ahead storm cyclops wolverine finds rogue train convinces return school leave however magneto arrives reveals rogue rather wolverine although xavier attempts stop magneto metally controlling sabretooth forced release hold sabretooth magneto threatens police converged train station allowing magneto brotherhood escape rogue kelly arrives xavier school xavier reads mind learn magneto machine realizing strain powering nearly killed magneto group deduces intends transfer powers rogue use power cost life kelly body rejects mutation body dissolves liquid xavier attempts locate rogue using cerebro mystique sabotage incapacitates falls coma fellow telekinetic/telepath jean grey fixes cerebro uses learning magneto plans place mutation-inducing machine liberty island use mutate world leaders meeting summit nearby ellis island x-men scale statue liberty battling brotherhood magneto transfers powers rogue activates mutating machine wolverine confronts distracts magneto cyclops blasts away allowing wolverine destroy machine transfers powers rogue healing abilities rejuvenate incapacitating himself professor xavier wolverine recover comas group also learn mystique escaped island battle impersonating senator kelly xavier gives wolverine lead past abandoned military installation canada magneto imprisoned complex constructed plastic visited xavier warns intends escape one day continue fight'></td><td><img src='./images/3086.jpg' title='keep lights american drama film premiered 2012 sundance film festival released new york city los angeles september 2012 music box films film cast also includes david anzuelo maria dizzia julianne nicholson souléymane sy savané miguel del toro paprika steen in 1998 erik thure lindhardt danish artist living new york city meets paul zachary booth lawyer phone sex hotline clearly attracted share intimate moment sex erik later visits man named russ sebastian la cause seems interested showing muscles erik sex erik sees paul tells broke ex-boyfriend paolo hiv-positive erik confides friend claire julianne nicholson happier paul paolo meanwhile paul asks erik keep quiet drug use gets erik high paul closeted meeting erik sees ex-girlfriend visiting art gallery erik tries persuade paul introduce away city erik calls doctor test results learns hiv-negative later paul throws surprise birthday party erik in 2000 paul catches erik talking another man street confronting erik paul argues manage get paul briefly goes missing dinner erik friends evades erik questions erik away home working documentary feels lonely calls phone sex hotline however startled connected paul erik left upset back new york erik argues paul manage make night later erik returns home working documentary finds unconscious paul outside apartment paul sent rehab states erik ruined life erik goes gay club meets painter named igor miguel del toro in 2003 paul release rehab erik success film erik assumes everything better erik life rocked learns paul t home away work however sister comforts erik gets call paul tells visit hotel paul displays erratic behavior trying pretend okay clear erik t improved since rehab erik tries convince paul return home paul remains hotel hires male prostitute sex erik watches erik later visits russ two share drugs presumably sex in 2006 seen year paul meets erik diner seem better invites paul spend night apartment paul agrees avoid sex going sleep erik later runs igor street two drink bar spending time together countryside erik asks paul feels relationship paul turn aggressive paul gives erik ultimatum stating hours decide whether move together break erik decides move together drive paul apartment city middle night tell changed mind walks paul work erik admits still loves although paul skeptical two hug paul tells erik well'></td><td><img src='./images/3649.jpg' title='x-men days future past 2014 american superhero film based fictional x-men characters appear marvel comics directed bryan singer seventh installment x-men film series acts sequel 2006 x-men last stand 2011 x-men first class story inspired 1981 uncanny x-men storyline days future past chris claremont john byrne focuses two time periods wolverine traveling back time 1973 change history prevent event results doom humans mutants film features ensemble cast including hugh jackman james mcavoy michael fassbender jennifer lawrence halle berry anna paquin ellen page peter dinklage ian mckellen patrick stewart simon kinberg wrote screenplay story conceived jane goldman matthew vaughn in future robots known sentinels exterminating mutants human allies sentinels near invincible possess mystique powers transformation technology made possible following research performed mystique captured assassinating dr bolivar trask creator sentinels band mutants including kitty pryde colossus iceman bishop warpath blink sunspot convene wolverine storm professor charles xavier magneto hideout remote china pryde able send people consciousness bodies past allowing time traveller change future sentinals arrived china base almost killed entire team uses ability send one teammates back time could give warning x-men agree someone must sent back time prevent mystique assassinating trask would prevent capture therefore prevent creation sentinels however pryde warns sending someone back time far likely kill unless ability heal quickly therefore wolverine volunteers make journey pryde sends consciousness back fifty years 1973 prevent mystique assassinating trask led capture revealed threat mutants could pose normal humans at x-mansion 1973 future/present wolverine encounters xavier hank mccoy xavier broken man overusing serum allows walk suppresses telepathy wolverine explains mission persuades xavier help free magneto prison cell beneath pentagon held assassinating president john kennedy rescue magneto help peter maximoff mutant super speed in washington d trask unsuccessfully tries sway congress gain support sentinel program meanwhile saigon mystique prevents william stryker appropriating group mutant i trask research xavier magneto beast wolverine fly paris intercept mystique impersonating north vietnamese general infiltrate paris peace accords however presence discovered trask endeavors demonstrate prototype sentinel technology military leaders group arrives mystique kill trask magneto tries kill mystique ensure dna used sentinels escapes fight spills onto street view public allowing magneto mystique escape trask saved world horrified existence mutants president richard nixon approves trask sentinel program arranges unveiling ceremony trask scientists recover mystique blood street meanwhile magneto—who recovered telepathy-blocking helmet—intercepts prototype sentinels transit laces polymer-based frames steel enabling control them at mansion xavier stops taking serum slowly regains telepathic powers losing ability walk wolverine xavier able speak future self inspired work peace humans mutants uses cerebro track mystique heading washington d as xavier wolverine beast search mystique nixon unveils sentinel prototypes white house magneto commandeers sentinels attacks crowd sets robert kennedy memorial stadium around white house barricade nixon trask accompanied cabinet secret service officers mystique disguised secret service member taken safe room wolverine beast try stop magneto pits sentinel throws wolverine potomac river in future x-men make final stand large army sentinels attack monastery 1973 magneto pulls safe room white house prepares kill nixon cabinet mystique disguised nixon incapacitates magneto plastic gun xavier persuades mystique spare trask allows magneto flee mystique actions seen mutant saving president leading cancellation sentinel program trask arrested trying sell american military secrets future mystique actions finally take effect group sentinals kill pryde wolverine magneto xavier last mutants alive defending china hideout wolverine wakes mansion back present day find iceman rogue colossus pryde beast storm jean grey scott summers xavier alive proceeds explain xavier experience 1973 mystique impersonating stryker takes custody wolverine fished river in post-credits scene crowd chants en sabah nur using telekinesis build pyramids four horsemen watch nearby'></td></tr><tr><td> Similarity:0.268575850171</td><td> Similarity:0.238367317257</td><td> Similarity:0.229481952653</td><td> Similarity:0.221129217079</td><td> Similarity:0.190950502687</td></tr></table>"
      ],
      "text/plain": [
       "<IPython.core.display.HTML object>"
      ]
     },
     "metadata": {},
     "output_type": "display_data"
    }
   ],
   "source": [
    "Recommended_Movies = Get_Recommendations(3974,cos_sim_df)\n",
    "Recommended_Movies\n",
    "Display_Recommendations(Recommended_Movies,Movie_Map,3974)"
   ]
  },
  {
   "cell_type": "code",
   "execution_count": 35,
   "metadata": {},
   "outputs": [
    {
     "name": "stdout",
     "output_type": "stream",
     "text": [
      "Assuming that the user liked  102 Dalmatians:\n"
     ]
    },
    {
     "data": {
      "text/html": [
       "<table><tr><td><img src='./images/1.jpg' title='102 dalmatians 2000 american family comedy film directed kevin lima live-action directorial debut produced edward feldman walt disney pictures sequel 1996 film 101 dalmatians stars glenn close reprising role cruella de vil attempts steal puppies grandest fur coat yet close tim mcinnerny two actors first film return sequel however film nominated academy award best costume design lost gladiator three years prison cruella de vil cured desire fur coats dr pavlov released custody probation office provision forced pay remainder fortune eight million pounds dog shelters borough westminster repeat crime cruella therefore mends working relationship valet alonzo lock away fur coats cruella probation officer chloe simon nevertheless suspects partly chloe owner now-adult dipstick one original 15 puppies previous film dipstick mate dottie recently given birth three puppies domino little dipper oddball lacks spots mend reputation cruella buys second chance dog shelter owned kevin shepherd resolve financial insolvency verge eviction meanwhile dr pavlov discovers therapy subjects subjected loud noises revert original states conceals discovery big ben rings presence cruella reverts former personality enlists help french furrier jean-pierre lepelt steal 102 dalmatian puppies new fur coat kevin tells chloe cruella violates parole entire fortune go since dog shelter one borough westminster cruella kevin framed theft puppies invites chloe dinner lepelt steals dottie three puppies dipstick hurries back apartment hides lepelt truck later captured train station chloe rushes home save pets arrives late joined kevin escaped prison help dogs talking parrot waddlesworth upon finding ticket orient express paris dropped lepelt kevin chloe attempt fail stop cruella lepelt oddball waddlesworth pursue enemies secretly paris kevin chloe save captive puppies seen locked cellar puppies flee cruella goes puppies alone alonzo scolded beyond patience enough abused defeats lepelt frees kevin chloe give chase wedding cake factory puppies kevin dogs imprison cruella immense cake lepelt thereupon arrested kevin chloe personally awarded remnants cruella fortune alonzo oddball coat develops spots'></td></tr></table>"
      ],
      "text/plain": [
       "<IPython.core.display.HTML object>"
      ]
     },
     "metadata": {},
     "output_type": "display_data"
    },
    {
     "name": "stdout",
     "output_type": "stream",
     "text": [
      "The following movies are recommended:\n"
     ]
    },
    {
     "data": {
      "text/html": [
       "<table><tr><td><img src='./images/659.jpg' title='101 dalmatians ii patch london adventure 2003 american direct-to-video animated adventure musical comedy-drama film written directed jim kammerud brian smith released walt disney home entertainment february 25 2003 based dodie smith novel hundred one dalmatians sequel 1961 disney animated film 101 dalmatians features voices martin short jason alexander barry bostwick susanne blakeslee kath soucie jeff bennett jim cummings bobby lockwood garnered dvdx awards best animated feature best director best editing best musical score disney re-released september 16 2008 radcliffe family one hundred one dalmatians preparing move dalmatian plantation home countryside plenty room however one puppies patch feels ignored wishes unique like television hero thunderbolt watching thunderbolt adventure hour hears chance appear show accidentally left behind family leaves plantation decides head audition meet hero win guest spot show fails impress producers allowing jealous lil lightning manipulate making hero show depressed patch leaves runs thunderbolt elsewhere london cruella de vil returned probation restraining order past behavior longer allowed maintain previous lifestyle attempts soothe fixation spots help lars german artist order inspire restarts hunt dalmatians using newspaper picture patch find new address patch family finally becomes aware missing go back london find cruella bails former henchmen jasper horace prison sends stolen dog food truck steal remaining puppies succeed dealing nanny take lars cruella requests made masterpiece fur lars refuses wanting harmed angered bound gagged returns original plan making dalmatian fur coat the captured puppies use twilight bark send distress signal picked patch thunderbolt set save patch family way encounter lil lightning follows convinces thunderbolt use patch stealth plan openly attack frightens jasper horace cruella knocks unconscious patch captured lil lightning believing scheme fulfilled sneaks building reveals thunderbolt fraud tells said ago lie get way finally shadow fleeing crushed revelation thunderbolt telling patch really actor patch falls despair siblings restore spirit reminding thunderbolt escaped similar predicament one tv episodes patch breaks releases family thunderbolt remains behind ashamed disappointing patch dalmatians escape building roof cruella panther de ville villains stalled meanwhile thunderbolt escapes cage frees lars the puppies steal double-decker bus cruella jasper horace discover escape pursue stolen truck chase ensues streets london crashing filming lil lightning new show process driving window cruella jasper horace finally corner dogs alley patch tries hold others escape undaunted luckily thunderbolt arrives driven scene lars fakes heart attack briefly gaining lil lightning sympathy causing cruella distraction knock jasper horace incapacitate patch retreats back bus puts reverse sending cruella jasper horace lil lightning scrambling river thames along stolen truck thunderbolt stand triumphantly patch finally brings bark similar thunderbolt the police arrest lil lightning jasper horace cruella driven completely insane sent mental institute radcliffes nanny told jasper horace cruella made arrive along patch parents introduces thunderbolt thank dismisses simply actor patch hand eyes real one kind wonder-dog newspaper montage reveals fates characters post-credits scene shows thunderbolt tv show patch new sidekick puppies extras chasing villain away sunset'></td><td><img src='./images/3564.jpg' title='cold comes night 2013 american crime thriller film directed tze chun co-wrote script oz perkins nick simon released september 20 2013 uk january 10 2014 united states film stars alice eve bryan cranston logan marshall-green film produced mynette louie trevor sagan chloe single mother living daughter sophia operates motel topo blind man traveling cross country jeep associate john stop chloe motel john hires prostitute gwen convinces topo stay night gwen entertaining john argument john fatally shooting gwen waking chloe chloe investigating finds gwen john dead the police arriving chloe conversation police friend billy gwen pimp comforts chloe tells allow girls use rooms motel anymore social worker around earlier threatening take sophia away following day topo takes chloe sophia hostage looking jeep sophia watches tv chloe agrees retrieve jeep police topo forces chloe sophia stake billy residence amber answers door chloe billy fight billy refuses give chloe jeep topo forces chloe break police junkyard retrieve package hidden behind radio evading patrolman chloe reaches car find package back motel chloe learns topo figures courier supposed deliver bundles money proposes topo split money helps faster reluctantly agrees due new impairment chloe falls asleep sophia topo looks around finds chloe hidden stash emergency money the next morning topo chloe stake learning john topo nephew chloe husband died hit run finding billy chloe follows found cornered alley billy chloe pinned roof car topo sneaks behind interrogates heads billy house thinking money stashed chloe finds money bed confronted billy wife amber topo shoots leave tying billy radiator go back motel topo leaves money another associate donnie chloe calls police tells hostage tell billy found house decide leave squad-car safety topo donnie meet québécois mafia jacques associates car park mafia force topo car proceed count money find topo missing fifty grand chloe cut jacques threatens kill topo topo kills back motel chloe packs sophia things sends police away approached topo give back cut billy shoots topo donnie cornered chloe throws window unintentionally fatally slicing neck chloe sets scene look like deal gone bad takes sophia taxi parts unknown'></td><td><img src='./images/2080.jpg' title='beverly hills chihuahua 2008 american family comedy film produced walt disney pictures first beverly hills chihuahua series directed raja gosnell released october 2008 films stars piper perabo jamie lee curtis manolo cardona human leads drew barrymore george lopez andy garcia voice-over roles plot centers chihuahua chloe gets dognapped mexico escape evil doberman el diablo help lonely german shepherd delgado hyperactive male chihuahua papi desperate crush sequel beverly hills chihuahua released direct-to-dvd february 2011 beverly hills chihuahua viva la fiesta released september 18 2012 in beverly hills california wealthy heiress vivian viv ashe leaves richly pampered pet chihuahua chloe irresponsible niece rachel embarks business trip ten days papi gardener sam pet chihuahua mexican descent unrequited crush chloe disgusted rachel decides go mexico friends stay hotel beach rachel leaves chloe alone hotel room go dancing club chloe goes looking chloe gets dog-napped tries find rachel sent dog fights mexico city meets street-smart german shepherd named delgado rachel comes back hotel frantic finds chloe missing chloe picked fight pit el diablo fierce argentinean-bolivian doberman pinscher delgado helps escape dog fights unleashing dogs cages unlocking ring allow chloe flee several arguments decides return beverly hills safely meanwhile rachel sam go mexican police offer rewards effort find chloe el diablo sent dog fight ringleader vasquez capture chloe obtain reward reach border caught forced jump eventually arriving barren deserts chihuahua delgado explains former police dog retired lost sense smell raid sneak attack el diablo rachel sam puerto vallarta find chloe spotted state chihuahua tracking chloe delgado mexico city el diablo arrives chihuahua attempts capture chloe papi saves ends getting captured cage inside abandoned aztec temple delgado comes rescue two briefly defeated chloe rescues papi delgado discovers el diablo vanished rachel finds chloe vasquez arrested police chloe returns safely beverly hills without vivian finding happened accepts romantic relationship papi well rachel sam characters fates later revealed delgado returns police dog mexico el diablo recaptured delgado adopted rich lady passion fashion chico manuel move beverly hills become rich papi chloe first date'></td><td><img src='./images/1799.jpg' title='blue state canadian american romantic comedy film released 2007 starring breckin meyer anna paquin also film executive producer film first effort paquin executive role john logue breckin meyer dedicated john kerry campaigner 2004 election actually follows drunken campaign vow move canada george bush would re-elected bush indeed wins john finds employer friends took public vow seriously help stay true word meets chloe hamon anna paquin reader blog wants accompany canada way visit john parents upset liberal views father richard blackburn inveterate republican supporter moreover john brother soldier fought iraq war later close canada–united states border chloe reveals john deserter iraq soldier supposed return there john insists taking chloe canada although risks getting trouble get arrested canada welcomed community american expatriates neither john chloe really fit despite arrangement marriage allow john remain making difficult decision return john chloe head border uncertain fate chloe arrested go prison john waits return united states made determination must make difference logue state senate bumper sticker car'></td><td><img src='./images/2614.jpg' title='lottery ticket 2010 american comedy film directed erik white starring bow wow brandon jackson naturi naughton keith david charlie murphy gbenga akinnagbe loretta devine ice cube lead roles story follows young man wins 370 million lottery soon realizes people city real friends money film released august 20 2010 the film follows kevin carson bow wow young man living projects grandmother loretta devine kevin dreams one day designing sneaker line currently works foot locker dreams supported two best friends benny brandon jackson stacey naturi naughton comes across lorenzo gbenga akinnagbe neighborhood bully meanwhile everyone neighborhood trying win mondo million dollar lottery 370 million lorenzo demands kevin gives three friends three sets sneakers lorenzo shows kevin job foot locker grabs shoes alarms go police arrive kevin accidentally pays shoes lorenzo attempts explain police intend give shoes lorenzo lorenzo arrested shoplifting kevin loses job on way home buys mondo millionaire lottery ticket gas station playing grandmother lucky numbers meets benny tells whole neighborhood heard kevin snitched lorenzo even called one friends defeated kevin goes home quickly falls asleep later numbers lottery announced grandma ticket t win kevin finds ticket 370 million however benny head claims office told must wait three days office reopen due fourth july weekend news kevin winning ticket spreads entire neighborhood swarms home begging cut money nikki swayze teairra marí previously rejected kevin suddenly develops interest angers stacey tells kevin nikki money kevin believe kevin benny meet loan shark sweet tee keith david gives kevin 100 000 go fun date kevin nikki secretly tries make get pregnant kevin refuses nikki reveals kevin legally trying get half money baby leaves house angry upset upon leaving building man calls basement window kevin meets mr washington retired boxer invites house conversation the next day kevin attends church grandmother benny comes tells lorenzo looking ticket lorenzo comes stopped churchgoers kevin tries escape confronted lorenzo crew sweet tee bodyguard saves kevin gun lorenzo emerges physically breaks hand kevin runs train station lorenzo boys chasing kevin leaps onto train thinking safe lorenzo gets however kevin hops doors close train leaves station lorenzo on later day kevin benny argument ticket leads speaking goes stacey house tells kevin thinks wrong entire situation also tells girl leads getting angry telling get kisses responds accordingly interrupted arrival mother kevin leaves house lorenzo knocks unconscious takes one kevin sneakers ticket following day wakes apartment mr washington ice cube talks kevin also takes time reconcile benny make scheme fool lorenzo ticket fake later pisses lorenzo later neighborhood block party kevin faces lorenzo verge defeat kevin saved mr washington comes knocks lorenzo unconscious afterwards benny tells kevin give lottery ticket protection day came kevin gets money months later kevin benny stacey board kevin new helicopter fly work kevin sneaker company'></td></tr><tr><td> Similarity:0.306608854172</td><td> Similarity:0.185453340218</td><td> Similarity:0.175589654586</td><td> Similarity:0.14104740047</td><td> Similarity:0.133580264125</td></tr></table>"
      ],
      "text/plain": [
       "<IPython.core.display.HTML object>"
      ]
     },
     "metadata": {},
     "output_type": "display_data"
    }
   ],
   "source": [
    "Recommended_Movies = Get_Recommendations(1,cos_sim_df)\n",
    "Display_Recommendations(Recommended_Movies,Movie_Map,1)"
   ]
  },
  {
   "cell_type": "code",
   "execution_count": 36,
   "metadata": {},
   "outputs": [
    {
     "name": "stdout",
     "output_type": "stream",
     "text": [
      "Assuming that the user liked Gladiator:\n"
     ]
    },
    {
     "data": {
      "text/html": [
       "<table><tr><td><img src='./images/73.jpg' title='gladiator 2000 american epic historical drama film directed ridley scott written david franzoni john logan william nicholson stars russell crowe joaquin phoenix connie nielsen ralf möller oliver reed final role djimon hounsou derek jacobi john shrapnel richard harris crowe portrays hispano-roman general maximus decimus meridius betrayed commodus ambitious son emperor marcus aurelius murders father seizes throne reduced slavery maximus rises ranks gladiatorial arena avenge murders family emperor in ad 180 hispano-roman general maximus decimus meridius leads roman army victory germanic tribes near vindobona limes germanicus weary battle maximus desires retire estate emperor marcus aurelius tells son heir commodus unfit rule appoint maximus regent help save rome corruption emperor reveals plan son commodus murders fit rage commodus announces new emperor asks maximus loyalty general refuses arrested officers sentenced death dawn maximus kills captors rides farm arrives late finds destroyed family murdered commodus orders maximus buries wife son collapses wounds grief found slavers take zucchabar north african province mauretania caesariensis sold gladiator trainer named proximo although reluctant first maximus fights local tournaments makes friends two gladiators juba numidian holds onto maximus figurines wife child hagen german wins every match military skills indifference death gains fame recognition proximo reveals gladiator fought well enough given freedom advises maximus good killer enough good gladiator one win crowd proximo encourages maximus go rome fight colosseum commodus organized 150 days games could use power commands arena leverage emperor maximus first gladiatorial combat colosseum re-enactment roman victory carthage battle zama although gladiators portraying carthaginians expected massacred maximus leads victory legionaries scipio africanus prompts surprised delighted commodus enter arena offer personal congratulations emperor young nephew lucius also joins maximus decides kill commodus instead reveals vows vengeance praetorian guard ordered attack angers crowd pressure keep mob rome happy commodus angrily relents maximus next fight victory large undefeated gladiator despite commodus orders kill loser maximus spares opponent life defiance earns nickname maximus merciful cheers adulation angered outcome commodus enters arena taunt maximus family death gladiator turns back walks away another defiant act making popular emperor maximus discovers cicero ex-orderly former legions remain loyal lucilla commodus sister gracchus senate meet secretly maximus obtains promise help escape rome rejoin soldiers topple commodus force hand power back roman senate however commodus learns plot lucilla threatening son lucius praetorian guard arrest gracchus others sent gladiators barracks maximus escapes proximo men including hagen sacrifice rendezvous point maximus captured cicero killed to win crowd back commodus challenges maximus duel colosseum however secretly stabs maximus side match gain advantage nevertheless maximus disarms commodus duel praetorian guards refuse give another sword emperor tricks maximus disarming produces hidden knife maximus drives blade back commodus throat maximus succumbs wounds shortly thereafter maximus last words ask political reforms gladiator allies freed senator gracchus reinstated body commodus left unceremoniously floor arena maximus solemnly carried away friends allies given honorable funeral soldier rome crowd stands sign respect maximus carried out later now-free juba revisits colosseum night buries figurines maximus wife son spot died says going back family promises see maximus yet'></td></tr></table>"
      ],
      "text/plain": [
       "<IPython.core.display.HTML object>"
      ]
     },
     "metadata": {},
     "output_type": "display_data"
    },
    {
     "name": "stdout",
     "output_type": "stream",
     "text": [
      "The following movies are recommended:\n"
     ]
    },
    {
     "data": {
      "text/html": [
       "<table><tr><td><img src='./images/2176.jpg' title='mummy tomb dragon emperor 2008 american action-adventure fantasy film third final installment mummy trilogy film stars brendan fraser jet li maria bello john hannah luke ford michelle yeoh film released united states august 2008 in ancient china brutal tyrannical warlord unites country kingdoms empire becomes dragon emperor orders construction great wall china bury curse dead enemies eventually learning power classical elements fire water earth wood metal emperor soon grows fearful death end accomplished summons zi yuan sorceress said know secret immortality seemingly casts spell emperor sanskrit executes general ming trusted friend zi yuan secret lover impales zi yuan foreseen events immolates detains emperor transforming army terracotta army flees in 1946 alex connell rick evelyn connell son archaeology professor roger wilson locate emperor tomb though attacked mysterious woman succeed bringing coffin shanghai meanwhile british government entrusts connells take eye shangri-la back china however learn wilson works rogue military faction led general yang provided financial backing alex expedition yang believes emperor one lead china chaos following wwii plans resurrect emperor using eye contains elixir life open accidentally lands statue carriage driver revealed actually emperor mummified body accepts yang service kills wilson escapes along evelyn brother jonathan carnahan o connells mysterious woman lin travel stupa himalayas reveal path shangri-la eye placed top help yetis summoned lin group hold yang soldiers emperor discovers shangri-la location alex attempts trigger avalanche emperor throws dagger rick shoves alex stabbed instead lin takes group shangri-la zi yuan still lives heals rick wound group discovers lin zi yuan daughter rendered immortal due power shangri-la waters rick heals alex lin grown attached lin refuses due immortality unable bear falling love alex watch grow old die zi yuan mourned general ming the emperor general yang eventually arrive attack shangri-la emperor bathes mystical waters restores human form youth gives ability shapeshift transforming dragon emperor kidnaps lin flies back tomb raising terracota army planning cross great wall invincible o connells zi yuan pursue emperor great wall sacrifices lin immortality create undead army beneath great wall led revived general ming alex rescues lin zi yuan fights emperor mortally wounded secures dagger zi yuan gives dagger group dying meanwhile emperor goes great wall use elemental powers negate undead spell rick alex fight emperor evelyn lin fight kill yang choi emperor gains upper hand rick rick alex manage stab emperor heart dagger killing defeating terracotta army ming army briefly celebrates finally moving peaceful afterlife the connells return shanghai jonathan decides move peru eye shangri-la wants go somewhere mummies however postscript revealed upon arrival mummies discovered peru'></td><td><img src='./images/3295.jpg' title='emperor 2012 american-japanese post-world war ii film directed peter webber marking first film five years tommy lee jones matthew fox star lead roles general douglas macarthur brigadier general bonner fellers respectively joint american japanese production +++++this section plot summary may long excessively detailed please help improve removing unnecessary details making concise october 2014 learn remove template message ++brigadier-general bonner fellers sent japan part occupation force tasked arresting japanese war criminals including prime minister hideki tojo departs privately orders japanese interpreter takahashi locate japanese girlfriend aya shimada arresting tojo supreme commander allied powers general army douglas macarthur informs fellers emperor hirohito tried war criminal could lead revolt american people want emperor stand trial japan actions macarthur gives fellers ten days investigate emperor takahashi informs fellers aya tokyo apartment bombed fellers orders investigate hometown shizuoka fellers staff compile list people emperor hirohito war started none japanese friendly americans among resort enticing tojo give information visit sugamo prison fellers demands tojo give three names instead gives one fumimaro konoe former prime minister fellers goes konoe home asks emperor responsible starting war konoe gives conclusive evidence directs fellers kōichi kido lord keeper privy seal fellers waits meet kido recalls time war aya suddenly returned japan takahashi informs fellers kido show up fellers recalls 1940 visit tokyo reunited aya english teacher learns aya returned japan father became ill died banquet macarthur residence brigadier-general richter informs fellers macarthur look bad american public banquet takahashi informs fellers shizuoka bombed fellers immediately travels devastated damage orders takahashi find list dead fellers recalls visit aya uncle general kajima help paper mindset japanese soldier kajima insists america japan war japanese would win japanese soldier sense duty emperor fellers returns tokyo decides must interview teizaburō sekiya member privy council sekiya like konoe give evidence exonerate emperor during fellers interview kido discusses time japanese surrender supreme council deadlock favour surrender led emperor address council strong militarists army emperor made audio recording order surrender recording could broadcast militarists attempted coup attacked imperial palace emperor kido survived broadcast recording unfortunately fellers witnesses committed suicide records destroyed leaving kido testimony kido informs fellers emperor role actuality ceremonial one emperor influential ending war fellers decides visit general kajima also aya uncle explains kajima japanese people selfless capable great sacrifice well unspeakable crimes devotion set values kajima know emperor guilty notes role ending war gives fellers box folded letters written aya fellers learns aya died allied bombing raid fellers concludes determined whether emperor guilty innocent role ending war significant gives conclusion macarthur displeased lack conclusive evidence fellers argues emperor exonerated allies agreed would allow japan keep head state macarthur orders fellers arrange meeting emperor emperor arrives fellers informs macarthur role diverting allied bombers away shizuoka macarthur replies american lives lost turn blind eye emperor hirohito arrives offers punished rather japan macarthur states intention punishing japan hirohito wishes discuss japan reconstruction'></td><td><img src='./images/2675.jpg' title='tangled 2010 american 3d computer-animated musical fantasy-comedy film produced walt disney animation studios released walt disney pictures loosely based german fairy tale rapunzel collection folk tales published brothers grimm 50th disney animated feature film featuring voices mandy moore zachary levi donna murphy film tells story lost young princess long magical hair yearns leave secluded tower mother wishes accepts aid handsome intruder take world never seen long ago drop sunlight became golden flower capable healing illness decay injury hundreds years later flower still used mother gothel retain youth soldiers nearby kingdom corona steal heal ailing queen shortly afterwards queen gives birth princess rapunzel attempting recover flower gothel discovers rapunzel hair contains flower healing properties cutting hair destroys power gothel takes baby raises daughter isolated tower year king queen release sky lanterns rapunzel birthday hoping daughter return on eve 18th birthday rapunzel requests leave tower discover source lanterns gothel refuses claiming outside world dangerous place meanwhile thief flynn rider steals rapunzel crown kingdom inadvertently discovers tower ditching allies stabbington brothers rapunzel captures flynn discovers crown unaware significance rapunzel plans take flynn gothel prove take care gothel becomes angry rapunzel asks special paint take gothel three days round trip obtain return gothel accepts rapunzel convinces reluctant flynn escort see lanterns exchange crown flynn takes rapunzel snuggly duckling pub filled frightening people gothel warned rapunzel instead charmed rapunzel innocence royal soldiers led one royal army lead horses maximus arrive search flynn rapunzel flynn escape trapped flooding cave resigned fate flynn reveals real name eugene fitzherbert rapunzel starts reveal hair glows sings realizes key escape hair provides enough light find way cave eugene rapunzel take refuge forest gothel league stabbingtons gives crown rapunzel suggests using challenge eugene interest her maximus finds pair tries capture eugene rapunzel arranges truce honor 18th birthday group reaches kingdom enjoys festivities culminating evening cruise lanterns released rapunzel gives eugene crown sees stabbingtons shore eugene leaves rapunzel intends hand crown instead brothers tie eugene onto boat confront rapunzel saying eugene escaping crown gothel sets rescue betraying brothers returns rapunzel tower eugene stabbingtons captured back home rapunzel recognizes symbol kingdom subconsciously incorporated paintings years realizing long-lost princess confronts gothel eugene sentenced death duckling regulars help escape carried back gothel tower maximus eugene enters climbing rapunzel hair find rapunzel bound chains gagged handkerchief gothel stabs eugene attempts escape rapunzel rapunzel agrees lifelong captivity allowed heal eugene eugene slowly dies slices rapunzel hair destroying magic rapidly killing gothel disintegrates dust heartbroken rapunzel grieves eugene however tears still contain bit sun power land cheek restore life two return kingdom rapunzel reunites parents kingdom breaks celebration eugene pardoned crimes rapunzel eugene eventually marry'></td><td><img src='./images/2782.jpg' title='happy feet two 2011 australian-american 3d computer-animated family musical comedy film directed produced co-written george miller sequel miller 2006 film happy feet features elijah wood robin williams hugo weaving magda szubanski anthony lapaglia reprising roles first film pink voiced gloria due brittany murphy death 2009 richard carter portrayed human character voiced barry first film voices bryan beachmaster one respectively common also replaced fat joe seymour original cast joined new characters voiced hank azaria brad pitt matt damon sofía vergara +++++this article plot summary may long excessively detailed please help improve removing unnecessary details making concise may 2016 learn remove template message ++erik son penguins mumble gloria unable dance like penguins erik two best friends bodicea atticus follow ramon adélie-land find adélie-land ruled god-like penguin named sven sven actually puffin adélie-land survived loss native fishing grounds due miraculous ability fly erik instantly becomes enamored sven takes liking sven lovelace tell others saved humans two eventually flee sven mistaken assumption humans going eat end antarctica sven performs first miracle revealing moss local penguins sven uses power sven think help ramon find mate ramon instantly falls love carmen another adélie penguin uninterested mumble follows chicks footprints adélie-land orders return emperor-land refuse sven sends erik back emperor-land mumble meanwhile couple krill midst swarm adventurous existentialist krill determined discover lies beyond swarm friend bill reluctantly follows ensure safety separated swarm bill realize krill bottom food chain created eaten inspired ventures evolve move food chain eating real creature instead eaten mumble tells erik unique world someday find calling erik oblivious trying cross perilous ice bridge penguins encounter elephant seal bryan beach master two young sons refuse let penguins pass suddenly ice gives away bryan trapped deep crevice ice mumble sets free bryan luring leopard seal chase seeking acceptance erik mumble devastated learn erik attributed feat courage sven think bryan returns southern elephant seal beach when penguins return emperor-land discover large iceberg trapped emperor penguin population large walls ice bo ventures adélie-land recruit help ramon amigos adélie penguins bring fish doomed emperor penguins meanwhile mumble erik atticus deliver meager supplies fish trapped penguins erik attempts deliver fish gloria flying nearly tossing edge iceberg mumble scolds erik beliefs saying penguin fly none emperor penguins able escape erik realizes emperor-land destined die begins break gloria sends mumble hunt fish calming erik rest hysterical emperor-land process bill becomes inspired create another swarm krill refuses preferring adhere new predator lifestyle the next morning large flock skua attack trapped emperor-land noah elder encourages penguins stand birds perseverance unity hope seems lost bo returns entire adélie-land led sven aid trapped emperor penguins sven orchestrates cooperative effort feed trapped emperor penguins hunting bringing back flow fish sea meanwhile becomes increasingly agitated bill behavior leaves adélie feeding swarm join fellow predators process attached fish carried sven trapped emperor-land the humans saved sven lovelace come antarctica help penguins find way however blizzard approaches causes humans flee return sven reports ocean frozen significantly chance humans returning adélie penguins transporting food distance erik urges sven teach penguins fly sven reveals penguin puffin admits loss svenland lonely grew love penguins accepted family mumble watching snow fall crevice chunks iceberg begins tap-dance ice lead adélie penguins dance force snow ice weaken plan works several chunks break loose sending bo atticus portion adélies well several chinstrap little blue magellanic penguins doomed crevice erik lovelace tumble towards edge mumble grabs thread lovelace vest thread snaps lovelace falls sven mumble amigos pull thread erik holding onto pull mumble injures foot unable dance lead adélies ramon realizes carmen trapped risking life jumps iceberg professes love sven becomes aware dancing proves worthy dancer despite public outcry leads remaining adélies dance erik mumble venture elephant seal beach meanwhile weary dangers experienced predator surface ventures back sea find bill experiencing penguin dancing suddenly forced crack ice sea beneath emperor-land reuniting bill swarm krill enter inaccessible ice emperor-land mumble erik arrive elephant seal beach bryan middle fight dominance another large male mumble pleads elephant seals help free emperor penguins hesitant return favor pivotal time year bryan declines using singing abilities erik commends mumble bravery lectures bryan lack kindness elephant seals travel en-masse emperor-land penguins seals begin slamming ice beat queen song pressure joined bill krill swarm ice finally iceberg crumbles enough emperor penguins climb crevice reunite families'></td><td><img src='./images/2759.jpg' title='eagle 2011 epic historical drama film set roman britain directed kevin macdonald starring channing tatum jamie bell donald sutherland adapted jeremy brock rosemary sutcliff historical adventure novel eagle ninth 1954 film tells story young roman officer searching recover lost roman eagle standard father legion northern part great britain story based ninth spanish legion supposed disappearance britain in year ad 140 twenty years ninth legion disappeared north britain marcus flavius aquila young roman centurion arrives roman britain serve first post garrison commander marcus father disappeared eagle standard ill-fated legion marcus hopes redeem family honour bravely serving britain shortly afterwards marcus alertness decisiveness save garrison overrun celtic tribesmen decorated bravery honourably discharged due severe leg injury living uncle estate near calleva modern silchester southern britain marcus cope military career cut short father name still held disrepute hearing rumours eagle standard seen north britain aquila decides recover despite warnings uncle fellow romans believe roman survive north hadrian wall travels north territory picts accompanied slave esca son deceased chieftain brigantes esca detests rome stands considers bound marcus saved life amphitheatre show after several weeks travelling northern wilderness esca marcus encounter guern roman born lucius caius metellus one survivors ninth legion attributes survival hospitality selgovae tribe guern recalls small number deserters killed ambush northern tribes including esca brigantes eagle standard taken away seal people vicious tribes two travel north found seal people identifying chieftain son fleeing roman rule claiming marcus slave esca welcomed tribe allowing seal people mistreat marcus esca eventually reveals actions ploy helps master find eagle retrieve ambushed several warriors including seal prince father marcus esca manage kill aid seal prince young son escape village the two flee south effort reach hadrian wall seal people pursuit marcus slowed old battle wound orders esca take eagle back roman territory even grants reluctant slave freedom freed esca still refuses abandon friend instead heads look help returns survivors ninth legion seal people catch legionaries wishing redeem accept aquila commander prepare defend eagle standard example would betray people seal prince kills young son front esca marcus legionaries orders warriors attack battle ensues seal prince warriors killed along ninth legion soldiers enemy defeated bodies britons romans laid victors marcus commends valour lights funeral pyre guern guern cremated marcus esca survivors ninth return roman territory aquila delivers eagle astonished governor londinium talk ninth legion reformed marcus commander marcus esca wonder next marcus leaves decision esca alternative ending alternative ending featured dvd marcus decides burn eagle standard altar final battle occurred instead delivering roman governor tells esca eagle belongs men fought marcus esca shown approaching hadrian wall foot talking plans future'></td></tr><tr><td> Similarity:0.0945836626403</td><td> Similarity:0.0631114505259</td><td> Similarity:0.0631047930739</td><td> Similarity:0.0514068891896</td><td> Similarity:0.0469541381883</td></tr></table>"
      ],
      "text/plain": [
       "<IPython.core.display.HTML object>"
      ]
     },
     "metadata": {},
     "output_type": "display_data"
    }
   ],
   "source": [
    "\n",
    "Recommended_Movies = Get_Recommendations(73,cos_sim_df)\n",
    "Display_Recommendations(Recommended_Movies,Movie_Map,73)\n"
   ]
  },
  {
   "cell_type": "code",
   "execution_count": 37,
   "metadata": {},
   "outputs": [
    {
     "name": "stdout",
     "output_type": "stream",
     "text": [
      "Assuming that the user liked London Has Fallen:\n"
     ]
    },
    {
     "data": {
      "text/html": [
       "<table><tr><td><img src='./images/3934.jpg' title='london fallen 2016 american action thriller film directed babak najafi written creighton rothenberger katrin benedikt chad st john christian gudegast sequel antoine fuqua 2013 film olympus fallen stars gerard butler aaron eckhart morgan freeman alon moni aboutboul angela bassett robert forster jackie earle haley melissa leo radha mitchell sean bryan waleed zuaiter charlotte riley supporting roles second installment fallen franchise western intelligence services particularly g8 collaborate identify pakistani arms dealer terrorist leader aamir barkawi alon moni aboutboul mastermind behind several terrorist attacks around world specifically devastating hotel bombing manila authorize american drone strike barkawi compound apparently killing barkawi family two years later death uk prime minister james wilson world leaders major western countries including us president benjamin asher aaron eckhart make plans attend funeral london secret service agent asher close friend mike banning gerard butler assigned secret service director lynne jacobs angela bassett oversee president schedule despite fact banning wife leah radha mitchell due give birth child weeks after arriving via air force one stansted airport banning pushes president arrival forward directing marine one take somerset house car st paul cathedral arrive several attacks coordinated barkawi son kamran waleed zuaiter executed terrorists disguised metropolitan police queen guardsmen first responders damaging several london landmarks eliminating five attending world leaders canadian prime minister robert bowman wife first killed bomb destroys limo trafalgar square german chancellor agnes bruckner fatally shot two assassins outside buckingham palace japanese prime minister tsutomu nakushima driver killed chelsea bridge two suicide car bombers destroy support spans causing collapse thames italian prime minister antonio gusto wife killed bomb decimates one westminster abbey bell towers finally french president jacques mainard killed barge containing explosives detonates next boat also damaging lambeth bridge houses parliament st paul despite heavy losses banning helps get asher jacobs cover disguised terrorists turn manage reach somerset house marine one takes two escorts terrorists stinger missiles destroy escorts damaging marine one forcing crash-land hyde park though asher banning unharmed jacobs fatally wounded makes banning promise get back perpetrators dying banning leads asher london underground city power including cctv disabled residents take shelter us vice president allan trumbull morgan freeman members president staff work british authorities determine happened trumbull contacted barkawi operating yemen admitting behind attacks threatening kill millions asher t handed learn wilson poisoned death lure leaders london knowing barkawi spent last two years planning trumbull orders staff review barkawi known associates find lead also supports police chief kevin hazard colin salmon decision stand first responders believing terrorists blow cover disobeying order meanwhile banning disables group terrorists followed underground charing cross station contacts kamran promises captures president broadcast execution across internet banning leads asher nearby mi6 safehouse pausing street level long enough relay message trumbull via satellite monitoring banning asher meet mi6 agent jacqueline jax marshall charlotte riley briefs situation upon discovering barkawi involvement asher explains barkawi survived airstrike killed daughter son-in-law jax reveals message trumbull regarding extraction banning verifies authenticity however cameras outside safehouse pick delta force team approaching banning realizes arrived far quickly well re going round back safehouse finding front door locked believes terrorists banning jax evacuate distracts terrorists long enough drive asher side-swiped truck banning briefly incapacitated terrorists drag asher unknown location interrogating terrorist banning saved real combined delta force/sas squad en route extracting president trumbull staff discover london building owned one barkawi companies british intelligence says construction drawing unexpected amount power lack communication come believe barkawi headquarters banning joins squad assault terrorist-guarded building infiltrates building kamran starts beat president 8 00 pm banning arrives room kamran wounds rescues asher ordering sas commander blow building asher take shelter elevator shaft blast wipes kamran terrorists asher banning safely escorted extraction trumbull contacts barkawi informs recovered president look outside barkawi killed second drone strike despite vows war continue meanwhile restoring cctv access jax discovers barkawi aided mi5 intelligence chief john lancaster patrick kennedy kills him two weeks attack london banning home spending time leah newborn child named lynne deceased boss sits front laptop contemplates sending letter resignation tv trumbull speaks regarding recent events leaving inspiring message us prevail convinces banning delete letter'></td></tr></table>"
      ],
      "text/plain": [
       "<IPython.core.display.HTML object>"
      ]
     },
     "metadata": {},
     "output_type": "display_data"
    },
    {
     "name": "stdout",
     "output_type": "stream",
     "text": [
      "The following movies are recommended:\n"
     ]
    },
    {
     "data": {
      "text/html": [
       "<table><tr><td><img src='./images/3446.jpg' title='olympus fallen 2013 american action thriller film directed antoine fuqua written creighton rothenberger katrin benedikt stars gerard butler aaron eckhart morgan freeman angela bassett robert forster cole hauser ashley judd melissa leo dylan mcdermott radha mitchell rick yune supporting roles film depicts north korean-led guerrilla assault white house focuses disgraced secret service agent mike banning butler efforts rescue president eckhart first installment fallen franchise film released march 22 2013 filmdistrict earned 170 million 70 million production budget olympus fallen one two films released 2013 dealt terrorist attack white house white house sequel titled london fallen released march 2016 principal cast members reprising roles another sequel angel fallen works former army ranger mike banning gerard butler lead s secret service agent assigned head s presidential detail banning maintains personal friendly relationship president benjamin asher aaron eckhart first lady margaret ashley judd son connor finley jacobsen snowy christmas evening drive camp david campaign fundraiser car transporting first family spins control bridge due icy conditions banning pulls asher vehicle margaret falls death inside car eighteen months later removed presidential detail banning works treasury headquarters meeting asher south korean prime minister lee tae-woo keong sim dprk ultra-nationalists led kang yeonsak rick yune mount air ground assault results capture white house group aided treasonous members prime minister detail including dave forbes dylan mcdermott former secret service agent asher several top officials held hostage white house bunker south korean prime minister lee executed live video death detail agent roma cole hauser alerts director secret service lynne jacobs angela bassett olympus fallen kang seeks use asher hostage status leverage force s officials withdraw seventh fleet s forces korean peninsula removing american opposition north korean invasion south korea also seeks destroy american nuclear weapons stockpile detonating respective silos across country turning s irradiated wasteland revenge death family accomplish requires access codes system bunker called cerberus held three top government officials within bunker including president asher orders two officials reveal codes save lives certain give code during initial assault kang forces banning joins white house defenders falls back white house disabling internal surveillance gaining access asher satellite ear phone uses maintain contact jacobs allan trumbull morgan freeman speaker house acting president since vice president held hostage president others authorized proceed banning first act save connor kang plans use force asher reveal cerberus code banning finds connor hiding walls thanks training given sneaks boy safety banning begins reconnaissance reduces terrorists numbers banning kills forbes first convincing traitor report kang banning dead meanwhile army chief staff general edward clegg robert forster convinces trumbull order aerial seal assault white house kang discovers assault force activates hydra advanced anti-aircraft system built military discovering system banning advises trumbull clegg abort mission new weapon system annihilates assault force banning stop kang retaliates infiltration killing vice president charlie rodriguez phil austin after banning disables kang communications kang tries execute secretary defense ruth mcmillan melissa leo outside white house front media banning rescues taking several kang men process forces dwindling kang fakes asher death sacrificing several men remaining hostages however banning sees ruse kang would never go without fighting kang eventually cracks asher code using brute-force attack activates cerberus kang remaining men attempt escape banning ambushes kills remaining terrorists process fight asher tries break free kang grip subsequently shot stomach banning kang confront climactic fight breaks kang quickly maintains upper hand eventually banning kills kang stabbing head knife disables cerberus assistance trumbull staff seconds spare daybreak day banning walks asher received soldiers posted await arrival events u begins heal attack banning heads president security detail president asher addresses public banning jacobs clegg connor observe'></td><td><img src='./images/1081.jpg' title='taking lives 2004 american psychological thriller film starring angelina jolie ethan hawke film marketed tagline would kill film opens early 1980s canada teenager martin asher paul dano seen ambling bus station seemingly uncertain destination befriends another teen bus matt soulsby justin chatwin two talk plans future bus breaks two acquire car nearby garage martin driving tire blows matt struggles change tire martin comments matt height kicks matt path oncoming truck last seen toting matt guitar walking away singing voice similar matt twenty years later successful fbi profiler illeana scott angelina jolie summoned help canadian law enforcement montreal apprehend asher killing people years assuming identities travels across north america scott adjust working strange city police team really fit with on ferry quebec city martin mother gena rowlands recognizes son docking locates police officer tells saw son ferry upon telling officer son died 19 years ago discusses matter city official convinced man saw son exclaims officer son dangerous based mrs asher statement body believed son exhumed autopsy the team meets art salesman james costa ethan hawke eyewitness saw asher kill last victim costa makes drawing asher within couple days asher apartment found scott discovers asher next target costa protecting priority number one time spend together scott costa begin develop feelings though scott refuses become involved ongoing case asher flees costa hostage scott pursues scott sees asher die car accident case closed scott packing preparing return home costa visits hotel room without saying anything undresses make passionate love chest drawers bed surrounded gruesome crime scene photos next morning scott awakes find partly covered costa blood first fears dead awakes discover merely popped stitches arm received auto accident as costa stitches repaired hospital scott called morgue mrs asher come identify burned body son killed accident says body son mrs asher scott realize asher still alive mrs asher shocked leaves morgue goes elevator scott chases scott reach elevator door closes scott descends stairs hoping intercept mrs asher ground floor elevator door opens scott sees costa covered blood killed mrs asher scott realizes costa mother police try capture asher escapes hospital scott returns hotel room frantically washes state manic disgust investigation shows man died car accident real asher identified asher actually christopher hart kiefer sutherland drug dealer art thief asher owed 80 000 asher murdered montreal police chase asher escapes train station boards train headed east montreal meanwhile setting next victim sports talent scout calls scott phone taunts scott admits consensual sex asher consequently fired fbi seven months later scott living desolate farmhouse carlisle pennsylvania looking heavily pregnant asher twin boys one day sits alone home discovers asher broken house frantically tries escape asher quickly overpowers reveals found guns hidden throughout house asher makes tea tells could start live together family disgusted scott tells want enraged asher begins beating choking eventually stabs belly pair scissors scott seemingly unharmed stabbing shocks asher quickly stabbing heart scissors asher knees looking disbelief scott removes prosthetic pregnant belly tells past seven months carefully planned trap falls dead film ends scott calling police saying staring window'></td><td><img src='./images/644.jpg' title='tuxedo 2002 american comedy–action film directed kevin donovan starring jackie chan jennifer love hewitt jason isaacs spy spoof involves special tuxedo grants wearer special abilities corporate terrorist threatening poison united states fresh water supply bacteria spills electrolytes blood totally dehydrates host jimmy tong jackie chan taxi driver notorious speed ability get customers anywhere least amount time reputation lands job personal chauffeur mysterious wealthy clark devlin jason isaacs jimmy really know new boss job devlin friendly nature imperturbable demeanor willingness offer jimmy advice wins jimmy two become friends jimmy realize devlin secret spy undercover government agent attempt kill devlin car bombing sends coma jimmy ends devlin recent case notes special watch controls devlin rather unusual tuxedo the tuxedo gadget capable granting wearer special abilities including martial arts speed ability dance various acrobatics jimmy must use stop criminal organization responsible devlin attempted murder group terrorist organization disguised corporation named banning corporation headed notorious ruthless dietrich banning ritchie coster goal take global drinking water supply starting poisoning major us reservoirs means genetically modified water strider insects water striders bacteria spread person person pure chance jimmy joined genius scientist aspirations field work delilah del blaine jennifer love hewitt blaine completely new field work delighted assignment devlin confused jimmy impersonates devlin relying tuxedo special abilities compensate lack skill training at first blaine thinks jimmy weird annoying fraud jimmy impersonation finally exposed confiscates borrowed tuxedo attempts stop evil dietrich banning feigning desire become turncoat banning corporation meanwhile jimmy ready give go back life taxi driver packing belongings discovers devlin ordered second tuxedo jimmy believing jimmy could also great agent using tuxedo jimmy defeats villain banning throwing glass containing queen water striders banning mouth infected bacteria water strider remaining water striders attack banning dies instantaneously as compensation role bringing banning organization uses resources orchestrate operation jimmy finally meet dream girl however confused blaine now-recovered devlin conflicting instructions act jimmy succeeds alarming girl threatening mace operation aborted failure consoling jimmy afterwards blaine admits feeling sad one ever tried jimmy done jimmy tells blaine change accommodating ever wants boyfriend feeling tentative attraction walk away buy coffee'></td><td><img src='./images/771.jpg' title='runs family 2003 comedy-drama movie directed fred schepisi starring three generations douglas family kirk douglas son michael douglas michael son cameron douglas play three generations family diana douglas née dill real-life mother michael douglas ex-wife kirk plays kirk character wife the story involves highly successful new york city family set problems highlights difficulties father-son relationship mitchell gromberg dealing health problems resulting stroke kirk douglas suffered stroke 1996 son alex works lawyer firm father founded questioning usefulness work place family alex son asher take college seriously seems lost youngest son 11 year old eli extremely intelligent socially awkward entering difficult pre-adolescent time alex indulges thoughtless careless brief romantic fling suzie soup kitchen volunteer psychologist wife rebecca discovers threatening marriage evelyn gromberg mitchell wife alex mother dies family comes together heal evelyn funeral suburban new york rebecca tells alex knows romantic fling alex mitchell talk past hurts back home new york city asher discovered illegal drugs although devastated rebecca mitchell supportive vow get help asher mitchell older brother stephen dies alex asher give farewell send-off although forced sleep living room couch mitchell tells rebecca wants make peace agrees'></td><td><img src='./images/1163.jpg' title='dirty love 2005 american romantic comedy film written starring jenny mccarthy directed john mallory asher time filming mccarthy asher married divorced month film released playing heavily mccarthy reputation toilet humor film critically panned box office bomb also received golden raspberry award worst picture +++this article needs improved plot summary september 2015 ++struggling photographer rebecca sommers finds model boyfriend richard bed another woman also destroys camera equipment life falls apart alternates desire revenge upon sexual promiscuity abandonment hope love best friends michelle carrie try set dates include one freakish magician another man gives ecstasy fetish fish attempts make richard jealous taking director reminiscent woody allen runway show ends vomiting breasts front everyone ultimately rebecca realizes focus energy someone truly loves turns john nerdy caring best male friend supportive entire ordeal'></td></tr><tr><td> Similarity:0.543469898779</td><td> Similarity:0.301055015997</td><td> Similarity:0.175642267065</td><td> Similarity:0.132846901922</td><td> Similarity:0.107062246397</td></tr></table>"
      ],
      "text/plain": [
       "<IPython.core.display.HTML object>"
      ]
     },
     "metadata": {},
     "output_type": "display_data"
    }
   ],
   "source": [
    "Recommended_Movies = Get_Recommendations(3934,cos_sim_df)\n",
    "Display_Recommendations(Recommended_Movies,Movie_Map,3934)\n"
   ]
  },
  {
   "cell_type": "code",
   "execution_count": 38,
   "metadata": {},
   "outputs": [
    {
     "name": "stdout",
     "output_type": "stream",
     "text": [
      "Assuming that the user liked Minions:\n"
     ]
    },
    {
     "data": {
      "text/html": [
       "<table><tr><td><img src='./images/3883.jpg' title='minions 2015 american computer-animated comedy film rolling leader t-rex volcano getting caveman leader eaten bear crushing pharaoh pyramids burning dracula birthday party accidentally firing cannon napoleon minions driven isolation decide start new life massive cave arctic many years minions become depressed restless unmotivated without master serve regain dignity sense purpose kevin one fearless minion decides set find new master asks help stuart musically inclined minion bob young inexperienced enthusiastic minion recruited the trio journey new york year 1968 spending day attempting blend minions end department store night discover hidden commercial broadcast villains advertising villain-con convention villains supervillains orlando trio manage hitchhike ride family villains called nelsons impress accidental villainy convention see scarlet overkill first female supervillain impress enough hire scarlet takes minions home england kevin contacts minions later find yeti claim new boss accidentally kill leader yeti minion plays tuba chased cave yeti make way england find kevin bob stuart at home scarlet explains plan steal imperial state crown queen england promises reward minions successfully steal threatening kill t husband herb supplies inventions aid heist nearly caught break tower london leads highly publicized chase ends bob crashing sword stone pulling free removing queen england throne becoming king bob england enraged scarlet confronts minions bob abdicates throne favor scarlet expresses gratitude also undeterred feels betrayed scarlet imprisons three dungeon tortured herb coronation afterwards left alone escape intention apologize scarlet making way westminster abbey three interrupt coronation accidentally dropping chandelier scarlet immediately orders execution dozens villains chase bob stuart caught kevin finds way pub sees scarlet television promising kill stuart bob kevin t show dawn kevin sneaks scarlet home steal weapons inadvertently triggers machine herb building enlarges tramples london rescuing friends minions reunite scarlet tries eradicate kevin swallows massive missile fires scarlet herb attempt escape rocket-dress kevin holds onto missile detonates apparently killing kevin overkills minions briefly mourn kevin returns returned normal size the original queen earlier part story receives place throne crown back rewards bob tiny crown teddy bear stuart electric guitar later replaced snow globe over-enthusiastic stuart breaks guitar knights kevin heroism suddenly realizes crown missing kevin leads chase scarlet herb revealed alive fleeing crowd bejeweled crown suddenly frozen place young gru steals crown takes rocket-powered motorbike minions stare awe bob gives crown frozen scarlet minions see gru new potential master give chase follow home'></td></tr></table>"
      ],
      "text/plain": [
       "<IPython.core.display.HTML object>"
      ]
     },
     "metadata": {},
     "output_type": "display_data"
    },
    {
     "name": "stdout",
     "output_type": "stream",
     "text": [
      "The following movies are recommended:\n"
     ]
    },
    {
     "data": {
      "text/html": [
       "<table><tr><td><img src='./images/2269.jpg' title='17 2009 american comedy film directed burr steers film follows 37-year-old mike matthew perry becomes 17-year-old boy zac efron chance accident film also features leslie mann thomas lennon michelle trachtenberg supporting roles film released united states april 17 2009 in 1989 17-year-old mike donnell zac efron learns start high school championship basketball game girlfriend scarlet porter allison miller pregnant moments game begins leaves game goes scarlet abandoning hopes going college becoming professional basketball player two decades later mike matthew perry 37 years old finds life stalled scarlet leslie mann wife mother two children separated due blaming regrets abandoning future forcing move geeky yet extremely wealthy best friend since high school ned gold thomas lennon job comes another reason frustration due lack higher education since significantly older co-workers passed promotion deserves favor much younger worker destroys boss headpiece resulting termination job high school-age children 17-year-old maggie michelle trachtenberg 16-year-old alex sterling knight want nothing later visiting high school reminisce encounter mysterious janitor brian doyle-murray transforms mike back 17-year-old self after convincing ned identity ned believes mike transformation caused mystical spirit guide trying steer better path mike enrolls high school posing mark gold ned son plans go college basketball scholarship befriends bullied son discovers daughter boyfriend stan hunter parrish respect frequently torments alex mike comes believe mission help meets stan captain basketball team embarrasses front whole school stan insults alex later sex education class teacher handing condoms students basket stan turns mike refuses give saying need causing quiet laughter among class mike makes speech love sex front whole class maggie benefit causing girls give back condoms stan takes condoms claiming stocked weekend kisses maggie passionately mike loses temper starts fight stan episode captured video students goes viral within matter minutes mike loses fight ned called school through children mike spends time scarlet notes remarkable resemblance husband high school rationalizes odd coincidence deciding also try fix relationship scarlet mike begins finish pretense getting volunteer credit garden projects abandoned adult due inability move high school years best separate stan maggie also encouraging alex confident make basketball team go girl crush mike difficulty resisting desire scarlet despite relationship clear inappropriateness ned meanwhile begins pursue school principal increasingly extravagant stunts order win affections adamantly rebukes attending birthday party fellow student mike learns maggie plans attend local college closer stan managerial track home depot instead attending georgetown mike insists stan good forbids see causing maggie storm angrily confused after mike alex help win basketball game mike decides throw party ned house order increase alex popularity school mike finds maggie sobbing learns refused stan requests sex causing dump mike comforts invites party ned manages secure date principal promising buy every student laptop date ned tries impress taking fancy restaurant pretending know things wine confess nerd remains unfazed surprised secret nerd appears quite attracted party maggie makes aggressive sexual advance mike confusing causing admit love someone else scarlet arrives order reprimand children attending party mike shows alex finally managed get together crush leading mike scarlet intimate conversation mike accidentally tries kiss disgusted storms mike tries unsuccessfully explain true identity slapped scarlet maggie many girls attracted ned arrives principal find party angrily orders everyone leave last guest departs principal confesses would unwise seen dating parent says see other on day court hearing finalize scarlet mike divorce mike makes one last attempt win back mark reading supposed letter mike states although could t set things right beginning life n change fact still loves also explains even though still wants let move exits scarlet notices letter actually directions courtroom begins grow curious result postpones divorce month frustrated could salvage marriage mike decides path follow decides pursue scholarship move new life high school basketball game mike reveals scarlet scarlet runs away hall mike decides chase handing ball son mike transformed back 37-year-old self reunites scarlet as mike prepares first day new coach children school ned successfully started relationship principal gifts whistle happy new starts life'></td><td><img src='./images/360.jpg' title='line 2001 american romantic comedy film starring lance bass joey fatone emmanuelle chriqui film directed eric bross written eric aronson paul stanton based upon short film name kevin lance bass performing band high school graduation party sees attractive girl bandmates try get sing ask becomes nervous envisions nude front everyone faints seven years later kevin working advertising makes pitch reebok rejected though pitch later used meeting partner jackie tamala jones presents takes train home work kevin meets abbey emmanuelle chriqui finds much common mutual interest chicago cubs al green kevin tries find abbey making posters imploring abbey contact placing town goes random women respond none abbey local newspaper finds search sets interview reporter brady frances dan montgomery jr old classmate harbors ill toward kevin account girl high school rejected brady kevin brady article published kevin gets hundreds calls leads dateless roommates aspiring musician rod joey fatone ; slacker eric gq ; art aficionado randy james bulliard — suggesting date callers help kevin rejects idea miscommunication leads eric believe kevin approved follow article published brady portrays kevin failure garners even calls women brady irritated girlfriend julie amanda foreman bothered grudge kevin takes kevin side meanwhile abbey problems boyfriend three years visiting met kevin boyfriend buys tickets al green concert cancels last minute kevin also concert never see despite several close calls kevin roommates date women responded articles order find abbey encounter julie tells brady kevin friends answering calls dating respondents brady reports scam follow-up article result reebok declines work kevin taken project kevin subsequently sees abbey waiting train tries get attention sees boards train doors close get kevin also learns abbey responded public search learns eric went date punches eric after kevin best friend agency nathan jerry stiller suffers heart attack kevin visits rehab facility nathan tells story meeting wife chicago cubs game catching home run cubs legend ernie banks day two events tied together gives kevin baseball tells try find abbey again jackie apologizes kevin places charges campaign billboards uses billboards publicly ask abbey meet train station specific day time garners interest media wait scheduled time kevin abbey reunited station much delight crowd station television viewers home roommates watching unfold bar addition randy meets women enjoys art julie dumps brady rod offered recording contract record label listening demo tape kevin sent brady given advice column living section chicago times'></td><td><img src='./images/2614.jpg' title='lottery ticket 2010 american comedy film directed erik white starring bow wow brandon jackson naturi naughton keith david charlie murphy gbenga akinnagbe loretta devine ice cube lead roles story follows young man wins 370 million lottery soon realizes people city real friends money film released august 20 2010 the film follows kevin carson bow wow young man living projects grandmother loretta devine kevin dreams one day designing sneaker line currently works foot locker dreams supported two best friends benny brandon jackson stacey naturi naughton comes across lorenzo gbenga akinnagbe neighborhood bully meanwhile everyone neighborhood trying win mondo million dollar lottery 370 million lorenzo demands kevin gives three friends three sets sneakers lorenzo shows kevin job foot locker grabs shoes alarms go police arrive kevin accidentally pays shoes lorenzo attempts explain police intend give shoes lorenzo lorenzo arrested shoplifting kevin loses job on way home buys mondo millionaire lottery ticket gas station playing grandmother lucky numbers meets benny tells whole neighborhood heard kevin snitched lorenzo even called one friends defeated kevin goes home quickly falls asleep later numbers lottery announced grandma ticket t win kevin finds ticket 370 million however benny head claims office told must wait three days office reopen due fourth july weekend news kevin winning ticket spreads entire neighborhood swarms home begging cut money nikki swayze teairra marí previously rejected kevin suddenly develops interest angers stacey tells kevin nikki money kevin believe kevin benny meet loan shark sweet tee keith david gives kevin 100 000 go fun date kevin nikki secretly tries make get pregnant kevin refuses nikki reveals kevin legally trying get half money baby leaves house angry upset upon leaving building man calls basement window kevin meets mr washington retired boxer invites house conversation the next day kevin attends church grandmother benny comes tells lorenzo looking ticket lorenzo comes stopped churchgoers kevin tries escape confronted lorenzo crew sweet tee bodyguard saves kevin gun lorenzo emerges physically breaks hand kevin runs train station lorenzo boys chasing kevin leaps onto train thinking safe lorenzo gets however kevin hops doors close train leaves station lorenzo on later day kevin benny argument ticket leads speaking goes stacey house tells kevin thinks wrong entire situation also tells girl leads getting angry telling get kisses responds accordingly interrupted arrival mother kevin leaves house lorenzo knocks unconscious takes one kevin sneakers ticket following day wakes apartment mr washington ice cube talks kevin also takes time reconcile benny make scheme fool lorenzo ticket fake later pisses lorenzo later neighborhood block party kevin faces lorenzo verge defeat kevin saved mr washington comes knocks lorenzo unconscious afterwards benny tells kevin give lottery ticket protection day came kevin gets money months later kevin benny stacey board kevin new helicopter fly work kevin sneaker company'></td><td><img src='./images/428.jpg' title='worst could happen 2001 american comedy film directed sam weisman starring martin lawrence danny devito loosely based book name donald westlake film supporting cast includes john leguizamo bernie mac larry miller nora dunn gq william fichtner kevin caffrey thief connoisseur local auction looking things worth stealing meets amber belhaven auctioning father painting pay hotel bill kevin asks amber hotel room leads amber asking trying sleep kevin blinks rapidly lies also telling blinks lies kevin asks amber could see sometime amber pretends thing kevin says yes knowing hotel staying shows room painting auctioned stolen kevin tells amber stealing business shocks amber first accepts order kevin later gives kevin father lucky ring elsewhere max fairbanks snarky businessman whose company tui going bankruptcy going lawyer walter greenbaum save company walter exhausted max take proceeding seriously still spends freely even asking declare bankruptcy immediately without trying budget assets protected tells wife lutetia fairbanks company technical procedure disguise company really going kevin goes local bar uncle jack owns see amber whilst inside also runs friend berger also thief happens know places hit kevin going outside tell max fairbanks shows article max current situation company well could t access due critical condition chapter 11 bankruptcy code includes going beachfront mansion kevin berger go house rob max captures kevin police take kevin away max spots amber ring tells police ring also stolen kevin forced hand ring escaping police kevin returns beach house get ring back max fails find angry max kevin finishes started robbing max valuables inside house one max three cars outside kevin tells amber ring stolen him the next day exasperated walter informs max banned summer house breached terms bankruptcy max flippantly says ll fine ring lucky charm meanwhile kevin berger hire shelly nix computer hacker track max whereabouts hacking e-mail airplane flight max talks associate gloria psychic ring gloria consults cards draws king five daggers head shocked result gloria t tell max drew pretends phone connection breaking max meets judge thought paid keep house insults lead judge ordering sell house contents public auction upon knowing max plan go cocktail party head beach house one final visit kevin berger help partners windham edwina rob another one max houses next morning max finds house robbed meets detective alex tardio robbery division enough kevin stealing calls head security earl redburn kevin finds shelly max going washington d senate hearing apartment kevin berger go washington try rob max apartment kevin learns max intends secretly bribe senators replaces bribe money insulting notes max name max earl later storm apartment deduced kevin presence ensuing scuffle kevin tries steal back ring instead steals max wedding ring afterwards amber decides kevin feud max gone far longer cares ring max later addresses senate committee gets call kevin tells max give ring back give back max refuses proceeds repeatedly curse kevin senators viewers appears speaking result hearing ends badly max going back apartment philadelphia walter quits lawyer earl tells hacked max tells earl plan get kevin all kevin goes jack find amber jack tells kevin stop robbing max personal conflict forget ring berger tells kevin max bankruptcy auction much auction full valuables worth jack wants max gets call lutetia max behavior tv tells come home amber breaks kevin due obsession max ring lutetia finds amber jack bar wearing jacket kevin stole house confronts amber tells max stole ring gave kevin knowing situation come plan gloria thinking max still draws card decides come clean noticing bad tells put end max still refuses give kevin ring realizing max arrogant determination keep ring quits associate goes tardio give max company records at bankruptcy auction lutetia tells max wishes well sends masseuse earl keeps looking kevin monitors berger jack windham edwina set scheme motion edwina windham disguised waiters real waiters bound gagged truck berger disguised auctioneer jack associate tied gagged original auctioneer shelly hacks max security system crooks steal much later flee windham plants smoke bombs obscure escape calls fire brigade 2 00 shelly plants video kevin delivering message max robbed without earl monitors angry enraged max goes smoke find kevin firefighter actually kevin disguise drags smoke stealing ring process kevin steals max boat escape max jumps onto boat struggles kevin get back ring hitting buoy causing boat sink kevin max find ring fake ring inscription inside said grow message got lovers max realises lutetia induced masseuse steal ring massage when tardio finds max kevin kevin tells tardio saving max max corroborates story telling tardio never met kevin kevin thanks max tells owes one going back hotel amber used moved kevin shows ring revealing masseuse tells kevin ring bad luck throw away kevin agrees flings ring sight gets back together amber kevin pretending max lawyer fixes senate hearing goes press conference victorious max kevin part ways kevin steals one max watches'></td><td><img src='./images/851.jpg' title='stuck 2003 comedy film directed farrelly brothers starring matt damon greg kinnear conjoined twins whose conflicting aspirations provide conflict humorous situations particular one wishes move hollywood pursue career actor conjoined twins bob walt tenor try live normally possible outgoing sociable walt aspires hollywood actor however whereas shy introverted bob prefers quiet life run quikee burger diner oak bluffs martha vineyard guarantees free meals customers whose orders completed three minutes testament skilled sync bob walt though walt comfortable socializing women bob shyer two carries long-distance relationship pen pal named may fong never met person unaware conjoined twins walt gets role local play bob stays much possible background tendency get stage fright following play success walt decides follow dream hollywood persuades hesitant brother go along ride rent apartment california become friends fellow aspiring actress april mercedes expresses curiosity conjoinment walt explains share liver mostly bob surgical separation entails higher risk walt bob would consent surgery even though walt favored also reason walt appears somewhat older bob greg kinnear seven years older matt damon real life walt efforts find acting work hollywood fraught difficulty agent morty reilly little help offering one point get job pornographic film cher upset ended starring prime-time tv show called honey beaze wants deal decides hire walt co-star since contract states choose anyone wants certain show get cancelled producers realizing cher scheme foil going forward production compensating bob presence keeping camera frame employing bluescreen effects show surprise hit walt becomes famous walt arranges may fong come california although without bob consent bob may fong develop romantic relationship though twins attempt keep conjoined nature secret proves challenging especially since walt must accompany new couple everywhere sometimes using creative solutions like disguising giant teddy bear eventually however may discovers twins bed concludes homosexual couple rather brothers although bob shows may indeed conjoined twins may nonetheless even greater shock deception flees morty informs twins word leaked walt bob conjoined rather hide twins decide embrace become huge celebrities making commercials appearing tonight show jay leno walt enjoys success knows bob unhappy misses may resolving bob needs independent order happy walt demands surgically separated bob refuses walt determined convince begins acting wild crazy bob longer take walt starts make fool getting drunk accidentally snatching woman purse eventually end spending night jail drunk driving even though walt drinking bob one suffers hangover since shared liver mostly released following morning get fight bob decides go operation on night surgery may shows apologizes bob running way bob informs re getting separated although want knows best hospital may april keep vigil learning ben carson real-life neurosurgeon playing cameo role surgery successful bob may small-town people decide move back oak bluffs bob finds separation walt difficult practically emotionally unable things twins used together maintain quikee burger three-minute challenge play hockey walt part loses job honey beaze canceled due low ratings finds difficult find subsequent work also emotionally devastated bob absence brief talk cher best decides move back oak bluffs one year later walt bob back oak bluffs running restaurant together bob may married may pregnant twins simulate former conjoinment velcro clothing attaches one another walt finds creative fulfillment continuing local plays including musical meryl streep play bonnie clyde'></td></tr><tr><td> Similarity:0.237926883929</td><td> Similarity:0.160253052959</td><td> Similarity:0.149015292148</td><td> Similarity:0.12885679193</td><td> Similarity:0.123991901771</td></tr></table>"
      ],
      "text/plain": [
       "<IPython.core.display.HTML object>"
      ]
     },
     "metadata": {},
     "output_type": "display_data"
    }
   ],
   "source": [
    "Recommended_Movies = Get_Recommendations(3883,cos_sim_df)\n",
    "Display_Recommendations(Recommended_Movies,Movie_Map,3883)\n"
   ]
  },
  {
   "cell_type": "code",
   "execution_count": 39,
   "metadata": {},
   "outputs": [
    {
     "name": "stdout",
     "output_type": "stream",
     "text": [
      "Assuming that the user liked Paranormal Activity 2:\n"
     ]
    },
    {
     "data": {
      "text/html": [
       "<table><tr><td><img src='./images/2635.jpg' title='paranormal activity 2010 american found footage supernatural horror film directed tod williams written michael perry film prequel/sequel 2007 film paranormal activity beginning two months following events depicted original film released theaters midnight october 22 2010 united states united kingdom canada mexico brazil argentina poland ireland august 2006 burglary occurs home kristi sprague grayden daniel rey brian boland entire house trashed except infant son hunter bedroom daniel installs security cameras throughout house vandalism capture many strange occurrences martine vivis cortez hispanic family housekeeper nanny goes hunter room hearing loud bang senses demonic presence room takes downstairs attempts cleanse house evil spirits daniel arrives home catches burning sage martine fired kristi believes home haunted tells daniel daniel reviews footage dismisses claims kristi talks sister katie katie featherston tormented demon little girls daniel daughter ali molly ephraim begins investigating mysterious occurrences discovers humans make deals demons wealth power forfeiting soul first-born son also discovers hunter first male born kristi side since 1930s the violence quickly escalates family german shepherd abby becomes aware demon presence attacked daniel ali take abby veterinarian leaving kristi alone hunter kristi checks baby demon assaults drags basement stays hour finally basement door opens possessed kristi walks following day ali home kristi get bed finds basement door covered scratches word meus latin mine etched it ali goes upstairs check hunter sees kristi strange bite mark leg ali tries get hunter kristi furiously orders touch terrified ali begs daniel come home arrives shows footage kristi attack immediately calls martine prepares cross exorcise demon tells kristi memory possessed since curse transferred blood relative daniel tells ali going pass demon onto katie kristi hunter safe ali begs unfair katie daniel sees way save wife son that night daniel tries use cross kristi attacks houselights go using handheld camera night vision finds kristi hunter disappeared furniture starts topple chandeliers begin shake daniel chases kristi basement attacks touches cross collapses daniel hears demonic growls finally shaking stops daniel puts kristi bed burns photo young katie photo micah sloat later finds attic katie house first film three weeks later katie visits explains strange things started happening house returns home boyfriend micah october night micah killed possessed katie breaks daniel kristi home kills daniel snapping neck watches tv kills kristi hunter room violently hurling camera takes baby leaves cradling hunter screen fades black hunter crying turns laughter an epilogue text states ali school trip found bodies daniel kristi upon return home katie hunter whereabouts remain unknown'></td></tr></table>"
      ],
      "text/plain": [
       "<IPython.core.display.HTML object>"
      ]
     },
     "metadata": {},
     "output_type": "display_data"
    },
    {
     "name": "stdout",
     "output_type": "stream",
     "text": [
      "The following movies are recommended:\n"
     ]
    },
    {
     "data": {
      "text/html": [
       "<table><tr><td><img src='./images/2836.jpg' title='paranormal activity 2011 american found footage supernatural horror film directed henry joost ariel schulman third chronologically first installment paranormal activity series serves prequel mostly set 18 years prior events first two films released theaters october 21 2011 paranormal activity also joost schulman first horror film in 2005 katie delivers box old videotapes pregnant sister kristi husband daniel holds footage young katie kristi mother julie boyfriend dennis year later kristi daniel house ransacked tapes missing in 1988 young katie kristi living mother julie boyfriend dennis dennis notices since kristi imaginary friend toby appeared strange things happening around house dennis julie attempt make sex tape interrupted earthquake camera shows dust fall ceiling land invisible figure room reviewing footage dennis notices strange incident friend randy suggests dennis place cameras throughout house capture incidents night girls bedroom kristi wakes talks someone off-camera dennis questions following day kristi tells toby later kristi tea party toby katie walks calls kristi baby imaginary friends goes closet look toby door slams shut own dennis julie later hire babysitter named lisa watch kids abruptly leaves couple gets home blanket looks like someone immediately drops empty footsteps heard running away next night kristi wakes toby tells re friends anymore causes toby throw off-screen fit dennis discovers strange symbol girls closet following morning later finds symbol book demonology kristi becomes ill julie dennis take hospital katie left home randy play bloody mary girls bathroom nothing happens katie insists try randy attacked discovers large scratch torso try leave bathroom black figure moves past door second time try leave furniture violently flung across room julie dennis return randy quickly leaves warning whatever re dealing dangerous dennis tells julie symbol found girls room belonged witches coven brainwashed girls child-bearing age sons force give sons would remember anything afterward julie dismisses claim instead argues dennis the invisible demon terrorizes katie kristi harming katie kristi agrees asks next day kristi asks mother take grandmother lois house moorpark california refuses julie encounters frightening activity agrees go lois home dennis sets another camera new bedroom 1 awoken loud disturbances julie goes investigate fails return dennis goes look calls julie girls apparently one downstairs dennis notices human silhouette behind curtain looks one finds occult imagery walls including symbol girls room concealed behind paintings dennis enters garage discovers several women including lois dressed black flees back house women pursuit house finds julie top stairs approaches sees limp body levitating ground body thrown dennis knocking stairs sees kristi hides closet demon growls bangs door eventually leaves dennis kristi leave closet walk kitchen window dennis sees women outside garden circling around bonfire find katie crying stairs near julie body dennis approaches katie behind places hand shoulder katie turns around unleashes demonic scream throws side room injuring leg katie flees dennis tries crawl toward julie body lois stands way dennis body violently contorted killing lois beckons kristi katie start going upstairs lois tells get ready head upstairs kristi calls toby leave camera lying floor goes static black low growling sounds heard upstairs'></td><td><img src='./images/2036.jpg' title='blood 2007 american historical drama film written directed paul thomas anderson starring daniel day-lewis paul dano film inspired upton sinclair novel oil tells story silver miner-turned-oilman day-lewis ruthless quest wealth southern california oil boom late 19th early 20th centuries kevin connor ciarán hinds dillon freasier also featured film in 1898 daniel plainview prospector new mexico mines potentially precious ore vein pit mine hole process dynamiting lode falls broken rung tunnel ladder breaks leg saves silver sample climbs mine drags nearest assay office evaluate find receives silver gold certificate claim 1902 discovers oil near los angeles california establishes small drilling company following death worker accident daniel adopts man orphaned son boy named becomes nominal business partner allowing daniel paint potential investors family man in 1911 daniel approached paul sunday tells oil deposit family property little boston california daniel attempts buy farm bargain price however eli paul twin brother pastor local church aware plan eli demands 10 000 states church agreement made daniel goes acquire available land area except one holdout william bandy oil production begins on-site accident kills worker gas blowout robs hearing eli blames disasters well properly blessed eli demands 5 000 daniel still owes family daniel beats humiliates dinner table eli berates father trusting daniel man arrives daniel doorstep claiming half-brother henry daniel hires henry work two grow closer h sets fire house intending kill henry angered son behavior daniel sends away school deaf san francisco leaves train representative standard oil offers buy daniel local interests daniel elects strike deal union oil construct pipeline california coast though bandy ranch remains impediment while reminiscing childhood daniel becomes suspicious henry one night holds gunpoint henry confesses friend real henry died tuberculosis fit rage daniel murders impostor buries body next morning daniel awakened mr bandy knows previous night events wants daniel repent church part daniel baptism eli humiliates coerces acknowledging bad father time later pipeline well way h returns reunites daniel eli leaves town perform missionary work in 1927 h marries eli paul sister mary daniel extremely wealthy raging alcoholic lives recluse large mansion sign language interpreter h asks daniel dissolve partnership establish oil company mexico daniel reacts brutally mocks deafness reveals true origins orphan h leaves telling daniel grateful related soon eli visits daniel drunk passed private bowling alley eli radio preacher offers sell daniel land william bandy recently died daniel agrees condition eli loudly denounces faith credibility swallowing pride eli reluctantly daniel reveals property worthless already drained oil surrounding wells shaken desperate eli confesses dire financial straits daniel taunts eli claims paul oil company daniel snaps begins attacking eli chases around bowling room eventually daniel kills eli smashing head bowling pin daniel butler comes check daniel says casually finished'></td><td><img src='./images/238.jpg' title='believer 2001 american drama film directed henry bean written bean mark jacobson stars ryan gosling daniel balint jew becomes neo-nazi film loosely based true story dan burros daniel balint former jewish yeshiva student brilliant troubled fanatically violent neo-nazi new york early twenties child often challenged teachers unorthodox interpretations scripture argued binding isaac abraham faith god power god want abraham accomplish particular task instead asks unquestioning obedience abraham refuses give concluded god bully daniel finds meeting fascists run curtis zampf lina moebius also makes connection lina daughter carla daniel advocates killing jews banker named manzetti particular curtis lina oppose harming jews practical moral grounds impressed daniel intelligence lina invites camp retreat country afterward daniel fellow neo-nazi friends pick fight two african-american men get arrested bailed jail carla spends night returns home ailing father daniel searches hebrew school notebooks finds semiautomatic pistol harangued sister linda nazi beliefs also urges stay shabbat dinner father men watch television forbidden leading commiserate incomprehensibility jewish law guy danielsen journalist writing article hate groups wake oklahoma city bombing meets daniel interview listens daniel antisemitic rant reveals contact daniel old rabbi stanley nadelman knows daniel jewish daniel pulls pistol threatens commit suicide guy publishes truth daniel goes lina fascist camp retreat meets drake skilled marksman along explosives expert six retreat participants including daniel go jewish deli mock patrons torment owner jewish dietary laws fight breaks fight daniel friends required court take sensitivity training listen experiences holocaust survivors one talks infant son murdered nazi daniel enraged man nothing save son survivors assert daniel would also done nothing avoid killed walks anger the story haunt imagines nazi jew later night daniel neo-nazis break synagogue vandalize plant bomb pulpit also tear trample spit torah scroll though daniel protests leave daniel takes scroll tallit next morning neo-nazis hear news bomb failed go timer froze thirteen minutes rabbi explains mystical number judaism says believes means god protected synagogue back cabin daniel cleans repairs scroll envisioning nazi soldier holocaust survivor story puts tallit shirt performs combination nazi salute gesture used jewish prayers drake soon approaches plan kill manzetti two ambush outside temple daniel fires misses drake sees tallit daniel shirt realizes jew daniel shoots escapes continues meet lina curtis want start above-ground movement bring fascism political mainstream inviting jews blacks liberals daniel reluctantly agrees help raise funds meetings follow daniel first charms enrages potential donors intellectual games leading eventual expulsion group hears manzetti killed lina suspects daniel since proposed assassination drake real killer in meantime carla comforts daniel two sleep together home sees stolen torah asks daniel teach hebrew ostensibly intellectual reasons also begin practice jewish rituals soon runs old friend fiancée stuart miriam invite rosh hashanah service assuming anti-racist skinhead daniel arrives another old friend calls racist skinhead leaving miriam works district attorney tells half people lina moebius meetings informants a later asks daniel record conversations meeting help possible charges stemming manzetti killing refuses miriam confesses t care truth cares daniel as yom kippur approaches daniel calls miriam insists taking stuart place reading torah bimah yom kippur friends plant new bomb temple pulpit even though find reinforced limiting explosion daniel takes pulpit next day shocked see carla congregation imagines story holocaust survivor told time nazi jew five minutes go daniel stops tells everyone get bomb refuses leave himself daniel shown mystical vision ascending stairs jewish school left child old teacher approaches hoping talk binding isaac suggests isaac died mountain reborn next world daniel ignores keeps going infinitely teacher urges stop calling nothing'></td><td><img src='./images/3119.jpg' title='paranormal activity 2012 american found footage supernatural horror film directed ariel schulman henry joost written christopher landon story chad feehan film features katie featherston starred first film cameos two film released theaters imax october 17 2012 united kingdom released october 18 2012 united states paramount pictures fourth installment paranormal activity series sequel paranormal activity set several years later on october 2006 kristi rey husband daniel killed demon-possessed sister katie abducts kristi one-year-old son hunter text states katie hunter whereabouts remained unknown now years later november 2011 alex nelson kathryn newton lives suburban henderson nevada father doug mother holly little brother wyatt alex boyfriend ben discover new neighbor son robbie hiding family tree house next day robbie mother falls ill taken hospital leaving robbie care family alex skyping ben hears front door open leaves webcam room robbie darts past screen one night alex sleeping ben computer starts recording sees robbie getting bed next day goes kids playhouse wyatt starts telling robbie friend toby turn xbox kinect system alex films alex talks robbie behind green blur rushes past screen the next day alex shows dad thinks joke alex ben set cameras house night 3 robbie wyatt running wildly house next day alex kitchen making sandwich basketball starts dribbling stairs bedroom starts hearing strange noises loud bang downstairs alex investigates finds trail toys leads closet suddenly toy train turns behind spooks alex finds robbie runs away saying like filming us chandelier falls almost kills her on night 6 alex sees many cars parked outside robbie house goes check runs back home caught strange woman black gown next day wyatt playing house chairs start moving stop tracks wyatt pushes bike off-screen appear pushed back invisible force alex ben living room hear loud thud upstairs go boys closet wyatt reveals green symbol back tells meet alex ben learn symbol witches coven one would unleash demon possess young boy read learn complete possession ritual wyatt would need spill blood virgin ben jokes alex virginity spook next day boys suddenly leave go robbie house alex follows boys katie original film presumably robbie mother returned hospital appearing well normal in next scene holly kitchen cutting vegetables knife using vanishes thin air later wyatt explains alex katie knew robbie adopted wyatt real name hunter katie told wyatt old family wants back next night wyatt goes downstairs argues toby saying name hunter wyatt taking bath holly goes downstairs minutes holly answers phone call wyatt gets pulled underwater toby rises appears trance later night holly gives alex sleeping pills trouble sleeping alex asleep wyatt makes blanket fly bed levitates mid-air on night 12 possessed katie seen sneaking around alex garage door starts opening closing alex hears garage door open goes close mysteriously opens alex goes door crashes locking almost killing katie enters house goes upstairs wyatt room tells ll wait ready family car turns begins spewing exhaust alex escapes breaking car crashing garage door alex attempts show parents footage incident footage mysteriously erased alex tries explaining happened parents think gone crazy the next night doug downstairs watching tv couch hears creak kitchen investigates moment seconds shuts computer knife vanished falls right camera convinces doug believe alex two go dinner talk strange events gone holly violently thrown ceiling drops floor dying upon impact katie drags body away ben comes goes inside looks alex one home hears bang upstairs attempts leave message alex laptop katie appears suddenly kills ben snapping neck alex doug arrive home doug goes next door believing saw holly wyatt goes investigate alex calls ben phone hears ringing closet finds ben body suddenly knocked force presumably toby flees katie home searches doug find instead alex finds doug screaming dragged hall sight continues search doug hears wyatt voice off-screen suddenly katie runs towards camera shrieking demonically alex escapes katie jumping window finds wyatt yard wyatt refuses leave looks behind alex alex looks sees dozens witches running towards turns around katie lunges camera falls ground screen cuts black'></td><td><img src='./images/344.jpg' title='mockingbird t sing 2001 american independent film based true story genie modern-day feral child los angeles 1970 katie standon tarra steele girl imprisoned room without human contact since age one thirteen years old mother louise cataracts kim darby taken enough abuse domineering husband wes jack betts ; gets son billy years older katie michael azria help katie escape home at welfare office social worker notices something peculiar katie guesses age seven fact thirteen katie taken children hospital louise wes find arrested authorities calling worst case child abuse ve ever seen shortly trial begins wes kills doctors psycholinguists investigating case form katie team group experts dedicated helping katie learn speak interact others one team members judy bingham sean young special education teacher sees katie pawn use attain international fame claims katie make next anne sullivan ucla graduate student sandra tannen melissa errico one people appear katie welfare heart katie comes live dr norman glazer joe regalbuto works children hospital family stays four years family helps katie become civilized human although katie shows outstanding progress things learning vocabulary words sign language preparing hygiene showing anger certain activities never really learns grammatical structure meanwhile louise surgery remove cataracts visits katie on when katie turns eighteen funding help cut returns louise care soon comes point louise know handle katie katie gets placed another foster home one day katie physically punished vomiting responds never eating speaking afraid opened mouth would vomit punished again sandra make sure katie handled proper way even norman help katie taken back children hospital sandra suggested social services katie live decisions made louise takes katie hospital puts another foster home sandra t allowed say goodbye katie louise even threatens take legal action sandra ever sees katie again sandra finally asks louise katie placed extreme isolation discovery louise tells entire story wes loved mother much died due accident projected feelings onto katie doctor examined katie sometime later diagnosed retarded wes locked afraid doctors might take away louise starting go blind wes took care katie sandra leaves house running judy clear knew louise long time sandra judy quick argument judy enters louise house leaving sandra almost crying point different kinds footage katie appear screen sandra looks tape recordings katie tv seen writing something typewriter voice addresses viewers hoping see katie camera turns boyfriend holding baby screen fades sings hush little baby lullaby screen fades footage katie beach seen messages appear saying happened everyone movie judy continues harass katie team death 1988 louise blind resides south-californian nursing home sandra tannen professor linguistics ucla two teenage daughters however still allowed contact katie lives foster home nearby last message screen turns black credits appear reads katie inability learn language proved legitimacy critical period hypothesis'></td></tr><tr><td> Similarity:0.526099643661</td><td> Similarity:0.242463753141</td><td> Similarity:0.234107937331</td><td> Similarity:0.189501563318</td><td> Similarity:0.182762222917</td></tr></table>"
      ],
      "text/plain": [
       "<IPython.core.display.HTML object>"
      ]
     },
     "metadata": {},
     "output_type": "display_data"
    }
   ],
   "source": [
    "Recommended_Movies = Get_Recommendations(2635,cos_sim_df)\n",
    "Display_Recommendations(Recommended_Movies,Movie_Map,2635)"
   ]
  },
  {
   "cell_type": "code",
   "execution_count": 40,
   "metadata": {},
   "outputs": [
    {
     "name": "stdout",
     "output_type": "stream",
     "text": [
      "Assuming that the user liked Captain America: The First Avenger:\n"
     ]
    },
    {
     "data": {
      "text/html": [
       "<table><tr><td><img src='./images/2731.jpg' title='captain america first avenger 2011 american superhero film based marvel comics character captain america produced marvel studios distributed paramount pictures using information extracted zola final hydra stronghold located rogers leads attack stop schmidt using weapons mass destruction major cities around world rogers climbs aboard schmidt aircraft takes subsequent fight tesseract container damaged schmidt physically handles tesseract causing dissolve bright light tesseract burns plane lost ocean seeing way land plane without risk detonating weapons rogers crashes arctic stark later recovers tesseract ocean floor unable locate rogers aircraft presuming dead rogers awakens 1940s-style hospital room deducing anachronistic radio broadcast something wrong flees outside finds present-day times square s i l director nick fury informs asleep nearly 70 years post-credits scene fury approaches rogers proposes mission worldwide ramifications'></td></tr></table>"
      ],
      "text/plain": [
       "<IPython.core.display.HTML object>"
      ]
     },
     "metadata": {},
     "output_type": "display_data"
    },
    {
     "name": "stdout",
     "output_type": "stream",
     "text": [
      "The following movies are recommended:\n"
     ]
    },
    {
     "data": {
      "text/html": [
       "<table><tr><td><img src='./images/2933.jpg' title='marvel avengers simply avengers 2012 american superhero film based marvel comics superhero team name produced marvel studios distributed walt disney studios motion pictures sixth film marvel cinematic universe film written directed joss whedon features ensemble cast includes robert downey jr chris evans mark ruffalo chris hemsworth scarlett johansson jeremy renner tom hiddleston clark gregg cobie smulders stellan skarsgård samuel jackson film nick fury director peacekeeping organization h e d recruits iron man captain america hulk thor form team must stop thor brother loki subjugating earth the asgardian loki encounters leader extraterrestrial race known chitauri exchange retrieving tesseract powerful energy source unknown potential promises loki army subjugate earth nick fury director espionage agency h e d lieutenant agent maria hill arrive remote research facility evacuation physicist dr erik selvig leading research team experimenting tesseract agent phil coulson explains object begun radiating unusual form energy tesseract suddenly activates opens wormhole allowing loki reach earth loki takes tesseract uses scepter enslave selvig couple agents including clint barton aid getaway in response attack fury reactivates avengers initiative agent natasha romanoff sent calcutta recruit dr bruce banner trace tesseract gamma radiation emissions coulson visits tony stark review selvig research fury approaches steve rogers assignment retrieve tesseract in stuttgart barton steals iridium needed stabilize tesseract power loki causes distraction leading brief confrontation rogers stark romanoff ends loki surrender loki escorted h e d thor adoptive brother arrives frees hoping convince abandon plan return asgard confrontation stark rogers thor agrees take loki h e d flying aircraft carrier helicarrier upon arrival loki imprisoned banner stark attempt locate tesseract the avengers become divided approach loki revelation h e d plans harness tesseract develop weapons deterrent hostile extraterrestrials group argues barton loki possessed agents attack helicarrier disabling one engines flight causing banner transform hulk stark rogers work restart damaged engine thor attempts stop hulk rampage romanoff fights barton knocks unconscious breaking loki mind control loki escapes killing coulson ejecting thor airship hulk falls ground attacking h e d fighter jet fury uses coulson death motivate avengers working team stark rogers realize loki simply defeating enough needs overpower publicly validate ruler earth loki uses tesseract conjunction device selvig built open wormhole stark tower chitauri fleet space launching invasion rogers stark romanoff barton thor rally defense new york city wormhole location banner arrives transforms hulk together avengers battle chitauri evacuating civilians hulk finds loki beats submission romanoff makes way wormhole generator selvig freed loki mind control reveals loki scepter used shut generator meanwhile fury superiors attempt end invasion launching nuclear missile midtown manhattan stark intercepts missile takes wormhole toward chitauri fleet missile detonates destroying chitauri mothership disabling forces earth stark suit runs power falls back wormhole romanoff closes stark goes freefall hulk saves crashing ground aftermath thor returns loki tesseract asgard fury expresses confidence avengers return needed in mid-credits scene confers master3 failed attack earth post-credits scene avengers eat silence shawarma restaurant'></td><td><img src='./images/437.jpg' title='schmidt 2002 american comedy-drama film written directed alexander payne produced michael besman harry gittes rachael horovitz co-written jim taylor music rolfe kent starring jack nicholson title role film also stars hope davis dermot mulroney kathy bates loosely based 1996 novel title louis begley schmidt theatrically released december 13 2002 new line cinema film commercial critical success earned 105 834 556 30 million budget schmidt released dvd vhs formats released blu-ray first time february 2015 warren schmidt retiring position actuary woodmen world life insurance company omaha nebraska retirement dinner schmidt finds hard adjust new life feeling useless sees television advertisement foster program african children plan usa decides sponsor child soon receives information package photo foster child small tanzanian boy named ndugu umbo relates life series candid rambling letters schmidt visits young successor offer help offer politely declined leaves building schmidt sees contents files office sum entire career set garbage collectors he describes ndugu longtime alienation helen wife suddenly dies blood clot brain purchase winnebago adventurer motor home jeannie daughter fiancé randall hertzel arrive denver console funeral jeannie later berates taking wife granted refusing fully pay winnebago wanted cheaper minnie winnie burying cheap casket asks move back take care refuses meanwhile randall tries entice pyramid scheme schmidt feels daughter could better randall waterbed salesman couple leaves schmidt overcome loneliness stops showering sleeps front television goes shopping coat pajamas load frozen foods wife closet discovers hidden love letters disclosing long-ago affair ray mutual friend schmidt angrily confronts he decides take journey alone new winnebago visit daughter convince marry randall tells jeannie leaving early wedding makes clear want right ceremony schmidt decides visit places past including college campus fraternity university kansas hometown nebraska childhood home replaced tire shop trailer campground invited dinner friendly sympathetic couple man leaves buy beer schmidt makes pass wife flees terror adamantly rejects advance sitting roof rv starry night schmidt forgives departed wife affair apologizes failings husband moment amazed see bright meteor streak across sky possible sign helen forgives him feeling full purpose energetic renewal schmidt arrives denver stays home roberta randall mother appalled randall eccentric socially odd family tries unsuccessfully dissuade jeannie marriage schmidt throws back sleeping randall waterbed infuriating jeannie roberta assures schmidt soak hot tub help back flees nude roberta makes pass tub next day schmidt influence percodan soothe back pain attends wedding delivers kind speech reception hiding disapproval on way home denver schmidt composes letter ndugu schmidt questions accomplished life lamenting soon dead life made difference anyone eventually never existed all pile mail waiting home schmidt opens letter tanzania nun writes ndugu six years old unable read reply schmidt letters appreciates schmidt financial support much crayon drawing ndugu enclosed showing two smiling stick figures one large one small holding hands sunny day schmidt moved tears film ends'></td><td><img src='./images/3619.jpg' title='captain america winter soldier 2014 american superhero film based marvel comics character captain america produced marvel studios distributed walt disney studios motion pictures sequel 2011 captain america first avenger ninth film marvel cinematic universe mcu film directed anthony joe russo screenplay christopher markus stephen mcfeely also written first avenger stars chris evans captain america leading ensemble cast includes scarlett johansson sebastian stan anthony mackie cobie smulders frank grillo emily vancamp hayley atwell robert redford samuel jackson captain america winter soldier captain america black widow falcon join forces uncover conspiracy within h e d facing mysterious assassin known winter soldier two years battle new york two test subjects one superhuman speed telekinetic powers post-credits scene winter soldier visits bucky memorial smithsonian institution'></td></tr><tr><td> Similarity:0.298077735765</td><td> Similarity:0.212774310509</td><td> Similarity:0.178031538704</td></tr></table>"
      ],
      "text/plain": [
       "<IPython.core.display.HTML object>"
      ]
     },
     "metadata": {},
     "output_type": "display_data"
    }
   ],
   "source": [
    "Recommended_Movies = Get_Recommendations(2731,cos_sim_df)\n",
    "Display_Recommendations(Recommended_Movies,Movie_Map,2731)"
   ]
  },
  {
   "cell_type": "code",
   "execution_count": 41,
   "metadata": {},
   "outputs": [
    {
     "name": "stdout",
     "output_type": "stream",
     "text": [
      "Assuming that the user liked Insidious:\n"
     ]
    },
    {
     "data": {
      "text/html": [
       "<table><tr><td><img src='./images/2800.jpg' title='insidious 2010 american-canadian supernatural horror film directed james wan written leigh whannell starring patrick wilson rose byrne barbara hershey first installment insidious franchise story centers couple whose son inexplicably enters comatose state becomes vessel ghosts astral dimension want inhabit body order live film released theaters april 2011 filmdistrict first theatrical release film followed sequel chapter 2013 two prequels chapter 2015 chapter 2018 married couple josh patrick wilson renai rose byrne sons dalton ty simpkins foster andrew astor infant daughter cali recently moved new home one night dalton drawn attic hears creaking noises sees door open falls ladder investigating sees figure shadows hearing terrified screams renai josh rush aid declare attic limits children next day dalton falls inexplicable coma after three months treatment without result renai josh allowed take dalton home soon paranormal activity begins occur renai begins hearing voices baby monitor one cali room foster says dalton sleepwalks night renai sees frightening figure man cali room vanishes josh comes burglar alarm repeatedly triggered reason front door open renai finds bloody hand print dalton bed questions josh house ignores night renai attacked figure cali room lamberts decide abandon house move elsewhere in new house renai sees ghost dancing boy leads dalton room josh mother lorraine barbara hershey visits one day says dream figure dalton room replies dalton asks wants time sees monstrous red-faced demon standing behind josh screams dalton room ransacked dalton found lying floor lorraine calls demonologists elise reiner lin shaye specs leigh whannell tucker angus sampson upon entering elise senses presence house upon entering dalton room sees something ceiling specs draws demonic red-faced figure lorraine saw elise explains dalton coma born ability travel mentally astral plane traveled far become lost purgatory realm called place inhabited tortured souls dead without mental presence dalton body appears comatose spirits use enter physical world josh skeptical realizes dalton drawings demonic entity drawn specs elise performs seance communicate dalton contact demon threatens using dalton body attack stopped elise reveals acquaintance lorraine decades old previously performed service josh eight years old terrorized parasitic spirit old woman josh also possesses ability astral project dalton inherited trait elise tells josh way rescue dalton go further elise puts josh trance able project previous house goes attic finds red door attacked mysterious figure attacked renai defeating josh enters demon lair josh finds dalton chained floor tearful reunion josh frees caught demon josh tries fight forced flee demon pursuit returning red door josh confronts old woman haunted child old woman dissolves darkness josh shouts leave alone josh dalton return bodies wake new home spirits seem disappear as celebrate apparent end ordeal elise starts packing equipment josh senses something wrong notices josh hands look old dirty similar old woman proceeds take photo josh josh goes violent rage n like picture taken strangles elise death renai horrified discovers elise dead body searches josh inform sudden death renai picks camera sees image elise took josh old woman haunted child implying josh possessed josh suddenly puts hand shoulder says renai turns around gasps'></td></tr></table>"
      ],
      "text/plain": [
       "<IPython.core.display.HTML object>"
      ]
     },
     "metadata": {},
     "output_type": "display_data"
    },
    {
     "name": "stdout",
     "output_type": "stream",
     "text": [
      "The following movies are recommended:\n"
     ]
    },
    {
     "data": {
      "text/html": [
       "<table><tr><td><img src='./images/3376.jpg' title='insidious chapter 2013 american supernatural horror film directed james wan sequel insidious second chronologically third installment insidious franchise film stars patrick wilson rose byrne reprising roles josh renai lambert husband wife seek uncover secret left dangerously connected spirit world in 1986 carl calls demonologist elise ranier help discover haunting lorraine lambert son josh hypnotizing josh elise attempts find location josh friend old woman appears photographs makes way bedroom closet clawed arm return josh stands trance says ll show walking door pointing seemingly telekinetically opens lorraine carl elise agree making josh forget astral projection abilities best thing do twenty-five years later josh wife renai questioning detective death elise seen first film asks person photograph taken elise moments died warns renai josh fingerprints match fingerprints found scene trouble josh renai along kids relocate lorraine house police investigate elise death one night renai follows sounds piano find music box settling infant daughter cali bed piano begins play although one found piano cali begins cry renai finds outside crib confronts josh suggests letting go try live normal life again specs tucker visit elise house discover lambert josh 1986 videotape amongst work collection upon reviewing tape find someone standing behind josh video lorraine visits children bedroom dalton sleep-talking saying someone standing behind lorraine eventually sees woman white dress looking mirror finds josh goes looking her the next morning dalton tells renai bad dreams involving woman white dress well hearing josh talk unseen figure hallway josh takes children school renai receives call police stating fingerprints match josh relief disrupted presence woman white dress imitates cali cries renai finds woman knocked unconscious josh finds renai unconscious hears voice urging kill family order stay alive lorraine visits elise colleagues specs tucker seek explanation behind strange events show tape 1986 enhanced show adult josh figure standing behind josh contact carl attempts contact elise using word-dice dice told find answers abandoned lady angels hospital lorraine used work doctor group visits abandoned hospital carl sees things entering particular room lorraine recounts story patient named parker crane admitted hospital room trying castrate flashback young josh visits parker hospital along lorraine attacked two days later lorraine meets parker elevator apologizes josh asks stay bed parker t respond upon exiting elevator lorraine talks nurse asking parker bed nurse looks confused explains lorraine patient room 104 parker crane jumped death day before lorraine group go parker home revealed elise speaking dice parker mother find secret room 15 corpses black wedding gown newspaper clippings killer referred bride black kidnapped murdered several people dressed woman meanwhile josh body begins slowly deteriorate renai gets proof josh possessed unable remember song wrote him lorraine insists renai kids get away josh carl arrives drug josh deduces possessed parker fight breaks carl disarmed syringe parker begins choke death specs tucker enter help carl tucker armed taser parker however manages inject tucker syringe falls specs giving parker opportunity knock carl awakes spirit realm meets real josh together go seek elise josh enters former house travels cali room evil spirit approaching infant daughter intervenes struggles spirit overpowered elise appears banishes spirit house revealed actions triggered mysterious event first film including alarm going front door opening itself in real world josh possessed parker ambushes lorraine renai attempts choke renai knocked head dalton renai children escape basement dalton falls asleep returns rescue father real josh carl elise try track parker revisiting josh 1986 revealed adult josh asked younger self find parker three enter door opened pointed parker house three witness parker mother michelle woman white dress abusing acting like male referring using birth name ideally michelle wants girl named marilyn parker killed female victims behest mother spirit also told killing josh family would sustain new body josh body rejecting soul josh eventually finds room filled standing bodies assumed parker victims upon finding michelle two engage fight elise saves josh knocking michelle death interrupts possessed josh attempt murder family crane ghost disappears screams fading away carl informed elise still alive josh make escape find dalton leads back living world renai convinced josh returned body mentions tried playing song get attention exactly happened near start film josh dalton voluntarily get memories astral projection abilities erased hypnosis session administered carl some time later specs tucker proceed family house whose daughter allison unexplained coma unbeknownst noticed youngest daughter family elise spirit enters home approaches allison hears crackling sound sound signals red faced demon presence gasps sees something standing shadows'></td><td><img src='./images/3874.jpg' title='insidious chapter 2015 american-canadian supernatural horror film written directed leigh whannell directorial debut prequel first two films third installment insidious franchise film stars dermot mulroney stefanie scott angus sampson whannell lin shaye reprising roles previous films film released june 2015 grossed 113 million budget 10–11 million retired parapsychologist elise rainier reluctantly uses spiritual ability contact spirit quinn brenner mother lillith died year however urges quinn make contact mother demonic figure continues haunt becoming increasingly malevolent time progresses leaving quinn neck injured demon flings around bedroom sean tries convince elise like still grieving loss husband jack help daughter elise declines stating previous visits dark spiritual world made realize evil spirit hunting kill however convinced fellow parapsychologist carl continue using spiritual ability reminding successful case involving josh lambert stating stronger spirits demons living not due elise refusal alex suggests call demonologists specs tucker quinn possession grows increasingly worse possessed demon breaks braces realizing scammers sean prepares kick duo elise arrives timely deducing demon goal lure potential victims eat life force elise decides enter spiritual world specs tucker recording activities words spells help spirit likewise victim demon elise enters brief encounter evil spirit haunts bride black/parker crane meets jack realizes demon managing defeat demon elise returns material world realizing quinn defeat faceless version slowly taking control features soul though quinn first disadvantage elise reads message brenners late neighbor tried tell quinn lillith leaving letter read graduated lillith spirit appears help quinn fully take control body return material world disappears leaving parting words family following brenner successful case elise decides come retirement work specs tucker arrives home notices figure watching outside thinking jack first elise realizes something demonic demon suddenly appears beside'></td><td><img src='./images/3839.jpg' title='re young 2014 american comedy film written produced directed noah baumbach film stars ben stiller naomi watts adam driver amanda seyfried screened special presentations section 2014 toronto international film festival middle-aged couple josh ben stiller cornelia schrebnick naomi watts shaky relationship living new york city josh struggling post-production documentary film leftist intellectual ira mandelstam peter yarrow previous documentary military-industrial complex titled power elite based wright mills sociological theory josh cornelia struggling try children although cornelia reluctant due miscarrying past two pregnancies finishing lecture college works josh approached jamie adam driver darby massey amanda seyfried young couple invite cornelia dinner former claiming fan works works accomplished documentary filmmaker father-in-law leslie breitbart charles grodin josh immediately awestruck jamie darby non-conservative outlook life cornelia begin spending time indulging activities an aspiring filmmaker jamie talks josh projects including josh documentary inspires jamie make film connecting old high school friend found facebook jamie darby decide invite josh cornelia ayahuasca ceremony hallucinating cornelia kisses jamie jamie receives josh approval helping production film later cornelia agrees help produce jamie josh manage find former friend kent arlington brady corbet hospital attempted suicide long josh jamie discover kent involved massacre army tour afghanistan creating even bigger story focus jamie film while pitching film josh dismayed intrigue hedge fund investor ryan serhant concept vague confusing feature josh goes leslie film second opinion leslie criticisms suggestions brought josh two get argument josh cornelia inability children well josh calling disappointment eyes father-in-law josh attends party screening jamie film met far positively leslie even hedge fund investor jealous josh argues cornelia jamie success separate josh meets darby growing sick jamie increasingly self-centered attitude tells cornelia kissing jamie josh angrily confronts cornelia next morning angrily denounces jamie while teaming editor cutting film josh comes across footage jamie film finding evidence suggests meeting kent staged finding kent reveals really friends darby jamie contacted jamie weeks shoot capturing confession camera josh goes jamie darby confront discover fed-up darby moving jamie tribute celebrating leslie jazz lincoln center josh confronts jamie private event admonishing compromising truth genuineness story dramatic purposes josh forces jamie admit front leslie excuses saying good story regardless fabrication throws josh rage admitting leslie right changing film outside josh cornelia reconcile one year later josh cornelia driving airport adopt baby haiti josh finds article magazine lauding jamie filmmaking genius cornelia josh pass admitting evil young watch young child gate playing iphone staring uncertainty'></td><td><img src='./images/2679.jpg' title='tourist 2010 american romantic comedy thriller film co-written directed florian henckel von donnersmarck starring angelina jolie johnny depp paul bettany timothy dalton based screenplay anthony zimmer gk films financed produced film sony pictures worldwide acquisitions releasing countries columbia pictures +++++this article plot summary may long excessively detailed please help improve removing unnecessary details making concise october 2015 learn remove template message ++a british woman elise clifton-ward angelina jolie followed french police working scotland yard direction inspector john acheson paul bettany acheson spent years hunting alexander pearce lover elise owes £744 million back taxes believed received plastic surgery alter appearance parisian cafe elise receives written instructions pearce board train venice pick man let police believe pearce elise burns note evades police boards train on train elise selects frank tupelo johnny depp apparently american mathematics teacher community college wisconsin spends much time seeming start romance meanwhile police managed salvage ashes burned note assembled extract information regarding rendezvous well ruse aware location ruse informer police station communicates reginald shaw steven berkoff mobster pearce stole 2 billion pearce traveling elise train venice shaw immediately proceeds venice elise invites frank stay suite hotel danieli venice pearce leaves instructions elise attend ball elise abandons frank chased shaw men trying escape frank detained italian police ostensibly safety corrupt inspector turn shaw men exchange bounty placed pearce head elise rescues frank handed leading shaw men extended boat chase finally escaping leaves frank airport passport money urging go home safety elise revealed undercover scotland yard agent suspension suspected sympathies pearce agrees participate sting operation ball elise tries spot pearce crowd envelope placed table front man rufus sewell disappears crowd tries follow crowd stopped frank frank claims love elise invites dance police surprise frank elise reads note leaves suddenly boat tailed shaw parties followed police frank held handcuffed when elise arrives destination shaw takes prisoner threatening harm unless reveals location stolen money police monitor situation inside rendezvous room audio video links despite elise peril acheson repeatedly turns police requests intervene snipers police occupied monitoring situation frank escapes police boat confronts shaw claiming pearce offering open safe elise allowed leave safely shaw skeptical makes counter offer frank open safe want see elise tortured men chief inspector jones timothy dalton arrives police stake-out overrides acheson orders snipers fire killing shaw men elise obvious pleasure jones lifts suspension terminates employment acheson receiving message pearce found near position rushes find police detained englishman man lawrence mason says tourist following written instructions received via mobile phone receiving payments elise tells frank loves also loves pearce frank suggests solution dilemma elise surprise opens safe entering correct code thus revealing really alexander pearce police open safe find one cheque £744 million acheson prepares chase pearce jones overrides reasoning taxes paid full pearce crime stole money now-dead gangster jones orders case closed much acheson frustration frank alexander elise sail away together'></td><td><img src='./images/2884.jpg' title='tower heist 2011 american heist comedy film directed brett ratner written ted griffin jeff nathanson based story bill collage adam cooper griffin plot follows josh kovaks ben stiller charlie gibbs casey affleck enrique dev reaux michael peña employees exclusive apartment building lose pensions ponzi scheme wall street businessman arthur shaw alan alda group enlist aid criminal slide eddie murphy bankrupt businessman mr fitzhugh matthew broderick another employee apartment building odessa gabourey sidibe break shaw apartment steal back money avoiding fbi agent charge case claire denham téa leoni josh kovaks building manager tower upscale apartment complex new york city employees include concierge charlie expecting child josh sister enrique newly hired elevator operator lester doorman nearing retirement odessa immigrant maid jamaica receptionist miss iovenko studying become lawyer one morning josh witnesses arthur shaw wealthy tower resident kidnapped josh gives chase tackled fbi agent claire denham explains shaw attempting flee country avoid arrest embezzling 2 billion ponzi scheme josh confesses tower staff gave pensions shaw invest lost everything lester attempts suicide visiting lester hospital josh charlie enrique confront shaw house arrest penthouse apartment shaw half-hearted condolences anger josh smashes windows 1963 ferrari 250 gt lusso displayed shaw apartment josh charlie enrique fired assault josh meets denham bar drunkenly suggests shaw concealed 20 million reserve josh steal josh charlie enrique evicted tower tenant mr fitzhugh conspire find steal money shaw assumed safe supplement inexperience enlisting josh childhood friend slide petty criminal odessa locksmith experience help open safe charlie later rehired tower new manager warns josh abandon plan inform police subsequently denham informs josh shaw scheduled attend court thanksgiving macy thanksgiving day parade avoid publicity shaw set free josh team decide break shaw apartment parade slide attempts betray team reaching safe first tricked odessa giving lessons team intercepts shaw apartment ensuing altercation break false wall revealing shaw empty safe slide fitzhugh fight slide gun gun goes bullet hits car revealing gold underneath ferrari paint realize shaw used money buy gold turn car parts assembled car hide money plain sight josh finds ledger shaw illegal finances car glove box as reach lobby denham shaw return revealing thanksgiving court date ruse denham notes missing car shaw safe rearrests violating bail declaring latter denham fbi arrest josh crew except slide walk outside tower miss iovenko arrives telling fbi passed bar exam three days ago acting josh attorney shows shaw ledger tells turn exchange everyone freedom fbi accepts condition josh primary conspirator must serve minimal two-year sentence denham lowers 16 months make sure josh gets good behavior shaw convicted sentenced life prison the team retrieve car send various parts tower employees compensate lost pensions josh led cell cheeky smile slowly forms face'></td></tr><tr><td> Similarity:0.681227267623</td><td> Similarity:0.286212737551</td><td> Similarity:0.241297598608</td><td> Similarity:0.230389225785</td><td> Similarity:0.194715624972</td></tr></table>"
      ],
      "text/plain": [
       "<IPython.core.display.HTML object>"
      ]
     },
     "metadata": {},
     "output_type": "display_data"
    }
   ],
   "source": [
    "Recommended_Movies = Get_Recommendations(2800,cos_sim_df)\n",
    "Display_Recommendations(Recommended_Movies,Movie_Map,2800)"
   ]
  },
  {
   "cell_type": "code",
   "execution_count": 42,
   "metadata": {},
   "outputs": [
    {
     "name": "stdout",
     "output_type": "stream",
     "text": [
      "Assuming that the user liked Kung Fu Panda 2:\n"
     ]
    },
    {
     "data": {
      "text/html": [
       "<table><tr><td><img src='./images/2810.jpg' title='kung fu panda 2011 3d american computer-animated comedy-drama martial arts film directed jennifer yuh nelson produced dreamworks animation distributed paramount pictures sequel 2008 film kung fu panda second installment kung fu panda franchise years events first film lord shen gary oldman scion peacock clan rules gongmen city ancient china seeks weaponize gunpowder recently invented create fireworks discovering court goat soothsayer michelle yeoh warrior black-and-white defeat change ways shen leads army wolves exterminate panda population avert prophecy shen parents horrified atrocity exile son swears revenge about twenty years later po jack black living dream dragon warrior protecting valley peace alongside friends fellow kung fu masters furious five teacher shifu dustin hoffman tells however yet achieve inner peace defending village wolf bandits stealing refined metal shen po distracted symbol wolf leader danny mcbride armor causes po flashback mother allows wolves escape po asks goose father mr ping james hong origins ping reveals found po infant radish crate adopted po remains unsatisfied wondering ended valley peace shifu receives word shen returned gongmen city killed thundering rhino leader kung fu council protecting city plotting conquer china newly developed weapon cannon shifu sends po furious five gongmen city stop shen destroy weapon find city occupied shen forces two surviving council members storming ox croc imprisoned six heroes ask council members help liberate city two cite helplessness shen weapon refuse po five discovered wolf boss give chase arrested front shen tower upon brought shen tower po five free destroy shen weapon however po distracted flashback upon seeing symbol shen plumage realizing shen last night po saw parents allows shen escape destroy tower arsenal cannons po five escape tigress angelina jolie confronts po distraction reluctantly explains remembers shen presence night separated parents wants answers past shen though empathetic tigress tells po stay behind safety despite po breaks factory question shen inadvertently foiling five plan destroy factory shen claims po parents abandoned blasts po factory river cannon presumed dead po survives rescued soothsayer takes ruins nearby village po born guided soothsayer embrace past po remembers infant parents sacrificed save shen army mother hiding radish crate luring shen forces away po attains inner peace realizing lived happy fulfilling life despite early tragedy po returns gongmen city save captive five prevent shen conquest china battle ensues shen armada sailing heart gongmen city po five joined shifu persuaded ox croc help po modifies movements used inner peace training redirect shen cannonballs armada destroying po urges shen let go past shen attacks po shen slashes ropes holding last cannon falls top crushing death victorious po returns valley peace reunites mr ping lovingly declaring goose father at time po birth father li fred tatasciore revealed survived shen attack shown living far-off hidden village inhabited surviving pandas senses son still alive'></td></tr></table>"
      ],
      "text/plain": [
       "<IPython.core.display.HTML object>"
      ]
     },
     "metadata": {},
     "output_type": "display_data"
    },
    {
     "name": "stdout",
     "output_type": "stream",
     "text": [
      "The following movies are recommended:\n"
     ]
    },
    {
     "data": {
      "text/html": [
       "<table><tr><td><img src='./images/3917.jpg' title='kung fu panda 2016 chinese-american 3d computer-animated action-comedy martial arts film produced dreamworks animation distributed 20th century fox third installment kung fu panda franchise sequel kung fu panda 2011 film po enters panda village reunites birth father pandas problems arise villainous spirit warrior named kai returns mortal realm steals chi kung fu masters prevent kai taking chi kung fu masters pandas po forms army pandas battle kai jade minions po must become master chi defeat save friends in spirit realm grandmaster oogway fights adversary named kai defeated kung fu masters realm taken chi turning small jade charms oogway willingly gives also chi stolen warning kai dragon warrior po stop kai takes challenge steal chi dragon warrior returns mortal realm meanwhile master shifu announces retirement teaching begin training master chi passes role teacher po excited first po discovers teaching kung fu easy expected furious five members tigress crane mantis viper monkey injured result po demoralized teacher makes question really whether dragon warrior response shifu advises po instead trying teacher try himself po heads home adoptive father mr ping noodle shop panda named li breaks po dumpling-eating record soon learn li po biological father bond much ping jealousy introducing li shifu friends valley attacked jade zombies controlled kai resembling past kung fu masters several long dead team learns research kai oogway old friend fought brothers-in-arms long ago oogway injured kai carried reached secret village pandas healed oogway using chi pandas taught oogway give chi power-hungry kai decided drain increase power oogway defeated banished spirit realm defeat kai po must learn master chi li offers teach going secret panda village po li mr ping travel village shifu furious five stay behind shifu sends crane mantis track jade zombies find kai although po eager learn chi first learns relaxed life panda village feels grateful part of crane mantis meet master bear master croc master chicken whose villages also attacked jade zombies chi stolen kai shifu rest furious five learn many kung fu masters missing kai arrives jade palace zombified crane mantis kai along jade crane mantis overpowers shifu rest five allowing destroy jade temple take chi everyone except tigress warns pandas kai intention steal chi afraid li pandas prepare run away po demands li teach use chi confesses know lied would t lose son hurt father misdirection po isolates trains vigorously confront kai mr ping admits li initially worried po would taken away realized li part po life simply added happiness tigress confronts po tells defeat kai without continuing discover secret chi po confesses experience doubting potential li villagers decided stay ask po train fight back realizing previously made fail teacher po agrees teaches using everyday activities assets kai arrives sends jade zombie minions capture po held pandas ping tigress distracting kai plan works holding army po tries use signature wuxi finger hold kai send back spirit realm kai reveals work mortals spirit warrior like kai gains upper hand fight po uses wuxi finger hold gripping kai transporting spirit realm fight kai regaining advantage subdue begins petrifying po using learned po li tigress mr ping pandas able use chi revive empower realizing really finally mastering chi process po harnesses chi create giant dragon figure uses overload kai causing explode defeating restoring fallen masters normal transporting back mortal world in ethereal golden pond grandmaster oogway appears po informs journey come full circle revealing role selecting po dragon warrior descent ancient pandas embodiment yin-yang also reveals role alerting li po survival declares po true successor choice po wields mystic jade yin-yang staff bestowed oogway return mortal world extended family return valley continue practicing kung fu chi guidance po furious five'></td><td><img src='./images/2155.jpg' title='kung fu panda 2008 american computer-animated action comedy martial arts film produced dreamworks animation distributed paramount pictures directed john stevenson mark osborne produced melissa cobb stars voices jack black dustin hoffman angelina jolie ian mcshane seth rogen lucy liu david cross randall duk kim james hong jackie chan set version ancient china populated anthropomorphic talking animals plot revolves around bumbling panda named po aspires kung fu master evil kung fu warrior foretold escape twenty years prison po unwittingly named chosen one destined defeat bring peace land much chagrin resident kung fu warriors adoptive father mr ping noodle restaurant po unable pursue dream becoming kung fu master himself grand master oogway old tortoise shifu mentor vision shifu adoptive son former student evil snow leopard tai lung escape prison return valley peace take revenge denied dragon scroll said hold secret limitless power shifu alarmed sends messenger goose zeng request prison heighten security order prevent tai lung escape holds kung fu tournament furious five oogway may identify dragon warrior one kung fu master worthy receiving dragon scroll capable defeating tai lung forced take cumbersome noodle cart tournament po arrives arena doors close unable enter desperate see dragon warrior chosen po straps set fireworks rockets sky crashes middle arena opens eyes see oogway pointing finger audience surprise po confusion furious five dismay oogway proclaims po dragon warrior unwilling accept oogway decision intentional shifu tries get rid po ridiculing quitting kung fu training coupled torturous training regime furious five similarly mock disdain po varying degrees upstart skill potential kung fu however receiving encouragement oogway po endures grueling training slowly begins befriend five tenacity culinary skill good humor meanwhile tai lung escapes prison foreseen oogway ironically picking locks one zeng fallen feathers shifu learns tai lung escape zeng informs oogway extracts promise shifu believe po passes heavens stream peach blossoms still unable grasp basics kung fu po despairingly admits chance defeating tai lung shifu however discovers po capable impressive physical feats motivated food using food positive reinforcement shifu successfully trains po incorporate feats effective kung fu style meanwhile furious five set stop tai lung momentarily gaining upper hand overwhelmed defeated tai lung nerve strikes shifu decides po ready receive dragon scroll scroll reveals nothing blank reflective surface believing scroll useless shifu orders po five evacuate valley tai lung arrives fights shifu distraught po finds father attempt console reveals long-withheld secret ingredient famous secret ingredient soup nothing explaining things become special believed po realizes concept entire point dragon scroll goes back confront tai lung able kill shifu po becomes formidable challenge tai lung guards dragon scroll unorthodox fighting style confuses frustrates opponent top physique renders immune tai lung nerve strikes tai lung momentarily bests po retrieves scroll unable understand accept symbolic meaning eventually po defeats tai lung combat using mysterious wuxi finger hold finish po praised valley peace earns respect furious five fully acknowledge true kung fu master po finds shifu finally attains inner peace valley safe more in post-credits scene po shifu shown eating dumplings revealed seed oogway peach tree grown'></td><td><img src='./images/154.jpg' title='romeo must die 2000 american action film directed andrzej bartkowiak directorial debut also fight choreography corey yuen starring jet li aaliyah film released united states march 22 2000 film chinese former police officer travels united states order avenge brother death also falls love rival mobster beautiful daughter struggling together chinese american mobs considered jet li breakout role english speaking american film industry +++++this section plot summary may long excessively detailed please help improve removing unnecessary details making concise july 2017 learn remove template message ++po sing jon kit lee waiting someone club predominantly african american neighborhood group angry patrons try start fight father right-hand man kai russell wong asian henchmen pull po club brief fight bouncers meeting take place next day po found murdered fearing retribution real estate developer gang leader isaak day delroy lindo arranges chief lieutenant mac isaiah washington place security children meanwhile po brother han jet li learns murder hong kong prison serving time starting fight mess hall han dragged isolation cell punishment overpowers guards escapes disguised one uniforms eventually han makes way oakland learns po may casualty gang war seems erupted black asian gang families control properties along oakland waterfront ’ day han po father ch u sing henry engaged joint business venture acquire sell properties vincent roth businessman plans buy new nfl franchise oakland build new stadium waterfront also learns brother called day daughter trish aaliyah record store day killed chance encounter follows learns po may actually calling trish brother colin db woodside at brother funeral han confronts estranged father blaming failing keep promise protect po han helped flee america escape chinese authorities action resulted imprisonment disgraced status former police officer meanwhile ’ day reveals son deal working get family crime business good must careful night unseen assailants kill colin girlfriend throwing high rise apartment window as han comforts trish learns po put together list businesses either destroyed threatened destruction failing sell properties po trying contact colin warn two visit one remaining properties list chinese owner employees killed han dispatches hitters surprise chinese hit team reluctant fight one woman trish lets direct fight place han confronts father tries deflect suspicion telling day may used outside contractors it revealed gang war ruse mac kai using violence intimidation force fellow owners waterfront properties sign deeds trish han visit last property list nightclub po originally intended meet colin mac goons kill club owner dmx kidnap trish han taking separate locations han escapes overpowering guards led maurice anthony anderson meanwhile ch u sing chinese crime lords killed ensuring control business interests ’ day ch u sing meet roth oakland men club sell roth deeds properties control sing takes multimillion-dollar payment leaves ’ day refuses payment stating payment form share ownership new franchise enraged mac reveals day fake war scheme secure deeds trish brought gunpoint force day hand deeds developer o day realizing mac also killed colin attacks mac rage mac shoots day roth flees rooftop escapes via helicopter mac shoots deeds hand sending deeds flying winds han arrives confronts mac brother mac reveals han kai killed po fire han well trish arrives kills mac first han trish return isaak find grievously wounded live wants shake han hand han gladly leaves trish father tracks kai sing compound engages all-out fight overcoming burned hands coals ripping shirt improvising hand wraps han ends killing kai landing kick skull force breaks kai spine completely confronts father knowing father son killed like running dog street reason interfering business deal tells father answer crimes either american authorities chinese families han walks away father picks gun shoots head committing suicide han finds trish waiting outside two walk away house together'></td><td><img src='./images/1687.jpg' title='shaggy dog 2006 american family comedy film directed brian robbins written geoff rodkey jack amiel michael begler cormac wibberley marianne wibberley second remake 1959 film name first remade television film 1994 1959 1994 features well 1976 theatrical sequel 1987 television sequel character named wilby daniels transforming old english sheepdog whereas remake presents character named dave douglas transforming bearded collie stars tim allen robert downey jr kristin davis danny glover spencer breslin jane curtin zena grey philip baker hall dave douglas tim allen deputy district attorney los angeles county prosecuting social studies teacher activist justin forrester joshua leonard firebombing pharmaceutical corporation grant strictland forrester denies claims grant strictland engaging illegal animal experimentation distances douglas daughter carly zena grey one forrester students dave also workaholic relationship wife rebecca son josh also strained the greedy geneticists working mr lance strictland philip baker hall led dr kozak robert downey jr stolen 300-year-old sacred dog named khyi yang po bearded collie tibetan monastery scientists determine khyi yang po genetic sequence isolated put vaccination invades alters cells dna victim continue experiments hopes uncovering genetic component allows khyi yang po long life potentially immortality khyi yang po escapes lab picked carly protesting friends classmates outside grant strictland carly brings khyi yang po home dave returns work takes khyi yang po garage dog runs get newspaper khyi yang po gives newspaper dave reaches bitten hand khyi yang po khyi yang po saliva infects dave next days dave realizes uncontrollably transforms sheep dog exactly like khyi yang po prompted distractions activities typical dog stick thrown air transformations reversed sleeping dave human absence family strains relationships time family unaware dave condition continue housing dave dog thinking khyi yang po dave slowly learns little understands kids wife resolves make amends in ongoing trial forrester testifies seeing animals behaving like dogs presence bearded collie identifies giant sheepdog sparks dave suspicions grant strictland dog-like behavior annoys judge dave removed case seeking answers transformation dave heads grant strictland janitor help transform may sneak vent hidden laboratory dave witnesses dr kozak injecting company president lance strictland drug paralyze several months giving kozak enough time usurp control company viewing security cameras kozak minions realize dave capable transforming copy khyi yang po when dave comes home still canine form overhears conversation carly josh rebecca may splitting hearing dave knocks scrabble game uses letters reveal identity kids dave gets house captured kozak minions kids attempt save end picking real khyi yang po instead rush mom work report recent events dave taken lab euthanized kozak court summons must deal dave later right exits kozak mocks dave canine form dave bites response mutated animals lab tell dave meditate reverse transformation dave succeeds returning human form able escape animals drives courthouse calls wife ready change clothes courthouse forced abandon car animals get stuck traffic dave runs fours trigger transformation get courthouse time courthouse entrance attempts tell wife loves allows transform back in courtroom dave calls kozak back stand tries get admit done kozak manages hide secret thinking quickly mocks kozak implying working strictland shadow angers two begin growling another judge exasperated dave canine behavior orders bailiff remove dave grabs baliff baton tells kozak fetch triggering partial transformation thus implicating illegal unethical experimentation pharmaceutical company returned strictland mutant animals enter protective custody dave finally makes amends family the movie ends family vacationing hawaii khyi yang po josh tells dad fetch frisbee tossed dave catches mouth'></td><td><img src='./images/1859.jpg' title='gene generation 2007 biopunk science fiction film assassin battles dna hackers film directed pearry reginald teo stars bai ling parry shen faye dunaway alec newman futuristic world michelle lives everyday battling dna hackers use skills hack people bodies kill assassin battling past demons trying keep younger extroverted brother jackie trouble jackie gets involved petty crime robbery propels world dna hackers shylocks loan sharks gang fights wanting respect world never given makes harder jackie peel away underground trades hopes sister michelle michelle always wanted leave city lead calm quiet lifestyle emotions gunfire get way michelle jackie soon find battling lives finding immoral world love still survive blood thicker water released region dvd january 27 2009 region release following april 27 2009 however since announcement details status production'></td></tr><tr><td> Similarity:0.477916709463</td><td> Similarity:0.472015971221</td><td> Similarity:0.234033843151</td><td> Similarity:0.221169773384</td><td> Similarity:0.0752134805139</td></tr></table>"
      ],
      "text/plain": [
       "<IPython.core.display.HTML object>"
      ]
     },
     "metadata": {},
     "output_type": "display_data"
    }
   ],
   "source": [
    "Recommended_Movies = Get_Recommendations(2810,cos_sim_df)\n",
    "Display_Recommendations(Recommended_Movies,Movie_Map,2810)"
   ]
  },
  {
   "cell_type": "code",
   "execution_count": 43,
   "metadata": {},
   "outputs": [
    {
     "name": "stdout",
     "output_type": "stream",
     "text": [
      "Assuming that the user liked Saw VII:\n"
     ]
    },
    {
     "data": {
      "text/html": [
       "<table><tr><td><img src='./images/2656.jpg' title='saw 3d also known saw final chapter simply saw vii 2010 american 3d horror film directed kevin greutert written patrick melton marcus dunstan starring tobin bell costas mandylor betsy russell sean patrick flanery cary elwes seventh originally intended final installment saw franchise film series 3d two men brad ryan wake metropolitan storefront window bound wrists opposite sides worktable circular saw front mutual lover dina suspended third saw scene draws attention police arrive puppet informs men kill let dina die initially fight brad cut ultimately choose allow dina die instead jigsaw widow jill tuck meets matt gibson internal affairs detective working precinct detective mark hoffman works incriminates hoffman exchange protection immunity prosecution gibson distrusted hoffman ever since saved life gunning homeless man agrees terms meanwhile hoffman abducts skinhead gang dan evan jake kara places junkyard trap kills leaving reverse bear trap scene incriminate jill later put protective custody meeting jigsaw survivors including lawrence gordon cauterized leg steam pipe escaping bathroom uses cane prosthetic foot hoffman abducts bobby dagen self-help guru achieved fame fortune falsifying survival story sends gibson videos cryptic clues game location offering end games jill given him dagen awakens cage abandoned asylum told wife joyce die t save within one hour joyce chained neck steel platform gradually pulls watches dagen progress escapes cage dangles floor spikes begins searching joyce along way finds nina publicist fish hook trap suzanne lawyer piercing wheel cale mcnamara best friend co-conspirator hanging trap represent three wise monkeys killed despite dagen efforts save removing upper wisdom teeth obtain combination security door dagen finds joyce forced reenact trap claimed survive must drive hooks pectoral muscles hoist ceiling deactivate trap fails nonetheless forced watch brazen bull capsule closes around joyce incinerates death gibson eventually discovers game location sends swat team sealed another room killed toxic gas simultaneously two officers infiltrate hoffman command center junkyard find dan corpse sitting front several monitors connected police headquarter security cameras sees hoffman brought morgue body bag tries warn palmer automatic turret gun rises kills along men hoffman kills dr heffner palmer everyone else path jill briefly escapes caught knocked unconscious straps chair locks reverse bear trap head awakens timer starts killed trap activates tearing face apart bleeding profusely after destroying workshop hoffman attacked subdued three pig-masked figures one gordon flashbacks show john kramer found unconscious steam pipe nursed back health gordon assisted ever since known jill delivered package hospital videotape kramer asked watch jill take action anything happened end gordon hoffman brought disused bathroom shackled ankle pipe gordon appears throws hacksaw used sever foot door turns lights seals door leaving hoffman die'></td></tr></table>"
      ],
      "text/plain": [
       "<IPython.core.display.HTML object>"
      ]
     },
     "metadata": {},
     "output_type": "display_data"
    },
    {
     "name": "stdout",
     "output_type": "stream",
     "text": [
      "The following movies are recommended:\n"
     ]
    },
    {
     "data": {
      "text/html": [
       "<table><tr><td><img src='./images/2448.jpg' title='saw 2009 american horror film directed kevin greutert screenplay written patrick melton marcus dunstan sixth installment seven–part saw franchise stars tobin bell costas mandylor betsy russell mark rolston peter outerbridge shawnee smith produced mark burg oren koules twisted pictures distributed lionsgate two predatory lenders awaken either side room split caged-in scale wearing head harnesses screws poised pierce temples one sets flesh weight upon tray survive eddie cuts fat torso simone chops arm eddie killed timer expires reviews game footage detective lieutenant mark hoffman called scene fbi agent dan erickson found peter strahm fingerprints also present lindsey perez whose survival covered erickson protection learn dr adam heffner coroner performed autopsies case thus far knife used cut jigsaw piece eddie flesh used seth baxter agents intend find baxter videotape prove strahm involvement while hospital meet simone hoffman met reporter pamela jenkins claims found something meatpacking plant later meets jill tuck clinic takes control games given five envelopes box left john kramer containing photos people tested leaves flashback reveals kramer brought amanda young jill deemed lost cause proof methods later flashback jill delivers package box hospital shows jill met kramer plant hours death gave box key promise would protected games ended william easton insurance executive umbrella health meets debbie company attorney harold abbott succumbed heart disease coverage request denied due application discrepancy hoffman abducts easton office night brings abandoned zoo janitor hank awaken vises designed tighten around torsos time breathe oxygen masks strapped faces kramer appears videotape informs easton one hour complete four tests remove bombs strapped limbs lose family hank heavy smoker unable hold breath long killed vise easton tests force save workers traps including hanging room steam room carousel shown kramer met easton opening jill clinic took issue formula cancer diagnosed kramer coverage request experimental norwegian treatment rejected easton the game viewed woman named tara son brent cage observation room contains tank hydrofluoric acid switch marked live die pamela awakens another cage side room game hoffman called away erickson perez found baxter videotape unscrambled offsite technician inform abnormalities found strahm fingerprints erickson eventually reveals knowledge strahm death moment voice unscrambled hoffman attacks kills everyone room plants fingerprints using strahm severed hand lights room fire destroy evidence he returns observation room finds letter written amanda used knowledge role jill miscarriage blackmail killing lynn denlon letter found pamela given jill uses ambush hoffman easton reaches end path one second left finding cages revealed pamela sister tara brent harold family tara informed videotape kramer either kill easton free using switch unable make decision brent angrily shifts switch bed needles swings injects easton body acid killing jill restrains hoffman locks new reverse bear trap head shows sixth envelope contains photo leaves 45 seconds key hoffman escapes breaking hand jamming trap activates pulls head free ripping open cheek'></td><td><img src='./images/2213.jpg' title='saw 2008 canadian-american horror film directed david hackl written patrick melton marcus dunstan stars tobin bell costas mandylor scott patterson betsy russell mark rolston julie benz carlo rota meagan good fifth installment saw franchise released october 23 2008 australia october 24 2008 north america convicted murderer seth baxter wakes chained table beneath pendulum blade videotape informs release crushing hands two presses blade still swings cuts half someone watches hole wall in meatpacking plant fbi agent peter strahm guns jeff denlon locked sickroom discovers hidden exit microcassette recorder urges stay sickroom ignores attacked tunnel pig-masked figure wakes head sealed box quickly fills water survives performing tracheotomy pen outside detective mark hoffman delivers corbett denlon police claims survivors shocked strahm brought alive well means taking place events saw iv during press conference hoffman promoted detective lieutenant credited closing case finds note office reads know learns lindsey perez death taking strahm phone hospital strahm tells hoffman perez last words name questions escaped plant strahm also visited boss dan erickson puts medical leave suspicious hoffman determined piece together involvement jigsaw strahm takes case files past victims begins researching own in underground room five people awaken collars connected mounted blades locked around necks keys glass boxes across room videotape claims five connected implores opposite instincts throughout game mallick arsonist activates timer everyone reaches keys except ashley former fire inspector decapitated collars retract next room learn overhead jars contain keys three bomb shelters charles investigative journalist strikes mallick begins smashing jars one one brit real estate vice president luba city planner find key charles takes mallick struck luba left die bomb detonates third room five short cables must connected full bathtub unlock door luba attacks mallick use body close circuits brit stabs use instead fourth room find machine fitted circular saws beaker requiring ten pints blood open door mallick notes five armholes realize five meant work together survive game brit also works connection involved building fire killed eight people options saw arms provide blood meanwhile strahm learns baxter killed hoffman sister released prison technicality revenge hoffman later abducted killed baxter using pendulum trap frame jigsaw later abducted john kramer blackmailed hoffman working set games together hoffman planting lawrence gordon penlight providing police files nerve gas house victims strahm realizes end everyone meant die plant except corbett hoffman would become hero activities soon draw erickson worry fueled jill received box videotape kramer approaches erickson claims strahm stalking hoffman calls erickson tell strahm theory second accomplice erickson puts tracker strahm phone erickson follows tracker observation room finds phone personnel file planted hoffman also finds brit managed crawl fourth room mallick passed blood loss erickson calls medical attention victims puts all-points bulletin strahm follows hoffman renovated nerve gas house finds underground room containing clear box filled broken glass hoffman tape urges strahm enter box stops short ambushes hoffman brief struggle seals hoffman box seals room exit hoffman indicates tape warns strahm enter box disappear inherit jigsaw legacy box safely lowered floor walls close strahm unsuccessfully attempts escape ceiling grid crushed death'></td><td><img src='./images/2000.jpg' title='saw 2007 canadian-american horror film fourth installment saw franchise directed darren lynn bousman written newcomers marcus dunstan patrick melton thomas fenton stars tobin bell scott patterson costas mandylor betsy russell lyriq bent +++++this article plot summary may long excessively detailed please help improve removing unnecessary details making concise october 2015 learn remove template message ++a wax-coated microcassette found john kramer stomach autopsy reveals mark hoffman detective called hear games including continue elsewhere two men one eyes sewn shut art blank mouth sewn shut awaken mausoleum chained neck winch blinded man panics activates winch attacking muted man kills removes key collar free himself four days allison kerry death swat team led hoffman lieutenant daniel rigg finds body hoffman warns rigg breaking unsecured door reach scene also investigated peter strahm lindsey perez kerry fbi contacts received message key noting kramer amanda young physical limitations strahm states looking unidentified accomplice soon becomes suspicious rigg developed obsession saving people six months since disappearance eric matthews night rigg attacked home awakens learn matthews alive ninety minutes save hoffman life also risk meanwhile must play game face overcome obsession detectives shown end large seesaw matthews held atop ice block chain-noose hoffman strapped chair electrodes feet matthews slips much ice melts men die man later arrives oversee game rigg finds pimp brenda bound chair living room accidentally turns trap slowly tears apart scalp rigg frees kills brenda self-defense attacks rigg knife rigg led motel instructed abduct owner ivan landsness rigg finds serial rapist forces landsness onto bed blinds one landsness eyes trap dismembers rigg led school finds married couple rex already dead morgan already spikes pulled body morgan pulls last spike rigg gives key save rigg turns fire alarm goes location final test the agents alternate investigating scenes questioning jill tuck kramer ex-wife jill reveals kramer work civil engineering property development miscarried son gideon seven months cecil adams drug addict slammed door stomach robbing health clinic motel agents learn room rented lawyer named art blank vanished two weeks prior survivor mausoleum trap blank revealed man overseeing game stops matthews attempts jumping gives gun school agents learn three victims well jill blank clients find puppet tape recorder another room plays cryptic message perez face explodes sending shrapnel face perez hospitalized strahm furiously questions jill convinced blank involvement kramer ended work wake blank depression cecil became first victim kramer games strahm connects story prior clue gideon meatpacking plant location final test strahm arrives rigg ends following jeff denlon finding jeff sickroom strahm shoots dead self-defense jeff demands daughter back meanwhile blank pulls device free timer expires used pair pincers sever spine rigg finds shot matthews breaks room releasing two overhead ice blocks swing crush matthews head killing rigg shoots kills blank believing responsible game learn blank tape recorder interference caused matthews death hoffman actual accomplice releases chair leaves rigg bleed death seals strahm sickroom leaves plant scene cuts hoffman morgue john final tape hoffman plays'></td><td><img src='./images/177.jpg' title='steal movie 2000 american biographical film 1960s radical figure abbie hoffman starring vincent onofrio janeane garofalo directed robert greenwald screenplay written bruce graham based number books including america love letters underground anita abbie hoffman abbie hoffman american rebel marty jezer supporting cast features jeanne tripplehorn kevin pollak film follows abbie hoffman vincent onofrio relationship second wife anita janeane garofalo awakening subsequent conversion activist life title film play hoffman 1970 counter-culture guidebook titled steal book criticism film hagiographic abbie hoffman fails give proper credit activists era like paul krassner co-founded yippies hoffman wife critics disliked film editing frequently relied upon use documentary footage voiceovers subtitles help advance plot however nearly film reviewers agreed strong acting performance vincent onofrio hoffman overcame film otherwise minor flaws modest budget september 2000 america hoffman son abbie anita filed suit lions gate films attempt block distribution film accusing filmmakers invasion privacy presenting unauthorized false uncomplimentary portrayal child suit america protested portrayal film wimpy quiet sulking effeminate mama boy accused filmmakers implying america may homosexual'></td><td><img src='./images/3064.jpg' title='gone 2012 mystery thriller film written allison burnett directed heitor dhalia starring amanda seyfried last film theatrically released summit entertainment lionsgate took distribution film earned negative reviews critics box office disappointment +++++this section plot summary may long excessively detailed please help improve removing unnecessary details making concise august 2014 learn remove template message ++jillian jill conway amanda seyfried lives portland oregon sister molly emily wickersham college student much earlier jill kidnapped brutal serial killer put deep vertical hole somewhere portland 5100 acre forest park jill found human remains used one bones stab abductor escaped hole using rope ladder portland police unable find hole discover jill committed psychiatric institution parents death believe abduction happened jill head sent jill back psychiatric facility year later jill works waitress local diner graveyard shift friend sharon ames jennifer carpenter generously tipped regular customer returning home shift jill shocked discover molly missing take exam next day wanted jill wake early molly boyfriend billy sebastian stan tells t heard molly later t show exam jill convinced serial killer took taken molly police lt ray bozeman michael paré sergeant powers daniel sunjata detective erica lonsdale katherine moennig dismiss claims trying look excuse molly missing believing jill head department newest homicide detective peter hood wes bentley tells believes giving jill card case needs help case jill interrogates neighbors learns van locksmith company name parked front house middle night jill finds company belongs talks owner henry massey ted rooney van driver massey son nick joel david moore nick denies knowledge jill breaks van finds receipt hardware store things killer would use jill holds nick gunpoint forces reveal allowed stranger named digger rent van night nick reports jill gun-waving behavior police want arrest jill time psychiatric facility means legally possess weapon jill goes hardware store learns digger real name jim lapointe socratis otto staying rundown hotel narrowly eluding police jill heads hotel breaks lapointe room finds duct tape pet food like given kidnapper matches diner works jill visits sharon learns lapointe generous tipper diner sharon gives lapointe phone number sharon judgment jill leaves phone number jill spotted police pursue portland escapes back sharon house jill borrows sharon car avoid police save molly jill calls lapointe gives directions location forest park jill locates small campsite finds pictures lapointe prior victims time molly breaks duct tape hands escapes discover concealed house along powers lonsdale shocked hear molly story finally believing heard jill also learn jill meet kidnapper n know happen jill finds hole lapointe held captive lapointe emerges alcove within hole grabs jill pulling hole intends kill piece bone jill stabbed initial escape jill kicks lapointe keep away grabs revolver shoots starts climbing rope ladder get away lapointe grabs foot attempts pull back desperate jill kicks lapointe break hold shoots manages climb away extracts rope ladder trapping lapointe hole shooting lapointe third time leg stand jill demands tell molly promise shooting lapointe admits molly bound gagged house whole time used molly lure jill trap jill pours kerosene hole lapointe begs life saying said would t kill says lied drops lantern burning lapointe death jill disposes revolver returns home finding molly okay along powers lonsdale hood molly terrified ordeal jill whispers lapointe dead powers asks man meet jill deadpan sarcasm tells police head molly go house close door leaving police billy frustrated some time later bozeman office receives anonymous package inside pictures lapointe taken victims bound gagged including jill included map indicates spot forest park police find hole realizing wrong jill bozeman calls powers office investigate new leads'></td></tr><tr><td> Similarity:0.299457229304</td><td> Similarity:0.263637194848</td><td> Similarity:0.214968641642</td><td> Similarity:0.198831678817</td><td> Similarity:0.180022259236</td></tr></table>"
      ],
      "text/plain": [
       "<IPython.core.display.HTML object>"
      ]
     },
     "metadata": {},
     "output_type": "display_data"
    }
   ],
   "source": [
    "Recommended_Movies = Get_Recommendations(2656,cos_sim_df)\n",
    "Display_Recommendations(Recommended_Movies,Movie_Map,2656)"
   ]
  },
  {
   "cell_type": "code",
   "execution_count": 44,
   "metadata": {},
   "outputs": [
    {
     "name": "stdout",
     "output_type": "stream",
     "text": [
      "Assuming that the user liked Cars 2:\n"
     ]
    },
    {
     "data": {
      "text/html": [
       "<table><tr><td><img src='./images/2733.jpg' title='cars 2011 american computer-animated action comedy spy film produced pixar animation studios walt disney pictures sequel 2006 cars features voices owen wilson larry cable guy michael caine emily mortimer john turturro eddie izzard film race car lightning mcqueen tow truck mater head japan europe compete world grand prix mater becomes sidetracked international espionage finn mcmissile british spy infiltrates world largest untapped oil reserves owned group lemon cars discovered flees fakes death lightning mcqueen 4-time piston cup champion returns home radiator springs enjoy quiet time however italian formula race car francesco bernoulli challenges mcqueen newly created world grand prix led creator sir miles axlerod mcqueen best friend mater along luigi guido fillmore sarge depart tokyo first race grand prix meanwhile lemons led weapons designer professor zündapp unknown mastermind secretly plotting secure oil profits using electromagnetic pulse emitter disguised camera discovered finn oil platform plan use emitter trigger destabilize use allinol fuel created axlerod required racers use grand prix mcmissile partner holley shiftwell attempt meet american spy car rod torque redline world grand prix promotional event tokyo receive information mastermind however redline attacked zündapp henchmen passing information mater captured mistaken american contact holley finn killing redline professor zündapp finds mater given information at first race three cars ignited camera mcqueen falls second race bernoulli due mater accidentally giving bad racing advice shortly evading zündapp henchmen help holley finn mater soon abducted finn boards plane helps identify information given traveling paris get information finn old friend travel italy next race held race held mater infiltrates criminals meeting camera used cars causing multi car pileup allowing mcqueen finish first due criminals plan causing allinol perceived troublesome sir miles axlerod removes required fuel final race however mcqueen decides continue using criminals plot kill mcqueen next race london spooks mater causing blow cover allow finn holley abducted while final race held mater taken tied inside clock tower big ben clock london mater discovers camera function mcqueen quickly learns criminals planted bomb pits backup plan causing break free escape finn holley escape later realize bomb mater air filter mater soon flees race course mcqueen arrived pits chases finn apprehends professor zündapp lemons soon arrive outnumber finn holley mater mcqueen soon rescued arrival radiator springs residents mater uses evidence seen reveal axlerod leader plot placed bomb afterwards mater confronts axlerod forces deactivate bomb lemons taken custody foiling operation in end mater receives honorary knighthood queen sarge reveals changed mcqueen fuel allinol gasoline hence camera work finn holley ask mater join another mission turns final scene ends world grand prix competitors racing radiator springs'></td></tr></table>"
      ],
      "text/plain": [
       "<IPython.core.display.HTML object>"
      ]
     },
     "metadata": {},
     "output_type": "display_data"
    },
    {
     "name": "stdout",
     "output_type": "stream",
     "text": [
      "The following movies are recommended:\n"
     ]
    },
    {
     "data": {
      "text/html": [
       "<table><tr><td><img src='./images/1413.jpg' title='cars 2006 american computer-animated comedy-adventure film produced pixar animation studios walt disney pictures directed co-written john lasseter pixar final independently-produced motion picture purchase disney may 2006 set world populated entirely anthropomorphic cars vehicles film stars voices owen wilson paul newman final acting role bonnie hunt larry cable guy tony shalhoub cheech marin michael wallis george carlin paul dooley jenifer lewis guido quaroni michael keaton katherine helmond john ratzenberger race car drivers dale earnhardt jr mario andretti michael schumacher car enthusiast jay leno jay limo voice themselves in world populated anthropomorphic vehicles last race piston cup championship ends three-way tie retiring veteran strip king weathers infamous runner-up chick hicks rookie lightning mcqueen tiebreaker race scheduled one week later los angeles international speedway california lightning desperate win race since would make first rookie win championship also allow leave unglamorous sponsorship rust-eze allow take king place sponsored car lucrative dinoco team eager start practice california soon possible pushes big rig mack travel night long mcqueen sleeping exhausted mack drifts startled gang four reckless street racers causing mcqueen fall back trailer onto road mcqueen wakes middle traffic speeds highway find mack end run-down desert town radiator springs inadvertently ruining pavement main road after arrested impounded overnight guarded rusty friendly tow truck named mater mcqueen ordered town judge doc hudson leave town immediately local lawyer sally carrera requests mcqueen instead given community service repave road doc reluctantly agrees mcqueen tries repave single day turns shoddy forced repave road takes several days complete time befriends several cars learns radiator springs used popular stopover along old s route 66 construction interstate 40 bypassing town literally vanished map mcqueen also discovers doc really fabulous hudson hornet three-time piston cup winner whose racing career ended accident 1954 quickly forgotten sport mcqueen finishes road invigorated cars improve town spends extra day radiator springs new friends mack media descend town led tip mcqueen location mcqueen reluctantly leaves media get california time race sally chastises doc discovering tipped media mcqueen whereabouts wanting discovered instead at los angeles international speedway mcqueen mind fully set race soon falls last place surprised discover doc hudson decked old racing colors taken crew chief along several friends radiator springs help pit inspired recalling tricks learned doc friends mcqueen quickly emerges lead race final laps last minute hicks—refusing come behind weathers again—sideswipes weathers sends dangerous spin causing accident seeing recalling doc fate mcqueen stops short finish line allowing hicks win drives back push weathers finish line crowd media condemn hicks victory nonetheless impressed mcqueen sportsmanship though offered dinoco sponsorship deal mcqueen declines insisting staying rust-eze appreciation past support later back radiator springs mcqueen returns announces setting headquarters helping put radiator springs back map'></td><td><img src='./images/1942.jpg' title='mother tears italian la terza madre literally third mother 2007 italian-american supernatural horror film written directed dario argento film stars asia argento daria nicolodi moran atias udo kier coralina cataldi-tassoni film also billed english-speaking media mater lachrymarum third mother english translation film original italian title mother tears third mother written argento jace anderson walter fasano adam gierasch simona simonetti film concluding installment argento supernatural horror trilogy three mothers began suspiria 1977 film depicts confrontation final mother witch known mater lachrymarum the film begins members catholic church digging body 19th-century church official whose casket box-shaped urn chained inside box discover artifacts belonging mater lachrymarum moran atias last surviving member three mothers ancient trio powerful black witches particular box contains magic cloak worn mater lachrymarum increases powers significantly the urn shipped museum ancient art rome sarah mandy asia argento american studying art restoration works sarah dating curator michael pierce single father away museum night help assistant curator sarah opens box finds cloak dagger three statues representing three witches sending sarah office retrieve tools help translate text artifacts curator promptly attacked demonic agents mater lachrymarum sarah arrives late save boss disembowelled monsters starts flee museum unfortunately pursued mater lachrymarum familiar baboon able escape disembodied voice magically throws open series locked doors keeping trapped inside museum sarah tells police happened spends night michael son michael visits cardinal sent urn find shortly mailing urn severe stroke coma assistant priest gives michael piece paper cardinal writing collapsing scrawled name mater lachrymarum leaves hospital pair witches observe michael leaving building back rome chaos descends wave mass suicides murder violence engulfs city sarah continues research summoned michael apartment witches kidnapped young son wo t return boy unless stops investigation sarah begs call police tailing sarah ever since murder museum michael refuses instead opts visit local priest trained exorcist goes badly michael two witches see soon captured murdered along son whose body cannibalized rapidly expanding coven however killed michael calls sarah begs come help makes way crowded train station sarah spotted gang witches like many witches arrived rome order pledge loyalty mater lachrymarum pursued witches police disembodied voice instructs sarah magically make invisible uses avoid police detective though forced kill witch katerina catches corners train at priest home sarah meets marta fellow white witch friend sarah deceased mother realizing sarah mother voice guiding marta reveals details sarah parents mother powerful white witch dared challenge severely wound mater suspiriorum eldest wisest three mothers response suspiriorum caused fatal car crash killed sarah parents though mater suspiriorum sister mater tenebrarum dead sibling mater lachrymarum emerged shadows bring second age magic fall rome coming party talk priest killed give two copy book would explain mater lachrymarum backstory patient escaping back city sarah goes home finds mater lachrymarum goons waiting heads marta house mater lachrymarum minions strike marta lesbian lover murdered fleeing sarah spots michael takes back apartment unfortunately sarah soon realizes michael dead mater lachrymarum animating body attempt kill burns lover still-animate body ghost mother intervenes one final time grab michael banish possibly hell sarah locates powerful alchemist marta mentioned hope learn fight mater lachrymarum briefly paralyzed alchemist could perform test see white witch evil witch alchemist gives sarah help locating mater lachrymarum dwelling sarah given copy three mothers read following group witches sarah finds mater lachrymarum lair run-down disrepaired mansion point joined one police detectives hunting two go catacombs find mater lachrymarum however two become separated detective tortured alongside alchemist assistant dies arm chopped one mater lachrymarum minions sarah caught brought mater lachrymarum offers sarah cannibal followers sarah healed detective wounds uses spear pull cloak mater lachrymarum tosses nearby fire causes mansion collapse pillar falls impales mater lachrymarum mother followers crushed caves collapse sarah detective laugh horror shock reach surface realize threat three mothers defeated'></td><td><img src='./images/2119.jpg' title='fool gold 2008 american adventure-romance film warner bros pictures recently divorced couple rekindle romantic life searching lost treasure film directed andy tennant reunites lose guy 10 days stars matthew mcconaughey kate hudson +++this article needs improved plot summary january 2017 ++ finn finnegan treasure hunter searching sunken spanish galleon aurelia lost sea 1715 treasure fleet search find galleon treasure wife tess divorces tess working steward yacht owned multi-millionaire nigel honeycutt finn finds clue location treasure manages get nigel honeycutt yacht precious gem convince daughter gemma join fund search treasure bigg bunny gangster finn mentor moe fitch intent finding treasure first precious gem moe vessel compete find treasure bahamas finn attempts secretly take moe search grid finn discovers sword holds clue finding treasure tess finn follow clues ancient church discover diary describing location treasure bigg bunny associates following tess finn take tess hostage assume incorrectly finn dead bigg bunny forces tess aid search treasure blowhole tess finds treasure cave beneath blowhole finn honeycutts enlist moe help steal treasure bigg bunny arrive bigg bunny sends one associates back water find killed blowhole blowhole kills bigg bunny employee traps finn tess tess saves finn bigg bunny kidnaps tess gemma transports finn bigg bunny plane jet ski finn leaps onto plane pontoon takes flight bigg bunny attempts shoot finn tess kicks bigg bunny plane sending ocean moe takes bigg bunny henchman prisoner tess finn reunited find treasure together tess shown pregnant end treasure displayed moe museum renamed fitch finnegan maritime museum'></td><td><img src='./images/3016.jpg' title='death race inferno also known death race death race inferno 2013 american action film film sequel death race frankenstein lives 2010 prequel 2008 film death race released directly video january 22 2013 death race owner h weyland ving rhames forced sell rights niles york dougray scott british billionaire acquired rights hostile takeover york reveals intends relocate death race deserts south africa transcontinental race leaving weyland arranges carl lucas also known frankenstein luke goss surgery heal infected deadly scars face sustained gruesome crash lucas one win away gaining freedom york threatens kill wins before first race lucas engages fist fight racers mask knocked middle fight revealing crew believed dead first race female navigators participate death race navigator wars death race hosted produced satana hlubi mboya contestants chosen top 10 survivors katrina tanit phoenix among survivors first race racers receive gps locators surgically showrunners locate racers times necessary kill attempt escape during first race racing deserts africa present different set difficulties compared racing terminal island prison race course eleven racers take start one jackal jumps start killed missile tracker joker pretty boy tazmanian devil also die first sector razor beats frankenstein hair win first race after race katrina tells lucas resume previous relationship hearbroken finding kept survival secret fight ensues first race goldberg danny trejo cut scuffle show surgeon makes advances goldberg two establish relationship order make katrina jealous producer satana orders psycho jeremy crutchley navigator amber sex lucas seems refuse offer satana york grow suspicious lucas something due non-rebellious attitude forced lose lucas explains team mates deal york lose says instead made new deal second race commences death three drivers fury killed tricked olga braun death race first ever female driver turn killed razor seconds later afterwards razor struggling handle lucas psycho three joined 14k robin shou disabled nero car leaving get beaten death angry mob locals race ends lucas emerging victorious second race moment goldberg caught explosion caused stray bullets local hostile war lords pronounced dead later york reminds lucas lose next race 14k york torture katrina satana discovers york wishes replace producer remove death race assume complete control next race katrina confesses love lucas lucas admits sex navigator chance final race begins razor disabling psycho car psycho dies flames navigator amber survives without taking damage lucas taking lead york attempting kill lucas homing missile 14k shoots flares send missile course saves lucas life returning life life favor near end race lucas holds commanding lead kills many death race guards along way vowing kill york however lucas allows 14k pass speeds york york attempts escape satana handcuffs table attempting replace also actions making earlier phone call need help deal york lucas crashes car control room explodes engulfing room flames initially insinuated everyone except lucas perished crash however revealed lucas katrina escaped unharmed unrecognizable york lucas aka frankenstein order assert york frankenstein lists fred koehler confirms along show surgeon claims implanted chip lucas it revealed lucas new deal made meeting weyland fake goldberg death surgeon olivia kim syster goldberg love interest falsely pronounced dead crash pronounces york katrina dead lucas sole survivor since york officially dead weyland regains control death race grants lucas katrina lists goldberg freedom lists elects stay behind returns terminal island weyland pays lucas substantial amount money help regaining control death race katrina relocate goldberg elsewhere niles york punished crimes imprisoned terminal island forcing become second frankenstein'></td><td><img src='./images/3227.jpg' title='baytown outlaws 2012 action comedy film directed barry battles directorial debut written battles griffin hood film stars andre braugher clayne crawford daniel cudmore travis fimmel eva longoria paul wesley billy bob thornton film follows oodie brothers-brick lincoln mcqueen-who act vigilante killers local sheriff trio accept job rescue young boy godfather drug lord carlos trio accept meanwhile atf agent anthony reese approaches millard spree criminal deaths suspects oodie brothers millard intentionally obstructive reese request aid the oodie travel carlos home assault building killing carlos men failing kill carlos recover rob young mentally disabled man wheelchair carlos sends group female biker assassins bikers find brothers resting bar bikers seduce unaware brothers separating lincoln notices one wheeling rob away women attack brothers manage kill women recover rob massacre ends news sketches three brothers provided bar owner giving reese evidence needs oodie killers brick calls celeste find simple job involves assassins celeste confesses rob wealthy family killed carlos rob legal guardian could obtain large trust fund rob inherit impending 18th birthday brick makes call millard tells reese evidence disavow arrest return alabama though speak brothers bond rob mcqueen suggests quit job brick tells mcqueen brother like rob regularly beaten father one day woke brother gone resemblance makes brick reluctant let carlos retake rob another group assassins armored vehicle attack brothers road snatch rob moving car brothers give chase lincoln leaps onto vehicle singlehandedly slaughtering everyone inside badly injured brothers car broken walking road group picked passing van one passengers nurse tends lincoln wounds remains weakened group dropped vicksburg mississippi wait celeste prepare attacks reese discovers photo millard recovering brothers children father death large cash withdrawals suspects used pay brothers confronts millard evidence forces give brothers location lesser jail sentence millard goes reese native american gang arrives attacks leaving brick mcqueen defend rob lincoln celeste later arrives joins brothers manage kill gang lincoln recovers enough stop one taking rob celeste brick downed remaining gang member attempts scalp mcqueen shot millard millard brothers arrested brothers provide false story involve celeste allowing take care rob reese success rewarded transfer manage territory much chagrin carlos killed explosive package sent celeste 57 months later brothers freed jail receive letter celeste enclosing promised 25 000 payment new truck waiting courtesy rob celeste ends letter saying others could use help'></td></tr><tr><td> Similarity:0.38027263614</td><td> Similarity:0.295401592436</td><td> Similarity:0.148393064492</td><td> Similarity:0.109960631703</td><td> Similarity:0.085337820135</td></tr></table>"
      ],
      "text/plain": [
       "<IPython.core.display.HTML object>"
      ]
     },
     "metadata": {},
     "output_type": "display_data"
    }
   ],
   "source": [
    "Recommended_Movies = Get_Recommendations(2733,cos_sim_df)\n",
    "Display_Recommendations(Recommended_Movies,Movie_Map,2733)"
   ]
  },
  {
   "cell_type": "code",
   "execution_count": 45,
   "metadata": {},
   "outputs": [
    {
     "name": "stdout",
     "output_type": "stream",
     "text": [
      "Assuming that the user liked Mission: Impossible – Ghost Protocol:\n"
     ]
    },
    {
     "data": {
      "text/html": [
       "<table><tr><td><img src='./images/2825.jpg' title='mission impossible ghost protocol 2011 american action spy film directed brad bird written josh appelbaum andré nemec fourth installment mission impossible film series also director brad bird first live-action film hendricks used kremlin bombing cover theft russian nuclear launch-control device planning trade moreau burj khalifa dubai gain required launch codes the team travel dubai create deceptions using various gadgetry disguises make moreau believe meeting hendricks vice versa fact interacting imf team moreau discovers deception ensuing chaos hendricks manages escape launch codes losing hunt pursuit midst dust storm carter knocks moreau window tries escape brandt accuses letting love hanaway compromise mission hunt recognizes brandt also keeping secrets shown combat skills atypical mere analyst hunt leaves meet bogdan get information hendricks brandt tells others assigned protect ethan wife julia croatia julia killed hit squad brandt feels responsible ethan loss stopped field agent bogdan directs ethan towards mumbai hendricks set negotiate indian telecommunications entrepreneur brij nath gain control obsolete soviet military satellite imf team splits stop hendricks carter seduces nath get satellite override code hunt brandt dunn try stop hendricks using nath broadcast station late hendricks sent launch codes russian delta iii-class nuclear submarine fire single missile san francisco disabled station computer systems brandt dunn race get systems back online send override code hunt pursues hendricks eventually fighting face face automated car park hendricks launch device jumps death moments missile land hunt takes dangerous fall use device disable missile strikes sidorov followed imf dubai mumbai arrives realizes imf innocent kremlin bombing the team meets seattle ethan accepts new mission luther stickell brandt confesses ethan failure protect julia ethan however reveals death murder serbians part plot give new identity enable ethan infiltrate prison relieved brandt accepts mission ethan julia gaze afar ethan departs next mission'></td></tr></table>"
      ],
      "text/plain": [
       "<IPython.core.display.HTML object>"
      ]
     },
     "metadata": {},
     "output_type": "display_data"
    },
    {
     "name": "stdout",
     "output_type": "stream",
     "text": [
      "The following movies are recommended:\n"
     ]
    },
    {
     "data": {
      "text/html": [
       "<table><tr><td><img src='./images/1613.jpg' title='mission impossible iii stylized iii 2006 american action spy film co-written directed j abrams directorial debut starring tom cruise also served producer role imf agent ethan hunt third installment mission impossible film series film ethan hunt cruise retired field work impossible missions force imf trains new recruits however sent back action track elusive arms dealer owen davian philip seymour hoffman ethan hunt retired field work imf instead trains new recruits settling fiancée julia meade doctor unaware ethan true job approached fellow imf agent john musgrave mission rescue one ethan protégés lindsey farris lindsey captured investigating arms dealer owen davian musgrave already prepared team ethan declan gormley zhen lei old partner luther stickell the team rescues lindsey collects two damaged laptop computers flee ethan discovers explosive pellet implanted lindsey head disable goes kills back s ethan musgrave reprimanded imf director theodore brassel ethan learns lindsey mailed postcard capture discovers magnetic microdot stamp imf technician benji dunn recovers enough data laptops determine davian vatican city obtain mysterious object called rabbit foot ethan plans mission capture davian without seeking official approval leaving julia impromptu wedding hospital chapel team successfully infiltrates vatican city captures davian on flight back s ethan threatens drop davian plane interrogates rabbit foot davian remains tightlipped landing ethan learns microdot contains video lindsey warning brassel working davian convoy taking davian across chesapeake bay bridge–tunnel attacked davian escapes ethan races julia workplace find already kidnapped davian gives ethan 48 hours recover rabbit foot exchange julia life ethan soon captured imf musgrave takes part ethan interrogation discreetly mouths rabbit foot located shanghai china provides ethan means escape ethan escapes imf headquarters travels shanghai acquires rabbit foot along team delivers rabbit foot meeting point ethan tranquilized comes realizes micro-explosive implanted head restrained ethan sees davian holding julia gunpoint despite ethan asserting brought real rabbit foot davian shoots julia leaves musgrave arrives explains woman killed julia davian head security executed failing protect vatican city ruse confirm authenticity rabbit foot julia alive held hostage musgrave reveals mole arranged davian acquire rabbit foot sell terrorist group imf would reasons launch preemptive strike when musgrave lets guard ethan knocks unconscious frees uses musgrave phone track last call location find julia arrives finds place encounters davian davian triggers micro-explosive ethan head ethan kills jury-rigs impromptu defibrillator deactivate explosive electrocuting kisses julia teaches use beretta 92 defend ethan unconscious musgrave henchman arrive julia shoots dead successfully revives ethan explains true imf career her back s ethan congratulated brassel leaves honeymoon julia'></td><td><img src='./images/2544.jpg' title='due date 2010 american comedy film directed todd phillips co-written alan cohen alan freedland adam sztykiel starring robert downey jr zach galifianakis film released november 2010 film shot las cruces new mexico atlanta georgia tuscaloosa alabama peter highman robert downey jr successful architect due fly home wife sarah michelle monaghan give birth way airport chance encounter ethan tremblay zach galifianakis going la actor planning scatter recently deceased father ashes grand canyon ethan misuses words terrorist bomb talking peter escorted plane first series misadventures caused drastically dysfunctional ethan peter fly list missing wallet agrees drive ethan los angeles ethan stops buy marijuana peter discovers nearly money since peter d gets wife wire money ethan discovers ethan money wired stage name instead legal name western union employee danny mcbride refuses accept ethan stage name d leads violent altercation after night rest stop peter decides drive abandon ethan realizes still ethan father ashes forgotten unload rest ethan stuff left causes wrestle conscience decides return ethan drives peter get rest falls asleep wheel crashes car peter ethan picked peter friend darryl jamie foxx peter decides part company ethan darryl initially persuades otherwise throws ethan mistakenly drinking ethan father ashes stored coffee tin when darryl lets use range rover make rest trip ethan mistakenly drives mexico–united states border despite assuring peter ll handle situation ethan flees peter arrested possession marijuana mexican federal police lock peter ethan steals truck breaks causing several car crashes process they stop grand canyon ethan finally scatters father ashes peter confesses tried leave ethan rest area ethan makes confession peter wallet d entire time peter seemingly forgives attacks ethan rage interrupted call sarah gone labor peter ethan leave california ethan finds gun truck accidentally shoots peter arriving hospital sarah labor peter passes loss blood sarah delivers baby safely peter expresses discomfort new daughter named rosie highman ethan leaves telling peter call end ethan guest stars episode favorite television program two half men peter sarah watching bed daughter'></td><td><img src='./images/1258.jpg' title='mostly unfabulous social life ethan green syndicated comic strip drawn eric orner appearing lesbian gay bisexual transgender publications strip title character ethan green young gay man trying balance professional career personal assistant search love started 1989 twenty-six-year-old ethan lives roommate charlotte house owned ex-boyfriend leo west hollywood ethan dating former pro baseball player-turned-autobiographer kyle underhill several months leo announces plans sell house ethan starts dropping hints kyle live together inexplicably kyle actually asks move ethan breaks him ethan hooks younger man punch works real estate office together conspire delay sale leo house convincing sign world worst realtor terminally depressed sunny deal however charlotte ends sleeping sunny knocks depression motivates make sale meanwhile nostalgic one-night stand ethan decided wants get back together leo unfortunately leo gotten engaged controlling even emotionally abusive gay republican chester baer ethan event planner mother agreed plan commitment ceremony in odd moment leo punch kyle end torrid threesome ethan bedroom punch decides ethan t mature enough dumps kyle considering taking ethan back abruptly changes mind chester forgives leo go ahead plans house sells charlotte sunny move together ethan signs lease local retirement community ethan crashes commitment ceremony give leo silent blessing however altar leo anxiety attack taken away ambulance days later ethan settles retirement community screen fades black words end the screen fades back leo talking lady retiree ethan stands nearby leo tells gave chester ring back broke leo realized still loves ethan ethan reconcile film ends kiss'></td><td><img src='./images/3701.jpg' title='one love 2014 american science-fiction thriller film directed charlie mcdowell written justin lader film stars mark duplass elisabeth moss film world premiere 2014 sundance film festival january 21 2014 confronted potential end marriage ethan mark duplass sophie elisabeth moss seeing therapist ted danson regularly asking play note piano identifies disconnection relationship suggests take weekend retreat large secluded estate couple decides try anything save marriage agree go once estate ethan sophie make comfortable smoking marijuana relax sophie goes guest cottage sex ethan sophie returns house find ethan asleep mentions sex ethan claims remember event sophie annoyed ethan could ruin otherwise romantic evening poor joke goes bed alone ethan instead curls guest cottage night sophie joins remorse apologizing behavior falling asleep next next morning makes eggs bacon breakfast ethan makes note odd sophie cooking bacon notedly hates smell bacon would always refuse cook it ethan suspicious returns main house sophie memory joining guest cottage relenting distaste bacon ethan quickly derived something unusual going guest house cottage met doppelgänger one convincing enough pass without suspicion visiting sophie ii moss ethan able establish doppelgängers leave guest cottage barging sophie session ethan ii duplass determines doppelgängers disappear original spouses guest cottage together doubles idealized versions spouses imitate ethan sophie agree take advantage strange circumstances though ethan sets ground rules including rule intimacy spend fifteen minutes time them ethan accumulates evidence mundane explanation going clothing missing receives several voice mails friends family answering calls made voice asking details past sophie meanwhile asks ethan ii cheated first place ethan ii says moment weakness promises make right sophie started develop feelings ethan ii goes guest cottage seduce ethan discovers quick sleight hand claiming take car store instead enters guest house assumes place doppelgänger sophie seduces original ethan unbeknownst her the next morning sophie seeks refuge ethan ii ethan deliberately disturbs entering guest cottage argue find sophie ii ethan ii awaiting main house four spend bizarre social evening together becomes clear ethan ii sophie ii know playing role ethan ii also reveals ethan duplicity guest cottage turning sophie ethan ii conspires lock ethan guest cottage night ethan finds computer files different couples include sound recordings voices locates file labeled sophie ethan presumably ethan ii sophie ii learning imitating sophie s sophie ii visits ethan guest house next morning explains happening residing couple ethan ii sophie ii must drive wedge visiting couple causing visiting couple fall love residing couple presumably worked differences shared imprisonment leave visiting couple turn trapped within estate new visitors arrive ethan ii reveals planning leave sophie fallen love however sophie ii would rather conspire see husband leave another woman execute plan ethan hides bathroom main house sophie ii asks borrow sophie clothes preparation hike three taking emerging exact clothes sophie wearing ethan confronts sophie explains told ethan ii discovers clandestine meeting wrestling ethan attempts convince sophie flee refuses decides run away figuring chance finally escape retreat grounds even alone ethan pursues without need ethan ii hits invisible barrier collapses ground unconscious impact sophie opposing reaction incident one seemingly distressed ethan ii lying ground slowly smiling ethan waits next move ethan realizing chance escape grabs smiling sophie judging solely facial expression makes run car sophie left behind last seen left side road kneeling ethan ii still unconscious whose prognosis unclear looks short blank stare watch ethan sophie drive away estate ethan sophie drive straight therapist office demanding answers find abandoned piano centre room two call day seemingly deciding wash hands everything happened head home following day ethan sophie home bed playful banter asks plans making breakfast calling back downstairs sophie casually replies eggs bacon ethan takes moment consider meaning sophie cooking bacon either brought back sophie ii sophie changed ethan appears come peace conclusion heads downstairs join breakfast'></td><td><img src='./images/119.jpg' title='mission impossible stylized i-2 2000 american action spy film directed john woo starring tom cruise also served film producer second installment mission impossible film series film ethan hunt recruited impossible missions force imf find destroy dangerous biological weapon called chimera rogue imf agent named sean ambrose help new girlfriend nyah nordoff-hall ethan hunt alerted imf someone used identity assist bio-chemical expert dr vladimir nekhorvich enter united states kill subsequent plane crash nekhorvich old friend ethan forewarned imf arrival planning deliver new bioweapon chimera cure bellerophon forced develop biocyte pharmaceuticals imf determines rogue imf agent sean ambrose responsible imf assigns ethan recover virus cure also insists recruits nyah nordoff-hall professional thief presently operating seville spain later ethan finds ambrose ex-girlfriend after recruiting nyah ethan assembles team computer expert luther stickell pilot billy baird sydney australia biocyte laboratories located ambrose staying ethan stakes biocyte nyah gets close ambrose begins learn chimera virus horse racing event ambrose meets biocyte ceo john mccloy shows mccloy video chimera affecting one nekhorvich colleagues blackmails mccloy cooperating nyah steals video footage transfers ethan ethan team learn chimera 20-hour dormant period causes death mass destruction victim red blood cells bellerophon save victim used within 20-hour window the imf team kidnaps mccloy force give bellerophon however learn samples bellerophon taken nekhorvich ambrose hands ambrose cure virus nekhorvich injected result ambrose forced mccloy exchange sample virus sample bellerophon team break biocyte destroy virus ambrose posing ethan tricks nyah revealing plan ambrose captures nyah raids biocyte secure virus ethan able destroy one sample virus ambrose intervenes firefight ensues ambrose orders nyah retrieve last sample chimera injects preventing ambrose simply killing get ambrose takes nyah away ethan escapes laboratory ambrose lets nyah wander streets sydney daze intending start pandemic offers sell bellerophon mccloy exchange stock options make majority shareholder predicts price biocyte stock skyrocket due demand bellerophon chimera outbreak ethan infiltrates meeting steals remaining samples bellerophon ethan pursued ambrose luther billy locate nyah wandered cliff side intent killing prevent chimera spreading ethan eventually gains upper hand ambrose kills little time left 20-hour countdown luther reaches ethan takes bellerophon injects nyah imf clears nyah criminal record ethan starts vacation sydney'></td></tr><tr><td> Similarity:0.284669659951</td><td> Similarity:0.229786262283</td><td> Similarity:0.197036840156</td><td> Similarity:0.196086677744</td><td> Similarity:0.184644692921</td></tr></table>"
      ],
      "text/plain": [
       "<IPython.core.display.HTML object>"
      ]
     },
     "metadata": {},
     "output_type": "display_data"
    }
   ],
   "source": [
    "Recommended_Movies = Get_Recommendations(2825,cos_sim_df)\n",
    "Display_Recommendations(Recommended_Movies,Movie_Map,2825)"
   ]
  },
  {
   "cell_type": "code",
   "execution_count": 46,
   "metadata": {},
   "outputs": [
    {
     "name": "stdout",
     "output_type": "stream",
     "text": [
      "Assuming that the user liked Titanic 3D:\n"
     ]
    },
    {
     "data": {
      "text/html": [
       "<table><tr><td><img src='./images/3176.jpg' title='titanic 1997 american epic romance-disaster film directed written co-produced co-edited james cameron fictionalized account sinking rms titanic stars leonardo dicaprio kate winslet members different social classes fall love aboard ship ill-fated maiden voyage in 1996 treasure hunter brock lovett team aboard research vessel akademik mstislav keldysh search wreck rms titanic necklace rare diamond heart ocean recover safe containing drawing young woman wearing necklace dated april 14 1912 day ship struck iceberg rose saved with rose hiding cal en route rms carpathia takes survivors new york city rose gives name rose dawson later finds cal committed suicide losing money 1929 wall street crash back present lovett decides abandon search hearing rose story alone stern keldysh rose takes heart ocean possession along drops sea wreck site seemingly asleep died bed photos dresser depict life freedom adventure inspired life wanted live jack young rose reunites jack titanic grand staircase applauded died'></td></tr></table>"
      ],
      "text/plain": [
       "<IPython.core.display.HTML object>"
      ]
     },
     "metadata": {},
     "output_type": "display_data"
    },
    {
     "name": "stdout",
     "output_type": "stream",
     "text": [
      "The following movies are recommended:\n"
     ]
    },
    {
     "data": {
      "text/html": [
       "<table><tr><td><img src='./images/1125.jpg' title='ballad jack rose 2005 drama film written directed rebecca miller starring husband daniel day-lewis also stars camilla belle catherine keener paul dano ryan mcdonald jason lee jena malone susanna thompson beau bridges film tells story environmentalist teenage daughter live secluded island commune filmed rock barra prince edward island canada new milford connecticut jack slavin daniel day-lewis scottish farmer heart ailment lives island hippie commune decades struggling keep landowners building developments wetland teenaged daughter rose camilla belle beautiful isolated girl passion gardening since rose mother left family jack homeschooled daughter expose life beyond small island home jack believes need woman around travels mainland ask girlfriend kathleen catherine keener move jack breaks news shocked rose kept relationship secret rose remains disdainful kathleen two teenage sons move in kathleen struggles adapt slavin rural lifestyle sons rodney ryan mcdonald thaddius paul dano almost polar opposites thaddius sullen rude delinquent rodney insecure often overlooked still strained relationship kathleen rose develops strange bonds new step-brothers clear thaddius attracted rose like one night rose spies jack kathleen bed together develops strange jealousy toward kathleen rose decides lose virginity shocks rodney confronting topless asking sex rodney refuses reasons instead ends giving dramatic haircut afterward rose calmly takes father shotgun possibly misfires jack kathleen bedroom sleep initially shocked jack confronts rose disbelief two seem forget event within minutes kathleen asks jack relationship rose might psychological problems dealt jack denies daughter problems meanwhile rose rodney become good friends rodney often criticized mother overweight two fight constantly diet rose sees kindness intelligence however still mission lose virginity rose thoughts turn thaddius trapping copperhead intended scaring kathleen rose sees thaddius girl named red berry sex woods later night thaddius enters rose room though dislikes rose allows sex copperhead rose kept cage bed escapes house lock cage loosened drops open vibrations bed thaddius rose sex in to irk father rose hangs bloodied bedsheet front yard jack furious daughter ruined gives thaddius one day move meanwhile kathleen cornered copperhead resulting chaos puts whole household edge night rose holds screening homemade movie hippie commune treehouse film rolls thaddius advances rose stopped jack scuffle thaddius falls treehouse rushed hospital rose runs away hides days jack finally finds offers ask kathleen leave would bring rose home distraught kathleen demands 20 000 exchange leaving jack pays jack returns rose hideout overjoyed news kathleen gone night rose kisses jack shock daughter love makes upset weeps waking next morning memory kiss haunts jack rose go house builder marty rance jack breaks finding fight left tells rance destroy wetlands rose return home jack dies within days rose originally planned kill father died setting house fire lying next jack body changes mind escapes two years later rose shown living vermont working greenhouse gray father friend island works well'></td><td><img src='./images/2566.jpg' title='greatest 2009 american drama film written directed shana feste directorial debut starring pierce brosnan also executive producer susan sarandon carey mulligan michael shannon eighteen-year-old bennett brewer aaron johnson rose mulligan sex together time either ever done bennett killed truck crashes car parked middle road night family feel like go mother grace sarandon father allen brosnan get unexpected visitor knocking door turns rose pregnant bennett child story develops bennett younger brother ryan introduced grieving fact say final good bye brother one sees true relationships family story comes together grace waits bed jordan walker man driving truck collided bennett car crash waiting wake ask occurred 17 minutes crash death finds truth disappointed hears last moments bennett calling mother calling rose asking walker make sure safe allen hires cleaner clean house grace finds terribly angry claiming son washed away allen appears heart attack whilst grace carries shouting realises happening hospital bed shortly grace returns finding bennett final minutes allen breaks crying saying holding grief upset could done something prevent crash son death meanwhile rose overheard grace saying rose died instead bennett leaves seeks help mother soon realises mother bothered trying get money brewers claiming help brewers try find rose find labor persuade go hospital car way seeks find everything bennett already know when film draws close one sees rose baby girl called ruby grace favourite girl name film ends moment bennett spoke rose earlier day died'></td><td><img src='./images/2401.jpg' title='maiden heist 2009 comedy film directed peter hewitt starring morgan freeman christopher walken william macy marcia gay harden film released heist uk roger christopher walken security guard art museum rarely motion opting rather stare favorite painting lonely maiden beautiful woman staring forlornly distance despite fact wife rose marcia gay harden s become rather obsessed painting rose wants roger retire move florida one afternoon roger learns several pieces including lonely maiden permanently moved another museum copenhagen denmark unable follow maiden roger falls despair meets charles morgan freeman another guard similar attraction painting another floor woman cats george william macy also obsessed piece art nude sculpture greek warrior often strips poses naked beside night shift using advantages shifts experience george comes idea steal favorite works art replace replicas roger volunteers tag artworks shipped charles george seek assistance replicating favorites charles painter able cat painting perfectly fails capturing lonely maiden men hire street artist breckin meyer task forcing roger steal rose florida vacation savings pay job rose becomes suspicious nearly ends roger taken volunteer staff george manages replicate sculpture maiden copy also completed on day switch george sneaks warehouse crate statue successfully swaps three marked pieces ca t resist stripping posing statue guard shows forcing george hide crate without clothes next morning roger charlie unwitting accompaniment rose come collect crate containing george ends wrong van panic-stricken charlie gives chase manage successfully rescue george emerges shipping crate unclothed much rose shock having pulled heist without getting caught retire jobs rose none wiser trip florida roger enthralled rose looks ocean strikingly resembles lonely maiden pose love life rekindled meanwhile three men hide treasures shack charles apartment roof go view leisure however roger looks painting n inspire like smiles remembers wife meanwhile copenhagen guard duty passes painting looks smiling'></td><td><img src='./images/1118.jpg' title='aliens deep 2005 documentary film directed part james cameron alongside fellow cameraman friend steven quale would go direct final destination six years later filmed imax 3d format produced walden media walt disney pictures cameron teams nasa scientists explore mid-ocean ridges submerged chains mountains atlantic pacific oceans home planet unusual forms life cameron joins aboard russian research vessel akademik mstislav keldysh group nasa scientists well american marine biologists investigate ten hydrothermal vents atlantic pacific vents unique ecosystem support diverse organisms giant tube worms swarms blind white crabs vast amounts shrimp capable seeing water heated vents creatures require sunlight like organisms instead obtain energy vents able survive superheated sulfurous water documentary suggests life beyond earth might look like alien ecosystems likely lot harsher typical terrestrial ecosystem exotic vents provide insight forms alien life might take documentary shows cameron passion exploring oceans well interest extraterrestrial life also showcases technology employed reach depths film similar cameron earlier documentary ghosts abyss 2003 involves journeying wreck rms titanic filmed 3-d imax format'></td><td><img src='./images/2743.jpg' title='crazy stupid love stylized crazy stupid love 2011 american romantic comedy film directed glenn ficarra john requa written dan fogelman starring steve carell ryan gosling julianne moore emma stone marisa tomei kevin bacon film follows recently divorced man seeks rediscover manhood taught pick women bars cal weaver steve carell middle-aged man learns wife emily julianne moore cheated co-worker david lindhagen kevin bacon wants divorce moving apartment cal goes bar night night talking loudly divorce attracts attention young man named jacob palmer ryan gosling womanizer beds women night although young woman named hannah emma stone recently rejected advances jacob takes pity cal offers teach pick women using jacob teachings cal seduces kate marisa tomei bar encounter cal manages successfully seduce women bar sees emily son robbie jonah bobo parent-teacher conference interaction goes well discover robbie teacher kate reveals emily cal slept together cal confesses sleeping nine women emily leaves disgust begins actively dating david meanwhile hannah recent law school graduate expecting boyfriend richard josh groban propose marriage celebrate passing bar exam instead offering position law firm offended hurt hannah returns bar originally rejected jacob advances kisses jacob passionately two return jacob home sex end talking night making connection jacob starts relationship hannah becomes distant cal at time robbie makes numerous grand gestures try win heart 17-year-old babysitter jessica riley analeigh tipton actually crush cal advice classmate madison julianna guill takes naked photos send cal tucks away envelope inside dresser drawer later emily calls cal guise needing help house pilot light cal decides try win back meanwhile jacob returns cal calls asks advice starting real relationship meeting girlfriend parents jessica mother claire beth littleford dislikes cal discovers jessica naked photos dresser drawer shows jessica father bernie john carroll lynch bernie cal best friend claire made end friendship aftermath breakup bernie rushes weaver residence confront photos jessica pursuit cal kids create makeshift mini golf set backyard remind emily first date gathering jacob hannah show house hannah revealed cal emily first daughter cal appalled jacob dating daughter forbids see moment bernie shows attacks cal jessica arrives tells father cal knew nothing pictures david arrives scene return emily sweater previous date jacob asks david name lindhagen david replies yes jacob punches face pain caused cal cal jacob david bernie get scuffle soon broken police cal starts spending time bar receives visit jacob confesses love hannah cal replies happy jacob changed man approve jacob hannah relationship seen jacob former lifestyle jacob harbor ill feelings rather respects cal praises great father at robbie eighth grade graduation robbie salutatorian gives pessimistic speech longer believes true love soul-mates cal stops instead begins recount courtship emily audience saying know things work never give emily renewed faith robbie reaffirms love jessica audience applause ceremony cal gives jacob hannah blessing jessica gives robbie envelope containing nude photos originally intended cal get high school cal emily laugh talking events transpired past year hinting might get back together'></td></tr><tr><td> Similarity:0.292896298323</td><td> Similarity:0.171477544925</td><td> Similarity:0.15832825584</td><td> Similarity:0.156473330037</td><td> Similarity:0.149228285278</td></tr></table>"
      ],
      "text/plain": [
       "<IPython.core.display.HTML object>"
      ]
     },
     "metadata": {},
     "output_type": "display_data"
    }
   ],
   "source": [
    "Recommended_Movies = Get_Recommendations(3176,cos_sim_df)\n",
    "Display_Recommendations(Recommended_Movies,Movie_Map,3176)"
   ]
  },
  {
   "cell_type": "code",
   "execution_count": 47,
   "metadata": {},
   "outputs": [
    {
     "name": "stdout",
     "output_type": "stream",
     "text": [
      "Assuming that the user liked Gravity:\n"
     ]
    },
    {
     "data": {
      "text/html": [
       "<table><tr><td><img src='./images/3331.jpg' title='gravity 2013 science fiction adventure film directed co-written co-edited co-produced alfonso cuarón stars sandra bullock george clooney astronauts stranded space mid-orbit destruction space shuttle subsequent attempt return earth dr ryan stone bullock biomedical engineer lake zurich illinois aboard nasa space shuttle explorer first space mission sts-157 veteran astronaut matt kowalski clooney commanding final mission spacewalk service hubble space telescope mission control houston warns team russian missile strike defunct satellite inadvertently caused chain reaction forming cloud debris space mission control orders mission aborted crew begin re-entry immediately debris speeding towards shuttle communication mission control lost shortly thereafter high-speed debris russian satellite strikes explorer hubble detaching stone shuttle leaving tumbling space kowalski using manned maneuvering unit mmu recovers stone return explorer pair soon discovers shuttle suffered catastrophic damage rest crew dead stone kowalski decide use mmu reach international space station orbit 450 km 900 mi away kowalski estimates 90 minutes debris field completes orbit threatens again on way international space station iss two discuss stone home life daughter died young accident approach see iss crew evacuated one two soyuz tma capsules parachute remaining soyuz tma-14m deployed rendering capsule useless returning earth kowalski suggests using travel nearby chinese space station tiangong 100 km 60 mi away order board chinese module return safely earth air maneuvering power two try grab onto iss fly stone leg gets entangled soyuz parachute cords grabs strap kowalski suit soon becomes clear cords support despite stone protests kowalski detaches tether save drifting away stone pulled back towards iss kowalski floats away certain death continues support communications range stone enters space station via airlock re-establish communication kowalski concludes sole survivor inside station fire breaks forcing rush soyuz maneuvers capsule away iss tangled parachute tethers prevent separating station stone performs spacewalk order release cables succeeding debris field completes orbit destroys station stone aligns soyuz tiangong discovers soyuz engine fuel after poignant attempt radio communication fisherman earth speaks eskimo–aleut stone resigns stranded shuts cabin oxygen supply commit suicide begins lose consciousness kowalski enters capsule scolding giving tells rig soyuz soft landing jets propel capsule toward tiangong stone realizes kowalski reappearance hallucination nonetheless given strength continue restores flow oxygen uses landing jets navigate toward tiangong momentum unable maneuver soyuz dock station stone ejects via explosive decompression uses fire extinguisher makeshift thruster travel final metres tiangong rapidly deorbiting stone enters shenzhou capsule tiangong starts break upper edge atmosphere stone radios ready head back earth re-entering atmosphere stone hears mission control tracking capsule sending rescue due harsh reentry premature jettison heat shield fire starting inside capsule after speeding atmosphere capsule lands lake dense smoke forces stone evacuate immediately splashdown opens capsule hatch allowing water enter sink forcing shed spacesuit swim ashore watching remains tiangong re-enter atmosphere stone shakily takes first steps back land'></td></tr></table>"
      ],
      "text/plain": [
       "<IPython.core.display.HTML object>"
      ]
     },
     "metadata": {},
     "output_type": "display_data"
    },
    {
     "name": "stdout",
     "output_type": "stream",
     "text": [
      "The following movies are recommended:\n"
     ]
    },
    {
     "data": {
      "text/html": [
       "<table><tr><td><img src='./images/342.jpg' title='megiddo omega code 2001 religious science fiction-adventure film directed brian trenchard-smith starring michael york michael biehn diane venora r lee ermey udo kier franco nero follow-up 1999 film omega code serving part prequel part sequel however events portrayed inconsistent plot omega code making film less sequel alternate retelling significantly larger budget predecessor less well-received lead actor michael york detailed making film journal published book form titled dispatches armageddon stone alexander quiet boy years age whose mother died giving birth younger brother david party influential father home stone left alone david crib stone stares fireplace fiery force shoots engulfs boy possessing stone attempts burn baby brother david saved nanny father daniel david hedison sends stone away military academy education guidance general francini franco nero not long arriving academy drawn church meets demonic guardian udo kier participates black mass-type ceremony years pass although stone periodically abused classmates eventually earns respect becoming top student class graduating military academy stone meets younger brother david first teenage david chad michael murray expresses admiration towards older brother wish emulate however father admonishes true soon graduation stone marries italian girlfriend gabriella daughter general francini general initially marriage stone summons two smoke-like demons intimidate general giving in eventually stone becomes president european union stone summons benson meet rome prior departing italy president benson orders s navy sixth fleet take position coast italy event emergency accompanying president flight italy david alexander michael biehn vice president united states president military aide u marine colonel rick howard gil colon informal meeting air force one david col howard warn president keep distance stone due cia report indicates 200 people opposed stone past died questionable circumstances close contact unfortunately benson fails grasp ruthless stone really stone kills supernaturally induced heart attack david sworn new president hour president benson death much stone disappointment brother also refuses join new world order secretary state breckenridge jim metzler however wants united states join global community aligned stone failing convince david fall line world union publicizes doctored video david murdering father reality stone killed him breckenridge orders fbi arrest president heated exchange gunfire president escapes helicopter norfolk naval base u navy brass provides transport sixth fleet amphibious assault ship arriving david orders raid stone castle headquarters rome however discovers stone already israel david finds gabriella diane venora dungeon confined guardian witnessed stone demonic powers dies david arms professing love following raid colonel howard receives word breckenridge sending s troops israel join stone military coalition plains megiddo planning strike jerusalem following special operations raid rome david colonel howard move quietly join s forces already israel unknown stone mexicans chinese americans really destroy stone army david attempts kill stone soon captured later stone triumph shattered chinese tanks open fire upon european troops one side s mexican forces attack shortly afterwards stone troops hit air strikes well taken completely surprise forces quickly overrun stone instructs soldiers fight death overrunning stone armored artillery positions mexican tanks charge headlong targeting enemy headquarters stone officers swallowed huge fireball tank shells rain david barely manages break free jump away headquarters explodes behind david stunned stone walks ashes morphs massive demon ram horns huge leathery wings seriously wounding david summons dark brethren reinforcements revives dead army full display supernatural powers even darkens sun plunging whole battlefield darkness the reinforcements soon outnumber overrun mexican chinese american forces triumph stone satan celebrates cries loudly lord boast bright white light lances ruins headquarters begins dropping meteors light upon battlefield stone/satan soldiers killed allied survivors remained untouched freed bonds stone former guardian dismayed satan defeat tries run battlefield globe light chases quickly impales swords pure light causing vaporized satan driven knees forced admit jesus one true lord light pulverizes ground beneath dropping devil deep pit molten lava lake fire finds chained screams anguish defeated david lies ground looking sky light becomes brighter fades away revealing scene earthly paradise declaration revealed screen god established home man shall reign forever ever'></td><td><img src='./images/3983.jpg' title='central intelligence 2016 american action comedy film directed rawson marshall thurber written thurber ike barinholtz david stassen in 1996 star athlete calvin joyner honored high school halfway calvin speech trevor olson group bullies throw naked robbie wierdicht showering hall assembly taking place embarrassing calvin girlfriend maggie johnson sympathetic towards wierdicht twenty years later calvin married maggie works forensic accountant dissatisfied career maggie suggests see therapist salvage deteriorating marriage work calvin receives friend request facebook man named bob stone reveals wierdicht requests meet calvin shocked see wierdicht transformed muscular confident man stone asks calvin review accounting records calvin deciphers records multi-million dollar transactions auction final payment set made following day stone avoids calvin questions spends night couch the next morning group cia agents led pamela harris arrive calvin house search stone escapes harris tells joyner stone dangerous rogue agent intends sell satellite codes highest bidder soon stone abducts calvin explains trying stop criminal known black badger selling codes needs calvin skills find coordinates deal location attack bounty hunter calvin flees calls maggie telling meet marriage counselor office harris intercepts tells stone murdered partner phil stanton black badger warns refrain telling maggie gives device alert stone location calvin arrives marriage counseling finds stone posing counselor stone convinces calvin help calvin sets meeting olson able track offshore account auction get deal location harris calls calvin threatens arrest maggie fails help detain stone calvin forced betray stone cia arrests harris tortures stone get confess calvin decides help stone escape calvin deduces deal happening boston helps stone steal plane underground parking garage deal assumed taking place stone enters alone calvin sees harris entering short later mistakenly assumes black badger runs finds stone meeting buyer claiming black badger stone shoots joyner grazing neck keep safe stanton arrives revealing alive claims real black badger buyer attempts retrieve codes stone stanton cia arrives shootout begins calvin grabs codes runs outside encounters stone stanton engage combat unable decide criminal calvin randomly shoots stone stanton confesses black badger stone innocent calvin causes distraction allows stone rip stanton throat killing two deliver codes harris drops high school reunion calvin reconciles maggie stone announced homecoming king calvin revealing maggie hacked voting system ensure stone win olson attempts bully stone third time stone knocks stone delivers speech relives embarrassing high-school moment takes clothes confidently walks stage unite high-school crush darla mcguckian before ending credits maggie pregnant calvin joined cia gift first day job stone gives calvin back varsity jacket high school calvin given senior assembly prank'></td><td><img src='./images/175.jpg' title='space cowboys 2000 american space drama film directed produced clint eastwood stars eastwood tommy lee jones donald sutherland james garner four older ex-test pilots sent space repair old soviet satellite in 1958 two s air force pilots aspiring astronauts william hawk hawkins tommy lee jones frank corvin clint eastwood testing modified x-plane hawk decides try break height record plane stalls forced eject narrowly missing b-50 superfortress piloted navigator tank sullivan james garner parachute safety ground frank punches hawk putting lives risk fight broken engineer jerry neill donald sutherland supervising officer bob gerson james cromwell chastises hawk recklessness taking press conference announced air force longer involved space flight tests handed newly created nasa ending four dreams reaching space in present day nasa tasked prevent soviet communications satellite ikon decaying orbit crashing earth design satellite electronics archaic based skylab frank developed bob project manager nasa sends astronaut sara holland marcia gay harden request frank help frank initially hostile still despises bob agrees put aside differences help current situation however frank insists help team daedalus including hawk tank jerry bob agrees though discreetly plans younger astronauts shadow four learn replace frank team launch press learn frank team however vice president convinces bob frank team must part mission good publicity old young teams though initially competitive soon work together older astronauts showing skills learned without aid computer train undergo examinations hawk found pancreatic cancer given eight months live still considered flight-worthy the launch scheduled space shuttle daedalus successfully launches orbit find satellite agree looks nothing like communication satellite secure satellite shuttle loading arm begin repairs soon find houses six nuclear missiles relics cold war violation outer space treaty mission quickly put secrecy frank discovers control system satellite originated bob files stolen kgb satellite computers launch missiles predetermined targets satellite falls orbit nasa crew devise plan use payload-assist rockets push satellite orbit deep space however prepare maneuver one younger astronauts ethan glance loren dean acting bob original orders tries put satellite stable orbit mistimed sets chain reaction satellite collides shuttle damaging shuttle computer systems engines destroying solar panels satellite sending faster decay orbit ethan knocked dragged along satellite while tank jerry tend young astronaut roger hines courtney vance suffered concussion impact frank hawk make space walk reach satellite time activate booster rocket slow orbit see ethan two realize way restablize orbit satellite without power option someone ride satellite fire missiles engines falls deep space hawk quickly volunteers sacrifice hoping able land moon fulfill life dream helping hawk rig satellite launch frank takes ethan back shuttle tended frank tank jerry say goodbyes hawk engages rockets successfully propelling missiles away earth frank tank jerry work bring shuttle back earth plan achieve low enough altitude allow shuttle evacuated water since landing would difficult frank successfully pilots shuttle reenter orbit fast speed safely ejecting ethan roger tank jerry stay frank regardless risk frank recalls maneuver hawk used purposely stalling shuttle drop speed quickly allowing land shuttle safely crew welcomed back heroes later frank talks wife barbara contemplates hawk made moon film ends frank sinatra song fly moon zooming surface moon showing hawk indeed arrived died peacefully watching earth'></td><td><img src='./images/1337.jpg' title='virginia rancher discovers dead bodies farm killed assailants attackers use special explosives break nsa bunker beneath horse farm agent augustus gibbons fends attackers barely escaping shavers gibbons assistant informs attack nsa bunker bama cobb also xander cage apparently killed bora bora find new substitute gibbons meets lieutenant darius stone former s navy seal officer currently serving 20 years sentence leavenworth disobeying orders breaking jaw general deckert secretary defense gibbons helps stone break stone meets zeke old partner crime lola former girlfriend runs exotic car shop stone instructed recover hard drive nsa bunker manages escape agent steele time gibbons attacked house apparently killed deckert sergeant cobb covering plot stone meets gibbons contact mayweather get information stone goes safe house framed murder 4-star general jack pettibone mayweather revealed involved the police arrive steele enters talks stone escapes afterwards shavers hacks pentagon retrieve deckert plans stone infiltrates deckert troops aboard uss independence discovers gibbons dead held prisoner stone presence alerted mayweather gibbons orders stone escape leave retrieving plans stone gets tank fights way ship learns deckert planning coup president sanford stone makes contact steele shows plans former leaves frustration steele initial disbelief conversation deckert steele realizes stone right finds stone tells deckert wants kill sanford successors take sanford place stone steele shavers enlist aid zeke crew together rob 18-wheeler secretly hauling guns equipment department homeland security guise cheese truck end hijacking tank stone helps steele infiltrate capitol building shootout starts gibbons kills mayweather deckert cobb abduct sanford making state union address escape bullet train jackson arrives car stone uses infiltrate train engages kills cobb engaging deckert steele extracts sanford stone jumps gibbons destroys train killing deckert the story covered deckert buried branded hero sanford awards steele unknown soldier stone medal honor stone goes back former lifestyle now-rebuilt nsa headquarters gibbons steele shavers discuss kind person next xxx agent gibbons says perfect candidate job'></td><td><img src='./images/2579.jpg' title='hubble also known hubble 3d imax hubble imax hubble 3d 2010 american documentary film space shuttle missions repair upgrade hubble space telescope power imax 3d hubble 3d enable movie-goers journey distant galaxies explore grandeur mysteries celestial surroundings accompany space-walking astronauts attempt difficult important tasks nasa history film offers inspiring unique look hubble space telescope hst legacy highlight profound impact way view universe hubble 3d imax warner bros pictures production cooperation national aeronautics space administration nasa film reunites space station 3d film making team led producer/director toni myers hubble 3d blasted exclusively imax imax 3d theaters march 19 2010 film itinerary takes viewer past saturn aurora helix nebula constellation aquarius pillars creation eagle nebula andromeda galaxy beautiful butterfly nebula hst provided data imagery detailed scientists film technicians able put viewers inside images two extended cgi fly-throughs awesome sequence gaseous clouds billow million-mile-an-hour stellar winds blow cloud canyon orion nebula 90 trillion miles across data-driven animations created office public outreach space telescope science institute advanced visualization laboratory national center supercomputing applications footage seen within movie compiled multiple sources including imax cameras taken space hubble space telescope servicing missions space shuttle allowed camera shoot footage satellite close-up maintenance imax cameras taken hubble space telescope sts-61 servicing mission december 1993 recently sts-125 servicing mission may 2009 carried imax 3d camera imax 3d camera contained mile film though allowed minutes 30 seconds footage recorded film received positive reviews review aggregate rotten tomatoes reports 86 critics given film positive review based 37 reviews giving film fresh rating site consensus reads offering stunning expansive viewing experience hubble 3d takes advantage imax 3-d technology like film'></td></tr><tr><td> Similarity:0.276681226339</td><td> Similarity:0.204091148072</td><td> Similarity:0.182912442585</td><td> Similarity:0.179175945546</td><td> Similarity:0.143045330245</td></tr></table>"
      ],
      "text/plain": [
       "<IPython.core.display.HTML object>"
      ]
     },
     "metadata": {},
     "output_type": "display_data"
    }
   ],
   "source": [
    "Recommended_Movies = Get_Recommendations(3331,cos_sim_df)\n",
    "Display_Recommendations(Recommended_Movies,Movie_Map,3331)"
   ]
  },
  {
   "cell_type": "code",
   "execution_count": 48,
   "metadata": {},
   "outputs": [
    {
     "name": "stdout",
     "output_type": "stream",
     "text": [
      "Assuming that the user liked The Martian:\n"
     ]
    },
    {
     "data": {
      "text/html": [
       "<table><tr><td><img src='./images/3893.jpg' title='martian 2015 english-language science fiction film directed ridley scott based andy weir 2011 novel name matt damon stars astronaut mistakenly presumed dead left behind mars film depicts struggle survive others efforts rescue film ensemble cast also features jessica chastain kristen wiig jeff daniels michael peña kate mara sean bean sebastian stan donald glover aksel hennie chiwetel ejiofor in 2035 crew ares iii mission mars exploring acidalia planitia martian solar day sol 18 31-sol expedition strong dust storm threatens topple mars ascent vehicle mav forcing abort mission evacuation astronaut mark watney struck debris lost storm last telemetry suit indicates signs life watney believed dead storm worsening second mission commander melissa lewis orders crew take return orbiting vessel hermes watney awakens storm low oxygen warning makes way hab short habitat crew base operations removes piece antenna destroyed suit biomonitor lodged torso performing self-surgery begins video diary realizes chance rescue rendezvous ares iv crew schiaparelli crater 3 200 kilometres 2 000 mi away four years immediate concern enough food survive long watney botanist improvises farm inside hab utilizing martian soil fertilized human waste water produced extracting hydrogen leftover rocket fuel potatoes intended thanksgiving dinner also begins modify functional rover longer journeys preparation long distance travel back earth nasa holds funeral reviewing satellite photos mars satellite planner mindy park sees evidence watney activities realizes survived nasa administrator teddy sanders public relations director annie montrose mission director vincent kapoor release news despite objections hermes flight director mitch henderson sanders decides inform ares iii crew believing would distract them watney takes rover retrieve pathfinder probe fell silent 1997 using lander camera establishes rudimentary communication earth first plastic bin lids using hexadecimals nasa instructs watney modify rover code partially link pathfinder communicate via text watney becomes angry learns crew told survival openly expresses sanders reluctantly lets henderson finally inform them henderson jpl director bruce ng prepare space probe deliver enough food last watney ares iv arrival hab airlock malfunctioned due small puncture destroys watney crops sanders orders team speed supply mission iris probe skipping safety inspections however oversight causes destabilization subsequent explosion rocket 40 seconds liftoff causing watney think seemingly inevitable death the china national space administration offers nasa taiyang shen classified booster rocket carry payload mars meanwhile jpl astrodynamicist rich purnell devises trajectory divert hermes back mars rescue two years earlier using chinese booster resupply hermes additional eighteen months sanders rejects plan refusing risk crew henderson surreptitiously sends details hermes crew unanimously vote plan nasa powerless stop resupplies hermes uses earth gravity slingshot back mars watney begins 90-sol journey schiaparelli pre-positioned ares iv mav rendezvous hermes watney removes many components mav including nose cone lighten replacing piece hab canvas angered vincent kapoor much mav however reach needed speed altitude canvas rips lewis forced use maneuvering thrusters change course explosive decompression hermes internal atmosphere reduce speed even enough commander lewis uses manned maneuvering unit still reach watney watney pierces glove pressure suit uses escaping air propel towards lewis effectively rescuing alone 560 sols mars after returning earth watney becomes survival instructor astronaut candidates five years later occasion ares mission launch involved watney rescue begun new lives'></td></tr></table>"
      ],
      "text/plain": [
       "<IPython.core.display.HTML object>"
      ]
     },
     "metadata": {},
     "output_type": "display_data"
    },
    {
     "name": "stdout",
     "output_type": "stream",
     "text": [
      "The following movies are recommended:\n"
     ]
    },
    {
     "data": {
      "text/html": [
       "<table><tr><td><img src='./images/118.jpg' title='mission mars 2000 american science fiction film directed brian de palma original screenplay written jim thomas john thomas graham yost 2020 manned mars exploration mission goes awry american astronaut jim mcconnell gary sinise coordinates rescue mission colleague principal support actors tim robbins cheadle connie nielsen jerry connell kim delaney in 2020 mars spacecraft planet mars commanded luke graham cheadle fellow astronauts nicholas willis kavan smith sergei kirov peter outerbridge renée coté jill teed upon arrival team discovers crystalline formation cydonia region suspect extrusion subsurface geothermal column water useful future human colonization reporting world space station investigate formation hear strange sound communications system assume interference planetary rover scan formation radar large vortex kills everyone except luke vortex subsides formation revealed part large humanoid face the world space station received luke distress message second ship readied rescue mission—the mars ii containing commander woody blake tim robbins co-commander jim mcconnell gary sinise mission specialists terri fisher connie nielsen phil ohlmyer jerry connell ship enters mars orbit micrometeoroids breach hull repair external fuel tanks overlooked causing leak later explosion crew abandon ship get remo resupply module orbiting mars tethered others woody launches module although attaches line get others module unable properly land terri tries rescue woody husband knowing would run fuel reaching woody removes helmet killing save her when survivors arrive surface mars find luke living produce greenhouse whereupon reveals crystalline face structure sound communications system comes structure represents map human-like dna xyz coordinates missing pair chromosomes jim determines must complete sequence pass test crew dispatches robotic rover reproduce completed signal following transmission opening appears side structure jim terri luke enter phil remains repaired earth return vehicle orders launch without agreed time the opening seals behind disrupting radio communication phil three-dimensional projection solar system depicts planet mars covered water struck large asteroid rendered uninhabitable recreation martian reveals natives mars evacuated world spacecraft one landed earth create planet lifeforms human beings could one day land mars recognized descendants invitation offered one astronaut follow martians new home jim accepts invitation bidding farewell terri luke return phil subsequently earth taken oxygenated capsule small ship launched past three astronauts leaving mars watch fly toward martians home'></td><td><img src='./images/146.jpg' title='red planet 2000 science fiction thriller film directed antony hoffman starring val kilmer carrie-anne moss tom sizemore released november 10 2000 critical commercial failure film hoffman feature film primarily directed television commercials in 2056 d earth ecological crisis consequence pollution overpopulation automated interplanetary missions seeding mars atmosphere-producing algae first stage terraforming planet oxygen quantity produced algae inexplicably reduced crew mars-1 investigate—a crew consisting quinn burchenal tom sizemore agnostic geneticist bud chantillas terence stamp aging philosophical scientist surgeon systems engineer robby gallagher val kilmer ; commander kate bowman carrie-anne moss ; pilot ted santen benjamin bratt ; terraforming scientist chip pettengill simon baker when mars damaged arrival gamma-ray burst bowman remains aboard repair others land locate automated habitat hab established earlier manufacture food oxygen insertion team landing craft damaged lands off-course aftermath amee autonomous mapping exploration evasion —a military robot programmed guide them—is lost chantillas suffers ruptured spleen internal bleeding tells others leave behind santen refuses chantillas tells limited oxygen left make hab chantillas tells gallagher right got see mars first time crew leaves allow chantillas die peace orbit around mars bowman contacts houston informs mars-1 decaying orbit offers hope restoring engine function departing mars on mars landing party find hab mysteriously destroyed baffled explanation since module designed field-tested tornado alley withstand damaging storms mars expect imminent deaths suffocation pettengill santen wander others explore later reach canyon pettengill accidentally kills santen get fight whether mission failure pettengill realizes santen would never accept defeat pettengill returns burchenal gallagher tells santen killed oxygen depleted gallagher opens helmet choosing quick death asphyxiation discovers mars atmosphere thin breathable salvageable material habitat liquid fuel ruptured containers pooled wreck remaining power suits astronauts set fire flare bonfire survive massive temperature drop martian night amee reunites crew three astronauts notice robot damaged attempt shut recover guidance device perceiving actions threat amee breaks burchenal ribs pursues others retreating gallagher tells others gone military mode intends kill one one wounded burchenal instead killing programmed knowledge old guerrilla tactic wounded man slow enemy since effort must expended transport wounded teammate eventually gallagher builds makeshift radio parts mars rover pathfinder bowman instructs use russian probe sample-return system launch orbit trip bowman tells gallagher probe hold two people trio takes shelter ice storm inside cave devastated recent news afraid left behind pettengill flees radio killed amee storm subsides gallagher burchenal recover radio pettingill corpse discover become infested insect-like native martian life identified burchenal nematodes insects highly flammable using simple cutting torch pettengill corpse free grip caused chain reaction making insects corpse explode like firecrackers later two encounter field algae eaten insects burchenal pieces together happened the martian insects lain dormant almost dead world probes earth spread algae fields across mars gave massive new food source led population explosion martian insects caused algae disappear process actually gave mars breathable oxygen levels produce oxygen waste product explaining flammable insects also destroyed habitat module tore get food supplies inside burchenal explains gallagher biochemistry alien insects respiratory metabolism capable producing oxygen far efficiently human science currently able studying insects biochemistry key terraforming mars may even lead discoveries allow earth polluted atmosphere repaired however burchenal attacked swarms insects blood drips open wound rather eaten alive passes sample vial insects gallagher immolating attackers gallagher reaches russian probe finds sufficient fuel power rocket engine enough electrical power launch probe realizes available replacement amee power core final confrontation gallagher able lure amee trap disable using one probe sample launchers takes battery gallagher launches probe sample-return capsule reaches orbit mars-1 waiting recovered revived bowman gallagher becomes upset four astronauts died could live bowman tells die nothing computer busy analyzing sample martian insects gallagher brought back research might lead repairing earth six-month-long trip back earth computer plenty time analyze insects bowman gallagher time start pursuing romantic relationship'></td><td><img src='./images/175.jpg' title='space cowboys 2000 american space drama film directed produced clint eastwood stars eastwood tommy lee jones donald sutherland james garner four older ex-test pilots sent space repair old soviet satellite in 1958 two s air force pilots aspiring astronauts william hawk hawkins tommy lee jones frank corvin clint eastwood testing modified x-plane hawk decides try break height record plane stalls forced eject narrowly missing b-50 superfortress piloted navigator tank sullivan james garner parachute safety ground frank punches hawk putting lives risk fight broken engineer jerry neill donald sutherland supervising officer bob gerson james cromwell chastises hawk recklessness taking press conference announced air force longer involved space flight tests handed newly created nasa ending four dreams reaching space in present day nasa tasked prevent soviet communications satellite ikon decaying orbit crashing earth design satellite electronics archaic based skylab frank developed bob project manager nasa sends astronaut sara holland marcia gay harden request frank help frank initially hostile still despises bob agrees put aside differences help current situation however frank insists help team daedalus including hawk tank jerry bob agrees though discreetly plans younger astronauts shadow four learn replace frank team launch press learn frank team however vice president convinces bob frank team must part mission good publicity old young teams though initially competitive soon work together older astronauts showing skills learned without aid computer train undergo examinations hawk found pancreatic cancer given eight months live still considered flight-worthy the launch scheduled space shuttle daedalus successfully launches orbit find satellite agree looks nothing like communication satellite secure satellite shuttle loading arm begin repairs soon find houses six nuclear missiles relics cold war violation outer space treaty mission quickly put secrecy frank discovers control system satellite originated bob files stolen kgb satellite computers launch missiles predetermined targets satellite falls orbit nasa crew devise plan use payload-assist rockets push satellite orbit deep space however prepare maneuver one younger astronauts ethan glance loren dean acting bob original orders tries put satellite stable orbit mistimed sets chain reaction satellite collides shuttle damaging shuttle computer systems engines destroying solar panels satellite sending faster decay orbit ethan knocked dragged along satellite while tank jerry tend young astronaut roger hines courtney vance suffered concussion impact frank hawk make space walk reach satellite time activate booster rocket slow orbit see ethan two realize way restablize orbit satellite without power option someone ride satellite fire missiles engines falls deep space hawk quickly volunteers sacrifice hoping able land moon fulfill life dream helping hawk rig satellite launch frank takes ethan back shuttle tended frank tank jerry say goodbyes hawk engages rockets successfully propelling missiles away earth frank tank jerry work bring shuttle back earth plan achieve low enough altitude allow shuttle evacuated water since landing would difficult frank successfully pilots shuttle reenter orbit fast speed safely ejecting ethan roger tank jerry stay frank regardless risk frank recalls maneuver hawk used purposely stalling shuttle drop speed quickly allowing land shuttle safely crew welcomed back heroes later frank talks wife barbara contemplates hawk made moon film ends frank sinatra song fly moon zooming surface moon showing hawk indeed arrived died peacefully watching earth'></td><td><img src='./images/3331.jpg' title='gravity 2013 science fiction adventure film directed co-written co-edited co-produced alfonso cuarón stars sandra bullock george clooney astronauts stranded space mid-orbit destruction space shuttle subsequent attempt return earth dr ryan stone bullock biomedical engineer lake zurich illinois aboard nasa space shuttle explorer first space mission sts-157 veteran astronaut matt kowalski clooney commanding final mission spacewalk service hubble space telescope mission control houston warns team russian missile strike defunct satellite inadvertently caused chain reaction forming cloud debris space mission control orders mission aborted crew begin re-entry immediately debris speeding towards shuttle communication mission control lost shortly thereafter high-speed debris russian satellite strikes explorer hubble detaching stone shuttle leaving tumbling space kowalski using manned maneuvering unit mmu recovers stone return explorer pair soon discovers shuttle suffered catastrophic damage rest crew dead stone kowalski decide use mmu reach international space station orbit 450 km 900 mi away kowalski estimates 90 minutes debris field completes orbit threatens again on way international space station iss two discuss stone home life daughter died young accident approach see iss crew evacuated one two soyuz tma capsules parachute remaining soyuz tma-14m deployed rendering capsule useless returning earth kowalski suggests using travel nearby chinese space station tiangong 100 km 60 mi away order board chinese module return safely earth air maneuvering power two try grab onto iss fly stone leg gets entangled soyuz parachute cords grabs strap kowalski suit soon becomes clear cords support despite stone protests kowalski detaches tether save drifting away stone pulled back towards iss kowalski floats away certain death continues support communications range stone enters space station via airlock re-establish communication kowalski concludes sole survivor inside station fire breaks forcing rush soyuz maneuvers capsule away iss tangled parachute tethers prevent separating station stone performs spacewalk order release cables succeeding debris field completes orbit destroys station stone aligns soyuz tiangong discovers soyuz engine fuel after poignant attempt radio communication fisherman earth speaks eskimo–aleut stone resigns stranded shuts cabin oxygen supply commit suicide begins lose consciousness kowalski enters capsule scolding giving tells rig soyuz soft landing jets propel capsule toward tiangong stone realizes kowalski reappearance hallucination nonetheless given strength continue restores flow oxygen uses landing jets navigate toward tiangong momentum unable maneuver soyuz dock station stone ejects via explosive decompression uses fire extinguisher makeshift thruster travel final metres tiangong rapidly deorbiting stone enters shenzhou capsule tiangong starts break upper edge atmosphere stone radios ready head back earth re-entering atmosphere stone hears mission control tracking capsule sending rescue due harsh reentry premature jettison heat shield fire starting inside capsule after speeding atmosphere capsule lands lake dense smoke forces stone evacuate immediately splashdown opens capsule hatch allowing water enter sink forcing shed spacesuit swim ashore watching remains tiangong re-enter atmosphere stone shakily takes first steps back land'></td><td><img src='./images/1375.jpg' title='astronaut farmer 2006 american drama film directed michael polish co-wrote screenplay brother mark story focuses texas rancher attempts construct rocket barn launch outer space charles farmer former s air force fighter pilot astronaut-in-training reluctantly resigned space program discharged military could fulfill dream becoming vital part nasa order take family failing ranch texas financially strapped father suicide prior ranch foreclosed on having missed opportunity travel space decides build working replica historic mercury-atlas rocket spacecraft barn secluded ranch fictional town story texas using assets facing foreclosure ranch result done ongoing support wife audrey teenage son shepard young daughters stanley sunshine begins making inquiries purchasing rocket fuel fbi faa step investigate ensuing publicity thrusts farmer spotlight makes media darling farmer launch delayed endless red tape created s government officials faa fbi cia nasa department defense seek stall beyond deadline force creditors foreclose farm farmer counting publicity help financially denied hydrazine fuel requires government officials claiming security risk dangerous allow private citizen launch space vehicle facing financial ruin panics climbs aboard using less-than-optimal substitute fuel somehow launches rocket however foot two vertical lift rocket descends back falls horizontally blasts old wooden barn constructed farmer nearly dies head trauma injuries capsule thrown rocket news media spectators vehicles nearly crushed process months spends recuperating public interest project wanes recovers slowly depressed failure project dream fortunately inheritance father hal unexpectedly left audrey death allows bring debts current audrey realizing much charles dream means entire family encourages charles construct another rocket financing rest inheritance able relative privacy using ruse distract snooping government officials charles succeeds launching rocket faa claims thing occurred rocket rises barn locals law enforcement authorities area amazed watch rise space orbiting earth nine times suffering brief period communication blackout charles returns safely given hero welcome home appearing tonight show jay leno seen still photos shown end credits'></td></tr><tr><td> Similarity:0.175169934667</td><td> Similarity:0.152099978063</td><td> Similarity:0.0842259518701</td><td> Similarity:0.0823599248437</td><td> Similarity:0.081500883778</td></tr></table>"
      ],
      "text/plain": [
       "<IPython.core.display.HTML object>"
      ]
     },
     "metadata": {},
     "output_type": "display_data"
    }
   ],
   "source": [
    "Recommended_Movies = Get_Recommendations(3893,cos_sim_df)\n",
    "Display_Recommendations(Recommended_Movies,Movie_Map,3893)"
   ]
  },
  {
   "cell_type": "code",
   "execution_count": 49,
   "metadata": {},
   "outputs": [
    {
     "name": "stdout",
     "output_type": "stream",
     "text": [
      "Assuming that the user liked Sully:\n"
     ]
    },
    {
     "data": {
      "text/html": [
       "<table><tr><td><img src='./images/4015.jpg' title='sully also known sully miracle hudson 2016 american biographical drama film directed clint eastwood written todd komarnicki based autobiography highest duty chesley sullenberger jeffrey zaslow film stars tom hanks sullenberger aaron eckhart laura linney anna gunn autumn reeser holt mccallany jamey sheridan jerry ferrara supporting roles film follows sullenberger january 2009 emergency landing us airways flight 1549 hudson river 155 passengers crew survived minor injuries subsequent publicity investigation on january 15 2009 us airways pilots captain chesley sully sullenberger first officer jeff skiles board us airways flight 1549 laguardia airport charlotte douglas international airport three minutes flight approximate altitude 800 feet approx 850 airbus a320 strikes flock birds disabling engines without engine power judging unable reach nearby airports teterboro airport closest sully ditches aircraft hudson river crew passengers evacuate without casualty press public hail sullenburger hero incident leaves symptoms ptsd dream plane crashes building sully learns preliminary data acars suggest port engine still running idle power theoretically would left enough power return laguardia land teterboro national transportation safety board claims several confidential computerized simulations show plane could landed safely either airport without engines sully however insists lost engines left without sufficient time speed altitude land safely airport sully realizes board believes accident may pilot error would end career arranges simulations rerun live pilots results relayed public hearing simulations result successful landings one airport sully argues unrealistic pilots knew advance situation would face suggested emergency action able practice scenario several times board accepts real life pilots would taken time react run emergency checks deciding divert plane the two simulations rerun relayed hearing time allowing 35-second pause plane diverted simulated diversion laguardia ends plane landing short runway teterboro crash buildings airport board announces analysis port engine recovered river confirms sully account disabled bird strikes board concludes sullenberger acted correctly selecting best options available event saved lives everyone aboard'></td></tr></table>"
      ],
      "text/plain": [
       "<IPython.core.display.HTML object>"
      ]
     },
     "metadata": {},
     "output_type": "display_data"
    },
    {
     "name": "stdout",
     "output_type": "stream",
     "text": [
      "The following movies are recommended:\n"
     ]
    },
    {
     "data": {
      "text/html": [
       "<table><tr><td><img src='./images/1698.jpg' title='snakes plane 2006 american action thriller film directed david ellis starring samuel jackson released new line cinema august 18 2006 north america film written david dalessandro john heffernan sheldon turner follows events hundreds snakes released passenger plane attempt kill trial witness after witnessing gangster eddie kim brutally beat s prosecutor daniel hayes death hawaii sean jones escorted fbi agents neville flynn john sanders boeing 747-400 testify trial los angeles despite increased security flight kim arranges time-release crate full venomous snakes placed cargo hold attempt bring plane reaches los angeles international airport lax ensure snakes attack passengers without need provocation one henchmen disguised airport ground employee spray passengers leis special pheromone makes snakes highly aggressive crate opens midway flight snakes make way cabin couple sex bathroom man using bathroom first killed plane captain sam mckeon investigates fixes electrical short killed viper caused co-pilot rick unaware snake believes sam suffered heart attack continues toward lax some snakes attack rick fending accidentally releases oxygen masks throughout plane causing several snakes drop cabin numerous passengers including agent sanders killed snakes invade cabin surviving passengers made way front plane put blockades luggage desperate attempt stop snakes rick attacked plane starts dip downwards causing food trolley crash luggage blockade passengers flee upstairs first class cabin blocking stairwell inflatable liferaft agent flynn flight attendant claire regain control plane rick retakes controls flynn go cargo hold restore air conditioning/ventilation system agent flynn contacts fbi special agent hank harris ground gets touch ophiologist dr steven price customs main source animal smuggling cases based pictures reptiles emailed via passenger mobile phone price believes los angeles snake dealer known illegally importing exotic highly dangerous snakes responsible shootout dealer bitten one snakes harris withholds antivenom give details dealer finally reveals kim hired obtain snakes adds latter managed smuggle board plane price injects antivenom injured dealer commandeers dealer supply antivenom plane victims based list given harris gives orders eddie kim arrested multiple counts murder attempted murder harris contacts flynn telling anti-venom ready passengers land however flynn discovers cockpit filled snakes rick dead brief discussion troy three gs bodyguard agrees land plane based prior flight experience everyone gets prepared flynn shoots two windows pistol causing plane depressurize snakes blown cockpit lower floor plane flynn troy take controls plane troy reveals flight experience video game flight simulator despite lack real-world experience troy makes emergency landing plane makes terminal passengers leave plane anti-venom given need flynn sean disembark plane final snake jumps bites sean chest flynn draws gun shoots snake paramedics rush sean unharmed due bulletproof vest token gratitude sean later takes flynn bali teaches surf'></td><td><img src='./images/1737.jpg' title='united 93 2006 biographical drama-thriller film written co-produced directed paul greengrass chronicles events aboard united airlines flight 93 majority film presented real time on morning september 11 2001 passengers board united airlines flight 93 bound san francisco newark liberty international airport including tom burnett mark bingham todd beamer jeremy glick richard guadagno louis nacke ii william joseph cashman patrick joseph driscoll four al-qaeda terrorists ziad jarrah saeed al-ghamdi ahmed al-nami ahmed al-haznawi also board flight meanwhile newly promoted faa national operations manager ben sliney meeting reported american airlines flight 11 boston los angeles hijacked mohamed atta overheard radio saying planes minutes later aircraft crashes north tower world trade center much sliney staff horror learn second flight united airlines flight 175 also boston los angeles hijacked new york air traffic controllers attempt contact aircraft seen live cnn plowing south tower world trade center reported day sliney staff realize dealing several hijackings orders military lookout american airlines flight 77 reported missing presumed also hijacked on united 93 jarrah appears hesitant initiate hijacking plan perhaps seems second thoughts going impatient three hijackers prepare invasion themsevles al-haznawi assembles fake bomb clay plastic breakfast al-ghamdi makes first move grabs hold flight attendant debbie welsh knifepoint passenger fatally stabbed bomb revealed causing mass panic among passengers al-nami al-haznawi force first class passengers back plane meanwhile jarrah al-ghamdi threaten welsh wrestle ways cockpit pilots send mayday call killed dragged cockpit welsh killed jarrah turns plane intending crash plane united states capitol sliney still debating unfolding disaster shock american 77 crashes pentagon comes decision aircraft grounded planes enter leave us airspace notice aboard united 93 passengers become aware dead bodies learn family members via airphone attacks world trade center pentagon decide take action organizing revolt hijackers plan empowered knowledge passenger greene experience flying after passengers arm pray make final phone calls loved ones todd beamer says let roll group begin counterattack rushing aisle overpowering ahmed al-haznawi mark bingham crushes ahmed al-haznawi skull fire extinguisher killing seeing al-nami alerts jarrah al-ghamdi cockpit ongoing assault jarrah shakes plane violently throw passengers balance nonetheless continue assault overpowering ahmed al-nami killed glick snapping neck seeing passengers getting nearer al-ghamdi jarrah debate whether take flight knowing ll never reach intended target passengers breach cockpit food cart al-ghamdi orders jarrah crash plane nonetheless passengers finally gain entrance cockpit battle hijackers controls passengers hijackers struggle control yoke plane plummets nosedive goes upside screen cuts black title cards reveal plane crashed field near shanksville pennsylvania killing everyone board'></td><td><img src='./images/1066.jpg' title='soul plane 2004 american comedy film directed jessy terrero written joe zenga starring tom arnold kevin hart method man snoop dogg supporting actors include mo nique loni love k aubert d hughley godfrey sofia vergara nashawn wade kevin hart horrible experience typical airline dog classified checked baggage instead carry-on eats horrible airline meal buttocks gets stuck toilet turbulence nashawn dog sucked jet engine stewardess accidentally opens cargo door response sues airline awarded 100 000 000 jury decides use money start airline called w nashawn wade airlines whose acronym logo pop culture reference rap group w airline specifically caters african americans hip hop culture terminal airport called malcolm terminal plane heavily modified boeing 747sp customized low-rider hydraulics spinners blended winglets compensate drag decorations dance club safety video also spoof destiny child song survivor after taking los angeles international airport nashawn must deal multitude problems starting acrophobic captain captain mack snoop dogg cruising altitude flight level 330 revealed never left ground learned fly computer simulators prison meanwhile cousin muggsey method man sets miniature casino strip joint one areas plane seen workprint unrated versions film nashawn ex-girlfriend board less happy see meanwhile hunkee family caucasian passengers board must also deal problems elvis hunkee tom arnold daughter turning eighteen plans use newfound freedom drinking sex son transformed exact duplicate stereotypical wigger wife found new interest black men viewing pictures pornographic magazine the pilot seemingly dies eating mushrooms co-pilot first officer gaemon godfrey uses soothe genital crabs nashawn attempts contact gaemon incapacitated slipping near hot tub forcing nashawn attempt land plane nashawn lands plane safely using airplane stewardess sofía vergara flight knowledge learned sex cockpit pilot another plane plane lands middle central park instead john kennedy international airport spinners stolen plane nashawn reconciles ex-girlfriend earlier revealing broke would give college opportunities him the movie ends nashawn telling audience fate crew claims ex-girlfriend back together taking relationship slow time around cousin muggsey started strip club gambling casino located another airplane similar club nashawn plane elvis hunkee begun sexual relationship one abrasive airline security guards mo nique elvis hunkee son become major music video director disappeared shortly filming michael jackson video pilot later wakes chain clothing stolen'></td><td><img src='./images/3049.jpg' title='flight 2012 american drama film directed robert zemeckis film stars denzel washington william whip whitaker sr airline pilot miraculously crash-lands plane suffers in-flight mechanical failure saving nearly everyone board immediately following crash hailed hero investigation soon leads questions put captain different light airline pilot captain william whip whitaker sr uses cocaine wake night little sleep orlando hotel room pilots southjet flight 227 atlanta experiences severe turbulence takeoff copilot ken evans takes whip discreetly mixes vodka orange juice takes nap jolted awake plane goes steep dive unable regain control whip forced make controlled crash landing open field losing consciousness impact nearby heroin addict nicole maggen verge evicted overdoses heroin wheeled house paramedic southjet flight 227 flies inverted overhead midst emergency landing whip awakens atlanta hospital moderate injuries greeted old friend charlie anderson represents airline pilots union tells whip managed save 96 102 losing two crew members four passengers mentions co-pilot coma whip sneaks away cigarette stairwell meets nicole recovering heroin overdose hospital next morning friend drug dealer harling mays picks hospital having retired late father farm meets charlie attorney hugh lang explain national transportation safety board ntsb performed drug test unconscious results showed whip intoxicated flight hugh promises get toxicology report voided technical grounds meanwhile whip visits soon becomes intimate nicole whip drinking habits clash nicole attempts stay drug-free later crew member funeral attempts persuade flight attendant survived tell ntsb sober whip pays visit co-pilot ken evans awakens coma evans likely lost much ability walk may never pilot airplane although upset evans intention telling ntsb whip drinking nicole decides separate whip following failed attempts stay sober hounding whip media catches drunk spontaneously drives home ex-wife son resent stays charlie ntsb hearing vowing drink night hearing charlie hugh move whip guarded hotel room alcohol although minibar empty finds door adjacent room unlocked raids minibar instead whip discovered charlie next morning passed still drunk harling called revives cocaine hearing lead ntsb investigator ellen block explains damaged elevator assembly jackscrew primary cause crash commends whip valor skill notes pilot able land plane trial simulations crash reveals two empty vodka bottles found plane trash despite fact beverages served passengers whip test excluded technical reasons member crew test positive alcohol trina died crash whip spent night whip unable bring blame trina actions admits intoxicated day crash thirteen months later imprisoned whip tells support group fellow inmates glad sober t regret right thing whip seen looking pictures nicole family friends wall cell along greeting cards congratulating sober year working rebuild relationship son visits talk college application essay fascinating person ve never met son begins asking ? plane flies overhead whip replies good question'></td><td><img src='./images/1183.jpg' title='flightplan 2005 german-american mystery-thriller film directed robert schwentke written peter dowling billy ray starring jodie foster peter sarsgaard erika christensen kate beahan greta scacchi sean bean film distributed touchstone pictures released theatrically united states september 23 2005 +++++this article plot summary may long excessively detailed please help improve removing unnecessary details making concise january 2015 learn remove template message ++recently widowed kyle pratt jodie foster american aircraft engineer employed berlin germany taking husband david body back s six-year-old daughter julia marlene lawston flying aboard aalto airlines elgin 474 aircraft kyle helped design kyle awakens short nap julia missing none passengers crew recall seeing julia flight attendant stephanie kate beahan later claims record julia boarding passenger manifest registers child seat unoccupied julia boarding pass backpack also missing kyle insists captain marcus rich sean bean conduct thorough search plane julia found kyle becomes increasingly desperate unjustly accuses two arab passengers michael irby assaf cohen kidnapping julia plotting hijack plane captain rich flight attendants particularly stephanie suspect kyle unhinged husband death may imagined bringing daughter board kyle increasingly erratic panicked behaviour captain rich orders sky marshal gene carson peter sarsgaard guard handcuff her later captain rich receives wire berlin hospital claiming julia died father kyle furiously denies insists search continue instead carson escorts kyle back seat therapist lisa greta scacchi consoles kyle starts doubting sanity notices heart julia drew window glass next seat kyle asks use bathroom inside climbs trapdoor plane overhead crawl space sabotages aircraft electronics deploying oxygen masks cutting power plane lighting ensuing chaos rides dumbwaiter lower freight deck finds opens david casket using lock code suspecting julia may trapped inside contains husband body carson finds escorts back seat handcuffs says flight making emergency stopover goose bay airport newfoundland canada taken custody kyle makes final plea carson search plane upon landing speaking captain carson sneaks freight deck removes two explosives detonator concealed david casket goes avionics section julia sleeping presumably drugged plants arms explosives revealed carson stephanie mortuary director berlin christian berkel part conspiracy carson tells captain rich kyle hijacker threatening blow aircraft unless 50 million transferred bank account g3 plane readied upon landing carson plans detonate explosives kill julia leave kyle dead detonator hand after landing newfoundland tarmac surrounded s fbi agents passengers disembark kyle apologizes captain rich disrupting flight certain julia found angered captain rich demands drop charade stating 50 million wired kyle realizes carson perpetrator assuming role hijacker demands carson remain aboard crew leave carson realizes refuse without giving away when plane door closes kyle knocks carson unconscious fire extinguisher handcuffs rail takes detonator stephanie appears uncuffs carson regains consciousness fires gun kyle sending running locking cockpit fools carson lure away cockpit allowing exit meanwhile panicked stephanie flees plane kyle finds unconscious julia confronted carson reveals julia kidnapped says david murdered conceal explosives casket caskets required x-rayed kyle carrying julia escapes cargo hold closes hatch detonator hand detonates explosives killing carson kyle julia unharmed tarmac prove kyle telling truth inside airport terminal captain rich apologizes kyle stephanie carson accomplice led away handcuffs mortuary director also arrested'></td></tr><tr><td> Similarity:0.104853207218</td><td> Similarity:0.0937654970696</td><td> Similarity:0.091478167585</td><td> Similarity:0.0818109615473</td><td> Similarity:0.0676232709732</td></tr></table>"
      ],
      "text/plain": [
       "<IPython.core.display.HTML object>"
      ]
     },
     "metadata": {},
     "output_type": "display_data"
    }
   ],
   "source": [
    "Recommended_Movies = Get_Recommendations(4015,cos_sim_df)\n",
    "Display_Recommendations(Recommended_Movies,Movie_Map,4015)"
   ]
  },
  {
   "cell_type": "code",
   "execution_count": 50,
   "metadata": {},
   "outputs": [
    {
     "name": "stdout",
     "output_type": "stream",
     "text": [
      "Assuming that the user liked The Matrix Reloaded:\n"
     ]
    },
    {
     "data": {
      "text/html": [
       "<table><tr><td><img src='./images/795.jpg' title='matrix reloaded 2003 american-australian science fiction action film first sequel matrix second installment matrix trilogy written directed wachowski brothers premiered may 2003 westwood los angeles california went general release warner bros north american theaters may 15 2003 around world latter half month also screened competition 2003 cannes film festival video game enter matrix released may 15 collection nine animated shorts animatrix released june supported expanded storyline film matrix revolutions completes story released six months reloaded november 2003 six months events first film neo keanu reeves trinity carrie-anne moss romantically involved morpheus laurence fishburne receives message captain niobe jada pinkett smith logos calling emergency meeting zion ships zion confirmed last transmission osiris army sentinels tunneling towards zion reach within 72 hours commander lock harry lennix orders ships return zion prepare onslaught morpheus asks one ship remain order contact oracle gloria foster caduceus receives message oracle nebuchadnezzar ventures neo contact one caduceus crew bane ian bliss encounters agent smith hugo weaving takes bane avatar smith uses avatar leave matrix gaining control bane real body in zion morpheus announces news advancing machines people neo receives message oracle returns matrix meet bodyguard seraph collin chou leads realizing oracle part matrix neo asks trust replies decision oracle instructs neo reach source matrix finding keymaker randall duk kim prisoner merovingian lambert wilson oracle departs smith appears telling neo defeated refused deleted rogue program demonstrates ability clone using inhabitants matrix including agents hosts tries absorb neo host fails prompting battle smith clones neo neo manages defend forced retreat increasingly overwhelming numbers neo morpheus trinity visit merovingian ask keymaker merovingian refuses wife persephone monica bellucci seeking revenge husband infidelity betrays leads trio keymaker merovingian soon arrives men morpheus trinity keymaker escape neo holds merovingian servants morpheus trinity try escape keymaker freeway facing several agents twins merovingian chief henchmen morpheus defeats twins trinity escapes neo flies save morpheus keymaker agent johnson real world zion remaining ships prepare battle machines within matrix crews nebuchadnezzar vigilant logos help keymaker neo reach door source the crew logos must destroy power plant prevent security system triggered crew vigilant must destroy back-up power station logos succeeds vigilant bombed sentinel real world killing everyone board although neo asked trinity remain nebuchadnezzar enters matrix replace vigilant crew complete mission however escape compromised agent fight neo morpheus keymaker try reach source smiths appear try kill keymaker unlocks door source allowing neo morpheus enter escape smiths smiths kill keymaker tries close door source neo enters door meets program called architect matrix creator the architect explains neo part design sixth iteration matrix designed stop fatal system crash naturally occurs due concept human choice five previous ones neo choose either return source unique code reboot matrix pick survivors begin repopulate soon-to-be-destroyed zion cause matrix crash kill everyone connected combined zion destruction would mean mankind extinction neo learns trinity situation chooses save instead falls building flies catches phasing hand body removes bullet body restarts heart back real world sentinels destroy nebuchadnezzar neo displays new ability disable machines thoughts falls coma effort crew picked another ship hammer captain roland reveals ships wiped machines someone activated emp early found one survivor afterwards—revealed smith-possessed bane'></td></tr></table>"
      ],
      "text/plain": [
       "<IPython.core.display.HTML object>"
      ]
     },
     "metadata": {},
     "output_type": "display_data"
    },
    {
     "name": "stdout",
     "output_type": "stream",
     "text": [
      "The following movies are recommended:\n"
     ]
    },
    {
     "data": {
      "text/html": [
       "<table><tr><td><img src='./images/796.jpg' title='matrix revolutions 2003 american–australian science fiction action film written directed wachowski brothers third installment matrix trilogy released six months following matrix reloaded film released simultaneously 60 countries november 2003 final film series matrix storyline continued matrix online second live-action film released regular imax theaters time neo bane lie unconscious medical bay ship hammer meanwhile neo finds digital self trapped virtual subway station—named mobil ave mobil anagram limbo —a transition zone matrix machine city subway station meets family programs including girl named sati whose father tells neo subway controlled trainman exiled program loyal merovingian neo tries board train family trainman refuses overpowers him seraph contacts morpheus trinity behalf oracle informs neo confinement seraph morpheus trinity enter club hel confront merovingian force release neo troubled visions machine city neo visits oracle reveals smith intends destroy matrix real world states everything beginning end war conclude neo leaves large group smiths assimilates sati seraph unresisting oracle gaining powers precognition in real world crew nebuchadnezzar hammer find reactivate niobe ship logos interrogate bane says recollection earlier massacre captains plan defense zion neo requests ship travel machine city motivated encounter oracle niobe offers logos neo departs accompanied trinity bane stowed away logos takes trinity hostage neo realizes bane assimilated smith bane cauterizes neo eyes power cable blinding however neo discovers ability perceive world golden light neo kills bane trinity pilots machine city niobe morpheus set zion hammer aid human defenses sentinels zion fatally wounded captain mifune instructs kid open gate hammer arrives discharges emp disabling sentinels also remaining defenses humans forced retreat wait next attack thinking last stand near machine city neo trinity greeted thousands missiles neo attempts destroy overwhelmed numbers logos attacked sentinels forcing fly missiles seconds breach cloud layer see earth real sky trinity whispers word beautiful upon descent lose control causing crash logos machine city crash kills trinity neo enters machine city encounters deus ex machina machine leader neo warning smith plans conquer matrix real world offers stop smith exchange peace zion machine leader agrees sentinels stop attacking zion the machines provide connection neo enter matrix inside neo finds smith assimilated inhabitants smith oracle powers steps forth saying foreseen victory neo protracted battle neo—finding unable defeat smith—allows assimilated machine leader sends surge energy neo body real world neo connected source energy surge causes neo-smith clone smith clones matrix destroyed though neo dies process sentinels withdraw zion morpheus niobe embrace neo body carried away machines matrix reboots architect encounters oracle park agree peace last long humans offered opportunity leave matrix oracle tells sati thinks see neo seraph asks oracle knew would happen replies know believed'></td><td><img src='./images/2471.jpg' title='transformers revenge fallen 2009 american science fiction action film directed michael bay executive produced steven spielberg based toy line name created hasbro sequel 2007 transformers well second installment live-action transformers film series taking place two years predecessor plot revolves around sam witwicky caught war two factions alien robots autobots led optimus prime decepticons led megatron sam strange visions cybertronian symbols hunted decepticons orders ancient decepticon named fallen seeks get revenge earth finding activating machine would provide decepticons energon source destroying sun life earth process returning transformers include optimus prime bumblebee ironhide ratchet megatron starscream scorponok +++++this section may require copy editing grammar style cohesion tone spelling assist editing april 2017 learn remove template message ++in 17 000 c seven primes travel galaxy create energon star-absorbing machines named sun harvesters primes followed rule never destroy planets life however one megatronus prime later known fallen defies establishes sun harvester earth confronted primes imprison harvest planet sun matrix leadership primes sacrifice hide matrix unknown location two years megatron defeat autobots join s military form non-biological extraterrestrial species treaty nest purpose hunt surviving decepticons mission shanghai autobots intercept two decepticons demolisher sideways send new recruits sideswipe skids mudflap arcee chromia elita one hunt sideswipe successfully kills sideways demolisher ambushed optimus prime tells prime fallen return optimus kills reveal information national security adviser theodore galloway scolds task force sarcastically tactics reminding megatron corpse still resting bottom laurentian abyss last known allspark shard locked nest headquarters simultaneously soundwave hacks s military satellite overhears information sends ravage retrieve shard meanwhile sam witwicky preparing attend college leaving girlfriend mikaela banes guardian bumblebee behind discovers smaller allspark shard jacket picks causing see cybertronian symbols sam gives shard mikaela later captures decepticon wheelie attempts steal constructicons resurrect megatron brutally ripping apart constructicon scrapmetal provide parts megatron travels moon saturn reunites master fallen orders capture sam alive kill optimus transformer defeat fallen sam mikaela college roommate leo captured decepticon grindor brought abandoned factory megatron reveals symbols sam mind lead decepticons new energon source optimus bumblebee arrive rescue trio optimus engages megatron starscream grindor though optimus injures starscream cutting arm killing grindor megatron ambushes optimus kills impaling chest destroying spark megatron kills optimus says re weak autobots arrive repel decepticons forcing megatron starscream retreat afterwards decepticons launch international assault many areas around world simultaneously fallen hijacks earth telecommunications systems demanding sam turned him sam mikaela leo enlist help former sector agent seymour simmons reveals transformers visited earth eons ago ancient known seekers live secret help wheelie track decepticon seeker named jetfire use allspark shard revive jetfire afterwards teleports group egypt orders locate matrix leadership revive optimus wheelie turn decepticons sam group finds matrix located petra disintegrates dust sam hands undeterred sam stuffs matrix remains sock meanwhile nest forces autobots land near giza pyramid complex attacked large force decepticons battle constructicons combine form devastator destroys one pyramids revealing sun harvester inside killed railgun called simmons lennox epps call airstrike kills large portion decepticon ground forces however megatron manages shoot sam seemingly killing nearing death primes contact sam vision telling matrix found earned earned right bear restore sam life matrix used revive optimus the fallen teleports location steals matrix optimus returns pyramid megatron activates sun harvester wounded jetfire sacrifices order optimus gain parts give immense strength ability fly optimus knocks fallen megatron pyramid destroying sun harvester process battle optimus injures disables megatron optimus kills fallen vowing vengeance megatron retreats starscream victorious autobots allies return united states saved world'></td><td><img src='./images/3006.jpg' title='dark knight rises 2012 superhero film directed christopher nolan co-wrote screenplay brother jonathan nolan story david goyer featuring dc comics character batman film final installment nolan batman film trilogy sequel batman begins 2005 dark knight 2008 christian bale reprises lead role bruce wayne/batman returning cast allies michael caine alfred pennyworth gary oldman james gordon morgan freeman lucius fox film introduces selina kyle anne hathaway bane tom hardy eight years events dark knight merciless revolutionary bane forces older bruce wayne resume role batman save gotham city nuclear destruction eight years death district attorney harvey dent dent act grants gotham city police department powers nearly eradicate organized crime police commissioner james gordon feels guilty covering dent crimes turned murderer joker writes resignation speech confessing truth decides using it bruce wayne become recluse broken death childhood sweetheart rachel dawes retired vigilante batman taking blame dent crimes death cat burglar selina kyle obtains wayne fingerprints home kidnaps congressman byron gilley sells fingerprints phillip stryver assistant wayne business rival john daggett requests clean slate wipe traces person internet payment stryver double-crosses kyle uses gilley phone alert police location gordon police arrive find congressman pursue stryver men sewers selina flees police attempt follow sewers men enter killed gordon captured rest police assailed sniper fire the assailants drag gordon bane masked terrorist set base operation sewers bane searched finds resignation speech gordon escapes found john blake patrol officer gordon promotes blake detective blake reporting directly bane multiple accomplices attack gotham stock exchange using bruce fingerprints transaction leaves wayne bankrupt wayne butler alfred pennyworth reveals rachel intended marry dent died alfred resigns attempt convince bruce move batman wayne enterprises losing profits wayne discontinued fusion reactor project learned core could weaponized fearing daggett bane employer would gain access reactor wayne asks board member miranda tate take company kyle agrees take batman bane instead leads bane trap bane reveals intends fulfill ra al ghul mission destroy gotham league shadows remnant stealing lucius fox gadgets engages batman delivers crippling blow back taking heavily fortified prison inmates tell wayne story ra al ghul child born prison cared fellow prisoner escaping—the prisoner ever done wayne assumes bane child bane lures gotham police underground traps kills mayor anthony garcia forces dr leonid pavel russian nuclear physicist kidnapped uzbekistan convert reactor core nuclear bomb bane uses bomb hold city hostage isolate gotham world using gordon stolen speech bane reveals cover-up dent crimes public releases prisoners blackgate penitentiary initiating anarchy wealthy powerful property expropriated dragged homes given show trials presided jonathan crane sentenced death after spending months recovering re-training wayne escapes prison enlists kyle blake tate gordon fox help stop bomb detonation hands batpod kyle tasking helping people evacuate saving asks come along leaving gotham fate refuses freeing trapped police clash bane army midst batman overpowers bane interrogates bane bomb trigger tate intervenes stabs batman reveals talia al ghul ra al ghul daughter bane protector aided escape prison uses detonator gordon successfully approached bomb blocked signal preventing remote detonation talia leaves find bomb bane prepares kill batman kyle returns batpod saves batman killing bane batman kyle pursue talia hoping bring bomb back reactor chamber stabilized talia truck crashes remotely floods destroys reactor chamber dying way stop detonation batman uses bat haul bomb bay detonates destroying bat in aftermath batman presumed dead honored hero wayne presumed killed riots wayne manor becomes orphanage remaining estate left alfred fox discovers wayne fixed bat autopilot gordon finds bat-signal refurbished visiting florence alfred discovers wayne alive well relationship selina kyle blake resigns police force accordance wayne inherits batcave'></td><td><img src='./images/2592.jpg' title='kaboom 2010 american science fiction mystery fantasy comedy film written directed gregg araki starring thomas dekker juno temple haley bennett james duval smith 18-year-old film student identifies sexually undeclared strange dreams going college best friend stella known since junior high smith finds note saying chosen son roommate thor lusts regretting thor straight stella goes party smith hooks another girl lorelei recognizes lorelei one people dream smith notices guy distracted red-haired girl dream vomits shoe guy vanishes smith gets picked london british student sex smith regret want except sex smith visits nude beach meets man named hunter start sex smith disappointed hear hunter married stella discovers lorelei unstable also witch rejection issues stella keeps trying dump difficulty witch begins make attempts life smith walks thor thor best friend rex wrestling underwear london seduces rex convincing three-way smith smith nineteenth birthday during time smith continues dreaming red-haired girl dreams pursued people wearing animal masks smith finds girl killed head cut later meets madeline appears red-haired girl tells twin sister named rebecca kidnapped many years ago men wearing animal masks stella attacked washroom saves spraying water witch causing burn up the animal-masked people finally capture smith london smith mom bundled van driven meet head secret cult smith learns cult leader father although always told father died smith young stella oliver perpetually stoned messiah pursue van oliver powers like lorelei uses good turns oliver meeting smith flirting chance trying protect smith messiah acting stoned also wishes protect smith animal-masked people turn thor rex hunter whose mission get london smith secret underground shelter survive explosion dozens nuclear bombs non-cult members annihilated cult take world smith leader the messiah tries running van road vehicles accelerate towards bridge smith father presses button earth explodes'></td></tr><tr><td> Similarity:0.711975340685</td><td> Similarity:0.0977197774246</td><td> Similarity:0.0703271071526</td><td> Similarity:0.0681079448531</td></tr></table>"
      ],
      "text/plain": [
       "<IPython.core.display.HTML object>"
      ]
     },
     "metadata": {},
     "output_type": "display_data"
    }
   ],
   "source": [
    "Recommended_Movies = Get_Recommendations(795,cos_sim_df)\n",
    "Display_Recommendations(Recommended_Movies,Movie_Map,795)"
   ]
  },
  {
   "cell_type": "code",
   "execution_count": 51,
   "metadata": {},
   "outputs": [
    {
     "name": "stdout",
     "output_type": "stream",
     "text": [
      "Assuming that the user liked The Hunger Games:\n"
     ]
    },
    {
     "data": {
      "text/html": [
       "<table><tr><td><img src='./images/3077.jpg' title='hunger games 2012 american dystopian science fiction adventure film directed gary ross based novel name suzanne collins first installment hunger games film series produced nina jacobson jon kilik screenplay ross collins billy ray film stars jennifer lawrence josh hutcherson liam hemsworth woody harrelson elizabeth banks lenny kravitz stanley tucci donald sutherland story takes place dystopian post-apocalyptic future nation panem divided 12 districts boy girl district ages 12 18 must take part hunger games televised annual event tributes district required fight death one survivor katniss everdeen jennifer lawrence volunteers take younger sister place joined district male tribute peeta mellark josh hutcherson katniss travels capitol train hunger games guidance former victor haymitch abernathy woody harrelson ++++++as punishment past rebellion 12 districts nation panem forced victorious capitol annually select two tributes one boy one girl ages 12 18 fight death hunger games district 12 katniss everdeen volunteers younger sister primrose chosen lot male tribute peeta mellark escorted capitol chaperone effie trinket mentor haymitch abernathy past district 12 victor alcoholic haymitch impresses importance gaining sponsors provide gifts food supplies games televised interview peeta publicly expresses love katniss initially takes attempt earn sponsors though later learns means training katniss observes careers marvel glimmer cato clove tributes districts 2 trained games early age at start games katniss ignores haymitch advice grabs supplies ground around cornucopia structure filled food weapons supplies contestants start narrowly escapes killed clove though clove inadvertently saves life killing district boy first half tributes die initial melee 11 including careers remain first day katniss tries stay far away competitors head gamemaker seneca crane triggers forest fire drive back towards runs careers peeta seemingly allied flees tree careers unable reach peeta advises wait come down the next morning careers peeta sleep katniss notices rue district 11 young female tribute hiding adjacent tree rue silently draws attention nest poisonous tracker jackers genetically modified wasps whose venom cause hallucinations death using knife cuts branch holding nest causing fall careers peeta marvel cato clove escape glimmer succumbs venom katniss stung becoming disoriented hallucinating peeta returns tells run away after rue helps katniss recover poison become friends allies katniss devises plan destroy cache supplies careers hoarding katniss succeeds cato angrily kills boy district assigned guard hoard katniss finds rue caught trap frees marvel appears throws spear katniss strikes rue abdomen fatally wounding katniss shoots marvel chest bow comforts rue song dies places flowers around body holds three fingers district 12 salute way honor rue people district 11 salute katniss riot prompting president snow warn crane games turning well haymitch persuades crane change rules allow two winners district suggesting quiet unrest change announced katniss searches peeta finding gravely wounded fleeing careers moves safety hear announcement survivor needs provided cornucopia next morning despite peeta strong opposition katniss leaves get medicine ambushed cornucopia clove pins ground brags rue death katniss saved thresh district 11 male tribute kills clove spares katniss - helping rue medicine heals peeta quickly while hunting food katniss hears cannon go signalling death runs find peeta horrified find collected lethal nightlock berries ignorance peeta fine discover foxface district female tribute died eating berries assumed watching peeta edible then crane wild beasts unleashed arena kill thresh chase katniss peeta onto roof cornucopia ambushed cato fight stalemate katniss aims arrow cato peeta headlock boasting katniss shoots peeta fall deaths peeta gets katniss shoot cato hand peeta throws cato beasts maul kill katniss shoots cato ending suffering katniss peeta think rule change revoked one victor peeta urges katniss shoot convinces eat nightlock berries hastily named co-winners 74th hunger games afterward haymitch warns katniss made many enemies acts defiance snow crane locked room nightlock katniss peeta return district 12 snow ponders situation katniss encourages peeta forget happened games devastating'></td></tr></table>"
      ],
      "text/plain": [
       "<IPython.core.display.HTML object>"
      ]
     },
     "metadata": {},
     "output_type": "display_data"
    },
    {
     "name": "stdout",
     "output_type": "stream",
     "text": [
      "The following movies are recommended:\n"
     ]
    },
    {
     "data": {
      "text/html": [
       "<table><tr><td><img src='./images/3361.jpg' title='hunger games catching fire 2013 american dystopian science fiction adventure film based suzanne collins dystopian novel catching fire 2009 second installment hunger games trilogy film sequel hunger games 2012 second installment hunger games film series produced nina jacobson jon kilik distributed lionsgate francis lawrence directed film screenplay simon beaufoy michael arndt adding existing cast supporting cast filled philip seymour hoffman jeffrey wright jena malone sam claflin lynn cohen amanda plummer alan ritchson meta golding filming began september 10 2012 atlanta georgia moving hawaii plot catching fire takes place months previous installment katniss everdeen fellow district 12 tribute peeta mellark returned home safely winning 74th annual hunger games throughout story katniss senses rebellion oppressive capitol simmering throughout districts after winning 74th hunger games katniss everdeen peeta mellark return home district 12 president snow visits katniss snow explains actions games inspired rebellions orders use upcoming victory tour convince people actions love peeta defiance capitol otherwise katniss loved ones whole district destroyed like district 13 as tour begins haymitch abernathy warns katniss peeta show relationship must continue rest lives katniss suggests announce engagement approved snow wedding staged mansion capitol katniss warns gale hawthorne snow threat kill families peacekeepers crack district 12 gale publicly whipped attacking new head peacekeeper romulus thread snow announces third quarter quell upcoming hunger games involve tributes selected previous victors katniss immediately devotes ensuring peeta survival makes haymitch promise help reaping effie trinket draws katniss haymitch names peeta immediately volunteers take haymitch place haymitch reveals tributes angry returned games pre-games interview katniss wears wedding dress ordered snow stylist cinna rigs transform representation mockingjay peeta announces on-air katniss secretly married expecting baby audience capitol citizens shouts games stopped avail katniss enters arena cinna severely beaten dragged away peacekeepers katniss watches helplessly in games katniss allies finnick odair elderly mags mentor arena force field shocks peeta stopping heart finnick revives group flees poisonous fog finnick carrying mags peeta go mags sacrifices finnick help mandrills attack peeta saved unexpected sacrifice hiding tribute group escapes beach around central lake finnick greets district wiress beetee district johanna mason wiress discovers arena designed like clock predictable unchanging hazards hour team waits next hazard wiress stabbed death gloss alongside sister cashmere brutus enobaria comprise careers katniss shoots gloss dead bow johanna kills cashmere finnick stabbed leg enobaria beetee suggests luring careers wet beach electrocuting running wire lake tree struck lightning every 12 hours group separates prepare trap alone johanna suddenly hits katniss head stunning cuts tracker arm katniss returns tree finds unconscious beetee unable find peeta katniss almost kills finnick reminds remember real enemy haymitch advised katniss attaches wire arrow shoots arena roof lightning hits lightning strike knocks unconscious causes power failure brings part dome cuts capitol surveillance katniss awakens hovercraft haymitch beetee finnick plutarch heavensbee head gamemaker revealed rebel snow tells bound district 13 headquarters rebellion half tributes recruited help katniss escape symbol growing rebellion unable rescue peeta johanna katniss sedated attacking haymitch keeping promise later awakens find gale side assures family safe district 12 destroyed'></td><td><img src='./images/3760.jpg' title='hunger games mockingjay part 2014 american dystopian science fiction adventure film directed francis lawrence screenplay peter craig danny strong first two films based suzanne collins novel mockingjay final book hunger games trilogy third installment hunger games film series produced nina jacobson jon kilik distributed lionsgate film features ensemble cast includes jennifer lawrence josh hutcherson liam hemsworth woody harrelson elizabeth banks julianne moore philip seymour hoffman jeffrey wright stanley tucci donald sutherland principal photography parts film began september 23 2013 atlanta moving paris two weeks filming officially concluding june 20 2014 berlin rescued destroyed arena 75th hunger games katniss everdeen along fellow tributes beetee finnick odair taken district 13 underground district isolated panem spearheading rebellion reunited mother sister prim recuperating introduced president alma coin rebel leader told immediately force field destroyed arrow riots erupted half districts panem joined 13 rebel cause though also caused snow firebomb district 12 retaliation coin asks become mockingjay —the symbol rebellion—as part hearts minds strategy katniss declines seeing peeta manipulated capitol state television quell rebellion katniss reluctantly agrees become coin mockingjay condition peeta captured victors rescued pardoned earliest opportunity coin refuses telling katniss victors arrested face severe punishment katniss angrily demands pardoned plutarch heavensbee head gamemaker rescued katniss arena convinces coin meet katniss demands after haymitch notes katniss thrives spontaneity meets film team led capitol escapee cressida dressed specially-designed outfit given effie trinket stylist close friend gale bodyguard go district visit hospital visit concludes capitol bombing squadron arrives bombs hospital killing everyone inside reaction katniss gale shoot two capitol hovercrafts killing everyone board rage katniss gives rousing speech camera broadcast beetee hijacks capitol news feed broadcast strikers district kill entire team peacekeepers hidden land mines climbing trees safety after seeing weakened peeta tv propo propaganda shots team return district 12 gale reports district 12 destruction katniss filmed singing hanging tree soon hundreds protesters district singing anthem launch suicidal human wave attack hydroelectric dam capitol primary source electricity attack destroys dam causes power cut capitol forcing capitol revert backup power generators weakening ability broadcast propaganda that night katniss watches peeta interviewed caesar flickerman games former presenter coin beetee hijack signal air clip katniss seeing peeta shouts warning capitol attack district 13 capitol officials immediately cut broadcast coin orders mass evacuation deep underground shelters facility survives attack unharmed upon emerging katniss discovers area littered white roses realizes president snow sent taunt presumes whenever speaks capitol torture peeta warning gave district additional eight minutes evacuation time coin dispatches elite special forces team includes gale boggs rescue along johanna mason enobaria annie cresta remaining victors prison capitol tribute center beetee hijacks capitol defense system fill frequencies propo narrated finnick explains forced sell capitol snow threat loved ones tortured executed live conversation snow informs katniss awareness rescue cutting broadcast terrified katniss pleads plutarch tell gale team flee tells capitol disabled transmission gale team ends escaping capitol unharmed indicating capitol reduced security purpose katniss goes greet bruised beaten peeta caused capitol torturing immediately last interview caesar unexpectedly attacks strangles unconsciousness knocked boggs katniss wakes medical facility informed peeta hijacked —a form physical mental torture brainwashed wanting kill katniss associating memories psychological terror created tracker jacker venom explains capitol allowed boggs team escape unharmed peeta restrained bed placed solitary confinement serum developed reverse hijacking effects meanwhile coin announces victors rescued next objective capitol principal military stronghold ravines district 2—the remaining district still loyal capitol katniss looks peeta thrashes attempting escape bindings'></td><td><img src='./images/3518.jpg' title='starving games 2013 american parody film based hunger games directed jason friedberg aaron seltzer film stars maiara walsh cody christian brant daugherty lauren bowles diedrich bader first film friedberg seltzer long-running partnership distributed independently released simultaneously theaters video demand distribution start-up ketchup entertainment kantmiss evershot practices archery forest boyfriend dale surprises arrow accidentally hits wizard oz return district 12 children afraid getting picked games injure mutilate avoid selection gathering 75th annual starving games president snowballs explains reason separating america districts well ridiculous prizes winning drawing district 12 contestants petunia kantmiss sister tricks kantmiss volunteering gets picked crying fake tears dale tries volunteering well town idiot peter malarkey beats it when games begin kantmiss grabs backpack tries fleeing seleca games producer sends angry birds attack defeats squashes annoying orange peter teams group contestants led marco aim kill kantmiss marco tries kill spear kills one allies instead flee knocks beehive using chainsaw kantmiss stung venom causes hallucinate na vi slapped back senses fellow contestant rudy team vowing kill contestants first halftime show played marco tries kill kantmiss rudy kicks shin marco kills rudy wanting spice games snowballs decides implement lesbian love story learns kantmiss woman left thus straight romance possible announced couple win games kantmiss tries team marco peter seleca fakes killed convince find peter instead kantmiss kills contestants marco flees peter cave peter starts fever reveals stalking kantmiss life since kantmiss keeping distance peter seleca offers send medical supplies treat peter gets intimate kantmiss sex peter televised dale disgusted storms starving games arena expressing hatred peter the next day kantmiss peter attack marco snowballs orders seleca send expendables armed dale arrives kills asks kantmiss come back kantmiss orders leave breaks marco holds peter hostage kantmiss shoots loaf bread eye killing seleca announces one winner peter tries convincing kantmiss commit suicide ingesting poisonous berries give charge satisfaction fighting death instead kantmiss kills peter arrow telling nothing personal afterwards nick fury avengers show fury saying wants kantmiss join avengers team replacement hawkeye avengers die stepping platforms onto mines'></td><td><img src='./images/2490.jpg' title='games 3d movie action sports/documentary 3-d film released august 21 2009 one week'></td><td><img src='./images/909.jpg' title='born brothels calcutta red light kids 2004 indian-american documentary film children prostitutes sonagachi kolkata red light district widely acclaimed film written directed zana briski ross kauffman string accolades including academy award best documentary feature 2004 briski documentary photographer went kolkata photograph prostitutes befriended children offered teach children photography reciprocate allowed photograph mothers children given cameras could learn photography possibly improve lives photographs depicted life red light district eyes children typically overlooked sworn chores around house able contribute substantially family welfare much work used film filmmakers recorded classes well daily life red light district children work exhibited one boy even sent photography conference amsterdam briski also recorded efforts place children boarding schools although many children end staying long schools placed others avijit kochi went continue education graded well'></td></tr><tr><td> Similarity:0.756288369602</td><td> Similarity:0.626990711657</td><td> Similarity:0.0599779801182</td><td> Similarity:0.0502080355009</td><td> Similarity:0.0455761376112</td></tr></table>"
      ],
      "text/plain": [
       "<IPython.core.display.HTML object>"
      ]
     },
     "metadata": {},
     "output_type": "display_data"
    }
   ],
   "source": [
    "Recommended_Movies = Get_Recommendations(3077,cos_sim_df)\n",
    "Display_Recommendations(Recommended_Movies,Movie_Map,3077)"
   ]
  },
  {
   "cell_type": "code",
   "execution_count": 52,
   "metadata": {},
   "outputs": [
    {
     "name": "stdout",
     "output_type": "stream",
     "text": [
      "Assuming that the user liked Hulk:\n"
     ]
    },
    {
     "data": {
      "text/html": [
       "<table><tr><td><img src='./images/761.jpg' title='hulk 2003 american superhero film based fictional marvel comics character name ang lee directed film stars eric bana dr bruce banner well jennifer connelly sam elliott josh lucas nick nolte film explores origins bruce banner lab accident involving gamma radiation finds able turn huge green-skinned monster whenever gets angry pursued united states military comes conflict father scientist david banner idea create super soldiers introducing modified dna sequences extracted various animals strengthen human cellular response general thaddeus ross denies permission use human subjects banner subsequently conducts experiments birth son bruce finds son may inherited effects seeks cure stopped process following traumatic event bruce remembers nothing incident raised krenzlers years later bruce geneticist working girlfriend betty ross within berkeley biotechnology institute nanomed research pair hopes achieve instantaneous cell repair using low level gamma radiation exposure activate nanomeds introduced living organism routine maintenance appropriated gamma-ray spectrometer circuit shorts triggers experiment program sequence unable prevent machine firing bruce throws front colleague shield man exposed massive amount gamma radiation betty visits bruce hospital remarks dead bruce feels great new janitor lab claims bruce biological father bruce recollection extreme stress bruce transforms hulk huge humanoid green-skinned monstrous destroys laboratory though bruce later memory incident general ross suspects bruce collaborating david banner deduces bruce repressed memories orders bruce put house arrest phone call father bruce learns radiation unleashed something already dna david banner plans betty killed dogs similar powers hulk thanks david mutating gamma radiation bruce attacked major glenn talbot leading transformation hulk hulk seriously injures talbot leaping save betty kills david dogs changes back bruce captured military next morning bruce kept observation secret desert base talbot intends weaponize hulk powers david tries recreate bruce failed experiment instead turning another hulk finds able absorb material touches energy exposed hands military telling betty murdered wife front child bruce bruce nightmare event leading powerful transformation hulk talbot killed explosion created attempted use special syringe gain sample creature hulk escapes base rampages across desert san francisco battling army forces sent betty calms bruce human form general ross realizes hulk mindless bruce executed at mutual execution david tries taunt son transforming hulk fails decides go first bites electrical cable absorbing electricity san francisco electricity hits bruce triggering transformation brutal fight ensues david hulk david absorbing hulk energy proves much david handle transforms massive creature killed army missile one year later bruce presumed dead general ross mentions apparent hulk sightings betty admits love bruce south american jungle bruce become doctor approached rebel militants want take medical supplies poor bruce faces militants leader warning wo t like angry eyes turn green roar hulk heard distance'></td></tr></table>"
      ],
      "text/plain": [
       "<IPython.core.display.HTML object>"
      ]
     },
     "metadata": {},
     "output_type": "display_data"
    },
    {
     "name": "stdout",
     "output_type": "stream",
     "text": [
      "The following movies are recommended:\n"
     ]
    },
    {
     "data": {
      "text/html": [
       "<table><tr><td><img src='./images/2148.jpg' title='incredible hulk 2008 american superhero film based marvel comics character hulk produced marvel studios distributed universal pictures second film marvel cinematic universe mcu film directed louis leterrier screenplay zak penn stars edward norton liv tyler tim roth tim blake nelson ty burrell william hurt incredible hulk new backstory established bruce banner becomes hulk unwitting pawn military scheme reinvigorate supersoldier program gamma radiation run attempts cure hulk captured general thaddeus ross worst fears realized power-hungry soldier emil blonsky becomes similar bestial creature at culver university virginia general thunderbolt ross meets dr bruce banner colleague boyfriend daughter betty regarding experiment ross claims meant make humans immune gamma radiation experiment part world war ii era super soldier program ross hopes recreate fails exposure gamma radiation causes banner transform hulk brief periods time whenever heart rate rises 200 hulk destroys lab injures kills people inside banner becomes fugitive s military ross particular wants weaponize hulk process five years later banner works bottling factory rocinha rio de janeiro brazil searching cure condition internet collaborates colleague knows mr blue mr green also learning meditative breathing techniques help keep control transformed five months banner cuts finger drop blood falls bottle eventually ingested elderly consumer milwaukee wisconsin giving gamma sickness using bottle track banner ross sends swat team led russian-born british royal marine emil blonsky capture banner transforms hulk defeats blonsky team ross explains banner became hulk blonsky agrees injected small amount similar serum gives enhanced speed strength agility healing also begins deform skeleton impair judgment banner returns culver university reunites betty dating psychiatrist leonard samson banner attacked second time ross blonsky forces tipped suspicious samson causing transform hulk ensuing battle outside university proves futile ross forces eventually retreat though blonsky whose sanity starting falter boldly attacks mocks hulk hulk seemingly kills blonsky flees betty hulk reverts banner betty go run banner contacts mr blue urges meet new york city mr blue actually cellular biologist dr samuel sterns tells banner developed possible antidote banner condition successful test warns banner antidote may reverse individual transformation sterns reveals synthesized banner blood samples banner sent brazil large supply intention applying limitless potential medicine fearful hulk power falling military hands banner wishes destroy blood supply meanwhile blonsky revealed survived earlier battle culver university completely healed joins ross forces third attempt take banner custody succeed banner along betty taken away helicopter blonsky stays behind orders sterns inject banner blood covets hulk power sterns warns combination super-soldier formula banner blood may cause become abomination blonsky insists experiment mutates blonsky creature size strength surpassing hulk drives mad attacks sterns gets banner blood cut forehead causing begin mutating well blonsky rampages harlem realizing hulk one stop blonsky banner convinces ross release jumps ross helicopter transforms hitting ground long brutal battle harlem hulk defeats blonsky small peaceful moment betty hulk flees new york month later banner bella coola british columbia instead trying suppress transformation successfully transforms controlled manner final scene tony stark approaches ross local bar informs team put together'></td><td><img src='./images/694.jpg' title='bruce almighty 2003 american high-concept comedy film directed tom shadyac written steve koren mark keefe steve oedekerk stars jim carrey bruce nolan down-on-his-luck tv reporter complains god morgan freeman job correctly offered chance try god one week bruce nolan jim carrey television field reporter eyewitness news wkbw-tv buffalo new york desires news anchorman relationship girlfriend grace connelly jennifer aniston also mild crush co-worker susan ortega catherine bell barely seems notice bruce however suffers constant bad luck reaches breaking point passed promotion rival evan baxter steve carell steals dialogue bruce segment accepting promotion air furious bruce aggressively profanely criticizes station first live report promptly fired following series misfortunes bruce takes frustration god morgan freeman blaming claiming one fired bruce later receives message pager directing empty warehouse meets god god offers give bruce powers prove job correctly god gives bruce two rules must follow first bruce tell anyone else god powers second bruce use powers interfere free bruce ignores god initially jubilant powers using personal gain potty training dog getting revenge street gang assaulted earlier exposing woman underwear blowing dress transforming beat car saleen s7 sexually impressing grace bruce also finds ways using powers cause miraculous events occur otherwise mundane events covers discovering jimmy hoffa body causing meteor harmlessly land near cook-off earning job back bruce uses powers cause evan humiliate air causing evan fired favor bruce new anchor after taking grace fancy dinner telling made anchor angering thought going propose bruce begins hear voices head re-encounters god confronts bruce selfish use powers explains voices prayers god bruce must deal bruce creates computerized system receive prayers respond finds influx far great handle even though god stated receiving prayers buffalo area sets program automatically answer yes every prayer during party celebrate bruce promotion susan seduces kisses grace arrives sees storms bruce follows heartbroken listen tries use powers convince grace stay influence free bruce looks around realizes automatically granting everyone prayers plunged city chaos bruce returns god explains despite chaotic things seem always way make things right bruce must figure way solve bruce begins solve problems life practically helping man whose car broken training dog normally allowing evan job back bruce returns computer system briefly unplugged goes answering prayers manually best reads finds prayer grace wishing bruce success well reads another prayer grace arrives one wishing love bruce anymore despondent bruce walks alone highway asking god take back powers letting fate hands bruce suddenly struck truck regains consciousness white void god appears asks bruce really wants bruce admits wants make sure grace finds man would make happy god agrees bruce finds hospital shortly miraculously revived doctors grace arrives two rekindle relationship later becoming engaged recovery bruce returns field reporting takes pleasure simple stories bruce grace announce engagement live television film ends doomsayer bruce previously ran various occasions finally revealing god'></td><td><img src='./images/1126.jpg' title='batman begins 2005 british-american superhero film based dc comics character batman co-written directed christopher nolan starring christian bale michael caine liam neeson katie holmes gary oldman cillian murphy tom wilkinson rutger hauer ken watanabe morgan freeman film reboots batman film series telling origin story title character batman alter ego bruce wayne initial fear bats death parents journey become batman fight stop ra al ghul neeson scarecrow murphy plunging gotham city chaos comic book storylines man falls batman year one batman long halloween served inspiration the film presented nonlinear narrative jumping present past linear summary plot as child bruce wayne falls dry well attacked swarm bats subsequently developing phobia creatures watching opera parents thomas martha bruce becomes frightened performers masquerading bats asks leave outside mugger joe chill murders bruce parents front orphaned bruce raised family butler alfred pennyworth fourteen years later chill freed exchange testifying gotham city mafia boss carmine falcone bruce intends murder chill one falcone assassins first bruce childhood friend assistant district attorney rachel dawes berates attempting undermine justice system saying father would ashamed bruce confronts falcone tells real power comes feared bruce decides travel world learn confront injustice serving prison sentence theft bhutan meets henri ducard trains member league shadows led ra al ghul completing training purging fears bruce learns league intends destroy gotham believing corrupt beyond saving bruce rejects league cause burns temple escape ra killed falling debris bruce saves unconscious ducard bruce returns gotham intent fighting crime inspired childhood fear takes vigilante identity batman sets base caves beneath wayne manor takes interest family company wayne enterprises run unscrupulous william earle company archivist lucius fox allows bruce access prototype defense technologies including protective bodysuit heavily armored car called tumbler bruce poses shallow playboy allay suspicion batman intercepts drug shipment provides rachel evidence falcone enlists sergeant james gordon one honest cops left gotham arrest prison falcone meets dr jonathan crane corrupt psychiatrist helped smuggle drugs gotham threatens reveal complicity declare mentally unfit trial crane puts scarecrow mask sprays falcone fear-inducing hallucinogen drives insane transferred arkham asylum investigating scarecrow batman exposed hallucinogen left incapacitated saved alfred given antidote developed fox rachel accuses crane corruption crane reveals pouring fear-inducing drug gotham water supply drugs rachel batman saves subdues crane claims work ra al ghul batman evades police get rachel safety administers antidote gives vial gordon another mass production ducard reappears bruce birthday party reveals actual ra al ghul stolen powerful microwave emitter wayne enterprises plans vaporize gotham water supply rendering crane drug airborne causing mass hysteria destroy city sets wayne manor fire leaves bruce dead alfred rescues him ra loads microwave emitter onto gotham monorail system releasing drug train travels toward city central water source batman rescues rachel drugged mob indirectly reveals identity pursues ra onto monorail fights gordon uses tumbler cannons destroy section track batman refuses kill ra also chooses save gliding train leaving ra aboard crashes explodes bruce gains rachel respect loses love decides batman bruce buys controlling stake publicly traded wayne enterprises fires earle replaces fox gordon promoted lieutenant gotham city police department shows batman bat-signal mentions criminal leaves joker playing cards crime scenes batman promises investigate disappears night'></td><td><img src='./images/2363.jpg' title='hotel dogs 2009 american family comedy film based lois duncan 1971 novel name movie directed thor freudenthal adapted bob schooley mark mccorkle kim possible fame along jeff lowell picture stars jake austin emma roberts troy gentile kyla pratt johnny simmons lisa kudrow kevin dillon cheadle tells story two orphans andi bruce played roberts austin attempt hide dog abandoned hotel strict new guardians tell pets forbidden home also take dogs avoid dogs taken away two cold hearted animal pound workers police officers +++++this article plot summary may long excessively detailed please help improve removing unnecessary details making concise march 2015 learn remove template message ++in central city louisiana orphans andi emma roberts bruce jake austin rip pawn shop owner order buy food feed dog friday however quickly caught bought police station get picked social worker bernie wilkins cheadle takes back foster parents lois carl scudder lisa kudrow kevin dillon respectively appear care either andi bruce two demand know foster children bernie covers telling fault late despite sympathy two siblings warns playing dangerous game deliberately getting trouble order escape carl lois conduct could cause placed separate foster homes friday returns home visit bruce quickly bustles bernie door desperate keep presence secret the next morning andi bruce horrified find friday snuck downstairs dangerously close discovered lois close call andi bruce rush friday upstairs bedroom friday promptly goes looking food time friday caught animal control desperate worried andi bruce go local pet shop ask anybody seen meet dave johnny simmons heather kyla pratt advise check pound learn friday indeed pound claimed without parents present andi pays friday return suggests bruce find new home re walking home discover gang youths breaking abandoned hotel gang flees police arrive andi urges bruce hide hotel rather discovered scene look friday already begun explore hotel find tiny boston terrier english mastiff name georgia lenny confident three dogs get along andi bruce leave friday hotel night andi bruce return hotel next day andi warns younger brother get attached two stray dogs bruce stays hotel keep dogs quiet creates machine allows play fetch whenever like andi heads pet shop get food strays claiming parents rescue dogs dave asks take three dogs-shep romeo cooper- nobody seems want adopt andi reluctantly agrees dave heather arrive hotel immediately agree help two siblings six dogs look friends set trying get hotel decent state accommodate dogs needs includes building running machines automatic feeders car simulator local boy named mark offers assistance stray dogs move occupy hotel back scudder household bernie eagerly tells couple new foster parents found andi bruce catch new foster parents live hours away siblings turn offer order continue looking dogs much bernie bewilderment thinking decision dave invites andi party accepts invitation mark meanwhile makes various efforts gain heather attention bruce caught stealing hairdryer lois everyone else party immediately interrogated foster parents party ruined andi bumps old acquaintance accidentally reveals everyone andi orphan bruce manages escape house find hotel stat lois carl follow police called dogs quickly rounded sent pound bruce taken away two police officers lois carl refuse take andi bruce back bernie forced send separate foster homes the dogs scheduled put next day friday manages escape captivity rushes find dave heather mark turn find andi rush find bruce meanwhile bernie explores hotel discovers left one dog behind beagle named harley realizes kids loved andi bruce manage break pound release dogs bruce entices horde dogs follow dave van city sausages attempt get no-kill shelter safe however dogs break pursuit bruce realizes heading home strange event attracts attention police follow dogs hotel bernie waiting large crowd gathers outside hotel bernie tells bruce andi everyone else managed create family dogs introduces dogs live hotel tells stories past owners crowd deeply touched dog catchers arrested pound shut police always kept close eye kids allow keep dogs together as people eagerly explore hotel bernie reveals overjoyed andi bruce wife decided adopt hotel re-opens grand hotel dogs people either adopt strays board dogs although lois carl invited provide entertainment dog lounge dogs quickly grow bored act two sent offstage disgrace meanwhile andi bruce friday happily settle new family'></td><td><img src='./images/126.jpg' title='nurse betty 2000 american black comedy film directed neil labute starring renée zellweger kansas waitress suffers nervous breakdown witnessing husband murder starts obsessively pursuing favorite soap actor greg kinnear fugue state morgan freeman chris rock play hitmen killed husband subsequently pursue los angeles in small kansas town betty diner waitress fan soap opera reason love idea husband del car salesman affair intends leave betty also t know husband supplements income selling drugs betty calls ask borrowing buick lesabre birthday husband tells take different car lesabre unknown betty drugs hidden trunk two hitmen charlie wesley show house torture del revealing hidden drugs trunk lesabre wesley scalps anyway betty witnesses murder enters fugue state assuming identity nurse daytime drama that evening sheriff eldon ballard local reporter roy ostery several policemen examine crime scene betty calmly packs suitcase seems oblivious murder even investigation going right house police station psychiatrist examines betty spends night friend house sleeping child bedroom middle night gets lesabre drives betty stops bar arizona bartender talks vacation rome betty tells engaged famous surgeon describing lead character reason love meanwhile two hitmen pursuit realized betty car drugs search charlie heart begins soften towards betty wesley consternation los angeles betty tries get job nurse looking long-lost ex-fiancé turned due résumé references manages get job pharmacy despite injunction touching patients betty becomes popular families ends living rosa hispanic legal secretary offers help betty find surgeon boyfriend rosa learns colleague david soap opera character goes pharmacy window confront betty thinking friend jealous betty impervious revelation the lawyer supplies tickets charity function george mccord actor portraying david appearing betty meets george function george inclined dismiss overimaginative fan something compels talk begins think betty actress determined get part soap opera decides play along three hours staying character takes home george begins falling love producer decide bring onto show new character nurse betty betty arrives set falls fantasy world back real life two failed takes realizes set people thought real characters george confronts betty walks out back rosa house betty started tell happened husband two hitmen walk interrupted sheriff ballard reporter also tracked betty standoff ensues ballard pulls gun ankle holster shoots wesley revealed charlie son charlie decides kill betty commits suicide bathroom george offers betty job show appears 63 episodes takes vacation rome betty later plans pursue nursing career'></td></tr><tr><td> Similarity:0.493282754986</td><td> Similarity:0.463848922177</td><td> Similarity:0.226625372715</td><td> Similarity:0.22531960068</td><td> Similarity:0.164103131198</td></tr></table>"
      ],
      "text/plain": [
       "<IPython.core.display.HTML object>"
      ]
     },
     "metadata": {},
     "output_type": "display_data"
    }
   ],
   "source": [
    "Recommended_Movies = Get_Recommendations(761,cos_sim_df)\n",
    "Display_Recommendations(Recommended_Movies,Movie_Map,761)"
   ]
  },
  {
   "cell_type": "code",
   "execution_count": 53,
   "metadata": {},
   "outputs": [
    {
     "name": "stdout",
     "output_type": "stream",
     "text": [
      "Assuming that the user liked Spider-Man:\n"
     ]
    },
    {
     "data": {
      "text/html": [
       "<table><tr><td><img src='./images/616.jpg' title='spider-man 2002 american superhero film directed sam raimi based marvel comics character name film stars tobey maguire peter parker high school student living new york city turns crimefighting developing spider-like super powers spider-man also stars kirsten dunst peter love interest mary jane watson willem dafoe norman osborn/green goblin rosemary harris cliff robertson aunt may uncle ben james franco best friend harry osborn high-school senior peter parker school outcast bully victim school field trip visits genetics laboratory friend harry osborn unwitting love interest mary jane watson peter bitten genetically engineered super spider shortly arriving home becomes ill falls unconscious meanwhile harry father scientist norman osborn owner oscorp attempting secure important military weapons contract experiments unstable performance-enhancing chemical absorbing chemical goes insane kills assistant the next morning peter discovers longer near-sighted body metamorphosized muscular physique school finds body produce webs wrists quickened reflexes enable avoid injury confrontation flash thompson brushing uncle ben advice great power comes great responsibility peter considers impressing mary jane car enters underground wrestling tournament wins first match promoter cheats prize money thief suddenly raids promoter office peter allows escape revenge moments later discovers ben carjacked shot dying peter arms overcome anger vengeance peter corners subdues tries kill carjacker hesitates sees thief let escape thief attempts flee trips falls window death instead meanwhile oscorp chief competitor quest aerospace weapon test norman kills several scientists army general slocum upon graduating peter begins using abilities fight crime donning costume dubbed press spider-man j jonah jameson newspaper chief editor hires peter freelance photographer since person providing clear images spider-man writes stories implicate spider-man crimes actually stopping norman upon learning oscorp board members plan sell company attacks world unity fair though peter intervenes norman still kills board members jameson quickly dubs norman green goblin norman tells norman despite good done people eventually come despise offers peter place side gives time think meanwhile meeting peter mary jane followed four men alley corner attempt mug peter comes rescue thanks kissing afterwards peter runs norman refuses offer fight peter wounded whilst mocking son affection mary jane thanksgiving dinner norman sees wound peter realizes secret identity shortly afterwards mary jane admits peter infatuated spider-man rescued twice asks peter whether spider-man ever asked harry loves mary jane arrives interprets feelings peter defeated harry laments father peter loves mary jane unintentionally revealing spider-man weakness norman attacks may later kidnaps holds mary jane roosevelt island tram car full children hostage alongside queensboro bridge challenging norman another confrontation forces peter choose save drops peter manages save mary jane tram car norman pelted heckled civilians sided peter goblin redirects fight abandoned building engage lengthy brutal battle norman manages overpower norman latter reveals halt fight begs forgiveness time programs glider impale foe behind sensing danger peter instinctively dodges glider impales norman dies norman asks peter tell harry green goblin identity harry arrives find spider-man standing father body incorrectly believes murdered father at norman funeral harry swears vengeance toward spider-man asserts peter family left mary jane confesses peter loves peter however feels must protect unwanted attentions peter enemies hides true feelings informs mary jane friends'></td></tr></table>"
      ],
      "text/plain": [
       "<IPython.core.display.HTML object>"
      ]
     },
     "metadata": {},
     "output_type": "display_data"
    },
    {
     "name": "stdout",
     "output_type": "stream",
     "text": [
      "The following movies are recommended:\n"
     ]
    },
    {
     "data": {
      "text/html": [
       "<table><tr><td><img src='./images/3635.jpg' title='amazing spider-man also released amazing spider-man rise electro markets film stars andrew garfield peter parker spider-man emma stone gwen stacy dane dehaan green goblin harry osborn campbell scott embeth davidtz peter parents sally field aunt may addition new cast including paul giamatti rhino aleksei sytsevich jamie foxx electro max dillon in 2000 oscorp scientist richard parker records video message explain disappearance later wife mary aboard private jet hijacked assassin sent kill richard wife richard mary fight man ensuing struggle causes plane crash killing richard mary uploads video in present day richard son peter continues fight crime spider-man pursues apprehends aleksei sytsevich later peter meets gwen high school graduation ceremony insisting keep vow father ends relationship peter childhood friend harry osborn returns manhattan see terminally-ill father norman ceo oscorp norman explains illness genetic harry age first develops norman gives harry small device claims contains life work next day norman dies harry appointed new oscorp ceo while working oscorp laboratory electrical engineer max dillon shocks accident falls tank genetically-engineered electric eels attack mutates living electric generator meanwhile peter attempts maintain friendship gwen reveals may move england schooling discuss dillon wanders times square accidentally causing blackout stopped peter battle dillon taken ravencroft institute studied german scientist dr kafka meanwhile first symptoms harry illness showing uses device norman gave deduce spider-man blood could help save asks peter selling photos spider-man daily bugle aid finding spider-man peter refuses unsure effects transfusion would although later comes harry spider-man still refuses harry becomes resentful towards spider-man oscorp board-members particular vice-president donald menken frame harry covering dillon accident remove ceo overthrow take control oscorp harry assistant felicia hardy informs equipment could help makes deal dillon calls electro get back inside oscorp building finds suit armour equipment made norman well venom now-destroyed genetically-altered spiders venom accelerates harry illness transforms goblin-like creature suit built-in emergency protocol restores health cures disease peter uses information left father locate video message abandoned subway station hidden lab richard explains leave refused cooperate norman biogenetic weaponization plans peter hears voicemail gwen telling offered british scholarship heading airport earlier expected manages catch professes love vowing go wherever goes agree go england together electro causes another blackout peter heads fight spider-man gwen follows together restore power overload electro body killing him the transformed harry calls green goblin arrives equipped norman armor weaponry upon seeing gwen deduces spider-man secret identity swearing revenge refused blood transfusion kidnaps takes top clock tower peter manages defeat harry webbing breaks battle gwen falls death peter depressed distraught mourns gwen death ends career spider-man five months later harry coping aftereffects transformation incarcerated ravencroft associate gustav fiers visits harry pair discuss forming team harry orders fiers start sytsevich later unknown team men break sytsevich prison equipped electromechanical suit armor sytsevich calls rhino rampages streets peter inspired gwen graduation speech resumes role spider-man confronts'></td><td><img src='./images/2017.jpg' title='spider-man 2007 american superhero film based fictional marvel comics character spider-man directed sam raimi screenplay raimi ivan raimi alvin sargent final film raimi original spider-man film trilogy following spider-man 2002 spider-man 2004 film stars tobey maguire kirsten dunst james franco thomas haden church topher grace bryce dallas howard rosemary harris j simmons james cromwell cliff robertson final acting appearance death 2011 following events spider-man peter parker become cultural phenomenon spider-man mary jane j watson continues broadway career harry osborn still seeks vengeance father death escaped flint marko falls particle accelerator transformed shape-shifting sand manipulator extraterrestrial symbiote crashes earth bonds peter influencing behavior worse peter parker plans propose mary jane j watson made broadway musical debut meteorite lands central park extraterrestrial symbiote follows peter apartment harry osborn seeking vengeance father death attacks peter weapons based father green goblin technology battle ends stalemate harry developing amnesia erasing memory peter spider-man meanwhile police pursue escaped prisoner flint marko visits wife daughter fleeing falling experimental particle accelerator fuses body surrounding sand transforming sandman during festival honoring spider-man peter kisses gwen stacy show infuriating mary jane superpowered marko robs armored car peter confronts initially warning leave avoid battle marko easily subdues escapes nypd captain george stacy informs peter aunt may marko uncle ben true killer deceased dennis carradine marko accomplice vengeance-obsessed peter sleeps spider-man suit symbiote assimilates suit peter later awakens discovers costume changed powers enhanced however symbiote brings peter dark side wearing new suit peter locates marko battles subway tunnel discovering water marko weakness peter breaks water pipe reduce marko mud washing away believing dead peter changed personality alienates mary jane whose career floundering finds solace harry harry recovers amnesia urged hallucination father blackmails mary jane unwillingly breaking peter mary jane tells peter loves somebody else harry meets peter claims guy later peter wearing black suit confronts harry forcing mary jane end relationship spitefully tells harry father never loved another battle ensues harry throws pumpkin bomb peter deflects back disfiguring harry face under symbiote influence peter exposes photography rival eddie brock whose fake photos depicted spider-man criminal soon afterward make mary jane jealous peter brings gwen nightclub mary jane works gwen catches leaves peter brawls bouncers accidentally attacking mary jane realizes symbiote corrupting retreating church bell tower discovers remove suit symbiote weakens bell rings peter removes symbiote falls lower tower landing brock praying peter death symbiote bonds brock transforming venom brock locates marko convinces join forces defeat peter brock hijacks taxi carrying mary jane hangs bait web construction site marko keeps police bay peter seeks harry help rejected peter battles brock marko harry learns truth father death butler goes help peter overpowered resulting battle four harry subdues sandman assisting peter brock ensuing battle brock attempts impale peter harry glider harry intervenes impaled recalling symbiote weakness peter assembles perimeter metal pipes create sonic attack weakening venom allowing peter separate brock symbiote peter activates pumpkin bomb harry glider destroy symbiote brock dives bomb kills both marko explains peter committed robberies save dying daughter reveals ben convincing marko go home getting car carradine hit marko elbow shooting ben accidentally plaguing marko guilt peter forgives marko dissipates floats away peter mary jane witness harry dies beside peter mary jane aunt may attend harry funeral later nightclub peter mary jane reconcile'></td><td><img src='./images/1070.jpg' title='spider-man 2004 american superhero film directed sam raimi written alvin sargent story alfred gough miles millar michael chabon sequel 2002 film spider-man second film raimi spider-man film trilogy based fictional marvel comics character name tobey maguire kirsten dunst james franco reprise respective roles peter parker spider-man mary jane j watson harry osborn peter parker struggles balance crime-fighting duties spider-man demands normal life estranged love interest mary jane j watson best friend harry osborn peter additionally discovers aunt may facing eviction harry head oscorp research division sponsoring brilliant nuclear scientist otto octavius fusion power project befriends peter offers life advice handling hazardous materials octavius wears harness powerful robotic tentacle arms artificial intelligence public demonstration peter harry attend power spike causes fusion reactor destabilize octavius refuses shut reactor goes critical killing wife shattering inhibitor chip blocking arms nervous system peter arrives shuts experiment destroying it at hospital doctors prepare surgically remove octavius harness however without inhibitor chip keep arms supported nervous system arms developed sentience attack crew upon regaining consciousness seeing carnage octavius escapes takes refuge harbor becoming increasingly influenced arms ai octavius robs bank peter may coincidentally visiting order fund second experiment octavius takes may hostage rescued peter spider-man although able flee money daily bugle subsequently dubs octavius doctor octopus mary jane becomes engaged astronaut john jameson son bugle chief jonah jameson peter suffers emotional breakdown temporarily loses powers abandons spider-man identity returns normal life attempts reconcile mary jane garbageman brings peter spider-man suit jameson takes credit driving spider-man hiding peter decides tell aunt may truth behind uncle ben death responsible may forgives rise new york city crime rate worries peter requiring isotope tritium fuel reactor octavius visits harry demand harry agrees exchange spider-man life tells octavius seek peter supposedly good friends spider-man requests octavius harm octavius locates peter tells find spider-man captures mary jane peter powers restored jameson admits wrong spider-man steals back costume bugle goes octavius as peter battles octavius fall onto rapid transit train octavius sabotages controls leaves peter save passengers great physical toll fainting exhaustion grateful passengers save falling bring car octavius returns peter captures despite efforts passengers protect octavius delivers peter harry after giving octavius tritium harry prepares kill peter shocked discover secret identity prioritizing stopping octavius feud peter convinces harry direct octavius lair peter arrives doctor waterfront laboratory attempting rescue mary jane discreetly octavius discovers fight nuclear reaction swells size peter ultimately subdues octavius reveals identity persuades octavius let go dream greater good octavius finally commands tentacles obey gives life destroy experiment redeeming dies mary jane sees spider-man true identity feelings well together peter returns mary jane john leaves harry visited vision father mirror pleading harry avenge death refusing hurt peter harry shatters mirror unintentionally revealing secret room containing green goblin equipment wedding day mary jane abandons john altar runs peter apartment kiss hear police sirens mary jane encourages rescue'></td><td><img src='./images/2921.jpg' title='amazing spider-man 2012 american superhero film based marvel comics character spider-man sharing title character longest-running comic book name fourth theatrical spider-man film produced columbia pictures marvel entertainment reboot sam raimi spider-man 2002-2007 trilogy preceding film directed marc webb written james vanderbilt alvin sargent steve kloves stars andrew garfield peter parker spider-man emma stone gwen stacy rhys ifans dr curtis connors denis leary nypd captain george stacy along martin sheen sally field uncle aunt peter parker ben parker may parker film tells story peter parker teenager new york becomes spider-man bitten genetically altered spider parker must stop dr curt connors mutated lizard spreading mutation serum city human population young peter parker discovers father richard parker study burgled peter parents gather hidden documents take peter home aunt may uncle ben mysteriously depart years later teenaged peter attends midtown science high school bullied flash thompson caught eye gwen stacy home peter finds father papers learns father worked fellow scientist dr curt connors oscorp sneaking oscorp peter enters lab biocable development genetically modified spiders one bites later discovers developed spider-like abilities sharp senses reflexes speed after studying richard papers peter visits one-armed connors reveals richard son gives connors father decay rate algorithm missing piece connors experiments regenerating limbs connors pressed superior dr ratha devise cure dying unseen head oscorp norman osborn school peter gets trouble basketball challenge flash peter accidentally shatters backboard glass uncle changes work shifts meet principal asks peter walk may home night peter forgets distracted oscorp helping connors regenerate limb laboratory mouse home ben argue peter leaves nearby deli cashier refuses let peter buy milk peter two cents short thief suddenly raids store peter indifferently observes searching peter ben attempts stop thief killed thief escapes peter finds ben dead sidewalk afterward peter uses new abilities hunt criminals matching killer description fall lands inside abandoned gym luchador-wrestling poster inspires create mask hide identity adds spandex suit builds mechanical devices attach wrists shoot biocable web later dinner gwen family tense conversation father police captain george stacy new masked vigilante motives dinner peter reveals identity gwen kiss after seeing success mouse using lizard dna ratha demands connors begin human trials immediately connors refuses rush drug-testing procedure put innocent people risk ratha fires connors decides test connors serum veterans administration hospital guise flu shot act desperation connors tries formula passing awakens find missing arm regenerated discovering ratha way va hospital connors whose skin turning green scaly goes intercept time gets williamsburg bridge connors become violent hybrid lizard man tossing cars including ratha side peter calling spider-man snatches falling car web-lines spider-man suspects connors lizard unsuccessfully confronts creature sewers lizard learns spider-man real identity via name abandoned camera follows peter school fight police start manhunt spider-man lizard police corner spider-man taking mask captain stacy discovers spider-man really peter lizard plans make humans lizard-like releasing chemical cloud oscorp tower eliminate weaknesses believes plague humanity spider-man eventually disperses antidote cloud instead restoring connors earlier victims normal lizard mortally wounds captain stacy death captain stacy requests peter avoid gwen order keep safe peter initially later school suggests gwen may see all in mid-credits scene connors prison cell speaks man shadows asks peter knows truth father connors replies demands peter left alone man disappears'></td><td><img src='./images/3120.jpg' title='paranorman 2012 american 3d stop-motion animated comedy horror film film received nominations 2012 academy award best animated feature bafta award best animated film in small town blithe hollow massachusetts norman babcock 11-year-old boy speaks dead including late grandmother various ghosts town almost one believes isolated emotionally family ridiculed peers best friend neil downe overweight boy bullied finds norman kindred spirit rehearsal school play commemorating town execution witch three centuries ago norman vision town past pursued woods townsfolk witch hunt afterward boys confronted norman estranged seemingly deranged uncle mr prenderghast tells nephew soon must take regular ritual protect town soon encounter prenderghast dies sudden stroke during official performance school play norman another vision creating public spectacle leads father perry grounding mother sandra tells father stern manner afraid next day norman sees prenderghast spirit tells ritual must performed certain book sundown day making swear complete task prenderghast spirit set free crosses norman first reluctant go scared grandmother tells right scared long let change norman sets retrieve book prenderghast house take corpse he goes graves five men two women cursed witch finds book merely series fairy tales alvin school bully arrives prevents norman reading story sundown norman attempts continue reading book effect ghostly storm resembling witch appears air summoning cursed dead arise zombies chase boys along norman 17-year-old sister courtney neil older brother mitch hill town realized witch buried graveyard norman contacts classmate salma tells access town hall archives location witch unmarked grave help kids make way town hall zombies attacked citizenry riot norman companions break archives find information need mob moves attack town hall witch storm appears crowd norman climbs hall tower read book last-ditch effort finish ritual witch strikes book lightning hurling norman tower deep archives unconscious norman dream learns witch agatha prenderghast little girl age also medium norman realizes agatha wrongfully convicted town council mistook powers witchcraft awakening norman encounters zombies recognizes town council convicted agatha zombies admit wanted speak ensure would take ritual minimize damage mistake made long ago norman attempts help zombies slip away guide agatha grave cornered mob courtney mitch neil alvin rally norman side confront crowd arguing rage fear misunderstanding make different cursed townsfolk long ago though mob calms witch unleashes powers create greater havoc throughout town judge hopkins guides norman family grave forest grave reached agatha magical powers separate norman others norman finds grave interacts agatha vengeful spirit determined stop cataclysmic tantrum years though attempts push away norman holds ground telling understands feels outcast vengeance made like ones wronged eventually forcing remember happier days finally encountered someone understands plight agatha able find measure peace cross afterlife storm dissipates zombies fade away town cleans regards norman hero end norman watches horror film ghost grandmother family grown accept norman'></td></tr><tr><td> Similarity:0.532694697879</td><td> Similarity:0.515483578747</td><td> Similarity:0.45961557517</td><td> Similarity:0.412063982744</td><td> Similarity:0.351215409571</td></tr></table>"
      ],
      "text/plain": [
       "<IPython.core.display.HTML object>"
      ]
     },
     "metadata": {},
     "output_type": "display_data"
    }
   ],
   "source": [
    "Recommended_Movies = Get_Recommendations(616,cos_sim_df)\n",
    "Display_Recommendations(Recommended_Movies,Movie_Map,616)"
   ]
  },
  {
   "cell_type": "markdown",
   "metadata": {
    "collapsed": true
   },
   "source": [
    "The above test cases clearly show that the text based recommender is performing a pretty decent job. As a part of future work we will develop a simple web based interface to find the recommended movies.\n",
    "\n",
    "## Challenges\n",
    "The major challenges for this project are getting the data from wikipedia and cleaning the data to make it apply TFIDF and cosine similarity. "
   ]
  },
  {
   "cell_type": "code",
   "execution_count": null,
   "metadata": {
    "collapsed": true
   },
   "outputs": [],
   "source": []
  }
 ],
 "metadata": {
  "kernelspec": {
   "display_name": "Python 3",
   "language": "python",
   "name": "python3"
  },
  "language_info": {
   "codemirror_mode": {
    "name": "ipython",
    "version": 3
   },
   "file_extension": ".py",
   "mimetype": "text/x-python",
   "name": "python",
   "nbconvert_exporter": "python",
   "pygments_lexer": "ipython3",
   "version": "3.5.3"
  }
 },
 "nbformat": 4,
 "nbformat_minor": 2
}
